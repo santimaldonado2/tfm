{
 "cells": [
  {
   "cell_type": "code",
   "execution_count": 46,
   "metadata": {},
   "outputs": [],
   "source": [
    "import requests\n",
    "import numpy as np\n",
    "import io\n",
    "import pandas as pd\n"
   ]
  },
  {
   "cell_type": "code",
   "execution_count": 97,
   "metadata": {},
   "outputs": [],
   "source": [
    "response = requests.get(\"https://mercados.ambito.com//dolar/oficial/historico-general/01-12-2013/31-12-2018\")"
   ]
  },
  {
   "cell_type": "code",
   "execution_count": 98,
   "metadata": {},
   "outputs": [
    {
     "data": {
      "text/plain": [
       "<Response [200]>"
      ]
     },
     "execution_count": 98,
     "metadata": {},
     "output_type": "execute_result"
    }
   ],
   "source": [
    "response"
   ]
  },
  {
   "cell_type": "code",
   "execution_count": 99,
   "metadata": {},
   "outputs": [
    {
     "data": {
      "text/plain": [
       "bytes"
      ]
     },
     "execution_count": 99,
     "metadata": {},
     "output_type": "execute_result"
    }
   ],
   "source": [
    "type(response.content)"
   ]
  },
  {
   "cell_type": "code",
   "execution_count": 100,
   "metadata": {},
   "outputs": [],
   "source": [
    "array = np.asarray(io.BytesIO(response.content))"
   ]
  },
  {
   "cell_type": "code",
   "execution_count": 101,
   "metadata": {},
   "outputs": [],
   "source": [
    "str_content = response.content.decode(\"utf-8\")"
   ]
  },
  {
   "cell_type": "code",
   "execution_count": 102,
   "metadata": {},
   "outputs": [],
   "source": [
    "str_content_list = str_content.split(\"],[\")"
   ]
  },
  {
   "cell_type": "code",
   "execution_count": 103,
   "metadata": {},
   "outputs": [
    {
     "data": {
      "text/plain": [
       "1241"
      ]
     },
     "execution_count": 103,
     "metadata": {},
     "output_type": "execute_result"
    }
   ],
   "source": [
    "len(str_content_list)"
   ]
  },
  {
   "cell_type": "code",
   "execution_count": 104,
   "metadata": {},
   "outputs": [
    {
     "data": {
      "text/plain": [
       "['[[\"Fecha\",\"Compra\",\"Venta\"',\n",
       " '\"28-12-2018\",\"36,83\",\"38,83\"',\n",
       " '\"27-12-2018\",\"37,41\",\"39,41\"',\n",
       " '\"26-12-2018\",\"37,48\",\"39,48\"',\n",
       " '\"21-12-2018\",\"37,02\",\"39,02\"',\n",
       " '\"20-12-2018\",\"37,04\",\"39,04\"',\n",
       " '\"19-12-2018\",\"37,33\",\"39,33\"',\n",
       " '\"18-12-2018\",\"37,20\",\"39,20\"',\n",
       " '\"17-12-2018\",\"37,25\",\"39,25\"',\n",
       " '\"14-12-2018\",\"37,16\",\"39,16\"']"
      ]
     },
     "execution_count": 104,
     "metadata": {},
     "output_type": "execute_result"
    }
   ],
   "source": [
    "str_content_list[:10]"
   ]
  },
  {
   "cell_type": "code",
   "execution_count": 105,
   "metadata": {},
   "outputs": [],
   "source": [
    "def parse_content(contenido):\n",
    "    contenido = contenido.replace('\",\"',';')\n",
    "    contenido = contenido.replace('\"','')\n",
    "    contenido = contenido.replace(',','.')\n",
    "    contenido = contenido.replace('[','')\n",
    "    contenido = contenido.replace(']','')\n",
    "    return contenido"
   ]
  },
  {
   "cell_type": "code",
   "execution_count": 106,
   "metadata": {},
   "outputs": [],
   "source": [
    "lista_final = [parse_content(contenido).split(\";\") for contenido in str_content_list]"
   ]
  },
  {
   "cell_type": "code",
   "execution_count": 107,
   "metadata": {},
   "outputs": [],
   "source": [
    "headers = lista_final.pop(0)"
   ]
  },
  {
   "cell_type": "code",
   "execution_count": 108,
   "metadata": {},
   "outputs": [
    {
     "data": {
      "text/plain": [
       "['Fecha', 'Compra', 'Venta']"
      ]
     },
     "execution_count": 108,
     "metadata": {},
     "output_type": "execute_result"
    }
   ],
   "source": [
    "headers"
   ]
  },
  {
   "cell_type": "code",
   "execution_count": 109,
   "metadata": {},
   "outputs": [],
   "source": [
    "cotizacion_df = pd.DataFrame(lista_final, columns = headers)"
   ]
  },
  {
   "cell_type": "code",
   "execution_count": 110,
   "metadata": {},
   "outputs": [
    {
     "data": {
      "text/plain": [
       "Fecha     object\n",
       "Compra    object\n",
       "Venta     object\n",
       "dtype: object"
      ]
     },
     "execution_count": 110,
     "metadata": {},
     "output_type": "execute_result"
    }
   ],
   "source": [
    "cotizacion_df.dtypes"
   ]
  },
  {
   "cell_type": "code",
   "execution_count": 111,
   "metadata": {},
   "outputs": [],
   "source": [
    "cotizacion_df.Fecha = pd.to_datetime(cotizacion_df.Fecha, format=\"%d-%m-%Y\")"
   ]
  },
  {
   "cell_type": "code",
   "execution_count": 112,
   "metadata": {},
   "outputs": [],
   "source": [
    "cotizacion_df[\"anio\"] = cotizacion_df.Fecha.dt.year\n",
    "cotizacion_df[\"mes\"] = cotizacion_df.Fecha.dt.month\n",
    "cotizacion_df[\"dia\"] = cotizacion_df.Fecha.dt.day"
   ]
  },
  {
   "cell_type": "code",
   "execution_count": 121,
   "metadata": {},
   "outputs": [],
   "source": [
    "cotizacion_df.Compra = pd.to_numeric(cotizacion_df.Compra)\n",
    "cotizacion_df.Venta = pd.to_numeric(cotizacion_df.Venta)"
   ]
  },
  {
   "cell_type": "code",
   "execution_count": 122,
   "metadata": {},
   "outputs": [],
   "source": [
    "min_days = cotizacion_df[[\"anio\",\"mes\",\"dia\"]].groupby([\"anio\", \"mes\"]).min().reset_index()"
   ]
  },
  {
   "cell_type": "code",
   "execution_count": 140,
   "metadata": {},
   "outputs": [],
   "source": [
    "cotizacion_mensual = pd.merge(min_days,\n",
    "                                cotizacion_df,\n",
    "                                left_on = [\"anio\",\"mes\",\"dia\"],\n",
    "                                right_on = [\"anio\",\"mes\",\"dia\"],\n",
    "                                how = \"left\")"
   ]
  },
  {
   "cell_type": "code",
   "execution_count": 141,
   "metadata": {},
   "outputs": [],
   "source": [
    "cotizacion_mensual[\"cotizacion\"] = (cotizacion_mensual.Compra + cotizacion_mensual.Venta) /2"
   ]
  },
  {
   "cell_type": "code",
   "execution_count": 142,
   "metadata": {},
   "outputs": [],
   "source": [
    "cotizacion_mensual = cotizacion_mensual[[\"anio\", \"mes\", \"cotizacion\"]]"
   ]
  },
  {
   "cell_type": "code",
   "execution_count": 143,
   "metadata": {},
   "outputs": [],
   "source": [
    "cotizacion_mensual[\"cotizacion_mes_anterior\"] = cotizacion_mensual.cotizacion.shift(1)"
   ]
  },
  {
   "cell_type": "code",
   "execution_count": 144,
   "metadata": {},
   "outputs": [],
   "source": [
    "cotizacion_mensual = cotizacion_mensual.dropna()"
   ]
  },
  {
   "cell_type": "code",
   "execution_count": 146,
   "metadata": {},
   "outputs": [],
   "source": [
    "cotizacion_mensual[\"aumento\"] = cotizacion_mensual.cotizacion/cotizacion_mensual.cotizacion_mes_anterior - 1"
   ]
  },
  {
   "cell_type": "code",
   "execution_count": 151,
   "metadata": {},
   "outputs": [],
   "source": [
    "cotizacion_mensual.anio = cotizacion_mensual.anio.map(str)\n",
    "cotizacion_mensual.mes = cotizacion_mensual.mes.map(str)\n",
    "cotizacion_mensual.mes = cotizacion_mensual.mes.str.pad(width=2, side=\"left\", fillchar=\"0\")"
   ]
  },
  {
   "cell_type": "code",
   "execution_count": 153,
   "metadata": {},
   "outputs": [],
   "source": [
    "cotizacion_mensual = cotizacion_mensual[[\"mes\",\"anio\",\"cotizacion\",\"aumento\"]]"
   ]
  },
  {
   "cell_type": "code",
   "execution_count": 154,
   "metadata": {},
   "outputs": [],
   "source": [
    "cotizacion_mensual.to_csv(\"../../data/processed/cotizacion_dolar.csv\", index=False)"
   ]
  },
  {
   "cell_type": "code",
   "execution_count": null,
   "metadata": {},
   "outputs": [],
   "source": []
  }
 ],
 "metadata": {
  "kernelspec": {
   "display_name": "Python 3",
   "language": "python",
   "name": "python3"
  },
  "language_info": {
   "codemirror_mode": {
    "name": "ipython",
    "version": 3
   },
   "file_extension": ".py",
   "mimetype": "text/x-python",
   "name": "python",
   "nbconvert_exporter": "python",
   "pygments_lexer": "ipython3",
   "version": "3.6.5"
  },
  "varInspector": {
   "cols": {
    "lenName": 16,
    "lenType": 16,
    "lenVar": 40
   },
   "kernels_config": {
    "python": {
     "delete_cmd_postfix": "",
     "delete_cmd_prefix": "del ",
     "library": "var_list.py",
     "varRefreshCmd": "print(var_dic_list())"
    },
    "r": {
     "delete_cmd_postfix": ") ",
     "delete_cmd_prefix": "rm(",
     "library": "var_list.r",
     "varRefreshCmd": "cat(var_dic_list()) "
    }
   },
   "types_to_exclude": [
    "module",
    "function",
    "builtin_function_or_method",
    "instance",
    "_Feature"
   ],
   "window_display": false
  }
 },
 "nbformat": 4,
 "nbformat_minor": 2
}
