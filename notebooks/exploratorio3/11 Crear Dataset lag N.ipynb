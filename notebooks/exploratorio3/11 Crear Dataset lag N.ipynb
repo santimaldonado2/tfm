{
 "cells": [
  {
   "cell_type": "code",
   "execution_count": 3,
   "metadata": {},
   "outputs": [],
   "source": [
    "import pandas as pd\n",
    "import numpy as np\n",
    "from plotnine import *\n",
    "\n",
    "%matplotlib inline"
   ]
  },
  {
   "cell_type": "code",
   "execution_count": 4,
   "metadata": {},
   "outputs": [],
   "source": [
    "data = pd.read_csv(\"../../data/processed/expensas_full_processed_vis.csv\",\n",
    "                  dtype = {\n",
    "                                \"expensa_id\": \"object\",\n",
    "                                \"unidad_id\": \"object\",\n",
    "                                \"consorcio_id\": \"object\",\n",
    "                                \"expensa_mes\":\"object\",\n",
    "                            },\n",
    "                  parse_dates = [\"expensa_fecha\", \"expensa_mes_pago\", \"expensa_mes_pago_anterior\"])"
   ]
  },
  {
   "cell_type": "code",
   "execution_count": 7,
   "metadata": {},
   "outputs": [],
   "source": [
    "pagos_por_unidad = pd.pivot(data, index=\"unidad_id\", columns = \"expensa_mes_pago\", values = \"pago_metodo\")"
   ]
  },
  {
   "cell_type": "code",
   "execution_count": 118,
   "metadata": {},
   "outputs": [
    {
     "name": "stderr",
     "output_type": "stream",
     "text": [
      "C:\\Anaconda3\\lib\\site-packages\\ipykernel_launcher.py:13: SettingWithCopyWarning: \n",
      "A value is trying to be set on a copy of a slice from a DataFrame.\n",
      "Try using .loc[row_indexer,col_indexer] = value instead\n",
      "\n",
      "See the caveats in the documentation: http://pandas.pydata.org/pandas-docs/stable/indexing.html#indexing-view-versus-copy\n",
      "  del sys.path[0]\n"
     ]
    }
   ],
   "source": [
    "_,total_meses = pagos_por_unidad.shape\n",
    "meses = pagos_por_unidad.columns\n",
    "lag = 3\n",
    "dfs = list()\n",
    "\n",
    "columns = []\n",
    "for l in range(0, lag):\n",
    "        columns.append(\"pago_metodo_lag_{}\".format(l+1))\n",
    "columns.reverse()\n",
    "columns.append(\"target\")\n",
    "for i in range(0, total_meses-lag):\n",
    "    filtered  = pagos_por_unidad.iloc[:, i: i+lag+1]\n",
    "    filtered[\"cantidad_na\"] = filtered.isna().sum(axis=1)/lag\n",
    "    filtered = filtered.loc[filtered.cantidad_na < 0.5] \n",
    "    filtered = filtered.drop(columns=\"cantidad_na\")\n",
    "    filtered[\"expensa_mes_pago\"] = meses[i+lag]\n",
    "    filtered = filtered.reset_index()\n",
    "    filtered = filtered.set_index([\"unidad_id\",\"expensa_mes_pago\"])\n",
    "    filtered.columns = columns\n",
    "    filtered = filtered.fillna(\"NS/NC\")\n",
    "    dfs.append(filtered)"
   ]
  },
  {
   "cell_type": "code",
   "execution_count": 119,
   "metadata": {},
   "outputs": [],
   "source": [
    "pagos_por_unidad_lag_6 = pd.concat(dfs, sort=False)"
   ]
  },
  {
   "cell_type": "code",
   "execution_count": 120,
   "metadata": {},
   "outputs": [
    {
     "data": {
      "text/plain": [
       "(150663, 4)"
      ]
     },
     "execution_count": 120,
     "metadata": {},
     "output_type": "execute_result"
    }
   ],
   "source": [
    "pagos_por_unidad_lag_6.shape"
   ]
  },
  {
   "cell_type": "code",
   "execution_count": 121,
   "metadata": {},
   "outputs": [],
   "source": [
    "pagos_por_unidad_lag_6 = pagos_por_unidad_lag_6[pagos_por_unidad_lag_6.target != \"NS/NC\"]"
   ]
  },
  {
   "cell_type": "code",
   "execution_count": 122,
   "metadata": {},
   "outputs": [],
   "source": [
    "pagos_por_unidad_lag_6.target = (pagos_por_unidad_lag_6.target == \"Impago\")"
   ]
  },
  {
   "cell_type": "code",
   "execution_count": 123,
   "metadata": {},
   "outputs": [],
   "source": [
    "pagos_por_unidad_lag_6 = pagos_por_unidad_lag_6.reset_index()"
   ]
  },
  {
   "cell_type": "code",
   "execution_count": 124,
   "metadata": {},
   "outputs": [],
   "source": [
    "pagos_test = pagos_por_unidad_lag_6.loc[pagos_por_unidad_lag_6.expensa_mes_pago >= \"2018-09-01\"]\n",
    "pagos_train = pagos_por_unidad_lag_6.loc[pagos_por_unidad_lag_6.expensa_mes_pago < \"2018-09-01\"]"
   ]
  },
  {
   "cell_type": "code",
   "execution_count": 125,
   "metadata": {},
   "outputs": [],
   "source": [
    "X_train = pagos_train.drop(columns=[\"unidad_id\",\"expensa_mes_pago\", \"target\"])\n",
    "Y_train = pagos_train.target\n",
    "X_test = pagos_test.drop(columns=[\"unidad_id\",\"expensa_mes_pago\", \"target\"])\n",
    "Y_test = pagos_test.target"
   ]
  },
  {
   "cell_type": "code",
   "execution_count": 126,
   "metadata": {},
   "outputs": [
    {
     "name": "stdout",
     "output_type": "stream",
     "text": [
      "(128508, 3) (128508,)\n",
      "(21777, 3) (21777,)\n"
     ]
    }
   ],
   "source": [
    "print(X_train.shape, Y_train.shape)\n",
    "print(X_test.shape, Y_test.shape)"
   ]
  },
  {
   "cell_type": "code",
   "execution_count": 127,
   "metadata": {},
   "outputs": [],
   "source": [
    "X_train = pd.get_dummies(X_train)\n",
    "X_test = pd.get_dummies(X_test)\n",
    "drop_test_columns = [column for column in X_test.columns if column not in X_train.columns]\n",
    "X_test = X_test.drop(columns=drop_test_columns)\n",
    "\n",
    "for column in [column for column in X_train.columns if column not in X_test.columns]:\n",
    "    X_test[column] = 0\n",
    "\n",
    "X_test = X_test[X_train.columns]"
   ]
  },
  {
   "cell_type": "code",
   "execution_count": 128,
   "metadata": {},
   "outputs": [
    {
     "name": "stdout",
     "output_type": "stream",
     "text": [
      "(128508, 16) (128508,)\n",
      "(21777, 16) (21777,)\n"
     ]
    }
   ],
   "source": [
    "print(X_train.shape, Y_train.shape)\n",
    "print(X_test.shape, Y_test.shape)"
   ]
  },
  {
   "cell_type": "code",
   "execution_count": 129,
   "metadata": {},
   "outputs": [
    {
     "data": {
      "text/plain": [
       "LogisticRegression(C=1000000, class_weight=None, dual=False,\n",
       "          fit_intercept=True, intercept_scaling=1, max_iter=100,\n",
       "          multi_class='warn', n_jobs=None, penalty='l2', random_state=None,\n",
       "          solver='lbfgs', tol=0.0001, verbose=0, warm_start=False)"
      ]
     },
     "execution_count": 129,
     "metadata": {},
     "output_type": "execute_result"
    }
   ],
   "source": [
    "from sklearn.linear_model import LogisticRegression\n",
    "logReg = LogisticRegression(\n",
    "    C = 1000000,\n",
    "    solver = \"lbfgs\",\n",
    "    penalty = \"l2\",\n",
    "    max_iter = 100,\n",
    ")\n",
    "logReg.fit(X_train, Y_train) "
   ]
  },
  {
   "cell_type": "code",
   "execution_count": 130,
   "metadata": {},
   "outputs": [],
   "source": [
    "from sklearn.metrics import accuracy_score, precision_score, recall_score, f1_score\n",
    "def get_train_test_meassures(model, X_train, Y_train, X_test, Y_test):\n",
    "    train_preds = model.predict(X_train)\n",
    "    print(\"accuracy:\", accuracy_score(Y_train, train_preds))\n",
    "    print(\"precision:\", precision_score(Y_train, train_preds))\n",
    "    print(\"recall:\", recall_score(Y_train, train_preds))\n",
    "    print(\"f1:\", f1_score(Y_train, train_preds))\n",
    "    print(\"--------------------------------------------------\")\n",
    "    test_preds = model.predict(X_test)\n",
    "    print(\"accuracy:\", accuracy_score(Y_test, test_preds))\n",
    "    print(\"precision:\", precision_score(Y_test, test_preds))\n",
    "    print(\"recall:\", recall_score(Y_test, test_preds))\n",
    "    print(\"f1:\", f1_score(Y_test, test_preds))"
   ]
  },
  {
   "cell_type": "code",
   "execution_count": 131,
   "metadata": {},
   "outputs": [
    {
     "name": "stdout",
     "output_type": "stream",
     "text": [
      "accuracy: 0.8758987767298534\n",
      "precision: 0.7990839596168112\n",
      "recall: 0.7182326848925868\n",
      "f1: 0.7565042139978014\n",
      "--------------------------------------------------\n",
      "accuracy: 0.8928686228589796\n",
      "precision: 0.781799379524302\n",
      "recall: 0.6700642588078883\n",
      "f1: 0.7216322634530485\n"
     ]
    }
   ],
   "source": [
    "get_train_test_meassures(logReg, X_train, Y_train, X_test, Y_test)"
   ]
  },
  {
   "cell_type": "code",
   "execution_count": 132,
   "metadata": {},
   "outputs": [],
   "source": [
    "def get_logReg_coef(model, columns):\n",
    "    lm_coef = pd.DataFrame({\n",
    "        \"variable\": columns,\n",
    "        \"coef\": model.coef_[0]\n",
    "    })\n",
    "\n",
    "    lm_coef[\"abs_coef\"] = abs(lm_coef.coef)\n",
    "\n",
    "    from pandas.api.types import CategoricalDtype\n",
    "    lm_coef = lm_coef.sort_values(\"abs_coef\", ascending = False)\n",
    "    lm_coef = lm_coef.reset_index().drop(columns=\"index\")\n",
    "\n",
    "    variable_cat = CategoricalDtype(categories=lm_coef.variable, ordered=True)\n",
    "    lm_coef.variable = lm_coef.variable.astype(variable_cat)\n",
    "\n",
    "    figure_size = (16, 4.8)\n",
    "    return (ggplot(data=lm_coef)\n",
    "    + geom_bar(aes(x = \"variable\",y=\"coef\"), stat = \"identity\")\n",
    "    + theme( axis_text_x = element_text(angle = 45, hjust = 1),\n",
    "              figure_size = (16, 4.5))\n",
    "    )"
   ]
  },
  {
   "cell_type": "code",
   "execution_count": 133,
   "metadata": {},
   "outputs": [
    {
     "data": {
      "image/png": "[encoded data removed]",
      "text/plain": [
       "<Figure size 1600x450 with 1 Axes>"
      ]
     },
     "metadata": {},
     "output_type": "display_data"
    },
    {
     "data": {
      "text/plain": [
       "<ggplot: (-9223371915306233740)>"
      ]
     },
     "execution_count": 133,
     "metadata": {},
     "output_type": "execute_result"
    }
   ],
   "source": [
    "get_logReg_coef(logReg, X_train.columns)"
   ]
  },
  {
   "cell_type": "code",
   "execution_count": null,
   "metadata": {},
   "outputs": [],
   "source": []
  }
 ],
 "metadata": {
  "kernelspec": {
   "display_name": "Python 3",
   "language": "python",
   "name": "python3"
  },
  "language_info": {
   "codemirror_mode": {
    "name": "ipython",
    "version": 3
   },
   "file_extension": ".py",
   "mimetype": "text/x-python",
   "name": "python",
   "nbconvert_exporter": "python",
   "pygments_lexer": "ipython3",
   "version": "3.6.8"
  },
  "varInspector": {
   "cols": {
    "lenName": 16,
    "lenType": 16,
    "lenVar": 40
   },
   "kernels_config": {
    "python": {
     "delete_cmd_postfix": "",
     "delete_cmd_prefix": "del ",
     "library": "var_list.py",
     "varRefreshCmd": "print(var_dic_list())"
    },
    "r": {
     "delete_cmd_postfix": ") ",
     "delete_cmd_prefix": "rm(",
     "library": "var_list.r",
     "varRefreshCmd": "cat(var_dic_list()) "
    }
   },
   "types_to_exclude": [
    "module",
    "function",
    "builtin_function_or_method",
    "instance",
    "_Feature"
   ],
   "window_display": false
  }
 },
 "nbformat": 4,
 "nbformat_minor": 2
}
