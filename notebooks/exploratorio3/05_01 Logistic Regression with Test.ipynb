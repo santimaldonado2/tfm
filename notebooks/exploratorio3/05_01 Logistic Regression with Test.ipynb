{
 "cells": [
  {
   "cell_type": "code",
   "execution_count": 9,
   "metadata": {},
   "outputs": [],
   "source": [
    "import pandas as pd\n",
    "import numpy as np\n",
    "from plotnine import *\n",
    "\n",
    "%matplotlib inline"
   ]
  },
  {
   "cell_type": "code",
   "execution_count": 25,
   "metadata": {},
   "outputs": [],
   "source": [
    "data = pd.read_csv(\"../../data/processed/expensas_full_processed_test_lag_3.csv\",\n",
    "                  dtype = {\n",
    "                                \"expensa_id\": \"object\",\n",
    "                                \"unidad_id\": \"object\",\n",
    "                                \"consorcio_id\": \"object\",\n",
    "                                \"expensa_mes\":\"object\",\n",
    "                            },\n",
    "                  parse_dates = [\"expensa_fecha\", \"expensa_mes_pago\", \"expensa_mes_pago_anterior\"])"
   ]
  },
  {
   "cell_type": "code",
   "execution_count": 26,
   "metadata": {},
   "outputs": [
    {
     "data": {
      "text/plain": [
       "(21985, 21)"
      ]
     },
     "execution_count": 26,
     "metadata": {},
     "output_type": "execute_result"
    }
   ],
   "source": [
    "data.shape"
   ]
  },
  {
   "cell_type": "code",
   "execution_count": 27,
   "metadata": {},
   "outputs": [
    {
     "data": {
      "text/plain": [
       "expensa_id                                      object\n",
       "consorcio_id                                    object\n",
       "consorcio_nombre                                object\n",
       "consorcio_cantidad_expensas                    float64\n",
       "consorcio_prop_impagos                         float64\n",
       "consorcio_prop_efectivo                        float64\n",
       "unidad_id                                       object\n",
       "unidad_denominacion                             object\n",
       "unidad_tipo                                     object\n",
       "unidad_prop_impagos                            float64\n",
       "expensa_proporcion                             float64\n",
       "expensa_interes_primer_vencimiento             float64\n",
       "expensa_ineteres_segundo_vencimiento           float64\n",
       "expensa_mes                                     object\n",
       "expensa_fecha                           datetime64[ns]\n",
       "expensa_mes_pago                        datetime64[ns]\n",
       "expensa_mes_pago_anterior               datetime64[ns]\n",
       "pago_metodo_lag_1                               object\n",
       "pago_metodo_lag_2                               object\n",
       "pago_metodo_lag_3                               object\n",
       "target                                         float64\n",
       "dtype: object"
      ]
     },
     "execution_count": 27,
     "metadata": {},
     "output_type": "execute_result"
    }
   ],
   "source": [
    "data.dtypes"
   ]
  },
  {
   "cell_type": "code",
   "execution_count": 28,
   "metadata": {},
   "outputs": [],
   "source": [
    "data = data.dropna()"
   ]
  },
  {
   "cell_type": "code",
   "execution_count": 11,
   "metadata": {},
   "outputs": [
    {
     "data": {
      "text/plain": [
       "Index(['expensa_id', 'consorcio_id', 'consorcio_nombre',\n",
       "       'consorcio_cantidad_expensas', 'consorcio_prop_impagos',\n",
       "       'consorcio_prop_efectivo', 'unidad_id', 'unidad_denominacion',\n",
       "       'unidad_tipo', 'unidad_prop_impagos', 'expensa_proporcion',\n",
       "       'expensa_interes_primer_vencimiento',\n",
       "       'expensa_ineteres_segundo_vencimiento', 'expensa_mes', 'expensa_fecha',\n",
       "       'expensa_mes_pago', 'expensa_mes_pago_anterior', 'pago_metodo_lag_1',\n",
       "       'pago_metodo_lag_2', 'pago_metodo_lag_3', 'target'],\n",
       "      dtype='object')"
      ]
     },
     "execution_count": 11,
     "metadata": {},
     "output_type": "execute_result"
    }
   ],
   "source": [
    "data.columns"
   ]
  },
  {
   "cell_type": "code",
   "execution_count": 37,
   "metadata": {},
   "outputs": [],
   "source": [
    "X_columns  = [ 'consorcio_cantidad_expensas', 'consorcio_prop_impagos',\n",
    "               'consorcio_prop_efectivo',\n",
    "               'unidad_tipo', 'unidad_prop_impagos', \n",
    "               'expensa_proporcion',\n",
    "               'expensa_interes_primer_vencimiento',\n",
    "               'expensa_ineteres_segundo_vencimiento', 'expensa_mes',\n",
    "               'pago_metodo_lag_1', 'pago_metodo_lag_2', 'pago_metodo_lag_3']"
   ]
  },
  {
   "cell_type": "markdown",
   "metadata": {},
   "source": [
    "## Import Model and Scaler"
   ]
  },
  {
   "cell_type": "code",
   "execution_count": 52,
   "metadata": {},
   "outputs": [],
   "source": [
    "import pickle\n",
    "with open('../../models/logisticRegression2.pkl', 'rb') as file:\n",
    "    logReg = pickle.load(file)\n",
    "with open('../../models/minmaxScaler2.pkl', 'rb') as file:\n",
    "    scaler = pickle.load(file)\n",
    "with open('../../models/columns_list2.pkl', 'rb') as file:\n",
    "    column_list = pickle.load(file)"
   ]
  },
  {
   "cell_type": "code",
   "execution_count": 53,
   "metadata": {},
   "outputs": [],
   "source": [
    "X = data[X_columns]"
   ]
  },
  {
   "cell_type": "code",
   "execution_count": 54,
   "metadata": {},
   "outputs": [],
   "source": [
    "X = pd.get_dummies(X)"
   ]
  },
  {
   "cell_type": "code",
   "execution_count": 55,
   "metadata": {},
   "outputs": [],
   "source": [
    "for column in [column for column in column_list if column not in X.columns]:\n",
    "    X[column] = 0"
   ]
  },
  {
   "cell_type": "code",
   "execution_count": 56,
   "metadata": {},
   "outputs": [
    {
     "data": {
      "text/plain": [
       "(17418, 42)"
      ]
     },
     "execution_count": 56,
     "metadata": {},
     "output_type": "execute_result"
    }
   ],
   "source": [
    "X.shape"
   ]
  },
  {
   "cell_type": "code",
   "execution_count": 57,
   "metadata": {},
   "outputs": [],
   "source": [
    "X.consorcio_cantidad_expensas = scaler.transform(X[[\"consorcio_cantidad_expensas\"]])"
   ]
  },
  {
   "cell_type": "code",
   "execution_count": 58,
   "metadata": {},
   "outputs": [],
   "source": [
    "Y = data.target"
   ]
  },
  {
   "cell_type": "code",
   "execution_count": 59,
   "metadata": {},
   "outputs": [
    {
     "data": {
      "text/plain": [
       "consorcio_cantidad_expensas             0\n",
       "consorcio_prop_impagos                  0\n",
       "consorcio_prop_efectivo                 0\n",
       "unidad_prop_impagos                     0\n",
       "expensa_proporcion                      0\n",
       "expensa_interes_primer_vencimiento      0\n",
       "expensa_ineteres_segundo_vencimiento    0\n",
       "unidad_tipo_Baulera                     0\n",
       "unidad_tipo_Casa                        0\n",
       "unidad_tipo_Cochera                     0\n",
       "unidad_tipo_Departamento                0\n",
       "unidad_tipo_Duplex                      0\n",
       "unidad_tipo_Local                       0\n",
       "unidad_tipo_Lote                        0\n",
       "unidad_tipo_Oficina                     0\n",
       "expensa_mes_01                          0\n",
       "expensa_mes_02                          0\n",
       "expensa_mes_12                          0\n",
       "pago_metodo_lag_1_Efec-Cheque           0\n",
       "pago_metodo_lag_1_EntePago              0\n",
       "pago_metodo_lag_1_Impago                0\n",
       "pago_metodo_lag_1_Internet              0\n",
       "pago_metodo_lag_1_Otro                  0\n",
       "pago_metodo_lag_2_Efec-Cheque           0\n",
       "pago_metodo_lag_2_EntePago              0\n",
       "pago_metodo_lag_2_Impago                0\n",
       "pago_metodo_lag_2_Internet              0\n",
       "pago_metodo_lag_2_Otro                  0\n",
       "pago_metodo_lag_3_Efec-Cheque           0\n",
       "pago_metodo_lag_3_EntePago              0\n",
       "pago_metodo_lag_3_Impago                0\n",
       "pago_metodo_lag_3_Internet              0\n",
       "pago_metodo_lag_3_Otro                  0\n",
       "expensa_mes_03                          0\n",
       "expensa_mes_04                          0\n",
       "expensa_mes_05                          0\n",
       "expensa_mes_06                          0\n",
       "expensa_mes_07                          0\n",
       "expensa_mes_08                          0\n",
       "expensa_mes_09                          0\n",
       "expensa_mes_10                          0\n",
       "expensa_mes_11                          0\n",
       "dtype: int64"
      ]
     },
     "execution_count": 59,
     "metadata": {},
     "output_type": "execute_result"
    }
   ],
   "source": [
    "X.isna().sum()"
   ]
  },
  {
   "cell_type": "code",
   "execution_count": 60,
   "metadata": {},
   "outputs": [
    {
     "name": "stdout",
     "output_type": "stream",
     "text": [
      "accuracy: 0.7527270639568263\n",
      "precision: 0.4771986970684039\n",
      "recall: 0.06847394250993223\n",
      "f1: 0.11976292662987942\n"
     ]
    }
   ],
   "source": [
    "from sklearn.metrics import accuracy_score, precision_score, recall_score, f1_score\n",
    "preds = logReg.predict(X)\n",
    "print(\"accuracy:\", accuracy_score(Y, preds))\n",
    "print(\"precision:\", precision_score(Y, preds))\n",
    "print(\"recall:\", recall_score(Y, preds))\n",
    "print(\"f1:\", f1_score(Y, preds))"
   ]
  },
  {
   "cell_type": "code",
   "execution_count": 61,
   "metadata": {},
   "outputs": [],
   "source": [
    "with open('../../models/xgb_lag3.pkl', 'rb') as file:\n",
    "    xgb = pickle.load(file)"
   ]
  },
  {
   "cell_type": "code",
   "execution_count": 63,
   "metadata": {},
   "outputs": [
    {
     "name": "stdout",
     "output_type": "stream",
     "text": [
      "accuracy: 0.7701802732805144\n",
      "precision: 0.709726443768997\n",
      "recall: 0.10913764898340733\n",
      "f1: 0.1891837148065627\n"
     ]
    }
   ],
   "source": [
    "preds = xgb.predict(X.values)\n",
    "print(\"accuracy:\", accuracy_score(Y, preds))\n",
    "print(\"precision:\", precision_score(Y, preds))\n",
    "print(\"recall:\", recall_score(Y, preds))\n",
    "print(\"f1:\", f1_score(Y, preds))"
   ]
  },
  {
   "cell_type": "markdown",
   "metadata": {},
   "source": [
    "## Linear Regression Pagos historicos"
   ]
  },
  {
   "cell_type": "code",
   "execution_count": 38,
   "metadata": {},
   "outputs": [],
   "source": [
    "import pickle\n",
    "with open('../../models/logisticRegressionFeatureSelection.pkl', 'rb') as file:\n",
    "    logRegHp = pickle.load(file)"
   ]
  },
  {
   "cell_type": "code",
   "execution_count": 39,
   "metadata": {},
   "outputs": [],
   "source": [
    "train_columns = ['unidad_prop_impagos',\n",
    " 'expensa_proporcion',\n",
    " 'expensa_interes_primer_vencimiento',\n",
    " 'expensa_ineteres_segundo_vencimiento',\n",
    " 'unidad_tipo_Casa',\n",
    " 'unidad_tipo_Departamento',\n",
    " 'unidad_tipo_Duplex',\n",
    " 'unidad_tipo_Lote',\n",
    " 'unidad_tipo_Oficina',\n",
    " 'expensa_mes_03',\n",
    " 'expensa_mes_05',\n",
    " 'expensa_mes_07',\n",
    " 'expensa_mes_08',\n",
    " 'expensa_mes_11',\n",
    " 'expensa_mes_12',\n",
    " 'pago_metodo_lag_1_Impago',\n",
    " 'pago_metodo_lag_1_Internet',\n",
    " 'pago_metodo_lag_1_Otro',\n",
    " 'pago_metodo_lag_2_EntePago',\n",
    " 'pago_metodo_lag_2_Internet',\n",
    " 'pago_metodo_lag_2_Otro',\n",
    " 'pago_metodo_lag_3_EntePago',\n",
    " 'pago_metodo_lag_3_Internet',\n",
    " 'pago_metodo_lag_3_Otro']"
   ]
  },
  {
   "cell_type": "code",
   "execution_count": 40,
   "metadata": {},
   "outputs": [],
   "source": [
    "data_hp = pd.get_dummies(data[X_columns])"
   ]
  },
  {
   "cell_type": "code",
   "execution_count": 42,
   "metadata": {},
   "outputs": [],
   "source": [
    "for column in [column for column in train_columns if column not in data_hp.columns]:\n",
    "    data_hp[column]=0"
   ]
  },
  {
   "cell_type": "code",
   "execution_count": 44,
   "metadata": {},
   "outputs": [
    {
     "data": {
      "text/plain": [
       "(17418, 38)"
      ]
     },
     "execution_count": 44,
     "metadata": {},
     "output_type": "execute_result"
    }
   ],
   "source": [
    "data_hp.shape"
   ]
  },
  {
   "cell_type": "code",
   "execution_count": 45,
   "metadata": {},
   "outputs": [
    {
     "name": "stdout",
     "output_type": "stream",
     "text": [
      "accuracy: 0.8616947984843265\n",
      "precision: 0.7617581187010078\n",
      "recall: 0.6358962374386539\n",
      "f1: 0.6931601069927398\n"
     ]
    }
   ],
   "source": [
    "from sklearn.metrics import accuracy_score, precision_score, recall_score, f1_score\n",
    "Y = data.target\n",
    "preds = logRegHp.predict(data_hp[train_columns])\n",
    "print(\"accuracy:\", accuracy_score(Y, preds))\n",
    "print(\"precision:\", precision_score(Y, preds))\n",
    "print(\"recall:\", recall_score(Y, preds))\n",
    "print(\"f1:\", f1_score(Y, preds))"
   ]
  },
  {
   "cell_type": "code",
   "execution_count": null,
   "metadata": {},
   "outputs": [],
   "source": []
  },
  {
   "cell_type": "code",
   "execution_count": null,
   "metadata": {},
   "outputs": [],
   "source": []
  }
 ],
 "metadata": {
  "kernelspec": {
   "display_name": "Python 3",
   "language": "python",
   "name": "python3"
  },
  "language_info": {
   "codemirror_mode": {
    "name": "ipython",
    "version": 3
   },
   "file_extension": ".py",
   "mimetype": "text/x-python",
   "name": "python",
   "nbconvert_exporter": "python",
   "pygments_lexer": "ipython3",
   "version": "3.6.5"
  },
  "varInspector": {
   "cols": {
    "lenName": 16,
    "lenType": 16,
    "lenVar": 40
   },
   "kernels_config": {
    "python": {
     "delete_cmd_postfix": "",
     "delete_cmd_prefix": "del ",
     "library": "var_list.py",
     "varRefreshCmd": "print(var_dic_list())"
    },
    "r": {
     "delete_cmd_postfix": ") ",
     "delete_cmd_prefix": "rm(",
     "library": "var_list.r",
     "varRefreshCmd": "cat(var_dic_list()) "
    }
   },
   "types_to_exclude": [
    "module",
    "function",
    "builtin_function_or_method",
    "instance",
    "_Feature"
   ],
   "window_display": false
  }
 },
 "nbformat": 4,
 "nbformat_minor": 2
}
