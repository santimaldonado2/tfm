{
 "cells": [
  {
   "cell_type": "code",
   "execution_count": 1,
   "metadata": {},
   "outputs": [],
   "source": [
    "import pandas as pd\n",
    "import numpy as np\n",
    "from plotnine import *\n",
    "\n",
    "%matplotlib inline"
   ]
  },
  {
   "cell_type": "code",
   "execution_count": 2,
   "metadata": {},
   "outputs": [],
   "source": [
    "data = pd.read_csv(\"../../data/processed/expensas_full_processed_vis.csv\",\n",
    "                  dtype = {\n",
    "                                \"expensa_id\": \"object\",\n",
    "                                \"unidad_id\": \"object\",\n",
    "                                \"consorcio_id\": \"object\",\n",
    "                                \"expensa_mes\":\"object\",\n",
    "                            },\n",
    "                  parse_dates = [\"expensa_fecha\", \"expensa_mes_pago\", \"expensa_mes_pago_anterior\"])"
   ]
  },
  {
   "cell_type": "code",
   "execution_count": 3,
   "metadata": {},
   "outputs": [],
   "source": [
    "data2 = data.loc[:,[\"expensa_id\", \"consorcio_id\", \"unidad_id\"]].groupby([\"consorcio_id\", \"unidad_id\"]).count().reset_index()[[\"consorcio_id\", \"unidad_id\"]]\n",
    "\n",
    "data2.consorcio_id = data2.consorcio_id.map(int)\n",
    "data2.unidad_id = data2.unidad_id.map(int)\n",
    "\n",
    "data2 = data2.sort_values([\"consorcio_id\",\"unidad_id\"])\n",
    "data2[\"unidad_id_bis\"] = range(0, len(data2))\n",
    "\n",
    "data2.consorcio_id = data2.consorcio_id.map(str)\n",
    "data2.unidad_id = data2.unidad_id.map(str)"
   ]
  },
  {
   "cell_type": "code",
   "execution_count": 4,
   "metadata": {},
   "outputs": [],
   "source": [
    "data2 = pd.merge(data,\n",
    "                 data2,\n",
    "                 left_on=[\"consorcio_id\", \"unidad_id\"],\n",
    "                 right_on=[\"consorcio_id\", \"unidad_id\"],\n",
    "                 how=\"left\")"
   ]
  },
  {
   "cell_type": "code",
   "execution_count": 5,
   "metadata": {},
   "outputs": [
    {
     "data": {
      "text/plain": [
       "(222968, 20)"
      ]
     },
     "execution_count": 5,
     "metadata": {},
     "output_type": "execute_result"
    }
   ],
   "source": [
    "data2.shape"
   ]
  },
  {
   "cell_type": "code",
   "execution_count": 6,
   "metadata": {},
   "outputs": [
    {
     "data": {
      "text/plain": [
       "(222968, 19)"
      ]
     },
     "execution_count": 6,
     "metadata": {},
     "output_type": "execute_result"
    }
   ],
   "source": [
    "data.shape"
   ]
  },
  {
   "cell_type": "code",
   "execution_count": 7,
   "metadata": {},
   "outputs": [
    {
     "data": {
      "text/plain": [
       "14513"
      ]
     },
     "execution_count": 7,
     "metadata": {},
     "output_type": "execute_result"
    }
   ],
   "source": [
    "data2.unidad_id_bis.max()"
   ]
  },
  {
   "cell_type": "code",
   "execution_count": 9,
   "metadata": {},
   "outputs": [],
   "source": [
    "def month_diff(a, b):\n",
    "    return 12 * (a.dt.year - b.dt.year) + (a.dt.month - b.dt.month)\n"
   ]
  },
  {
   "cell_type": "code",
   "execution_count": 45,
   "metadata": {},
   "outputs": [
    {
     "data": {
      "text/plain": [
       "58"
      ]
     },
     "execution_count": 45,
     "metadata": {},
     "output_type": "execute_result"
    }
   ],
   "source": [
    "month_diff(consorcios_rect.y_max,consorcios_rect.y_min)[0]"
   ]
  },
  {
   "cell_type": "code",
   "execution_count": 13,
   "metadata": {},
   "outputs": [
    {
     "name": "stdout",
     "output_type": "stream",
     "text": [
      "desde 13157, hasta 13445\n"
     ]
    },
    {
     "name": "stderr",
     "output_type": "stream",
     "text": [
      "C:\\Anaconda3\\lib\\site-packages\\plotnine\\ggplot.py:706: UserWarning: Saving 23.04 x 2 in image.\n",
      "  from_inches(height, units), units))\n",
      "C:\\Anaconda3\\lib\\site-packages\\plotnine\\ggplot.py:707: UserWarning: Filename: historial_grafico_13157_13445.png\n",
      "  warn('Filename: {}'.format(filename))\n"
     ]
    },
    {
     "name": "stdout",
     "output_type": "stream",
     "text": [
      "desde 13446, hasta 13997\n"
     ]
    },
    {
     "name": "stderr",
     "output_type": "stream",
     "text": [
      "C:\\Anaconda3\\lib\\site-packages\\plotnine\\ggplot.py:706: UserWarning: Saving 44.08 x 2 in image.\n",
      "  from_inches(height, units), units))\n",
      "C:\\Anaconda3\\lib\\site-packages\\plotnine\\ggplot.py:707: UserWarning: Filename: historial_grafico_13446_13997.png\n",
      "  warn('Filename: {}'.format(filename))\n"
     ]
    },
    {
     "name": "stdout",
     "output_type": "stream",
     "text": [
      "desde 13998, hasta 14405\n"
     ]
    },
    {
     "name": "stderr",
     "output_type": "stream",
     "text": [
      "C:\\Anaconda3\\lib\\site-packages\\plotnine\\ggplot.py:706: UserWarning: Saving 32.56 x 2 in image.\n",
      "  from_inches(height, units), units))\n",
      "C:\\Anaconda3\\lib\\site-packages\\plotnine\\ggplot.py:707: UserWarning: Filename: historial_grafico_13998_14405.png\n",
      "  warn('Filename: {}'.format(filename))\n"
     ]
    }
   ],
   "source": [
    "min_id = 13157\n",
    "for max_id in range(13400,14513,500):\n",
    "    consorcios_plot = data2.loc[(data2.unidad_id_bis >=  min_id) & (data2.unidad_id_bis <=  max_id), \"consorcio_id\"].unique()\n",
    "    data_plot = data2.loc[data2.consorcio_id.isin(consorcios_plot)]\n",
    "    max_id = data_plot.unidad_id_bis.max()\n",
    "    print(\"desde {}, hasta {}\".format(min_id, max_id))\n",
    "    consorcios_rect = data2.loc[data2.consorcio_id.isin(consorcios_plot), [\"consorcio_id\", \"consorcio_nombre\",\"unidad_id_bis\"]].groupby([\"consorcio_id\", \"consorcio_nombre\"]).min().reset_index()\n",
    "    consorcios_rect.columns = [\"consorcio\",\"nombre\",\"x_min\"]\n",
    "    consorcios_rect.x_min = consorcios_rect.x_min-0.5\n",
    "    consorcios_rect2 = data2.loc[data2.consorcio_id.isin(consorcios_plot), [\"consorcio_id\", \"consorcio_nombre\",\"unidad_id_bis\"]].groupby([\"consorcio_id\", \"consorcio_nombre\"]).max().reset_index()\n",
    "    consorcios_rect2.columns = [\"consorcio\",\"nombre\",\"x_max\"]\n",
    "    consorcios_rect2.x_max = consorcios_rect2.x_max+0.5\n",
    "\n",
    "    consorcios_rect = pd.merge(consorcios_rect,\n",
    "                               consorcios_rect2,\n",
    "                               left_on=[\"consorcio\", \"nombre\"],\n",
    "                               right_on=[\"consorcio\",\"nombre\"])\n",
    "\n",
    "    consorcios_rect[\"y_min\"]= data_plot.expensa_mes_pago.min()\n",
    "    consorcios_rect[\"y_max\"]= data_plot.expensa_mes_pago.max()\n",
    "    consorcios_rect = consorcios_rect.sort_values(\"x_min\").reset_index().drop(columns=\"index\")\n",
    "    consorcios_rect[\"x_name\"] = (consorcios_rect.x_min + consorcios_rect.x_max)/2\n",
    "    consorcios_rect[\"y_name\"] = pd.to_datetime(\"2019-02-01\")\n",
    "    consorcios_rect.loc[::2, \"y_name\"] = pd.to_datetime(\"2019-06-01\")\n",
    "\n",
    "    width = min(0.08 * (max_id - min_id), 50)\n",
    "    height = 0.08 * month_diff(consorcios_rect.y_max,consorcios_rect.y_min)[0] \n",
    "    height = height if height > 0 else 2\n",
    "    \n",
    "    (ggplot(data_plot)\n",
    "     #+ geom_rect(aes(xmin=\"x_min\", xmax = \"x_max\",  ymin=\"y_min\", ymax=\"y_max\", fill = \"color\"), alpha=0.4, data = consorcios_rect)\n",
    "     + geom_point(aes(x=\"unidad_id_bis\", y=\"expensa_mes_pago\",color =\"factor(pago_metodo)\"), size=1.5, shape=\"s\")\n",
    "     + scale_color_manual([\"#7c94ff\",\"#567c27\",\"#ff1e1e\", \"#b5af05\", \"#9b04c9\"], name=\"Paga Tarde\") \n",
    "     + geom_vline(aes(xintercept=\"x_max\"), size=1, color = \"black\", data=consorcios_rect)\n",
    "     + geom_text(aes(x=\"x_name\", y=\"y_name\", label=\"nombre\"), data=consorcios_rect)\n",
    "     + theme(\n",
    "         panel_background = element_rect(fill = \"white\"),\n",
    "         axis_text_x = element_text(angle = 90, hjust = 1)\n",
    "     )\n",
    "    ).save(filename = 'historial_grafico_{}_{}.png'.format(min_id, max_id), height=height, width=width, units = 'in', dpi=1000, limitsize=False)\n",
    "    \n",
    "    min_id = max_id + 1 "
   ]
  },
  {
   "cell_type": "code",
   "execution_count": 61,
   "metadata": {},
   "outputs": [
    {
     "data": {
      "text/html": [
       "<div>\n",
       "<style scoped>\n",
       "    .dataframe tbody tr th:only-of-type {\n",
       "        vertical-align: middle;\n",
       "    }\n",
       "\n",
       "    .dataframe tbody tr th {\n",
       "        vertical-align: top;\n",
       "    }\n",
       "\n",
       "    .dataframe thead th {\n",
       "        text-align: right;\n",
       "    }\n",
       "</style>\n",
       "<table border=\"1\" class=\"dataframe\">\n",
       "  <thead>\n",
       "    <tr style=\"text-align: right;\">\n",
       "      <th></th>\n",
       "      <th>consorcio</th>\n",
       "      <th>x_max</th>\n",
       "    </tr>\n",
       "  </thead>\n",
       "  <tbody>\n",
       "    <tr>\n",
       "      <th>0</th>\n",
       "      <td>11</td>\n",
       "      <td>146.5</td>\n",
       "    </tr>\n",
       "    <tr>\n",
       "      <th>1</th>\n",
       "      <td>355</td>\n",
       "      <td>266.5</td>\n",
       "    </tr>\n",
       "    <tr>\n",
       "      <th>2</th>\n",
       "      <td>48</td>\n",
       "      <td>200.5</td>\n",
       "    </tr>\n",
       "    <tr>\n",
       "      <th>3</th>\n",
       "      <td>518</td>\n",
       "      <td>410.5</td>\n",
       "    </tr>\n",
       "    <tr>\n",
       "      <th>4</th>\n",
       "      <td>533</td>\n",
       "      <td>441.5</td>\n",
       "    </tr>\n",
       "    <tr>\n",
       "      <th>5</th>\n",
       "      <td>534</td>\n",
       "      <td>487.5</td>\n",
       "    </tr>\n",
       "    <tr>\n",
       "      <th>6</th>\n",
       "      <td>539</td>\n",
       "      <td>508.5</td>\n",
       "    </tr>\n",
       "    <tr>\n",
       "      <th>7</th>\n",
       "      <td>568</td>\n",
       "      <td>542.5</td>\n",
       "    </tr>\n",
       "    <tr>\n",
       "      <th>8</th>\n",
       "      <td>649</td>\n",
       "      <td>586.5</td>\n",
       "    </tr>\n",
       "    <tr>\n",
       "      <th>9</th>\n",
       "      <td>650</td>\n",
       "      <td>598.5</td>\n",
       "    </tr>\n",
       "    <tr>\n",
       "      <th>10</th>\n",
       "      <td>728</td>\n",
       "      <td>648.5</td>\n",
       "    </tr>\n",
       "    <tr>\n",
       "      <th>11</th>\n",
       "      <td>733</td>\n",
       "      <td>725.5</td>\n",
       "    </tr>\n",
       "    <tr>\n",
       "      <th>12</th>\n",
       "      <td>742</td>\n",
       "      <td>840.5</td>\n",
       "    </tr>\n",
       "    <tr>\n",
       "      <th>13</th>\n",
       "      <td>8</td>\n",
       "      <td>41.5</td>\n",
       "    </tr>\n",
       "    <tr>\n",
       "      <th>14</th>\n",
       "      <td>827</td>\n",
       "      <td>1358.5</td>\n",
       "    </tr>\n",
       "    <tr>\n",
       "      <th>15</th>\n",
       "      <td>9</td>\n",
       "      <td>69.5</td>\n",
       "    </tr>\n",
       "  </tbody>\n",
       "</table>\n",
       "</div>"
      ],
      "text/plain": [
       "   consorcio   x_max\n",
       "0         11   146.5\n",
       "1        355   266.5\n",
       "2         48   200.5\n",
       "3        518   410.5\n",
       "4        533   441.5\n",
       "5        534   487.5\n",
       "6        539   508.5\n",
       "7        568   542.5\n",
       "8        649   586.5\n",
       "9        650   598.5\n",
       "10       728   648.5\n",
       "11       733   725.5\n",
       "12       742   840.5\n",
       "13         8    41.5\n",
       "14       827  1358.5\n",
       "15         9    69.5"
      ]
     },
     "execution_count": 61,
     "metadata": {},
     "output_type": "execute_result"
    }
   ],
   "source": [
    "consorcios_rect2 = data2.loc[data2.consorcio_id.isin(consorcios_plot), [\"consorcio_id\",\"unidad_id_bis\"]].groupby(\"consorcio_id\").max().reset_index()\n",
    "consorcios_rect2.columns = [\"consorcio\", \"x_max\"]\n",
    "consorcios_rect2.x_max = consorcios_rect2.x_max+0.5"
   ]
  },
  {
   "cell_type": "code",
   "execution_count": null,
   "metadata": {},
   "outputs": [],
   "source": []
  }
 ],
 "metadata": {
  "kernelspec": {
   "display_name": "Python 3",
   "language": "python",
   "name": "python3"
  },
  "language_info": {
   "codemirror_mode": {
    "name": "ipython",
    "version": 3
   },
   "file_extension": ".py",
   "mimetype": "text/x-python",
   "name": "python",
   "nbconvert_exporter": "python",
   "pygments_lexer": "ipython3",
   "version": "3.6.5"
  },
  "varInspector": {
   "cols": {
    "lenName": 16,
    "lenType": 16,
    "lenVar": 40
   },
   "kernels_config": {
    "python": {
     "delete_cmd_postfix": "",
     "delete_cmd_prefix": "del ",
     "library": "var_list.py",
     "varRefreshCmd": "print(var_dic_list())"
    },
    "r": {
     "delete_cmd_postfix": ") ",
     "delete_cmd_prefix": "rm(",
     "library": "var_list.r",
     "varRefreshCmd": "cat(var_dic_list()) "
    }
   },
   "types_to_exclude": [
    "module",
    "function",
    "builtin_function_or_method",
    "instance",
    "_Feature"
   ],
   "window_display": false
  }
 },
 "nbformat": 4,
 "nbformat_minor": 2
}
