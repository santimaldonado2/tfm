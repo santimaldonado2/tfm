{
 "cells": [
  {
   "cell_type": "code",
   "execution_count": 1,
   "metadata": {},
   "outputs": [],
   "source": [
    "import pandas as pd\n",
    "import numpy as np\n",
    "\n",
    "%matplotlib inline"
   ]
  },
  {
   "cell_type": "code",
   "execution_count": 2,
   "metadata": {},
   "outputs": [],
   "source": [
    "data = pd.read_csv(\"../../data/processed/pagos_por_unidad.csv\",\n",
    "                  dtype = {\n",
    "                                \"unidad_id\": \"object\",\n",
    "                            },\n",
    "                  parse_dates = [\"expensa_mes_pago\"])"
   ]
  },
  {
   "cell_type": "code",
   "execution_count": 3,
   "metadata": {},
   "outputs": [
    {
     "name": "stdout",
     "output_type": "stream",
     "text": [
      "(108621, 6) (108621,)\n",
      "(23226, 6) (23226,)\n",
      "(37108, 6) (37108,)\n"
     ]
    }
   ],
   "source": [
    "pagos_test = data.loc[data.expensa_mes_pago >= \"2018-09-01\"]\n",
    "pagos_cv = data.loc[(data.expensa_mes_pago < \"2018-09-01\") & (data.expensa_mes_pago >= \"2018-06-01\")]\n",
    "pagos_train = data.loc[data.expensa_mes_pago < \"2018-06-01\"]\n",
    "\n",
    "pagos_train_cv = data.loc[data.expensa_mes_pago < \"2018-09-01\"]\n",
    "\n",
    "X_train = pagos_train.drop(columns=[\"unidad_id\",\"expensa_mes_pago\", \"target\"])\n",
    "Y_train = pagos_train.target\n",
    "X_cv = pagos_cv.drop(columns=[\"unidad_id\",\"expensa_mes_pago\", \"target\"])\n",
    "Y_cv = pagos_cv.target\n",
    "X_test = pagos_test.drop(columns=[\"unidad_id\",\"expensa_mes_pago\", \"target\"])\n",
    "Y_test = pagos_test.target\n",
    "\n",
    "print(X_train.shape, Y_train.shape)\n",
    "print(X_cv.shape, Y_cv.shape)\n",
    "print(X_test.shape, Y_test.shape)"
   ]
  },
  {
   "cell_type": "code",
   "execution_count": 4,
   "metadata": {},
   "outputs": [],
   "source": [
    "words_dict = {\n",
    "    \"Impago\":0,\n",
    "    \"Internet\":1,\n",
    "    \"EntePago\":2,\n",
    "    \"Efec-Cheque\":3,\n",
    "    \"Otro\":4,\n",
    "    \"NS/NC\":5\n",
    "}\n",
    "\n",
    "def transform_values(X_i):\n",
    "    for column in X_i.columns:\n",
    "        X_i[column] = X_i[column].map(lambda x: words_dict[x])\n",
    "    return X_i"
   ]
  },
  {
   "cell_type": "code",
   "execution_count": 5,
   "metadata": {},
   "outputs": [],
   "source": [
    "X_train = transform_values(X_train)\n",
    "X_cv = transform_values(X_cv)\n",
    "X_test = transform_values(X_test)"
   ]
  },
  {
   "cell_type": "code",
   "execution_count": 6,
   "metadata": {},
   "outputs": [
    {
     "name": "stdout",
     "output_type": "stream",
     "text": [
      "(108621, 6) (108621,)\n",
      "(23226, 6) (23226,)\n",
      "(37108, 6) (37108,)\n"
     ]
    }
   ],
   "source": [
    "print(X_train.shape, Y_train.shape)\n",
    "print(X_cv.shape, Y_cv.shape)\n",
    "print(X_test.shape, Y_test.shape)"
   ]
  },
  {
   "cell_type": "code",
   "execution_count": 7,
   "metadata": {},
   "outputs": [
    {
     "name": "stderr",
     "output_type": "stream",
     "text": [
      "Using TensorFlow backend.\n"
     ]
    }
   ],
   "source": [
    "from keras import backend as K\n",
    "\n",
    "def f1(y_true, y_pred):\n",
    "    def recall(y_true, y_pred):\n",
    "        \"\"\"Recall metric.\n",
    "\n",
    "        Only computes a batch-wise average of recall.\n",
    "\n",
    "        Computes the recall, a metric for multi-label classification of\n",
    "        how many relevant items are selected.\n",
    "        \"\"\"\n",
    "        true_positives = K.sum(K.round(K.clip(y_true * y_pred, 0, 1)))\n",
    "        possible_positives = K.sum(K.round(K.clip(y_true, 0, 1)))\n",
    "        recall = true_positives / (possible_positives + K.epsilon())\n",
    "        return recall\n",
    "\n",
    "    def precision(y_true, y_pred):\n",
    "        \"\"\"Precision metric.\n",
    "\n",
    "        Only computes a batch-wise average of precision.\n",
    "\n",
    "        Computes the precision, a metric for multi-label classification of\n",
    "        how many selected items are relevant.\n",
    "        \"\"\"\n",
    "        true_positives = K.sum(K.round(K.clip(y_true * y_pred, 0, 1)))\n",
    "        predicted_positives = K.sum(K.round(K.clip(y_pred, 0, 1)))\n",
    "        precision = true_positives / (predicted_positives + K.epsilon())\n",
    "        return precision\n",
    "    precision = precision(y_true, y_pred)\n",
    "    recall = recall(y_true, y_pred)\n",
    "    return 2*((precision*recall)/(precision+recall+K.epsilon()))"
   ]
  },
  {
   "cell_type": "code",
   "execution_count": 26,
   "metadata": {},
   "outputs": [],
   "source": [
    "from sklearn.metrics import accuracy_score, precision_score, recall_score, f1_score\n",
    "def get_train_test_meassures(model, X_train, Y_train, X_test, Y_test):\n",
    "    train_preds = model.predict(X_train)\n",
    "    print(\"accuracy:\", accuracy_score(Y_train, train_preds))\n",
    "    print(\"precision:\", precision_score(Y_train, train_preds))\n",
    "    print(\"recall:\", recall_score(Y_train, train_preds))\n",
    "    print(\"f1:\", f1_score(Y_train, train_preds))\n",
    "    print(\"--------------------------------------------------\")\n",
    "    test_preds = model.predict(X_test)\n",
    "    print(\"accuracy:\", accuracy_score(Y_test, test_preds))\n",
    "    print(\"precision:\", precision_score(Y_test, test_preds))\n",
    "    print(\"recall:\", recall_score(Y_test, test_preds))\n",
    "    print(\"f1:\", f1_score(Y_test, test_preds))"
   ]
  },
  {
   "cell_type": "code",
   "execution_count": 8,
   "metadata": {},
   "outputs": [],
   "source": [
    "from keras.layers.core import Dense, Dropout, Activation, Flatten, Reshape\n",
    "from keras.models import Sequential\n",
    "from keras.layers import LSTM, Embedding\n",
    "\n",
    "def create_model(layer1=10, layer2=10, layer3=10, dropout=0.1):\n",
    "    model = Sequential()\n",
    "    model.add(Embedding(input_dim=6, output_dim=6, input_length=6))\n",
    "    model.add(Flatten())\n",
    "    model.add(Dense(layer1, activation=\"relu\"))\n",
    "    model.add(Dropout(dropout))\n",
    "    model.add(Dense(layer2, activation=\"relu\"))\n",
    "    model.add(Dropout(dropout))\n",
    "    model.add(Dense(1, activation='sigmoid'))\n",
    "    model.compile(optimizer='adam', loss='binary_crossentropy', metrics=[\"acc\",f1])\n",
    "    return model"
   ]
  },
  {
   "cell_type": "code",
   "execution_count": 9,
   "metadata": {},
   "outputs": [],
   "source": [
    "data = data.sort_values(\"expensa_mes_pago\").reset_index().drop(columns=\"index\")"
   ]
  },
  {
   "cell_type": "code",
   "execution_count": 10,
   "metadata": {},
   "outputs": [
    {
     "name": "stdout",
     "output_type": "stream",
     "text": [
      "(131847, 6) (131847,)\n"
     ]
    }
   ],
   "source": [
    "min_cv_id = data.loc[data.expensa_mes_pago == \"2018-06-01\", \"expensa_mes_pago\"].idxmin()\n",
    "min_test_id = data.loc[data.expensa_mes_pago == \"2018-09-01\", \"expensa_mes_pago\"].idxmin()\n",
    "\n",
    "X_train_cv = pagos_train_cv.drop(columns=[\"unidad_id\",\"expensa_mes_pago\", \"target\"])\n",
    "Y_train_cv = pagos_train_cv.target\n",
    "X_train_cv = transform_values(X_train_cv)\n",
    "print(X_train_cv.shape, Y_train_cv.shape)"
   ]
  },
  {
   "cell_type": "code",
   "execution_count": 11,
   "metadata": {},
   "outputs": [],
   "source": [
    "from keras.wrappers.scikit_learn import KerasClassifier\n",
    "test = KerasClassifier(build_fn=create_model, verbose=5, layer1=10, layer2=10, layer3=10, dropout=0.1, epochs=3, batch_size = 128)"
   ]
  },
  {
   "cell_type": "code",
   "execution_count": 12,
   "metadata": {},
   "outputs": [
    {
     "name": "stdout",
     "output_type": "stream",
     "text": [
      "Epoch 1/3\n",
      "Epoch 2/3\n",
      "Epoch 3/3\n"
     ]
    },
    {
     "data": {
      "text/plain": [
       "<keras.callbacks.History at 0x26609e9f5c0>"
      ]
     },
     "execution_count": 12,
     "metadata": {},
     "output_type": "execute_result"
    }
   ],
   "source": [
    "test.fit(X_train_cv, Y_train_cv)"
   ]
  },
  {
   "cell_type": "code",
   "execution_count": 16,
   "metadata": {},
   "outputs": [],
   "source": [
    "from sklearn.model_selection import GridSearchCV\n",
    "\n",
    "param_grid = {\n",
    "    \"layer1\":[10,20]\n",
    "}\n",
    "\n",
    "neural_network = GridSearchCV(\n",
    "    estimator = KerasClassifier(build_fn=create_model, verbose=5),\n",
    "    param_grid = param_grid,\n",
    "    scoring = 'f1',\n",
    "    n_jobs = 1,\n",
    "    cv = [(list(range(0,min_cv_id)), list(range(min_cv_id,min_test_id)))],\n",
    "    return_train_score = True,\n",
    "    error_score = 0,\n",
    "    verbose = 5\n",
    ")\n"
   ]
  },
  {
   "cell_type": "code",
   "execution_count": 18,
   "metadata": {},
   "outputs": [
    {
     "name": "stdout",
     "output_type": "stream",
     "text": [
      "Fitting 1 folds for each of 2 candidates, totalling 2 fits\n",
      "[CV] layer1=10 .......................................................\n",
      "Epoch 1/1\n",
      "[CV] .............. layer1=10, score=0.7479874988161758, total=   6.2s\n",
      "[CV] layer1=20 .......................................................\n"
     ]
    },
    {
     "name": "stderr",
     "output_type": "stream",
     "text": [
      "[Parallel(n_jobs=1)]: Done   1 out of   1 | elapsed:    7.5s remaining:    0.0s\n"
     ]
    },
    {
     "name": "stdout",
     "output_type": "stream",
     "text": [
      "Epoch 1/1\n",
      "[CV] .............. layer1=20, score=0.7412767644726407, total=   6.4s\n"
     ]
    },
    {
     "name": "stderr",
     "output_type": "stream",
     "text": [
      "[Parallel(n_jobs=1)]: Done   2 out of   2 | elapsed:   15.4s remaining:    0.0s\n",
      "[Parallel(n_jobs=1)]: Done   2 out of   2 | elapsed:   15.4s finished\n"
     ]
    },
    {
     "name": "stdout",
     "output_type": "stream",
     "text": [
      "Epoch 1/1\n"
     ]
    },
    {
     "data": {
      "text/plain": [
       "GridSearchCV(cv=[([0, 1, 2, 3, 4, 5, 6, 7, 8, 9, 10, 11, 12, 13, 14, 15, 16, 17, 18, 19, 20, 21, 22, 23, 24, 25, 26, 27, 28, 29, 30, 31, 32, 33, 34, 35, 36, 37, 38, 39, 40, 41, 42, 43, 44, 45, 46, 47, 48, 49, 50, 51, 52, 53, 54, 55, 56, 57, 58, 59, 60, 61, 62, 63, 64, 65, 66, 67, 68, 69, 70, 71, 72, 73, 74, 75, ...4, 131835, 131836, 131837, 131838, 131839, 131840, 131841, 131842, 131843, 131844, 131845, 131846])],\n",
       "       error_score=0,\n",
       "       estimator=<keras.wrappers.scikit_learn.KerasClassifier object at 0x00000266146137B8>,\n",
       "       fit_params=None, iid=True, n_jobs=1,\n",
       "       param_grid={'layer1': [10, 20]}, pre_dispatch='2*n_jobs',\n",
       "       refit=True, return_train_score=True, scoring='f1', verbose=5)"
      ]
     },
     "execution_count": 18,
     "metadata": {},
     "output_type": "execute_result"
    }
   ],
   "source": [
    "neural_network.fit(X_train_cv.values, Y_train_cv.values)"
   ]
  },
  {
   "cell_type": "code",
   "execution_count": 20,
   "metadata": {},
   "outputs": [
    {
     "data": {
      "text/plain": [
       "0.7479874988161758"
      ]
     },
     "execution_count": 20,
     "metadata": {},
     "output_type": "execute_result"
    }
   ],
   "source": [
    "neural_network.best_score_"
   ]
  },
  {
   "cell_type": "code",
   "execution_count": 24,
   "metadata": {},
   "outputs": [],
   "source": [
    "from skopt import BayesSearchCV\n",
    "from skopt.space import Real, Categorical, Integer\n",
    "from keras.wrappers.scikit_learn import KerasClassifier\n",
    "\n",
    "search_spaces = {\n",
    "    \"layer1\": Integer(1,100),\n",
    "    \"layer2\": Integer(1,100),\n",
    "    \"layer3\": Integer(1,100),\n",
    "    \"dropout\": Real(0,1),\n",
    "    \"epochs\": Integer(5,50),\n",
    "    \"batch_size\": Integer(50, 10000)\n",
    "}\n",
    "\n",
    "neural_network = BayesSearchCV(\n",
    "    estimator = KerasClassifier(build_fn=create_model, verbose=5),\n",
    "    search_spaces = search_spaces,\n",
    "    n_iter = 30,\n",
    "    scoring = 'f1',\n",
    "    n_jobs = 1,\n",
    "    cv = [(list(range(0,min_cv_id)), list(range(min_cv_id,min_test_id)))],\n",
    "    return_train_score = True,\n",
    "    error_score = 0,\n",
    "    random_state = 42,\n",
    "    verbose = 5\n",
    ")"
   ]
  },
  {
   "cell_type": "code",
   "execution_count": 25,
   "metadata": {},
   "outputs": [
    {
     "name": "stdout",
     "output_type": "stream",
     "text": [
      "Fitting 1 folds for each of 1 candidates, totalling 1 fits\n",
      "[CV] batch_size=4131, dropout=0.7277257431773251, epochs=47, layer1=32, layer2=67, layer3=42 \n",
      "Epoch 1/47\n",
      "Epoch 2/47\n",
      "Epoch 3/47\n",
      "Epoch 4/47\n",
      "Epoch 5/47\n",
      "Epoch 6/47\n",
      "Epoch 7/47\n",
      "Epoch 8/47\n",
      "Epoch 9/47\n",
      "Epoch 10/47\n",
      "Epoch 11/47\n",
      "Epoch 12/47\n",
      "Epoch 13/47\n",
      "Epoch 14/47\n",
      "Epoch 15/47\n",
      "Epoch 16/47\n",
      "Epoch 17/47\n",
      "Epoch 18/47\n",
      "Epoch 19/47\n",
      "Epoch 20/47\n",
      "Epoch 21/47\n",
      "Epoch 22/47\n",
      "Epoch 23/47\n",
      "Epoch 24/47\n",
      "Epoch 25/47\n",
      "Epoch 26/47\n",
      "Epoch 27/47\n",
      "Epoch 28/47\n",
      "Epoch 29/47\n",
      "Epoch 30/47\n",
      "Epoch 31/47\n",
      "Epoch 32/47\n",
      "Epoch 33/47\n",
      "Epoch 34/47\n",
      "Epoch 35/47\n",
      "Epoch 36/47\n",
      "Epoch 37/47\n",
      "Epoch 38/47\n",
      "Epoch 39/47\n",
      "Epoch 40/47\n",
      "Epoch 41/47\n",
      "Epoch 42/47\n",
      "Epoch 43/47\n",
      "Epoch 44/47\n",
      "Epoch 45/47\n",
      "Epoch 46/47\n",
      "Epoch 47/47\n",
      "[CV]  batch_size=4131, dropout=0.7277257431773251, epochs=47, layer1=32, layer2=67, layer3=42, score=0.747821034282394, total=  15.7s\n",
      "Fitting 1 folds for each of 1 candidates, totalling 1 fits\n",
      "[CV] batch_size=8382, dropout=0.8833152773808622, epochs=19, layer1=95, layer2=87, layer3=7 \n"
     ]
    },
    {
     "name": "stderr",
     "output_type": "stream",
     "text": [
      "[Parallel(n_jobs=1)]: Done   1 out of   1 | elapsed:   15.8s remaining:    0.0s\n",
      "[Parallel(n_jobs=1)]: Done   1 out of   1 | elapsed:   15.8s finished\n"
     ]
    },
    {
     "name": "stdout",
     "output_type": "stream",
     "text": [
      "Epoch 1/19\n",
      "Epoch 2/19\n",
      "Epoch 3/19\n",
      "Epoch 4/19\n",
      "Epoch 5/19\n",
      "Epoch 6/19\n",
      "Epoch 7/19\n",
      "Epoch 8/19\n",
      "Epoch 9/19\n",
      "Epoch 10/19\n",
      "Epoch 11/19\n",
      "Epoch 12/19\n",
      "Epoch 13/19\n",
      "Epoch 14/19\n",
      "Epoch 15/19\n",
      "Epoch 16/19\n",
      "Epoch 17/19\n",
      "Epoch 18/19\n",
      "Epoch 19/19\n",
      "[CV]  batch_size=8382, dropout=0.8833152773808622, epochs=19, layer1=95, layer2=87, layer3=7, score=0.7461493468512381, total=   9.1s\n",
      "Fitting 1 folds for each of 1 candidates, totalling 1 fits\n",
      "[CV] batch_size=4476, dropout=0.9187225216693771, epochs=10, layer1=44, layer2=20, layer3=46 \n"
     ]
    },
    {
     "name": "stderr",
     "output_type": "stream",
     "text": [
      "[Parallel(n_jobs=1)]: Done   1 out of   1 | elapsed:    9.2s remaining:    0.0s\n",
      "[Parallel(n_jobs=1)]: Done   1 out of   1 | elapsed:    9.2s finished\n"
     ]
    },
    {
     "name": "stdout",
     "output_type": "stream",
     "text": [
      "Epoch 1/10\n",
      "Epoch 2/10\n",
      "Epoch 3/10\n",
      "Epoch 4/10\n",
      "Epoch 5/10\n",
      "Epoch 6/10\n",
      "Epoch 7/10\n",
      "Epoch 8/10\n",
      "Epoch 9/10\n",
      "Epoch 10/10\n",
      "[CV]  batch_size=4476, dropout=0.9187225216693771, epochs=10, layer1=44, layer2=20, layer3=46, score=0.74293059125964, total=   3.9s\n",
      "Fitting 1 folds for each of 1 candidates, totalling 1 fits\n",
      "[CV] batch_size=8133, dropout=0.1718715613965607, epochs=32, layer1=80, layer2=53, layer3=10 \n"
     ]
    },
    {
     "name": "stderr",
     "output_type": "stream",
     "text": [
      "[Parallel(n_jobs=1)]: Done   1 out of   1 | elapsed:    4.0s remaining:    0.0s\n",
      "[Parallel(n_jobs=1)]: Done   1 out of   1 | elapsed:    4.0s finished\n"
     ]
    },
    {
     "name": "stdout",
     "output_type": "stream",
     "text": [
      "Epoch 1/32\n",
      "Epoch 2/32\n",
      "Epoch 3/32\n",
      "Epoch 4/32\n",
      "Epoch 5/32\n",
      "Epoch 6/32\n",
      "Epoch 7/32\n",
      "Epoch 8/32\n",
      "Epoch 9/32\n",
      "Epoch 10/32\n",
      "Epoch 11/32\n",
      "Epoch 12/32\n",
      "Epoch 13/32\n",
      "Epoch 14/32\n",
      "Epoch 15/32\n",
      "Epoch 16/32\n",
      "Epoch 17/32\n",
      "Epoch 18/32\n",
      "Epoch 19/32\n",
      "Epoch 20/32\n",
      "Epoch 21/32\n",
      "Epoch 22/32\n",
      "Epoch 23/32\n",
      "Epoch 24/32\n",
      "Epoch 25/32\n",
      "Epoch 26/32\n",
      "Epoch 27/32\n",
      "Epoch 28/32\n",
      "Epoch 29/32\n",
      "Epoch 30/32\n",
      "Epoch 31/32\n",
      "Epoch 32/32\n",
      "[CV]  batch_size=8133, dropout=0.1718715613965607, epochs=32, layer1=80, layer2=53, layer3=10, score=0.7405707443624027, total=  12.3s\n",
      "Fitting 1 folds for each of 1 candidates, totalling 1 fits\n",
      "[CV] batch_size=8006, dropout=0.43802918644092337, epochs=29, layer1=72, layer2=90, layer3=72 \n"
     ]
    },
    {
     "name": "stderr",
     "output_type": "stream",
     "text": [
      "[Parallel(n_jobs=1)]: Done   1 out of   1 | elapsed:   12.4s remaining:    0.0s\n",
      "[Parallel(n_jobs=1)]: Done   1 out of   1 | elapsed:   12.4s finished\n"
     ]
    },
    {
     "name": "stdout",
     "output_type": "stream",
     "text": [
      "Epoch 1/29\n",
      "Epoch 2/29\n",
      "Epoch 3/29\n",
      "Epoch 4/29\n",
      "Epoch 5/29\n",
      "Epoch 6/29\n",
      "Epoch 7/29\n",
      "Epoch 8/29\n",
      "Epoch 9/29\n",
      "Epoch 10/29\n",
      "Epoch 11/29\n",
      "Epoch 12/29\n",
      "Epoch 13/29\n",
      "Epoch 14/29\n",
      "Epoch 15/29\n",
      "Epoch 16/29\n",
      "Epoch 17/29\n",
      "Epoch 18/29\n",
      "Epoch 19/29\n",
      "Epoch 20/29\n",
      "Epoch 21/29\n",
      "Epoch 22/29\n",
      "Epoch 23/29\n",
      "Epoch 24/29\n",
      "Epoch 25/29\n",
      "Epoch 26/29\n",
      "Epoch 27/29\n",
      "Epoch 28/29\n",
      "Epoch 29/29\n",
      "[CV]  batch_size=8006, dropout=0.43802918644092337, epochs=29, layer1=72, layer2=90, layer3=72, score=0.7374470659407139, total=  12.4s\n",
      "Fitting 1 folds for each of 1 candidates, totalling 1 fits\n",
      "[CV] batch_size=7354, dropout=0.9393697376027718, epochs=12, layer1=20, layer2=80, layer3=38 \n"
     ]
    },
    {
     "name": "stderr",
     "output_type": "stream",
     "text": [
      "[Parallel(n_jobs=1)]: Done   1 out of   1 | elapsed:   12.5s remaining:    0.0s\n",
      "[Parallel(n_jobs=1)]: Done   1 out of   1 | elapsed:   12.5s finished\n"
     ]
    },
    {
     "name": "stdout",
     "output_type": "stream",
     "text": [
      "Epoch 1/12\n",
      "Epoch 2/12\n",
      "Epoch 3/12\n",
      "Epoch 4/12\n",
      "Epoch 5/12\n",
      "Epoch 6/12\n",
      "Epoch 7/12\n",
      "Epoch 8/12\n",
      "Epoch 9/12\n",
      "Epoch 10/12\n",
      "Epoch 11/12\n",
      "Epoch 12/12\n",
      "[CV]  batch_size=7354, dropout=0.9393697376027718, epochs=12, layer1=20, layer2=80, layer3=38, score=0.6146481570129249, total=   4.8s\n",
      "Fitting 1 folds for each of 1 candidates, totalling 1 fits\n",
      "[CV] batch_size=6190, dropout=0.7753643788278826, epochs=21, layer1=88, layer2=60, layer3=60 \n"
     ]
    },
    {
     "name": "stderr",
     "output_type": "stream",
     "text": [
      "[Parallel(n_jobs=1)]: Done   1 out of   1 | elapsed:    4.9s remaining:    0.0s\n",
      "[Parallel(n_jobs=1)]: Done   1 out of   1 | elapsed:    4.9s finished\n"
     ]
    },
    {
     "name": "stdout",
     "output_type": "stream",
     "text": [
      "Epoch 1/21\n",
      "Epoch 2/21\n",
      "Epoch 3/21\n",
      "Epoch 4/21\n",
      "Epoch 5/21\n",
      "Epoch 6/21\n",
      "Epoch 7/21\n",
      "Epoch 8/21\n",
      "Epoch 9/21\n",
      "Epoch 10/21\n",
      "Epoch 11/21\n",
      "Epoch 12/21\n",
      "Epoch 13/21\n",
      "Epoch 14/21\n",
      "Epoch 15/21\n",
      "Epoch 16/21\n",
      "Epoch 17/21\n",
      "Epoch 18/21\n",
      "Epoch 19/21\n",
      "Epoch 20/21\n",
      "Epoch 21/21\n",
      "[CV]  batch_size=6190, dropout=0.7753643788278826, epochs=21, layer1=88, layer2=60, layer3=60, score=0.7458791208791209, total=   9.0s\n",
      "Fitting 1 folds for each of 1 candidates, totalling 1 fits\n",
      "[CV] batch_size=5457, dropout=0.9200092264373164, epochs=27, layer1=84, layer2=33, layer3=6 \n"
     ]
    },
    {
     "name": "stderr",
     "output_type": "stream",
     "text": [
      "[Parallel(n_jobs=1)]: Done   1 out of   1 | elapsed:    9.1s remaining:    0.0s\n",
      "[Parallel(n_jobs=1)]: Done   1 out of   1 | elapsed:    9.1s finished\n"
     ]
    },
    {
     "name": "stdout",
     "output_type": "stream",
     "text": [
      "Epoch 1/27\n",
      "Epoch 2/27\n",
      "Epoch 3/27\n",
      "Epoch 4/27\n",
      "Epoch 5/27\n",
      "Epoch 6/27\n",
      "Epoch 7/27\n",
      "Epoch 8/27\n",
      "Epoch 9/27\n",
      "Epoch 10/27\n",
      "Epoch 11/27\n",
      "Epoch 12/27\n",
      "Epoch 13/27\n",
      "Epoch 14/27\n",
      "Epoch 15/27\n",
      "Epoch 16/27\n",
      "Epoch 17/27\n",
      "Epoch 18/27\n",
      "Epoch 19/27\n",
      "Epoch 20/27\n",
      "Epoch 21/27\n",
      "Epoch 22/27\n",
      "Epoch 23/27\n",
      "Epoch 24/27\n",
      "Epoch 25/27\n",
      "Epoch 26/27\n",
      "Epoch 27/27\n",
      "[CV]  batch_size=5457, dropout=0.9200092264373164, epochs=27, layer1=84, layer2=33, layer3=6, score=0.739252711932503, total=  10.0s\n",
      "Fitting 1 folds for each of 1 candidates, totalling 1 fits\n",
      "[CV] batch_size=9557, dropout=0.700621444621366, epochs=44, layer1=42, layer2=39, layer3=22 \n"
     ]
    },
    {
     "name": "stderr",
     "output_type": "stream",
     "text": [
      "[Parallel(n_jobs=1)]: Done   1 out of   1 | elapsed:   10.1s remaining:    0.0s\n",
      "[Parallel(n_jobs=1)]: Done   1 out of   1 | elapsed:   10.1s finished\n"
     ]
    },
    {
     "name": "stdout",
     "output_type": "stream",
     "text": [
      "Epoch 1/44\n",
      "Epoch 2/44\n",
      "Epoch 3/44\n",
      "Epoch 4/44\n",
      "Epoch 5/44\n",
      "Epoch 6/44\n",
      "Epoch 7/44\n",
      "Epoch 8/44\n",
      "Epoch 9/44\n",
      "Epoch 10/44\n",
      "Epoch 11/44\n",
      "Epoch 12/44\n",
      "Epoch 13/44\n",
      "Epoch 14/44\n",
      "Epoch 15/44\n",
      "Epoch 16/44\n",
      "Epoch 17/44\n",
      "Epoch 18/44\n",
      "Epoch 19/44\n",
      "Epoch 20/44\n",
      "Epoch 21/44\n",
      "Epoch 22/44\n",
      "Epoch 23/44\n",
      "Epoch 24/44\n",
      "Epoch 25/44\n",
      "Epoch 26/44\n",
      "Epoch 27/44\n",
      "Epoch 28/44\n",
      "Epoch 29/44\n",
      "Epoch 30/44\n",
      "Epoch 31/44\n",
      "Epoch 32/44\n",
      "Epoch 33/44\n",
      "Epoch 34/44\n",
      "Epoch 35/44\n",
      "Epoch 36/44\n",
      "Epoch 37/44\n",
      "Epoch 38/44\n",
      "Epoch 39/44\n",
      "Epoch 40/44\n",
      "Epoch 41/44\n",
      "Epoch 42/44\n",
      "Epoch 43/44\n",
      "Epoch 44/44\n",
      "[CV]  batch_size=9557, dropout=0.700621444621366, epochs=44, layer1=42, layer2=39, layer3=22, score=0.7451018808777429, total=  12.4s\n"
     ]
    },
    {
     "name": "stderr",
     "output_type": "stream",
     "text": [
      "[Parallel(n_jobs=1)]: Done   1 out of   1 | elapsed:   12.5s remaining:    0.0s\n",
      "[Parallel(n_jobs=1)]: Done   1 out of   1 | elapsed:   12.5s finished\n"
     ]
    },
    {
     "name": "stdout",
     "output_type": "stream",
     "text": [
      "Fitting 1 folds for each of 1 candidates, totalling 1 fits\n",
      "[CV] batch_size=86, dropout=0.8178300196637516, epochs=38, layer1=26, layer2=58, layer3=28 \n",
      "Epoch 1/38\n",
      "Epoch 2/38\n",
      "Epoch 3/38\n",
      "Epoch 4/38\n",
      "Epoch 5/38\n",
      "Epoch 6/38\n",
      "Epoch 7/38\n",
      "Epoch 8/38\n",
      "Epoch 9/38\n",
      "Epoch 10/38\n",
      "Epoch 11/38\n",
      "Epoch 12/38\n",
      "Epoch 13/38\n",
      "Epoch 14/38\n",
      "Epoch 15/38\n",
      "Epoch 16/38\n",
      "Epoch 17/38\n",
      "Epoch 18/38\n",
      "Epoch 19/38\n",
      "Epoch 20/38\n",
      "Epoch 21/38\n",
      "Epoch 22/38\n",
      "Epoch 23/38\n",
      "Epoch 24/38\n",
      "Epoch 25/38\n",
      "Epoch 26/38\n",
      "Epoch 27/38\n",
      "Epoch 28/38\n",
      "Epoch 29/38\n",
      "Epoch 30/38\n",
      "Epoch 31/38\n",
      "Epoch 32/38\n",
      "Epoch 33/38\n",
      "Epoch 34/38\n",
      "Epoch 35/38\n",
      "Epoch 36/38\n",
      "Epoch 37/38\n",
      "Epoch 38/38\n",
      "[CV]  batch_size=86, dropout=0.8178300196637516, epochs=38, layer1=26, layer2=58, layer3=28, score=0.7375588264744167, total= 3.4min\n"
     ]
    },
    {
     "name": "stderr",
     "output_type": "stream",
     "text": [
      "[Parallel(n_jobs=1)]: Done   1 out of   1 | elapsed:  3.5min remaining:    0.0s\n",
      "[Parallel(n_jobs=1)]: Done   1 out of   1 | elapsed:  3.5min finished\n"
     ]
    },
    {
     "name": "stdout",
     "output_type": "stream",
     "text": [
      "Fitting 1 folds for each of 1 candidates, totalling 1 fits\n",
      "[CV] batch_size=50, dropout=0.0, epochs=50, layer1=50, layer2=1, layer3=100 \n",
      "Epoch 1/50\n",
      "Epoch 2/50\n",
      "Epoch 3/50\n",
      "Epoch 4/50\n",
      "Epoch 5/50\n",
      "Epoch 6/50\n",
      "Epoch 7/50\n",
      "Epoch 8/50\n",
      "Epoch 9/50\n",
      "Epoch 10/50\n",
      "Epoch 11/50\n",
      "Epoch 12/50\n",
      "Epoch 13/50\n",
      "Epoch 14/50\n",
      "Epoch 15/50\n",
      "Epoch 16/50\n",
      "Epoch 17/50\n",
      "Epoch 18/50\n",
      "Epoch 19/50\n",
      "Epoch 20/50\n",
      "Epoch 21/50\n",
      "Epoch 22/50\n",
      "Epoch 23/50\n",
      "Epoch 24/50\n",
      "Epoch 25/50\n",
      "Epoch 26/50\n",
      "Epoch 27/50\n",
      "Epoch 28/50\n",
      "Epoch 29/50\n",
      "Epoch 30/50\n",
      "Epoch 31/50\n",
      "Epoch 32/50\n",
      "Epoch 33/50\n",
      "Epoch 34/50\n",
      "Epoch 35/50\n",
      "Epoch 36/50\n",
      "Epoch 37/50\n",
      "Epoch 38/50\n",
      "Epoch 39/50\n",
      "Epoch 40/50\n",
      "Epoch 41/50\n",
      "Epoch 42/50\n",
      "Epoch 43/50\n",
      "Epoch 44/50\n",
      "Epoch 45/50\n",
      "Epoch 46/50\n",
      "Epoch 47/50\n",
      "Epoch 48/50\n",
      "Epoch 49/50\n",
      "Epoch 50/50\n",
      "[CV]  batch_size=50, dropout=0.0, epochs=50, layer1=50, layer2=1, layer3=100, score=0.7405437352245863, total= 4.8min\n"
     ]
    },
    {
     "name": "stderr",
     "output_type": "stream",
     "text": [
      "[Parallel(n_jobs=1)]: Done   1 out of   1 | elapsed:  4.9min remaining:    0.0s\n",
      "[Parallel(n_jobs=1)]: Done   1 out of   1 | elapsed:  4.9min finished\n"
     ]
    },
    {
     "name": "stdout",
     "output_type": "stream",
     "text": [
      "Fitting 1 folds for each of 1 candidates, totalling 1 fits\n",
      "[CV] batch_size=50, dropout=0.0, epochs=50, layer1=100, layer2=100, layer3=100 \n",
      "Epoch 1/50\n",
      "Epoch 2/50\n",
      "Epoch 3/50\n",
      "Epoch 4/50\n",
      "Epoch 5/50\n",
      "Epoch 6/50\n",
      "Epoch 7/50\n",
      "Epoch 8/50\n",
      "Epoch 9/50\n",
      "Epoch 10/50\n",
      "Epoch 11/50\n",
      "Epoch 12/50\n",
      "Epoch 13/50\n",
      "Epoch 14/50\n",
      "Epoch 15/50\n",
      "Epoch 16/50\n",
      "Epoch 17/50\n",
      "Epoch 18/50\n",
      "Epoch 19/50\n",
      "Epoch 20/50\n",
      "Epoch 21/50\n",
      "Epoch 22/50\n",
      "Epoch 23/50\n",
      "Epoch 24/50\n",
      "Epoch 25/50\n",
      "Epoch 26/50\n",
      "Epoch 27/50\n",
      "Epoch 28/50\n",
      "Epoch 29/50\n",
      "Epoch 30/50\n",
      "Epoch 31/50\n",
      "Epoch 32/50\n",
      "Epoch 33/50\n",
      "Epoch 34/50\n",
      "Epoch 35/50\n",
      "Epoch 36/50\n",
      "Epoch 37/50\n",
      "Epoch 38/50\n",
      "Epoch 39/50\n",
      "Epoch 40/50\n",
      "Epoch 41/50\n",
      "Epoch 42/50\n",
      "Epoch 43/50\n",
      "Epoch 44/50\n",
      "Epoch 45/50\n",
      "Epoch 46/50\n",
      "Epoch 47/50\n",
      "Epoch 48/50\n",
      "Epoch 49/50\n",
      "Epoch 50/50\n",
      "[CV]  batch_size=50, dropout=0.0, epochs=50, layer1=100, layer2=100, layer3=100, score=0.7372898120672602, total= 6.1min\n"
     ]
    },
    {
     "name": "stderr",
     "output_type": "stream",
     "text": [
      "[Parallel(n_jobs=1)]: Done   1 out of   1 | elapsed:  6.2min remaining:    0.0s\n",
      "[Parallel(n_jobs=1)]: Done   1 out of   1 | elapsed:  6.2min finished\n"
     ]
    },
    {
     "name": "stdout",
     "output_type": "stream",
     "text": [
      "Fitting 1 folds for each of 1 candidates, totalling 1 fits\n",
      "[CV] batch_size=50, dropout=0.0, epochs=5, layer1=64, layer2=1, layer3=1 \n",
      "Epoch 1/5\n",
      "Epoch 2/5\n",
      "Epoch 3/5\n",
      "Epoch 4/5\n",
      "Epoch 5/5\n",
      "[CV]  batch_size=50, dropout=0.0, epochs=5, layer1=64, layer2=1, layer3=1, score=0.747839596077289, total=  36.4s\n"
     ]
    },
    {
     "name": "stderr",
     "output_type": "stream",
     "text": [
      "[Parallel(n_jobs=1)]: Done   1 out of   1 | elapsed:   39.0s remaining:    0.0s\n",
      "[Parallel(n_jobs=1)]: Done   1 out of   1 | elapsed:   39.0s finished\n"
     ]
    },
    {
     "name": "stdout",
     "output_type": "stream",
     "text": [
      "Fitting 1 folds for each of 1 candidates, totalling 1 fits\n",
      "[CV] batch_size=50, dropout=0.41551467932019337, epochs=50, layer1=1, layer2=1, layer3=5 \n",
      "Epoch 1/50\n",
      "Epoch 2/50\n",
      "Epoch 3/50\n",
      "Epoch 4/50\n",
      "Epoch 5/50\n",
      "Epoch 6/50\n",
      "Epoch 7/50\n",
      "Epoch 8/50\n",
      "Epoch 9/50\n",
      "Epoch 10/50\n",
      "Epoch 11/50\n",
      "Epoch 12/50\n",
      "Epoch 13/50\n",
      "Epoch 14/50\n",
      "Epoch 15/50\n",
      "Epoch 16/50\n",
      "Epoch 17/50\n",
      "Epoch 18/50\n",
      "Epoch 19/50\n",
      "Epoch 20/50\n",
      "Epoch 21/50\n",
      "Epoch 22/50\n",
      "Epoch 23/50\n",
      "Epoch 24/50\n",
      "Epoch 25/50\n",
      "Epoch 26/50\n",
      "Epoch 27/50\n",
      "Epoch 28/50\n",
      "Epoch 29/50\n",
      "Epoch 30/50\n",
      "Epoch 31/50\n",
      "Epoch 32/50\n",
      "Epoch 33/50\n",
      "Epoch 34/50\n",
      "Epoch 35/50\n",
      "Epoch 36/50\n",
      "Epoch 37/50\n",
      "Epoch 38/50\n",
      "Epoch 39/50\n",
      "Epoch 40/50\n",
      "Epoch 41/50\n",
      "Epoch 42/50\n",
      "Epoch 43/50\n",
      "Epoch 44/50\n",
      "Epoch 45/50\n",
      "Epoch 46/50\n",
      "Epoch 47/50\n",
      "Epoch 48/50\n",
      "Epoch 49/50\n",
      "Epoch 50/50\n"
     ]
    },
    {
     "name": "stderr",
     "output_type": "stream",
     "text": [
      "C:\\Anaconda3\\envs\\deeplearning-labs\\lib\\site-packages\\sklearn\\metrics\\classification.py:1135: UndefinedMetricWarning: F-score is ill-defined and being set to 0.0 due to no predicted samples.\n",
      "  'precision', 'predicted', average, warn_for)\n"
     ]
    },
    {
     "name": "stdout",
     "output_type": "stream",
     "text": [
      "[CV]  batch_size=50, dropout=0.41551467932019337, epochs=50, layer1=1, layer2=1, layer3=5, score=0.0, total= 3.3min\n"
     ]
    },
    {
     "name": "stderr",
     "output_type": "stream",
     "text": [
      "[Parallel(n_jobs=1)]: Done   1 out of   1 | elapsed:  3.3min remaining:    0.0s\n",
      "[Parallel(n_jobs=1)]: Done   1 out of   1 | elapsed:  3.3min finished\n"
     ]
    },
    {
     "name": "stdout",
     "output_type": "stream",
     "text": [
      "Fitting 1 folds for each of 1 candidates, totalling 1 fits\n",
      "[CV] batch_size=10000, dropout=1.0, epochs=50, layer1=59, layer2=100, layer3=1 \n",
      "Epoch 1/50\n",
      "Epoch 2/50\n",
      "Epoch 3/50\n",
      "Epoch 4/50\n",
      "Epoch 5/50\n",
      "Epoch 6/50\n",
      "Epoch 7/50\n",
      "Epoch 8/50\n",
      "Epoch 9/50\n",
      "Epoch 10/50\n",
      "Epoch 11/50\n",
      "Epoch 12/50\n",
      "Epoch 13/50\n",
      "Epoch 14/50\n",
      "Epoch 15/50\n",
      "Epoch 16/50\n",
      "Epoch 17/50\n",
      "Epoch 18/50\n",
      "Epoch 19/50\n",
      "Epoch 20/50\n",
      "Epoch 21/50\n",
      "Epoch 22/50\n",
      "Epoch 23/50\n",
      "Epoch 24/50\n",
      "Epoch 25/50\n",
      "Epoch 26/50\n",
      "Epoch 27/50\n",
      "Epoch 28/50\n",
      "Epoch 29/50\n",
      "Epoch 30/50\n",
      "Epoch 31/50\n",
      "Epoch 32/50\n",
      "Epoch 33/50\n",
      "Epoch 34/50\n",
      "Epoch 35/50\n",
      "Epoch 36/50\n",
      "Epoch 37/50\n",
      "Epoch 38/50\n",
      "Epoch 39/50\n",
      "Epoch 40/50\n",
      "Epoch 41/50\n",
      "Epoch 42/50\n",
      "Epoch 43/50\n",
      "Epoch 44/50\n",
      "Epoch 45/50\n",
      "Epoch 46/50\n",
      "Epoch 47/50\n",
      "Epoch 48/50\n",
      "Epoch 49/50\n",
      "Epoch 50/50\n",
      "[CV]  batch_size=10000, dropout=1.0, epochs=50, layer1=59, layer2=100, layer3=1, score=0.7442868400315209, total=  10.4s\n"
     ]
    },
    {
     "name": "stderr",
     "output_type": "stream",
     "text": [
      "[Parallel(n_jobs=1)]: Done   1 out of   1 | elapsed:   10.5s remaining:    0.0s\n",
      "[Parallel(n_jobs=1)]: Done   1 out of   1 | elapsed:   10.5s finished\n"
     ]
    },
    {
     "name": "stdout",
     "output_type": "stream",
     "text": [
      "Fitting 1 folds for each of 1 candidates, totalling 1 fits\n",
      "[CV] batch_size=1609, dropout=0.0, epochs=5, layer1=30, layer2=1, layer3=1 \n",
      "Epoch 1/5\n",
      "Epoch 2/5\n",
      "Epoch 3/5\n",
      "Epoch 4/5\n",
      "Epoch 5/5\n",
      "[CV]  batch_size=1609, dropout=0.0, epochs=5, layer1=30, layer2=1, layer3=1, score=0.7403092990560353, total=   3.4s\n"
     ]
    },
    {
     "name": "stderr",
     "output_type": "stream",
     "text": [
      "[Parallel(n_jobs=1)]: Done   1 out of   1 | elapsed:    3.5s remaining:    0.0s\n",
      "[Parallel(n_jobs=1)]: Done   1 out of   1 | elapsed:    3.5s finished\n"
     ]
    },
    {
     "name": "stdout",
     "output_type": "stream",
     "text": [
      "Fitting 1 folds for each of 1 candidates, totalling 1 fits\n",
      "[CV] batch_size=8916, dropout=0.4420849333686497, epochs=15, layer1=88, layer2=53, layer3=80 \n",
      "Epoch 1/15\n",
      "Epoch 2/15\n",
      "Epoch 3/15\n",
      "Epoch 4/15\n",
      "Epoch 5/15\n",
      "Epoch 6/15\n",
      "Epoch 7/15\n",
      "Epoch 8/15\n",
      "Epoch 9/15\n",
      "Epoch 10/15\n",
      "Epoch 11/15\n",
      "Epoch 12/15\n",
      "Epoch 13/15\n",
      "Epoch 14/15\n",
      "Epoch 15/15\n",
      "[CV]  batch_size=8916, dropout=0.4420849333686497, epochs=15, layer1=88, layer2=53, layer3=80, score=0.7459794613447007, total=   7.6s\n"
     ]
    },
    {
     "name": "stderr",
     "output_type": "stream",
     "text": [
      "[Parallel(n_jobs=1)]: Done   1 out of   1 | elapsed:    7.7s remaining:    0.0s\n",
      "[Parallel(n_jobs=1)]: Done   1 out of   1 | elapsed:    7.7s finished\n"
     ]
    },
    {
     "name": "stdout",
     "output_type": "stream",
     "text": [
      "Fitting 1 folds for each of 1 candidates, totalling 1 fits\n",
      "[CV] batch_size=9943, dropout=0.7516402721552441, epochs=25, layer1=11, layer2=29, layer3=88 \n",
      "Epoch 1/25\n",
      "Epoch 2/25\n",
      "Epoch 3/25\n",
      "Epoch 4/25\n",
      "Epoch 5/25\n",
      "Epoch 6/25\n",
      "Epoch 7/25\n",
      "Epoch 8/25\n",
      "Epoch 9/25\n",
      "Epoch 10/25\n",
      "Epoch 11/25\n",
      "Epoch 12/25\n",
      "Epoch 13/25\n",
      "Epoch 14/25\n",
      "Epoch 15/25\n",
      "Epoch 16/25\n",
      "Epoch 17/25\n",
      "Epoch 18/25\n",
      "Epoch 19/25\n",
      "Epoch 20/25\n",
      "Epoch 21/25\n",
      "Epoch 22/25\n",
      "Epoch 23/25\n",
      "Epoch 24/25\n",
      "Epoch 25/25\n",
      "[CV]  batch_size=9943, dropout=0.7516402721552441, epochs=25, layer1=11, layer2=29, layer3=88, score=0.7496896189475695, total=   6.2s\n"
     ]
    },
    {
     "name": "stderr",
     "output_type": "stream",
     "text": [
      "[Parallel(n_jobs=1)]: Done   1 out of   1 | elapsed:    6.2s remaining:    0.0s\n",
      "[Parallel(n_jobs=1)]: Done   1 out of   1 | elapsed:    6.2s finished\n"
     ]
    },
    {
     "name": "stdout",
     "output_type": "stream",
     "text": [
      "Fitting 1 folds for each of 1 candidates, totalling 1 fits\n",
      "[CV] batch_size=3923, dropout=0.7626977018348454, epochs=30, layer1=26, layer2=58, layer3=75 \n",
      "Epoch 1/30\n",
      "Epoch 2/30\n",
      "Epoch 3/30\n",
      "Epoch 4/30\n",
      "Epoch 5/30\n",
      "Epoch 6/30\n",
      "Epoch 7/30\n",
      "Epoch 8/30\n",
      "Epoch 9/30\n",
      "Epoch 10/30\n",
      "Epoch 11/30\n",
      "Epoch 12/30\n",
      "Epoch 13/30\n",
      "Epoch 14/30\n",
      "Epoch 15/30\n",
      "Epoch 16/30\n",
      "Epoch 17/30\n",
      "Epoch 18/30\n",
      "Epoch 19/30\n",
      "Epoch 20/30\n",
      "Epoch 21/30\n",
      "Epoch 22/30\n",
      "Epoch 23/30\n",
      "Epoch 24/30\n",
      "Epoch 25/30\n",
      "Epoch 26/30\n",
      "Epoch 27/30\n",
      "Epoch 28/30\n",
      "Epoch 29/30\n",
      "Epoch 30/30\n",
      "[CV]  batch_size=3923, dropout=0.7626977018348454, epochs=30, layer1=26, layer2=58, layer3=75, score=0.7488124643739312, total=  11.1s\n"
     ]
    },
    {
     "name": "stderr",
     "output_type": "stream",
     "text": [
      "[Parallel(n_jobs=1)]: Done   1 out of   1 | elapsed:   11.2s remaining:    0.0s\n",
      "[Parallel(n_jobs=1)]: Done   1 out of   1 | elapsed:   11.2s finished\n"
     ]
    },
    {
     "name": "stdout",
     "output_type": "stream",
     "text": [
      "Fitting 1 folds for each of 1 candidates, totalling 1 fits\n",
      "[CV] batch_size=10000, dropout=0.790757178956179, epochs=50, layer1=100, layer2=100, layer3=1 \n",
      "Epoch 1/50\n",
      "Epoch 2/50\n",
      "Epoch 3/50\n",
      "Epoch 4/50\n",
      "Epoch 5/50\n",
      "Epoch 6/50\n",
      "Epoch 7/50\n",
      "Epoch 8/50\n",
      "Epoch 9/50\n",
      "Epoch 10/50\n",
      "Epoch 11/50\n",
      "Epoch 12/50\n",
      "Epoch 13/50\n",
      "Epoch 14/50\n",
      "Epoch 15/50\n",
      "Epoch 16/50\n",
      "Epoch 17/50\n",
      "Epoch 18/50\n",
      "Epoch 19/50\n",
      "Epoch 20/50\n",
      "Epoch 21/50\n",
      "Epoch 22/50\n",
      "Epoch 23/50\n",
      "Epoch 24/50\n",
      "Epoch 25/50\n",
      "Epoch 26/50\n",
      "Epoch 27/50\n",
      "Epoch 28/50\n",
      "Epoch 29/50\n",
      "Epoch 30/50\n",
      "Epoch 31/50\n",
      "Epoch 32/50\n",
      "Epoch 33/50\n",
      "Epoch 34/50\n",
      "Epoch 35/50\n",
      "Epoch 36/50\n",
      "Epoch 37/50\n",
      "Epoch 38/50\n",
      "Epoch 39/50\n",
      "Epoch 40/50\n",
      "Epoch 41/50\n",
      "Epoch 42/50\n",
      "Epoch 43/50\n",
      "Epoch 44/50\n",
      "Epoch 45/50\n",
      "Epoch 46/50\n",
      "Epoch 47/50\n",
      "Epoch 48/50\n",
      "Epoch 49/50\n",
      "Epoch 50/50\n",
      "[CV]  batch_size=10000, dropout=0.790757178956179, epochs=50, layer1=100, layer2=100, layer3=1, score=0.7402170666135617, total=  25.6s\n"
     ]
    },
    {
     "name": "stderr",
     "output_type": "stream",
     "text": [
      "[Parallel(n_jobs=1)]: Done   1 out of   1 | elapsed:   25.7s remaining:    0.0s\n",
      "[Parallel(n_jobs=1)]: Done   1 out of   1 | elapsed:   25.7s finished\n"
     ]
    },
    {
     "name": "stdout",
     "output_type": "stream",
     "text": [
      "Fitting 1 folds for each of 1 candidates, totalling 1 fits\n",
      "[CV] batch_size=8653, dropout=0.8575433267950109, epochs=28, layer1=100, layer2=92, layer3=1 \n",
      "Epoch 1/28\n",
      "Epoch 2/28\n",
      "Epoch 3/28\n",
      "Epoch 4/28\n",
      "Epoch 5/28\n",
      "Epoch 6/28\n",
      "Epoch 7/28\n",
      "Epoch 8/28\n",
      "Epoch 9/28\n",
      "Epoch 10/28\n",
      "Epoch 11/28\n",
      "Epoch 12/28\n",
      "Epoch 13/28\n",
      "Epoch 14/28\n",
      "Epoch 15/28\n",
      "Epoch 16/28\n",
      "Epoch 17/28\n",
      "Epoch 18/28\n",
      "Epoch 19/28\n",
      "Epoch 20/28\n",
      "Epoch 21/28\n",
      "Epoch 22/28\n",
      "Epoch 23/28\n",
      "Epoch 24/28\n",
      "Epoch 25/28\n",
      "Epoch 26/28\n",
      "Epoch 27/28\n",
      "Epoch 28/28\n",
      "[CV]  batch_size=8653, dropout=0.8575433267950109, epochs=28, layer1=100, layer2=92, layer3=1, score=0.7497632127296836, total=  14.6s\n"
     ]
    },
    {
     "name": "stderr",
     "output_type": "stream",
     "text": [
      "[Parallel(n_jobs=1)]: Done   1 out of   1 | elapsed:   14.7s remaining:    0.0s\n",
      "[Parallel(n_jobs=1)]: Done   1 out of   1 | elapsed:   14.7s finished\n"
     ]
    },
    {
     "name": "stdout",
     "output_type": "stream",
     "text": [
      "Fitting 1 folds for each of 1 candidates, totalling 1 fits\n",
      "[CV] batch_size=3377, dropout=0.9086365121826798, epochs=21, layer1=72, layer2=1, layer3=12 \n",
      "Epoch 1/21\n",
      "Epoch 2/21\n",
      "Epoch 3/21\n",
      "Epoch 4/21\n",
      "Epoch 5/21\n",
      "Epoch 6/21\n",
      "Epoch 7/21\n",
      "Epoch 8/21\n",
      "Epoch 9/21\n",
      "Epoch 10/21\n",
      "Epoch 11/21\n",
      "Epoch 12/21\n",
      "Epoch 13/21\n",
      "Epoch 14/21\n",
      "Epoch 15/21\n",
      "Epoch 16/21\n",
      "Epoch 17/21\n",
      "Epoch 18/21\n",
      "Epoch 19/21\n",
      "Epoch 20/21\n",
      "Epoch 21/21\n"
     ]
    },
    {
     "name": "stderr",
     "output_type": "stream",
     "text": [
      "C:\\Anaconda3\\envs\\deeplearning-labs\\lib\\site-packages\\sklearn\\metrics\\classification.py:1135: UndefinedMetricWarning: F-score is ill-defined and being set to 0.0 due to no predicted samples.\n",
      "  'precision', 'predicted', average, warn_for)\n",
      "[Parallel(n_jobs=1)]: Done   1 out of   1 | elapsed:    8.6s remaining:    0.0s\n",
      "[Parallel(n_jobs=1)]: Done   1 out of   1 | elapsed:    8.6s finished\n"
     ]
    },
    {
     "name": "stdout",
     "output_type": "stream",
     "text": [
      "[CV]  batch_size=3377, dropout=0.9086365121826798, epochs=21, layer1=72, layer2=1, layer3=12, score=0.0, total=   8.6s\n",
      "Fitting 1 folds for each of 1 candidates, totalling 1 fits\n",
      "[CV] batch_size=1559, dropout=0.0, epochs=5, layer1=100, layer2=26, layer3=1 \n",
      "Epoch 1/5\n",
      "Epoch 2/5\n",
      "Epoch 3/5\n",
      "Epoch 4/5\n",
      "Epoch 5/5\n",
      "[CV]  batch_size=1559, dropout=0.0, epochs=5, layer1=100, layer2=26, layer3=1, score=0.744282334384858, total=   4.1s\n"
     ]
    },
    {
     "name": "stderr",
     "output_type": "stream",
     "text": [
      "[Parallel(n_jobs=1)]: Done   1 out of   1 | elapsed:    4.2s remaining:    0.0s\n",
      "[Parallel(n_jobs=1)]: Done   1 out of   1 | elapsed:    4.2s finished\n"
     ]
    },
    {
     "name": "stdout",
     "output_type": "stream",
     "text": [
      "Fitting 1 folds for each of 1 candidates, totalling 1 fits\n",
      "[CV] batch_size=8032, dropout=0.9400010453362124, epochs=10, layer1=59, layer2=23, layer3=16 \n",
      "Epoch 1/10\n",
      "Epoch 2/10\n",
      "Epoch 3/10\n",
      "Epoch 4/10\n",
      "Epoch 5/10\n",
      "Epoch 6/10\n",
      "Epoch 7/10\n",
      "Epoch 8/10\n",
      "Epoch 9/10\n",
      "Epoch 10/10\n",
      "[CV]  batch_size=8032, dropout=0.9400010453362124, epochs=10, layer1=59, layer2=23, layer3=16, score=0.6701463746737774, total=   4.8s\n"
     ]
    },
    {
     "name": "stderr",
     "output_type": "stream",
     "text": [
      "[Parallel(n_jobs=1)]: Done   1 out of   1 | elapsed:    4.9s remaining:    0.0s\n",
      "[Parallel(n_jobs=1)]: Done   1 out of   1 | elapsed:    4.9s finished\n"
     ]
    },
    {
     "name": "stdout",
     "output_type": "stream",
     "text": [
      "Fitting 1 folds for each of 1 candidates, totalling 1 fits\n",
      "[CV] batch_size=7602, dropout=0.6691337989630649, epochs=31, layer1=1, layer2=30, layer3=93 \n",
      "Epoch 1/31\n",
      "Epoch 2/31\n",
      "Epoch 3/31\n",
      "Epoch 4/31\n",
      "Epoch 5/31\n",
      "Epoch 6/31\n",
      "Epoch 7/31\n",
      "Epoch 8/31\n",
      "Epoch 9/31\n",
      "Epoch 10/31\n",
      "Epoch 11/31\n",
      "Epoch 12/31\n",
      "Epoch 13/31\n",
      "Epoch 14/31\n",
      "Epoch 15/31\n",
      "Epoch 16/31\n",
      "Epoch 17/31\n",
      "Epoch 18/31\n",
      "Epoch 19/31\n",
      "Epoch 20/31\n",
      "Epoch 21/31\n",
      "Epoch 22/31\n",
      "Epoch 23/31\n",
      "Epoch 24/31\n",
      "Epoch 25/31\n",
      "Epoch 26/31\n",
      "Epoch 27/31\n",
      "Epoch 28/31\n",
      "Epoch 29/31\n",
      "Epoch 30/31\n",
      "Epoch 31/31\n",
      "[CV]  batch_size=7602, dropout=0.6691337989630649, epochs=31, layer1=1, layer2=30, layer3=93, score=0.5312701482914249, total=   7.7s\n"
     ]
    },
    {
     "name": "stderr",
     "output_type": "stream",
     "text": [
      "[Parallel(n_jobs=1)]: Done   1 out of   1 | elapsed:    7.8s remaining:    0.0s\n",
      "[Parallel(n_jobs=1)]: Done   1 out of   1 | elapsed:    7.8s finished\n"
     ]
    },
    {
     "name": "stdout",
     "output_type": "stream",
     "text": [
      "Fitting 1 folds for each of 1 candidates, totalling 1 fits\n",
      "[CV] batch_size=5767, dropout=0.8202974234125167, epochs=35, layer1=100, layer2=39, layer3=98 \n",
      "Epoch 1/35\n",
      "Epoch 2/35\n",
      "Epoch 3/35\n",
      "Epoch 4/35\n",
      "Epoch 5/35\n",
      "Epoch 6/35\n",
      "Epoch 7/35\n",
      "Epoch 8/35\n",
      "Epoch 9/35\n",
      "Epoch 10/35\n",
      "Epoch 11/35\n",
      "Epoch 12/35\n",
      "Epoch 13/35\n",
      "Epoch 14/35\n",
      "Epoch 15/35\n",
      "Epoch 16/35\n",
      "Epoch 17/35\n",
      "Epoch 18/35\n",
      "Epoch 19/35\n",
      "Epoch 20/35\n",
      "Epoch 21/35\n",
      "Epoch 22/35\n",
      "Epoch 23/35\n",
      "Epoch 24/35\n",
      "Epoch 25/35\n",
      "Epoch 26/35\n",
      "Epoch 27/35\n",
      "Epoch 28/35\n",
      "Epoch 29/35\n",
      "Epoch 30/35\n",
      "Epoch 31/35\n",
      "Epoch 32/35\n",
      "Epoch 33/35\n",
      "Epoch 34/35\n",
      "Epoch 35/35\n",
      "[CV]  batch_size=5767, dropout=0.8202974234125167, epochs=35, layer1=100, layer2=39, layer3=98, score=0.7359008230870847, total=  15.9s\n"
     ]
    },
    {
     "name": "stderr",
     "output_type": "stream",
     "text": [
      "[Parallel(n_jobs=1)]: Done   1 out of   1 | elapsed:   16.0s remaining:    0.0s\n",
      "[Parallel(n_jobs=1)]: Done   1 out of   1 | elapsed:   16.0s finished\n"
     ]
    },
    {
     "name": "stdout",
     "output_type": "stream",
     "text": [
      "Fitting 1 folds for each of 1 candidates, totalling 1 fits\n",
      "[CV] batch_size=10000, dropout=0.7765338192021353, epochs=24, layer1=13, layer2=29, layer3=81 \n",
      "Epoch 1/24\n",
      "Epoch 2/24\n",
      "Epoch 3/24\n",
      "Epoch 4/24\n",
      "Epoch 5/24\n",
      "Epoch 6/24\n",
      "Epoch 7/24\n",
      "Epoch 8/24\n",
      "Epoch 9/24\n",
      "Epoch 10/24\n",
      "Epoch 11/24\n",
      "Epoch 12/24\n",
      "Epoch 13/24\n",
      "Epoch 14/24\n",
      "Epoch 15/24\n",
      "Epoch 16/24\n",
      "Epoch 17/24\n",
      "Epoch 18/24\n",
      "Epoch 19/24\n",
      "Epoch 20/24\n",
      "Epoch 21/24\n",
      "Epoch 22/24\n",
      "Epoch 23/24\n",
      "Epoch 24/24\n",
      "[CV]  batch_size=10000, dropout=0.7765338192021353, epochs=24, layer1=13, layer2=29, layer3=81, score=0.7440855992932169, total=   6.5s\n"
     ]
    },
    {
     "name": "stderr",
     "output_type": "stream",
     "text": [
      "[Parallel(n_jobs=1)]: Done   1 out of   1 | elapsed:    6.6s remaining:    0.0s\n",
      "[Parallel(n_jobs=1)]: Done   1 out of   1 | elapsed:    6.6s finished\n"
     ]
    },
    {
     "name": "stdout",
     "output_type": "stream",
     "text": [
      "Fitting 1 folds for each of 1 candidates, totalling 1 fits\n",
      "[CV] batch_size=5924, dropout=0.629900496028121, epochs=29, layer1=10, layer2=58, layer3=34 \n",
      "Epoch 1/29\n",
      "Epoch 2/29\n",
      "Epoch 3/29\n",
      "Epoch 4/29\n",
      "Epoch 5/29\n",
      "Epoch 6/29\n",
      "Epoch 7/29\n",
      "Epoch 8/29\n",
      "Epoch 9/29\n",
      "Epoch 10/29\n",
      "Epoch 11/29\n",
      "Epoch 12/29\n",
      "Epoch 13/29\n",
      "Epoch 14/29\n",
      "Epoch 15/29\n",
      "Epoch 16/29\n",
      "Epoch 17/29\n",
      "Epoch 18/29\n",
      "Epoch 19/29\n",
      "Epoch 20/29\n",
      "Epoch 21/29\n",
      "Epoch 22/29\n",
      "Epoch 23/29\n",
      "Epoch 24/29\n",
      "Epoch 25/29\n",
      "Epoch 26/29\n",
      "Epoch 27/29\n",
      "Epoch 28/29\n",
      "Epoch 29/29\n",
      "[CV]  batch_size=5924, dropout=0.629900496028121, epochs=29, layer1=10, layer2=58, layer3=34, score=0.7507658033973822, total=   9.9s\n"
     ]
    },
    {
     "name": "stderr",
     "output_type": "stream",
     "text": [
      "[Parallel(n_jobs=1)]: Done   1 out of   1 | elapsed:    9.9s remaining:    0.0s\n",
      "[Parallel(n_jobs=1)]: Done   1 out of   1 | elapsed:    9.9s finished\n"
     ]
    },
    {
     "name": "stdout",
     "output_type": "stream",
     "text": [
      "Fitting 1 folds for each of 1 candidates, totalling 1 fits\n",
      "[CV] batch_size=9142, dropout=0.5166423966850628, epochs=20, layer1=12, layer2=28, layer3=42 \n",
      "Epoch 1/20\n",
      "Epoch 2/20\n",
      "Epoch 3/20\n",
      "Epoch 4/20\n",
      "Epoch 5/20\n",
      "Epoch 6/20\n",
      "Epoch 7/20\n",
      "Epoch 8/20\n",
      "Epoch 9/20\n",
      "Epoch 10/20\n",
      "Epoch 11/20\n",
      "Epoch 12/20\n",
      "Epoch 13/20\n",
      "Epoch 14/20\n",
      "Epoch 15/20\n",
      "Epoch 16/20\n",
      "Epoch 17/20\n",
      "Epoch 18/20\n",
      "Epoch 19/20\n",
      "Epoch 20/20\n",
      "[CV]  batch_size=9142, dropout=0.5166423966850628, epochs=20, layer1=12, layer2=28, layer3=42, score=0.750741289844329, total=   6.1s\n"
     ]
    },
    {
     "name": "stderr",
     "output_type": "stream",
     "text": [
      "[Parallel(n_jobs=1)]: Done   1 out of   1 | elapsed:    6.2s remaining:    0.0s\n",
      "[Parallel(n_jobs=1)]: Done   1 out of   1 | elapsed:    6.2s finished\n"
     ]
    },
    {
     "name": "stdout",
     "output_type": "stream",
     "text": [
      "Fitting 1 folds for each of 1 candidates, totalling 1 fits\n",
      "[CV] batch_size=5630, dropout=0.6622499588708453, epochs=10, layer1=55, layer2=29, layer3=77 \n",
      "Epoch 1/10\n",
      "Epoch 2/10\n",
      "Epoch 3/10\n",
      "Epoch 4/10\n",
      "Epoch 5/10\n",
      "Epoch 6/10\n",
      "Epoch 7/10\n",
      "Epoch 8/10\n",
      "Epoch 9/10\n",
      "Epoch 10/10\n",
      "[CV]  batch_size=5630, dropout=0.6622499588708453, epochs=10, layer1=55, layer2=29, layer3=77, score=0.7473330129745316, total=   5.6s\n"
     ]
    },
    {
     "name": "stderr",
     "output_type": "stream",
     "text": [
      "[Parallel(n_jobs=1)]: Done   1 out of   1 | elapsed:    5.6s remaining:    0.0s\n",
      "[Parallel(n_jobs=1)]: Done   1 out of   1 | elapsed:    5.6s finished\n"
     ]
    },
    {
     "name": "stdout",
     "output_type": "stream",
     "text": [
      "Epoch 1/29\n",
      "Epoch 2/29\n",
      "Epoch 3/29\n",
      "Epoch 4/29\n",
      "Epoch 5/29\n",
      "Epoch 6/29\n",
      "Epoch 7/29\n",
      "Epoch 8/29\n",
      "Epoch 9/29\n",
      "Epoch 10/29\n",
      "Epoch 11/29\n",
      "Epoch 12/29\n",
      "Epoch 13/29\n",
      "Epoch 14/29\n",
      "Epoch 15/29\n",
      "Epoch 16/29\n",
      "Epoch 17/29\n",
      "Epoch 18/29\n",
      "Epoch 19/29\n",
      "Epoch 20/29\n",
      "Epoch 21/29\n",
      "Epoch 22/29\n",
      "Epoch 23/29\n",
      "Epoch 24/29\n",
      "Epoch 25/29\n",
      "Epoch 26/29\n",
      "Epoch 27/29\n",
      "Epoch 28/29\n",
      "Epoch 29/29\n"
     ]
    },
    {
     "data": {
      "text/plain": [
       "BayesSearchCV(cv=[([0, 1, 2, 3, 4, 5, 6, 7, 8, 9, 10, 11, 12, 13, 14, 15, 16, 17, 18, 19, 20, 21, 22, 23, 24, 25, 26, 27, 28, 29, 30, 31, 32, 33, 34, 35, 36, 37, 38, 39, 40, 41, 42, 43, 44, 45, 46, 47, 48, 49, 50, 51, 52, 53, 54, 55, 56, 57, 58, 59, 60, 61, 62, 63, 64, 65, 66, 67, 68, 69, 70, 71, 72, 73, 74, 75, ...4, 131835, 131836, 131837, 131838, 131839, 131840, 131841, 131842, 131843, 131844, 131845, 131846])],\n",
       "       error_score=0,\n",
       "       estimator=<keras.wrappers.scikit_learn.KerasClassifier object at 0x000002662FF046A0>,\n",
       "       fit_params=None, iid=True, n_iter=30, n_jobs=1, n_points=1,\n",
       "       optimizer_kwargs=None, pre_dispatch='2*n_jobs', random_state=42,\n",
       "       refit=True, return_train_score=True, scoring='f1',\n",
       "       search_spaces={'layer1': Integer(low=1, high=100), 'layer2': Integer(low=1, high=100), 'layer3': Integer(low=1, high=100), 'dropout': Real(low=0, high=1, prior='uniform', transform='identity'), 'epochs': Integer(low=5, high=50), 'batch_size': Integer(low=50, high=10000)},\n",
       "       verbose=5)"
      ]
     },
     "execution_count": 25,
     "metadata": {},
     "output_type": "execute_result"
    }
   ],
   "source": [
    "neural_network.fit(X_train_cv.values, Y_train_cv.values)"
   ]
  },
  {
   "cell_type": "code",
   "execution_count": 27,
   "metadata": {},
   "outputs": [
    {
     "data": {
      "text/plain": [
       "{'batch_size': 5924,\n",
       " 'dropout': 0.629900496028121,\n",
       " 'epochs': 29,\n",
       " 'layer1': 10,\n",
       " 'layer2': 58,\n",
       " 'layer3': 34}"
      ]
     },
     "execution_count": 27,
     "metadata": {},
     "output_type": "execute_result"
    }
   ],
   "source": [
    "neural_network.best_params_"
   ]
  },
  {
   "cell_type": "code",
   "execution_count": 37,
   "metadata": {},
   "outputs": [
    {
     "name": "stdout",
     "output_type": "stream",
     "text": [
      "accuracy: 0.8797924867460011\n",
      "precision: 0.7943632875903792\n",
      "recall: 0.7519135147214928\n",
      "f1: 0.7725557166023277\n",
      "--------------------------------------------------\n",
      "accuracy: 0.8807534763393339\n",
      "precision: 0.7660174269605331\n",
      "recall: 0.6969802961408418\n",
      "f1: 0.729869971308223\n"
     ]
    }
   ],
   "source": [
    "get_train_test_meassures(neural_network, X_train_cv, Y_train_cv, X_test, Y_test)"
   ]
  },
  {
   "cell_type": "code",
   "execution_count": 51,
   "metadata": {},
   "outputs": [
    {
     "name": "stdout",
     "output_type": "stream",
     "text": [
      "_________________________________________________________________\n",
      "Layer (type)                 Output Shape              Param #   \n",
      "=================================================================\n",
      "embedding_56 (Embedding)     (None, 6, 6)              36        \n",
      "_________________________________________________________________\n",
      "conv1d_7 (Conv1D)            (None, 4, 10)             190       \n",
      "_________________________________________________________________\n",
      "max_pooling1d_5 (MaxPooling1 (None, 2, 10)             0         \n",
      "_________________________________________________________________\n",
      "flatten_40 (Flatten)         (None, 20)                0         \n",
      "_________________________________________________________________\n",
      "dense_117 (Dense)            (None, 1)                 21        \n",
      "=================================================================\n",
      "Total params: 247\n",
      "Trainable params: 247\n",
      "Non-trainable params: 0\n",
      "_________________________________________________________________\n"
     ]
    }
   ],
   "source": [
    "from keras.layers.core import Dense, Dropout, Activation, Flatten, Reshape\n",
    "from keras.models import Sequential\n",
    "from keras.layers import LSTM, Embedding, Conv1D, MaxPool1D\n",
    "\n",
    "model = Sequential()\n",
    "model.add(Embedding(input_dim=6, output_dim=6, input_length=6))\n",
    "model.add(Conv1D(filters=10, kernel_size=3))\n",
    "model.add(MaxPool1D(2))\n",
    "model.add(Flatten())\n",
    "model.add(Dense(1, activation='sigmoid'))\n",
    "model.compile(optimizer='adam', loss='binary_crossentropy', metrics=[\"acc\",f1])\n",
    "model.summary()"
   ]
  },
  {
   "cell_type": "code",
   "execution_count": 52,
   "metadata": {},
   "outputs": [
    {
     "name": "stdout",
     "output_type": "stream",
     "text": [
      "Train on 108621 samples, validate on 23226 samples\n",
      "Epoch 1/10\n",
      "108621/108621 [==============================] - 5s 50us/step - loss: 0.3412 - acc: 0.8718 - f1: 0.7510 - val_loss: 0.2978 - val_acc: 0.8856 - val_f1: 0.6988\n",
      "Epoch 2/10\n",
      "108621/108621 [==============================] - 3s 29us/step - loss: 0.3118 - acc: 0.8788 - f1: 0.7690 - val_loss: 0.2967 - val_acc: 0.8876 - val_f1: 0.7008\n",
      "Epoch 3/10\n",
      "108621/108621 [==============================] - 3s 29us/step - loss: 0.3107 - acc: 0.8788 - f1: 0.7695 - val_loss: 0.2977 - val_acc: 0.8862 - val_f1: 0.7007\n",
      "Epoch 4/10\n",
      "108621/108621 [==============================] - 3s 29us/step - loss: 0.3104 - acc: 0.8792 - f1: 0.7693 - val_loss: 0.2976 - val_acc: 0.8873 - val_f1: 0.7007\n",
      "Epoch 5/10\n",
      "108621/108621 [==============================] - 3s 29us/step - loss: 0.3103 - acc: 0.8789 - f1: 0.7685 - val_loss: 0.2972 - val_acc: 0.8875 - val_f1: 0.6995\n",
      "Epoch 6/10\n",
      "108621/108621 [==============================] - 3s 29us/step - loss: 0.3101 - acc: 0.8792 - f1: 0.7682 - val_loss: 0.2986 - val_acc: 0.8862 - val_f1: 0.7026\n",
      "Epoch 7/10\n",
      "108621/108621 [==============================] - 3s 29us/step - loss: 0.3099 - acc: 0.8790 - f1: 0.7682 - val_loss: 0.2974 - val_acc: 0.8869 - val_f1: 0.6988\n",
      "Epoch 8/10\n",
      "108621/108621 [==============================] - 3s 29us/step - loss: 0.3098 - acc: 0.8789 - f1: 0.7686 - val_loss: 0.2982 - val_acc: 0.8867 - val_f1: 0.7025\n",
      "Epoch 9/10\n",
      "108621/108621 [==============================] - 3s 29us/step - loss: 0.3097 - acc: 0.8791 - f1: 0.7684 - val_loss: 0.2987 - val_acc: 0.8866 - val_f1: 0.7034\n",
      "Epoch 10/10\n",
      "108621/108621 [==============================] - 3s 29us/step - loss: 0.3097 - acc: 0.8789 - f1: 0.7680 - val_loss: 0.2971 - val_acc: 0.8869 - val_f1: 0.6981\n"
     ]
    },
    {
     "data": {
      "text/plain": [
       "<keras.callbacks.History at 0x266787477f0>"
      ]
     },
     "execution_count": 52,
     "metadata": {},
     "output_type": "execute_result"
    }
   ],
   "source": [
    "model.fit(X_train, Y_train, batch_size=128, validation_data=(X_cv, Y_cv), epochs=10)"
   ]
  },
  {
   "cell_type": "code",
   "execution_count": 56,
   "metadata": {},
   "outputs": [],
   "source": [
    "def get_train_test_meassures2(model, X_train, Y_train, X_test, Y_test):\n",
    "    train_preds = model.predict_classes(X_train)\n",
    "    print(\"accuracy:\", accuracy_score(Y_train, train_preds))\n",
    "    print(\"precision:\", precision_score(Y_train, train_preds))\n",
    "    print(\"recall:\", recall_score(Y_train, train_preds))\n",
    "    print(\"f1:\", f1_score(Y_train, train_preds))\n",
    "    print(\"--------------------------------------------------\")\n",
    "    test_preds = model.predict_classes(X_test)\n",
    "    print(\"accuracy:\", accuracy_score(Y_test, test_preds))\n",
    "    print(\"precision:\", precision_score(Y_test, test_preds))\n",
    "    print(\"recall:\", recall_score(Y_test, test_preds))\n",
    "    print(\"f1:\", f1_score(Y_test, test_preds))"
   ]
  },
  {
   "cell_type": "code",
   "execution_count": 57,
   "metadata": {},
   "outputs": [
    {
     "name": "stdout",
     "output_type": "stream",
     "text": [
      "accuracy: 0.8804523424878837\n",
      "precision: 0.8159455027122493\n",
      "recall: 0.7227219397731717\n",
      "f1: 0.7665096435872367\n",
      "--------------------------------------------------\n",
      "accuracy: 0.8809421149078366\n",
      "precision: 0.7867089480215084\n",
      "recall: 0.6652675760755509\n",
      "f1: 0.7209096651926722\n"
     ]
    }
   ],
   "source": [
    "get_train_test_meassures2(model, X_train_cv, Y_train_cv, X_test, Y_test)"
   ]
  },
  {
   "cell_type": "code",
   "execution_count": null,
   "metadata": {},
   "outputs": [],
   "source": []
  }
 ],
 "metadata": {
  "kernelspec": {
   "display_name": "Python 3",
   "language": "python",
   "name": "python3"
  },
  "language_info": {
   "codemirror_mode": {
    "name": "ipython",
    "version": 3
   },
   "file_extension": ".py",
   "mimetype": "text/x-python",
   "name": "python",
   "nbconvert_exporter": "python",
   "pygments_lexer": "ipython3",
   "version": "3.6.8"
  },
  "varInspector": {
   "cols": {
    "lenName": 16,
    "lenType": 16,
    "lenVar": 40
   },
   "kernels_config": {
    "python": {
     "delete_cmd_postfix": "",
     "delete_cmd_prefix": "del ",
     "library": "var_list.py",
     "varRefreshCmd": "print(var_dic_list())"
    },
    "r": {
     "delete_cmd_postfix": ") ",
     "delete_cmd_prefix": "rm(",
     "library": "var_list.r",
     "varRefreshCmd": "cat(var_dic_list()) "
    }
   },
   "types_to_exclude": [
    "module",
    "function",
    "builtin_function_or_method",
    "instance",
    "_Feature"
   ],
   "window_display": false
  }
 },
 "nbformat": 4,
 "nbformat_minor": 2
}
