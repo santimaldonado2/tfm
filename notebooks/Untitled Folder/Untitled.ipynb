{
 "cells": [
  {
   "cell_type": "code",
   "execution_count": 1,
   "metadata": {},
   "outputs": [],
   "source": [
    "import pandas as pd\n",
    "import numpy as np\n",
    "from plotnine import *\n",
    "%matplotlib inline"
   ]
  },
  {
   "cell_type": "code",
   "execution_count": 2,
   "metadata": {},
   "outputs": [],
   "source": [
    "data_lag_n = pd.read_csv(\"../../data/processed/pagos_por_unidad.csv\",\n",
    "                  dtype = {\n",
    "                                \"unidad_id\": \"object\",\n",
    "                            },\n",
    "                  parse_dates = [\"expensa_mes_pago\"])"
   ]
  },
  {
   "cell_type": "code",
   "execution_count": 3,
   "metadata": {},
   "outputs": [],
   "source": [
    "data = pd.read_csv(\"../../data/processed/expensas_full_processed_vis_nona.csv\",\n",
    "                  dtype = {\n",
    "                                \"expensa_id\": \"object\",\n",
    "                                \"unidad_id\": \"object\",\n",
    "                                \"consorcio_id\": \"object\",\n",
    "                                \"expensa_mes\":\"object\",\n",
    "                            },\n",
    "                  parse_dates = [\"expensa_fecha\", \"expensa_mes_pago\", \"expensa_mes_pago_anterior\"])"
   ]
  },
  {
   "cell_type": "code",
   "execution_count": 4,
   "metadata": {},
   "outputs": [],
   "source": [
    "final_data = pd.merge(\n",
    "    data,\n",
    "    data_lag_n,\n",
    "    left_on = [\"unidad_id\", \"expensa_mes_pago\"],\n",
    "    right_on = [\"unidad_id\", \"expensa_mes_pago\"],\n",
    "    how = \"inner\"\n",
    ")"
   ]
  },
  {
   "cell_type": "markdown",
   "metadata": {},
   "source": [
    "## Final Data dimensions"
   ]
  },
  {
   "cell_type": "code",
   "execution_count": 38,
   "metadata": {},
   "outputs": [
    {
     "data": {
      "text/plain": [
       "(153335, 25)"
      ]
     },
     "execution_count": 38,
     "metadata": {},
     "output_type": "execute_result"
    }
   ],
   "source": [
    "final_data.shape"
   ]
  },
  {
   "cell_type": "code",
   "execution_count": 39,
   "metadata": {},
   "outputs": [
    {
     "data": {
      "text/plain": [
       "0.18753057031988782"
      ]
     },
     "execution_count": 39,
     "metadata": {},
     "output_type": "execute_result"
    }
   ],
   "source": [
    "final_data.target.mean()"
   ]
  },
  {
   "cell_type": "code",
   "execution_count": 43,
   "metadata": {},
   "outputs": [],
   "source": [
    "final_data = final_data.dropna()"
   ]
  },
  {
   "cell_type": "markdown",
   "metadata": {},
   "source": [
    "## Data preprocessing"
   ]
  },
  {
   "cell_type": "code",
   "execution_count": 44,
   "metadata": {},
   "outputs": [],
   "source": [
    "final_data.columns = ['expensa_id', 'consorcio_id', 'consorcio_nombre',\n",
    "       'consorcio_cantidad_expensas', 'consorcio_prop_impagos',\n",
    "       'consorcio_prop_efectivo', 'unidad_id', 'unidad_denominacion',\n",
    "       'unidad_tipo', 'expensa_proporcion',\n",
    "       'expensa_interes_primer_vencimiento',\n",
    "       'expensa_ineteres_segundo_vencimiento', 'expensa_mes', 'expensa_fecha',\n",
    "       'expensa_mes_pago', 'pago_metodo', 'target_x',\n",
    "       'expensa_mes_pago_anterior', 'pago_metodo_lag_6', 'pago_metodo_lag_5',\n",
    "       'pago_metodo_lag_4', 'pago_metodo_lag_3', 'pago_metodo_lag_2',\n",
    "       'pago_metodo_lag_1', 'target']"
   ]
  },
  {
   "cell_type": "code",
   "execution_count": 45,
   "metadata": {},
   "outputs": [],
   "source": [
    "X_columns = ['consorcio_cantidad_expensas', 'consorcio_prop_impagos',\n",
    "       'consorcio_prop_efectivo',\n",
    "       'unidad_tipo', 'expensa_proporcion',\n",
    "       'expensa_interes_primer_vencimiento',\n",
    "       'expensa_ineteres_segundo_vencimiento', 'expensa_mes',\n",
    "       'pago_metodo_lag_3', 'pago_metodo_lag_2',\n",
    "       'pago_metodo_lag_1']\n",
    "\n",
    "final_data = final_data.sort_values(\"expensa_mes_pago\").reset_index().drop(columns=\"index\")\n",
    "min_cv_id = final_data.loc[final_data.expensa_mes_pago == \"2018-06-01\", \"expensa_mes_pago\"].idxmin()\n",
    "min_test_id = final_data.loc[final_data.expensa_mes_pago == \"2018-09-01\", \"expensa_mes_pago\"].idxmin()"
   ]
  },
  {
   "cell_type": "code",
   "execution_count": 46,
   "metadata": {},
   "outputs": [],
   "source": [
    "from sklearn.metrics import accuracy_score, precision_score, recall_score, f1_score\n",
    "def get_train_test_meassures(model, X_train, Y_train, X_test, Y_test):\n",
    "    train_preds = model.predict(X_train)\n",
    "    print(\"accuracy:\", accuracy_score(Y_train, train_preds))\n",
    "    print(\"precision:\", precision_score(Y_train, train_preds))\n",
    "    print(\"recall:\", recall_score(Y_train, train_preds))\n",
    "    print(\"f1:\", f1_score(Y_train, train_preds))\n",
    "    print(\"--------------------------------------------------\")\n",
    "    test_preds = model.predict(X_test)\n",
    "    print(\"accuracy:\", accuracy_score(Y_test, test_preds))\n",
    "    print(\"precision:\", precision_score(Y_test, test_preds))\n",
    "    print(\"recall:\", recall_score(Y_test, test_preds))\n",
    "    print(\"f1:\", f1_score(Y_test, test_preds))"
   ]
  },
  {
   "cell_type": "code",
   "execution_count": 47,
   "metadata": {},
   "outputs": [],
   "source": [
    "def get_train_test_split(X_columns):\n",
    "    X_train = pd.get_dummies(final_data.loc[0:min_test_id, X_columns], drop_first=True)\n",
    "    X_test = pd.get_dummies(final_data.loc[min_test_id:, X_columns], drop_first=True)\n",
    "    Y_train = final_data.loc[0:min_test_id, \"target\"]\n",
    "    Y_test = final_data.loc[min_test_id:, \"target\"]\n",
    "      \n",
    "    drop_test_columns = [column for column in X_test.columns if column not in X_train.columns]\n",
    "    X_test = X_test.drop(columns=drop_test_columns)\n",
    "\n",
    "    for column in [column for column in X_train.columns if column not in X_test.columns]:\n",
    "        X_test[column] = 0\n",
    "    \n",
    "    X_test = X_test[X_train.columns]\n",
    "    print(X_train.shape, Y_train.shape)\n",
    "    print(X_test.shape, Y_test.shape)\n",
    "    return X_train, Y_train, X_test, Y_test"
   ]
  },
  {
   "cell_type": "code",
   "execution_count": 48,
   "metadata": {},
   "outputs": [
    {
     "name": "stdout",
     "output_type": "stream",
     "text": [
      "(119793, 37) (119793,)\n",
      "(33447, 37) (33447,)\n"
     ]
    }
   ],
   "source": [
    " X_train, Y_train, X_test, Y_test = get_train_test_split(X_columns)"
   ]
  },
  {
   "cell_type": "code",
   "execution_count": 49,
   "metadata": {},
   "outputs": [
    {
     "data": {
      "text/plain": [
       "Index(['consorcio_cantidad_expensas', 'consorcio_prop_impagos',\n",
       "       'consorcio_prop_efectivo', 'expensa_proporcion',\n",
       "       'expensa_interes_primer_vencimiento',\n",
       "       'expensa_ineteres_segundo_vencimiento', 'unidad_tipo_Casa',\n",
       "       'unidad_tipo_Cochera', 'unidad_tipo_Departamento', 'unidad_tipo_Duplex',\n",
       "       'unidad_tipo_Local', 'unidad_tipo_Lote', 'unidad_tipo_Oficina',\n",
       "       'expensa_mes_02', 'expensa_mes_03', 'expensa_mes_04', 'expensa_mes_05',\n",
       "       'expensa_mes_06', 'expensa_mes_07', 'expensa_mes_08', 'expensa_mes_09',\n",
       "       'expensa_mes_10', 'expensa_mes_11', 'expensa_mes_12',\n",
       "       'pago_metodo_lag_3_EntePago', 'pago_metodo_lag_3_Impago',\n",
       "       'pago_metodo_lag_3_Internet', 'pago_metodo_lag_3_NS/NC',\n",
       "       'pago_metodo_lag_2_EntePago', 'pago_metodo_lag_2_Impago',\n",
       "       'pago_metodo_lag_2_Internet', 'pago_metodo_lag_2_NS/NC',\n",
       "       'pago_metodo_lag_1_EntePago', 'pago_metodo_lag_1_Impago',\n",
       "       'pago_metodo_lag_1_Internet', 'pago_metodo_lag_1_NS/NC',\n",
       "       'pago_metodo_lag_1_Otro'],\n",
       "      dtype='object')"
      ]
     },
     "execution_count": 49,
     "metadata": {},
     "output_type": "execute_result"
    }
   ],
   "source": [
    "X_train.columns"
   ]
  },
  {
   "cell_type": "markdown",
   "metadata": {},
   "source": [
    "## Naive Model"
   ]
  },
  {
   "cell_type": "code",
   "execution_count": 50,
   "metadata": {},
   "outputs": [
    {
     "name": "stdout",
     "output_type": "stream",
     "text": [
      "accuracy: 0.8628300485003297\n",
      "precision: 0.6457750640141816\n",
      "recall: 0.6878278017874376\n",
      "f1: 0.6661384046487058\n",
      "--------------------------------------------------\n",
      "accuracy: 0.860854486202051\n",
      "precision: 0.5247076574877405\n",
      "recall: 0.565907241659886\n",
      "f1: 0.544529262086514\n"
     ]
    }
   ],
   "source": [
    "from sklearn.linear_model import LogisticRegression\n",
    "logReg = LogisticRegression(\n",
    "    C = 1000000,\n",
    "    solver = \"lbfgs\",\n",
    "    penalty = \"l2\",\n",
    "    max_iter = 100,\n",
    ")\n",
    "logReg.fit(X_train[[\"pago_metodo_lag_1_Impago\"]], Y_train) \n",
    "get_train_test_meassures(logReg, X_train[[\"pago_metodo_lag_1_Impago\"]], Y_train, X_test[[\"pago_metodo_lag_1_Impago\"]], Y_test)"
   ]
  },
  {
   "cell_type": "markdown",
   "metadata": {},
   "source": [
    "## Logistic Regression"
   ]
  },
  {
   "cell_type": "code",
   "execution_count": 51,
   "metadata": {},
   "outputs": [
    {
     "name": "stdout",
     "output_type": "stream",
     "text": [
      "accuracy: 0.8807359361565367\n",
      "precision: 0.7432473753949649\n",
      "recall: 0.6119246423026895\n",
      "f1: 0.671223104360833\n",
      "--------------------------------------------------\n",
      "accuracy: 0.8807964839895954\n",
      "precision: 0.6132098464538143\n",
      "recall: 0.5117982099267697\n",
      "f1: 0.557933252023506\n"
     ]
    },
    {
     "name": "stderr",
     "output_type": "stream",
     "text": [
      "C:\\Anaconda3\\lib\\site-packages\\sklearn\\linear_model\\logistic.py:758: ConvergenceWarning: lbfgs failed to converge. Increase the number of iterations.\n",
      "  \"of iterations.\", ConvergenceWarning)\n"
     ]
    }
   ],
   "source": [
    "from sklearn.linear_model import LogisticRegression\n",
    "logReg = LogisticRegression(\n",
    "    C = 1000000,\n",
    "    solver = \"lbfgs\",\n",
    "    penalty = \"l2\",\n",
    "    max_iter = 100,\n",
    ")\n",
    "logReg.fit(X_train, Y_train) \n",
    "get_train_test_meassures(logReg, X_train , Y_train, X_test, Y_test)"
   ]
  },
  {
   "cell_type": "markdown",
   "metadata": {},
   "source": [
    "## Random Forest"
   ]
  },
  {
   "cell_type": "code",
   "execution_count": 54,
   "metadata": {},
   "outputs": [],
   "source": [
    "from sklearn.ensemble import RandomForestClassifier\n",
    "from sklearn.model_selection import GridSearchCV\n",
    "\n",
    "param_grid = {\n",
    "    \"n_estimators\": [10, 100, 500],\n",
    "    \"max_depth\": [2,4,6],\n",
    "    \"min_samples_split\": [0.2, 0.5, 0.8],    \n",
    "}\n",
    "\n",
    "rf = GridSearchCV(\n",
    "    estimator = RandomForestClassifier(max_features=\"sqrt\"),\n",
    "    param_grid = param_grid,\n",
    "    scoring = 'f1',\n",
    "    n_jobs = 1,\n",
    "    cv = [(list(range(0,min_cv_id)), list(range(min_cv_id,min_test_id)))],\n",
    "    return_train_score = True,\n",
    "    error_score = 0,\n",
    "    verbose = 5\n",
    ")"
   ]
  },
  {
   "cell_type": "code",
   "execution_count": 56,
   "metadata": {},
   "outputs": [
    {
     "name": "stdout",
     "output_type": "stream",
     "text": [
      "Fitting 1 folds for each of 27 candidates, totalling 27 fits\n",
      "[CV] max_depth=2, min_samples_split=0.2, n_estimators=10 .............\n"
     ]
    },
    {
     "name": "stderr",
     "output_type": "stream",
     "text": [
      "[Parallel(n_jobs=1)]: Using backend SequentialBackend with 1 concurrent workers.\n",
      "C:\\Anaconda3\\lib\\site-packages\\sklearn\\metrics\\classification.py:1143: UndefinedMetricWarning: F-score is ill-defined and being set to 0.0 due to no predicted samples.\n",
      "  'precision', 'predicted', average, warn_for)\n",
      "C:\\Anaconda3\\lib\\site-packages\\sklearn\\metrics\\classification.py:1143: UndefinedMetricWarning: F-score is ill-defined and being set to 0.0 due to no predicted samples.\n",
      "  'precision', 'predicted', average, warn_for)\n",
      "[Parallel(n_jobs=1)]: Done   1 out of   1 | elapsed:    0.4s remaining:    0.0s\n"
     ]
    },
    {
     "name": "stdout",
     "output_type": "stream",
     "text": [
      "[CV]  max_depth=2, min_samples_split=0.2, n_estimators=10, score=0.0, total=   0.3s\n",
      "[CV] max_depth=2, min_samples_split=0.2, n_estimators=100 ............\n",
      "[CV]  max_depth=2, min_samples_split=0.2, n_estimators=100, score=0.26108048511576626, total=   2.8s\n",
      "[CV] max_depth=2, min_samples_split=0.2, n_estimators=500 ............\n"
     ]
    },
    {
     "name": "stderr",
     "output_type": "stream",
     "text": [
      "[Parallel(n_jobs=1)]: Done   2 out of   2 | elapsed:    3.9s remaining:    0.0s\n"
     ]
    },
    {
     "name": "stdout",
     "output_type": "stream",
     "text": [
      "[CV]  max_depth=2, min_samples_split=0.2, n_estimators=500, score=0.5665482834432606, total=  13.3s\n",
      "[CV] max_depth=2, min_samples_split=0.5, n_estimators=10 .............\n"
     ]
    },
    {
     "name": "stderr",
     "output_type": "stream",
     "text": [
      "[Parallel(n_jobs=1)]: Done   3 out of   3 | elapsed:   20.2s remaining:    0.0s\n",
      "C:\\Anaconda3\\lib\\site-packages\\sklearn\\metrics\\classification.py:1143: UndefinedMetricWarning: F-score is ill-defined and being set to 0.0 due to no predicted samples.\n",
      "  'precision', 'predicted', average, warn_for)\n",
      "C:\\Anaconda3\\lib\\site-packages\\sklearn\\metrics\\classification.py:1143: UndefinedMetricWarning: F-score is ill-defined and being set to 0.0 due to no predicted samples.\n",
      "  'precision', 'predicted', average, warn_for)\n",
      "[Parallel(n_jobs=1)]: Done   4 out of   4 | elapsed:   20.6s remaining:    0.0s\n"
     ]
    },
    {
     "name": "stdout",
     "output_type": "stream",
     "text": [
      "[CV]  max_depth=2, min_samples_split=0.5, n_estimators=10, score=0.0, total=   0.2s\n",
      "[CV] max_depth=2, min_samples_split=0.5, n_estimators=100 ............\n"
     ]
    },
    {
     "name": "stderr",
     "output_type": "stream",
     "text": [
      "C:\\Anaconda3\\lib\\site-packages\\sklearn\\metrics\\classification.py:1143: UndefinedMetricWarning: F-score is ill-defined and being set to 0.0 due to no predicted samples.\n",
      "  'precision', 'predicted', average, warn_for)\n",
      "C:\\Anaconda3\\lib\\site-packages\\sklearn\\metrics\\classification.py:1143: UndefinedMetricWarning: F-score is ill-defined and being set to 0.0 due to no predicted samples.\n",
      "  'precision', 'predicted', average, warn_for)\n"
     ]
    },
    {
     "name": "stdout",
     "output_type": "stream",
     "text": [
      "[CV]  max_depth=2, min_samples_split=0.5, n_estimators=100, score=0.0, total=   2.1s\n",
      "[CV] max_depth=2, min_samples_split=0.5, n_estimators=500 ............\n"
     ]
    },
    {
     "name": "stderr",
     "output_type": "stream",
     "text": [
      "C:\\Anaconda3\\lib\\site-packages\\sklearn\\metrics\\classification.py:1143: UndefinedMetricWarning: F-score is ill-defined and being set to 0.0 due to no predicted samples.\n",
      "  'precision', 'predicted', average, warn_for)\n",
      "C:\\Anaconda3\\lib\\site-packages\\sklearn\\metrics\\classification.py:1143: UndefinedMetricWarning: F-score is ill-defined and being set to 0.0 due to no predicted samples.\n",
      "  'precision', 'predicted', average, warn_for)\n",
      "C:\\Anaconda3\\lib\\site-packages\\sklearn\\metrics\\classification.py:1143: UndefinedMetricWarning: F-score is ill-defined and being set to 0.0 due to no predicted samples.\n",
      "  'precision', 'predicted', average, warn_for)\n"
     ]
    },
    {
     "name": "stdout",
     "output_type": "stream",
     "text": [
      "[CV]  max_depth=2, min_samples_split=0.5, n_estimators=500, score=0.0, total=  10.2s\n",
      "[CV] max_depth=2, min_samples_split=0.8, n_estimators=10 .............\n"
     ]
    },
    {
     "name": "stderr",
     "output_type": "stream",
     "text": [
      "C:\\Anaconda3\\lib\\site-packages\\sklearn\\metrics\\classification.py:1143: UndefinedMetricWarning: F-score is ill-defined and being set to 0.0 due to no predicted samples.\n",
      "  'precision', 'predicted', average, warn_for)\n"
     ]
    },
    {
     "name": "stdout",
     "output_type": "stream",
     "text": [
      "[CV]  max_depth=2, min_samples_split=0.8, n_estimators=10, score=0.0, total=   0.0s\n",
      "[CV] max_depth=2, min_samples_split=0.8, n_estimators=100 ............\n"
     ]
    },
    {
     "name": "stderr",
     "output_type": "stream",
     "text": [
      "C:\\Anaconda3\\lib\\site-packages\\sklearn\\metrics\\classification.py:1143: UndefinedMetricWarning: F-score is ill-defined and being set to 0.0 due to no predicted samples.\n",
      "  'precision', 'predicted', average, warn_for)\n",
      "C:\\Anaconda3\\lib\\site-packages\\sklearn\\metrics\\classification.py:1143: UndefinedMetricWarning: F-score is ill-defined and being set to 0.0 due to no predicted samples.\n",
      "  'precision', 'predicted', average, warn_for)\n"
     ]
    },
    {
     "name": "stdout",
     "output_type": "stream",
     "text": [
      "[CV]  max_depth=2, min_samples_split=0.8, n_estimators=100, score=0.0, total=   1.0s\n",
      "[CV] max_depth=2, min_samples_split=0.8, n_estimators=500 ............\n"
     ]
    },
    {
     "name": "stderr",
     "output_type": "stream",
     "text": [
      "C:\\Anaconda3\\lib\\site-packages\\sklearn\\metrics\\classification.py:1143: UndefinedMetricWarning: F-score is ill-defined and being set to 0.0 due to no predicted samples.\n",
      "  'precision', 'predicted', average, warn_for)\n",
      "C:\\Anaconda3\\lib\\site-packages\\sklearn\\metrics\\classification.py:1143: UndefinedMetricWarning: F-score is ill-defined and being set to 0.0 due to no predicted samples.\n",
      "  'precision', 'predicted', average, warn_for)\n"
     ]
    },
    {
     "name": "stdout",
     "output_type": "stream",
     "text": [
      "[CV]  max_depth=2, min_samples_split=0.8, n_estimators=500, score=0.0, total=   5.0s\n",
      "[CV] max_depth=4, min_samples_split=0.2, n_estimators=10 .............\n",
      "[CV]  max_depth=4, min_samples_split=0.2, n_estimators=10, score=0.591849935316947, total=   0.4s\n",
      "[CV] max_depth=4, min_samples_split=0.2, n_estimators=100 ............\n",
      "[CV]  max_depth=4, min_samples_split=0.2, n_estimators=100, score=0.5995518565941101, total=   3.4s\n",
      "[CV] max_depth=4, min_samples_split=0.2, n_estimators=500 ............\n",
      "[CV]  max_depth=4, min_samples_split=0.2, n_estimators=500, score=0.5899444988573295, total=  17.3s\n",
      "[CV] max_depth=4, min_samples_split=0.5, n_estimators=10 .............\n"
     ]
    },
    {
     "name": "stderr",
     "output_type": "stream",
     "text": [
      "C:\\Anaconda3\\lib\\site-packages\\sklearn\\metrics\\classification.py:1143: UndefinedMetricWarning: F-score is ill-defined and being set to 0.0 due to no predicted samples.\n",
      "  'precision', 'predicted', average, warn_for)\n",
      "C:\\Anaconda3\\lib\\site-packages\\sklearn\\metrics\\classification.py:1143: UndefinedMetricWarning: F-score is ill-defined and being set to 0.0 due to no predicted samples.\n",
      "  'precision', 'predicted', average, warn_for)\n"
     ]
    },
    {
     "name": "stdout",
     "output_type": "stream",
     "text": [
      "[CV]  max_depth=4, min_samples_split=0.5, n_estimators=10, score=0.0, total=   0.2s\n",
      "[CV] max_depth=4, min_samples_split=0.5, n_estimators=100 ............\n"
     ]
    },
    {
     "name": "stderr",
     "output_type": "stream",
     "text": [
      "C:\\Anaconda3\\lib\\site-packages\\sklearn\\metrics\\classification.py:1143: UndefinedMetricWarning: F-score is ill-defined and being set to 0.0 due to no predicted samples.\n",
      "  'precision', 'predicted', average, warn_for)\n",
      "C:\\Anaconda3\\lib\\site-packages\\sklearn\\metrics\\classification.py:1143: UndefinedMetricWarning: F-score is ill-defined and being set to 0.0 due to no predicted samples.\n",
      "  'precision', 'predicted', average, warn_for)\n"
     ]
    },
    {
     "name": "stdout",
     "output_type": "stream",
     "text": [
      "[CV]  max_depth=4, min_samples_split=0.5, n_estimators=100, score=0.0, total=   2.1s\n",
      "[CV] max_depth=4, min_samples_split=0.5, n_estimators=500 ............\n"
     ]
    },
    {
     "name": "stderr",
     "output_type": "stream",
     "text": [
      "C:\\Anaconda3\\lib\\site-packages\\sklearn\\metrics\\classification.py:1143: UndefinedMetricWarning: F-score is ill-defined and being set to 0.0 due to no predicted samples.\n",
      "  'precision', 'predicted', average, warn_for)\n",
      "C:\\Anaconda3\\lib\\site-packages\\sklearn\\metrics\\classification.py:1143: UndefinedMetricWarning: F-score is ill-defined and being set to 0.0 due to no predicted samples.\n",
      "  'precision', 'predicted', average, warn_for)\n",
      "C:\\Anaconda3\\lib\\site-packages\\sklearn\\metrics\\classification.py:1143: UndefinedMetricWarning: F-score is ill-defined and being set to 0.0 due to no predicted samples.\n",
      "  'precision', 'predicted', average, warn_for)\n"
     ]
    },
    {
     "name": "stdout",
     "output_type": "stream",
     "text": [
      "[CV]  max_depth=4, min_samples_split=0.5, n_estimators=500, score=0.0, total=  10.2s\n",
      "[CV] max_depth=4, min_samples_split=0.8, n_estimators=10 .............\n"
     ]
    },
    {
     "name": "stderr",
     "output_type": "stream",
     "text": [
      "C:\\Anaconda3\\lib\\site-packages\\sklearn\\metrics\\classification.py:1143: UndefinedMetricWarning: F-score is ill-defined and being set to 0.0 due to no predicted samples.\n",
      "  'precision', 'predicted', average, warn_for)\n"
     ]
    },
    {
     "name": "stdout",
     "output_type": "stream",
     "text": [
      "[CV]  max_depth=4, min_samples_split=0.8, n_estimators=10, score=0.0, total=   0.1s\n",
      "[CV] max_depth=4, min_samples_split=0.8, n_estimators=100 ............\n"
     ]
    },
    {
     "name": "stderr",
     "output_type": "stream",
     "text": [
      "C:\\Anaconda3\\lib\\site-packages\\sklearn\\metrics\\classification.py:1143: UndefinedMetricWarning: F-score is ill-defined and being set to 0.0 due to no predicted samples.\n",
      "  'precision', 'predicted', average, warn_for)\n",
      "C:\\Anaconda3\\lib\\site-packages\\sklearn\\metrics\\classification.py:1143: UndefinedMetricWarning: F-score is ill-defined and being set to 0.0 due to no predicted samples.\n",
      "  'precision', 'predicted', average, warn_for)\n"
     ]
    },
    {
     "name": "stdout",
     "output_type": "stream",
     "text": [
      "[CV]  max_depth=4, min_samples_split=0.8, n_estimators=100, score=0.0, total=   1.0s\n",
      "[CV] max_depth=4, min_samples_split=0.8, n_estimators=500 ............\n"
     ]
    },
    {
     "name": "stderr",
     "output_type": "stream",
     "text": [
      "C:\\Anaconda3\\lib\\site-packages\\sklearn\\metrics\\classification.py:1143: UndefinedMetricWarning: F-score is ill-defined and being set to 0.0 due to no predicted samples.\n",
      "  'precision', 'predicted', average, warn_for)\n",
      "C:\\Anaconda3\\lib\\site-packages\\sklearn\\metrics\\classification.py:1143: UndefinedMetricWarning: F-score is ill-defined and being set to 0.0 due to no predicted samples.\n",
      "  'precision', 'predicted', average, warn_for)\n"
     ]
    },
    {
     "name": "stdout",
     "output_type": "stream",
     "text": [
      "[CV]  max_depth=4, min_samples_split=0.8, n_estimators=500, score=0.0, total=   5.4s\n",
      "[CV] max_depth=6, min_samples_split=0.2, n_estimators=10 .............\n",
      "[CV]  max_depth=6, min_samples_split=0.2, n_estimators=10, score=0.5971848805946544, total=   0.4s\n",
      "[CV] max_depth=6, min_samples_split=0.2, n_estimators=100 ............\n",
      "[CV]  max_depth=6, min_samples_split=0.2, n_estimators=100, score=0.5936890045543266, total=   3.7s\n",
      "[CV] max_depth=6, min_samples_split=0.2, n_estimators=500 ............\n",
      "[CV]  max_depth=6, min_samples_split=0.2, n_estimators=500, score=0.592085979482169, total=  21.3s\n",
      "[CV] max_depth=6, min_samples_split=0.5, n_estimators=10 .............\n"
     ]
    },
    {
     "name": "stderr",
     "output_type": "stream",
     "text": [
      "C:\\Anaconda3\\lib\\site-packages\\sklearn\\metrics\\classification.py:1143: UndefinedMetricWarning: F-score is ill-defined and being set to 0.0 due to no predicted samples.\n",
      "  'precision', 'predicted', average, warn_for)\n",
      "C:\\Anaconda3\\lib\\site-packages\\sklearn\\metrics\\classification.py:1143: UndefinedMetricWarning: F-score is ill-defined and being set to 0.0 due to no predicted samples.\n",
      "  'precision', 'predicted', average, warn_for)\n"
     ]
    },
    {
     "name": "stdout",
     "output_type": "stream",
     "text": [
      "[CV]  max_depth=6, min_samples_split=0.5, n_estimators=10, score=0.0, total=   0.2s\n",
      "[CV] max_depth=6, min_samples_split=0.5, n_estimators=100 ............\n"
     ]
    },
    {
     "name": "stderr",
     "output_type": "stream",
     "text": [
      "C:\\Anaconda3\\lib\\site-packages\\sklearn\\metrics\\classification.py:1143: UndefinedMetricWarning: F-score is ill-defined and being set to 0.0 due to no predicted samples.\n",
      "  'precision', 'predicted', average, warn_for)\n",
      "C:\\Anaconda3\\lib\\site-packages\\sklearn\\metrics\\classification.py:1143: UndefinedMetricWarning: F-score is ill-defined and being set to 0.0 due to no predicted samples.\n",
      "  'precision', 'predicted', average, warn_for)\n"
     ]
    },
    {
     "name": "stdout",
     "output_type": "stream",
     "text": [
      "[CV]  max_depth=6, min_samples_split=0.5, n_estimators=100, score=0.0, total=   2.1s\n",
      "[CV] max_depth=6, min_samples_split=0.5, n_estimators=500 ............\n"
     ]
    },
    {
     "name": "stderr",
     "output_type": "stream",
     "text": [
      "C:\\Anaconda3\\lib\\site-packages\\sklearn\\metrics\\classification.py:1143: UndefinedMetricWarning: F-score is ill-defined and being set to 0.0 due to no predicted samples.\n",
      "  'precision', 'predicted', average, warn_for)\n",
      "C:\\Anaconda3\\lib\\site-packages\\sklearn\\metrics\\classification.py:1143: UndefinedMetricWarning: F-score is ill-defined and being set to 0.0 due to no predicted samples.\n",
      "  'precision', 'predicted', average, warn_for)\n",
      "C:\\Anaconda3\\lib\\site-packages\\sklearn\\metrics\\classification.py:1143: UndefinedMetricWarning: F-score is ill-defined and being set to 0.0 due to no predicted samples.\n",
      "  'precision', 'predicted', average, warn_for)\n"
     ]
    },
    {
     "name": "stdout",
     "output_type": "stream",
     "text": [
      "[CV]  max_depth=6, min_samples_split=0.5, n_estimators=500, score=0.0, total=  11.6s\n",
      "[CV] max_depth=6, min_samples_split=0.8, n_estimators=10 .............\n"
     ]
    },
    {
     "name": "stderr",
     "output_type": "stream",
     "text": [
      "C:\\Anaconda3\\lib\\site-packages\\sklearn\\metrics\\classification.py:1143: UndefinedMetricWarning: F-score is ill-defined and being set to 0.0 due to no predicted samples.\n",
      "  'precision', 'predicted', average, warn_for)\n"
     ]
    },
    {
     "name": "stdout",
     "output_type": "stream",
     "text": [
      "[CV]  max_depth=6, min_samples_split=0.8, n_estimators=10, score=0.0, total=   0.1s\n",
      "[CV] max_depth=6, min_samples_split=0.8, n_estimators=100 ............\n"
     ]
    },
    {
     "name": "stderr",
     "output_type": "stream",
     "text": [
      "C:\\Anaconda3\\lib\\site-packages\\sklearn\\metrics\\classification.py:1143: UndefinedMetricWarning: F-score is ill-defined and being set to 0.0 due to no predicted samples.\n",
      "  'precision', 'predicted', average, warn_for)\n",
      "C:\\Anaconda3\\lib\\site-packages\\sklearn\\metrics\\classification.py:1143: UndefinedMetricWarning: F-score is ill-defined and being set to 0.0 due to no predicted samples.\n",
      "  'precision', 'predicted', average, warn_for)\n"
     ]
    },
    {
     "name": "stdout",
     "output_type": "stream",
     "text": [
      "[CV]  max_depth=6, min_samples_split=0.8, n_estimators=100, score=0.0, total=   1.0s\n",
      "[CV] max_depth=6, min_samples_split=0.8, n_estimators=500 ............\n"
     ]
    },
    {
     "name": "stderr",
     "output_type": "stream",
     "text": [
      "C:\\Anaconda3\\lib\\site-packages\\sklearn\\metrics\\classification.py:1143: UndefinedMetricWarning: F-score is ill-defined and being set to 0.0 due to no predicted samples.\n",
      "  'precision', 'predicted', average, warn_for)\n",
      "C:\\Anaconda3\\lib\\site-packages\\sklearn\\metrics\\classification.py:1143: UndefinedMetricWarning: F-score is ill-defined and being set to 0.0 due to no predicted samples.\n",
      "  'precision', 'predicted', average, warn_for)\n",
      "[Parallel(n_jobs=1)]: Done  27 out of  27 | elapsed:  2.6min finished\n"
     ]
    },
    {
     "name": "stdout",
     "output_type": "stream",
     "text": [
      "[CV]  max_depth=6, min_samples_split=0.8, n_estimators=500, score=0.0, total=   5.5s\n"
     ]
    },
    {
     "data": {
      "text/plain": [
       "GridSearchCV(cv=[([0, 1, 2, 3, 4, 5, 6, 7, 8, 9, 10, 11, 12, 13, 14, 15, 16, 17, 18, 19, 20, 21, 22, 23, 24, 25, 26, 27, 28, 29, 30, 31, 32, 33, 34, 35, 36, 37, 38, 39, 40, 41, 42, 43, 44, 45, 46, 47, 48, 49, 50, 51, 52, 53, 54, 55, 56, 57, 58, 59, 60, 61, 62, 63, 64, 65, 66, 67, 68, 69, 70, 71, 72, 73, 74, 75, ...9, 119780, 119781, 119782, 119783, 119784, 119785, 119786, 119787, 119788, 119789, 119790, 119791])],\n",
       "       error_score=0,\n",
       "       estimator=RandomForestClassifier(bootstrap=True, class_weight=None, criterion='gini',\n",
       "            max_depth=None, max_features='sqrt', max_leaf_nodes=None,\n",
       "            min_impurity_decrease=0.0, min_impurity_split=None,\n",
       "            min_samples_leaf=1, min_samples_split=2,\n",
       "            min_weight_fraction_leaf=0.0, n_estimators='warn', n_jobs=None,\n",
       "            oob_score=False, random_state=None, verbose=0,\n",
       "            warm_start=False),\n",
       "       fit_params=None, iid='warn', n_jobs=1,\n",
       "       param_grid={'n_estimators': [10, 100, 500], 'max_depth': [2, 4, 6], 'min_samples_split': [0.2, 0.5, 0.8]},\n",
       "       pre_dispatch='2*n_jobs', refit=True, return_train_score=True,\n",
       "       scoring='f1', verbose=5)"
      ]
     },
     "execution_count": 56,
     "metadata": {},
     "output_type": "execute_result"
    }
   ],
   "source": [
    "rf.fit(X_train.values, Y_train.values) "
   ]
  },
  {
   "cell_type": "code",
   "execution_count": 57,
   "metadata": {},
   "outputs": [
    {
     "data": {
      "text/plain": [
       "0.5995518565941101"
      ]
     },
     "execution_count": 57,
     "metadata": {},
     "output_type": "execute_result"
    }
   ],
   "source": [
    "rf.best_score_"
   ]
  },
  {
   "cell_type": "code",
   "execution_count": 60,
   "metadata": {},
   "outputs": [],
   "source": [
    "from xgboost import XGBClassifier\n",
    "\n",
    "param_grid = {\n",
    "    \"n_estimators\": [10, 100, 500],\n",
    "    \"max_depth\": [2,4,6],\n",
    "    \"learning_rate\": [1e-3, 1e-2, 1e-1],\n",
    "    \"reg_alpha\": [0, .2, .5, .9]\n",
    "}\n",
    "\n",
    "xgb = GridSearchCV(\n",
    "    estimator = XGBClassifier(max_features=\"sqrt\"),\n",
    "    param_grid = param_grid,\n",
    "    scoring = 'f1',\n",
    "    n_jobs = 1,\n",
    "    cv = [(list(range(0,min_cv_id)), list(range(min_cv_id,min_test_id)))],\n",
    "    return_train_score = True,\n",
    "    error_score = 0,\n",
    "    verbose = 5\n",
    ")"
   ]
  },
  {
   "cell_type": "code",
   "execution_count": 61,
   "metadata": {},
   "outputs": [
    {
     "name": "stdout",
     "output_type": "stream",
     "text": [
      "Fitting 1 folds for each of 108 candidates, totalling 108 fits\n",
      "[CV] learning_rate=0.001, max_depth=2, n_estimators=10, reg_alpha=0 ..\n"
     ]
    },
    {
     "name": "stderr",
     "output_type": "stream",
     "text": [
      "[Parallel(n_jobs=1)]: Using backend SequentialBackend with 1 concurrent workers.\n"
     ]
    },
    {
     "name": "stdout",
     "output_type": "stream",
     "text": [
      "[CV]  learning_rate=0.001, max_depth=2, n_estimators=10, reg_alpha=0, score=0.6118228121623708, total=   0.6s\n",
      "[CV] learning_rate=0.001, max_depth=2, n_estimators=10, reg_alpha=0.2 \n"
     ]
    },
    {
     "name": "stderr",
     "output_type": "stream",
     "text": [
      "[Parallel(n_jobs=1)]: Done   1 out of   1 | elapsed:    0.7s remaining:    0.0s\n"
     ]
    },
    {
     "name": "stdout",
     "output_type": "stream",
     "text": [
      "[CV]  learning_rate=0.001, max_depth=2, n_estimators=10, reg_alpha=0.2, score=0.6118228121623708, total=   0.6s\n",
      "[CV] learning_rate=0.001, max_depth=2, n_estimators=10, reg_alpha=0.5 \n"
     ]
    },
    {
     "name": "stderr",
     "output_type": "stream",
     "text": [
      "[Parallel(n_jobs=1)]: Done   2 out of   2 | elapsed:    1.4s remaining:    0.0s\n"
     ]
    },
    {
     "name": "stdout",
     "output_type": "stream",
     "text": [
      "[CV]  learning_rate=0.001, max_depth=2, n_estimators=10, reg_alpha=0.5, score=0.6118228121623708, total=   0.6s\n",
      "[CV] learning_rate=0.001, max_depth=2, n_estimators=10, reg_alpha=0.9 \n"
     ]
    },
    {
     "name": "stderr",
     "output_type": "stream",
     "text": [
      "[Parallel(n_jobs=1)]: Done   3 out of   3 | elapsed:    2.2s remaining:    0.0s\n"
     ]
    },
    {
     "name": "stdout",
     "output_type": "stream",
     "text": [
      "[CV]  learning_rate=0.001, max_depth=2, n_estimators=10, reg_alpha=0.9, score=0.6118228121623708, total=   0.5s\n",
      "[CV] learning_rate=0.001, max_depth=2, n_estimators=100, reg_alpha=0 .\n"
     ]
    },
    {
     "name": "stderr",
     "output_type": "stream",
     "text": [
      "[Parallel(n_jobs=1)]: Done   4 out of   4 | elapsed:    2.9s remaining:    0.0s\n"
     ]
    },
    {
     "name": "stdout",
     "output_type": "stream",
     "text": [
      "[CV]  learning_rate=0.001, max_depth=2, n_estimators=100, reg_alpha=0, score=0.641645096347426, total=   4.8s\n",
      "[CV] learning_rate=0.001, max_depth=2, n_estimators=100, reg_alpha=0.2 \n",
      "[CV]  learning_rate=0.001, max_depth=2, n_estimators=100, reg_alpha=0.2, score=0.641645096347426, total=   4.9s\n",
      "[CV] learning_rate=0.001, max_depth=2, n_estimators=100, reg_alpha=0.5 \n",
      "[CV]  learning_rate=0.001, max_depth=2, n_estimators=100, reg_alpha=0.5, score=0.641645096347426, total=   5.1s\n",
      "[CV] learning_rate=0.001, max_depth=2, n_estimators=100, reg_alpha=0.9 \n",
      "[CV]  learning_rate=0.001, max_depth=2, n_estimators=100, reg_alpha=0.9, score=0.641645096347426, total=   4.9s\n",
      "[CV] learning_rate=0.001, max_depth=2, n_estimators=500, reg_alpha=0 .\n",
      "[CV]  learning_rate=0.001, max_depth=2, n_estimators=500, reg_alpha=0, score=0.641645096347426, total=  25.0s\n",
      "[CV] learning_rate=0.001, max_depth=2, n_estimators=500, reg_alpha=0.2 \n",
      "[CV]  learning_rate=0.001, max_depth=2, n_estimators=500, reg_alpha=0.2, score=0.641645096347426, total=  24.8s\n",
      "[CV] learning_rate=0.001, max_depth=2, n_estimators=500, reg_alpha=0.5 \n",
      "[CV]  learning_rate=0.001, max_depth=2, n_estimators=500, reg_alpha=0.5, score=0.641645096347426, total=  25.2s\n",
      "[CV] learning_rate=0.001, max_depth=2, n_estimators=500, reg_alpha=0.9 \n",
      "[CV]  learning_rate=0.001, max_depth=2, n_estimators=500, reg_alpha=0.9, score=0.641645096347426, total=  24.4s\n",
      "[CV] learning_rate=0.001, max_depth=4, n_estimators=10, reg_alpha=0 ..\n",
      "[CV]  learning_rate=0.001, max_depth=4, n_estimators=10, reg_alpha=0, score=0.6410588404546108, total=   0.9s\n",
      "[CV] learning_rate=0.001, max_depth=4, n_estimators=10, reg_alpha=0.2 \n",
      "[CV]  learning_rate=0.001, max_depth=4, n_estimators=10, reg_alpha=0.2, score=0.6410588404546108, total=   0.9s\n",
      "[CV] learning_rate=0.001, max_depth=4, n_estimators=10, reg_alpha=0.5 \n",
      "[CV]  learning_rate=0.001, max_depth=4, n_estimators=10, reg_alpha=0.5, score=0.6410588404546108, total=   0.9s\n",
      "[CV] learning_rate=0.001, max_depth=4, n_estimators=10, reg_alpha=0.9 \n",
      "[CV]  learning_rate=0.001, max_depth=4, n_estimators=10, reg_alpha=0.9, score=0.6410588404546108, total=   0.9s\n",
      "[CV] learning_rate=0.001, max_depth=4, n_estimators=100, reg_alpha=0 .\n",
      "[CV]  learning_rate=0.001, max_depth=4, n_estimators=100, reg_alpha=0, score=0.6410588404546108, total=   8.0s\n",
      "[CV] learning_rate=0.001, max_depth=4, n_estimators=100, reg_alpha=0.2 \n",
      "[CV]  learning_rate=0.001, max_depth=4, n_estimators=100, reg_alpha=0.2, score=0.6410588404546108, total=   8.0s\n",
      "[CV] learning_rate=0.001, max_depth=4, n_estimators=100, reg_alpha=0.5 \n",
      "[CV]  learning_rate=0.001, max_depth=4, n_estimators=100, reg_alpha=0.5, score=0.6410588404546108, total=   8.0s\n",
      "[CV] learning_rate=0.001, max_depth=4, n_estimators=100, reg_alpha=0.9 \n",
      "[CV]  learning_rate=0.001, max_depth=4, n_estimators=100, reg_alpha=0.9, score=0.6410588404546108, total=   8.0s\n",
      "[CV] learning_rate=0.001, max_depth=4, n_estimators=500, reg_alpha=0 .\n",
      "[CV]  learning_rate=0.001, max_depth=4, n_estimators=500, reg_alpha=0, score=0.6345957011258957, total=  41.1s\n",
      "[CV] learning_rate=0.001, max_depth=4, n_estimators=500, reg_alpha=0.2 \n",
      "[CV]  learning_rate=0.001, max_depth=4, n_estimators=500, reg_alpha=0.2, score=0.6345957011258957, total=  39.9s\n",
      "[CV] learning_rate=0.001, max_depth=4, n_estimators=500, reg_alpha=0.5 \n",
      "[CV]  learning_rate=0.001, max_depth=4, n_estimators=500, reg_alpha=0.5, score=0.6345957011258957, total=  39.9s\n",
      "[CV] learning_rate=0.001, max_depth=4, n_estimators=500, reg_alpha=0.9 \n",
      "[CV]  learning_rate=0.001, max_depth=4, n_estimators=500, reg_alpha=0.9, score=0.6345957011258957, total=  40.7s\n",
      "[CV] learning_rate=0.001, max_depth=6, n_estimators=10, reg_alpha=0 ..\n",
      "[CV]  learning_rate=0.001, max_depth=6, n_estimators=10, reg_alpha=0, score=0.6266145989786723, total=   1.3s\n",
      "[CV] learning_rate=0.001, max_depth=6, n_estimators=10, reg_alpha=0.2 \n",
      "[CV]  learning_rate=0.001, max_depth=6, n_estimators=10, reg_alpha=0.2, score=0.6266145989786723, total=   1.2s\n",
      "[CV] learning_rate=0.001, max_depth=6, n_estimators=10, reg_alpha=0.5 \n",
      "[CV]  learning_rate=0.001, max_depth=6, n_estimators=10, reg_alpha=0.5, score=0.6266145989786723, total=   1.3s\n",
      "[CV] learning_rate=0.001, max_depth=6, n_estimators=10, reg_alpha=0.9 \n",
      "[CV]  learning_rate=0.001, max_depth=6, n_estimators=10, reg_alpha=0.9, score=0.6270270270270271, total=   1.3s\n",
      "[CV] learning_rate=0.001, max_depth=6, n_estimators=100, reg_alpha=0 .\n",
      "[CV]  learning_rate=0.001, max_depth=6, n_estimators=100, reg_alpha=0, score=0.6229359188001817, total=  12.0s\n",
      "[CV] learning_rate=0.001, max_depth=6, n_estimators=100, reg_alpha=0.2 \n",
      "[CV]  learning_rate=0.001, max_depth=6, n_estimators=100, reg_alpha=0.2, score=0.6229359188001817, total=  12.3s\n",
      "[CV] learning_rate=0.001, max_depth=6, n_estimators=100, reg_alpha=0.5 \n",
      "[CV]  learning_rate=0.001, max_depth=6, n_estimators=100, reg_alpha=0.5, score=0.6229359188001817, total=  12.8s\n",
      "[CV] learning_rate=0.001, max_depth=6, n_estimators=100, reg_alpha=0.9 \n",
      "[CV]  learning_rate=0.001, max_depth=6, n_estimators=100, reg_alpha=0.9, score=0.6229359188001817, total=  12.1s\n",
      "[CV] learning_rate=0.001, max_depth=6, n_estimators=500, reg_alpha=0 .\n",
      "[CV]  learning_rate=0.001, max_depth=6, n_estimators=500, reg_alpha=0, score=0.6250377986090112, total=  59.8s\n",
      "[CV] learning_rate=0.001, max_depth=6, n_estimators=500, reg_alpha=0.2 \n",
      "[CV]  learning_rate=0.001, max_depth=6, n_estimators=500, reg_alpha=0.2, score=0.6250566722079492, total= 1.0min\n",
      "[CV] learning_rate=0.001, max_depth=6, n_estimators=500, reg_alpha=0.5 \n",
      "[CV]  learning_rate=0.001, max_depth=6, n_estimators=500, reg_alpha=0.5, score=0.625490788281486, total= 1.0min\n",
      "[CV] learning_rate=0.001, max_depth=6, n_estimators=500, reg_alpha=0.9 \n",
      "[CV]  learning_rate=0.001, max_depth=6, n_estimators=500, reg_alpha=0.9, score=0.6255838481241525, total= 1.0min\n",
      "[CV] learning_rate=0.01, max_depth=2, n_estimators=10, reg_alpha=0 ...\n",
      "[CV]  learning_rate=0.01, max_depth=2, n_estimators=10, reg_alpha=0, score=0.641645096347426, total=   0.6s\n",
      "[CV] learning_rate=0.01, max_depth=2, n_estimators=10, reg_alpha=0.2 .\n",
      "[CV]  learning_rate=0.01, max_depth=2, n_estimators=10, reg_alpha=0.2, score=0.641645096347426, total=   0.5s\n",
      "[CV] learning_rate=0.01, max_depth=2, n_estimators=10, reg_alpha=0.5 .\n",
      "[CV]  learning_rate=0.01, max_depth=2, n_estimators=10, reg_alpha=0.5, score=0.641645096347426, total=   0.5s\n",
      "[CV] learning_rate=0.01, max_depth=2, n_estimators=10, reg_alpha=0.9 .\n",
      "[CV]  learning_rate=0.01, max_depth=2, n_estimators=10, reg_alpha=0.9, score=0.641645096347426, total=   0.6s\n",
      "[CV] learning_rate=0.01, max_depth=2, n_estimators=100, reg_alpha=0 ..\n",
      "[CV]  learning_rate=0.01, max_depth=2, n_estimators=100, reg_alpha=0, score=0.641645096347426, total=   4.7s\n",
      "[CV] learning_rate=0.01, max_depth=2, n_estimators=100, reg_alpha=0.2 \n",
      "[CV]  learning_rate=0.01, max_depth=2, n_estimators=100, reg_alpha=0.2, score=0.641645096347426, total=   4.9s\n",
      "[CV] learning_rate=0.01, max_depth=2, n_estimators=100, reg_alpha=0.5 \n",
      "[CV]  learning_rate=0.01, max_depth=2, n_estimators=100, reg_alpha=0.5, score=0.641645096347426, total=   4.8s\n",
      "[CV] learning_rate=0.01, max_depth=2, n_estimators=100, reg_alpha=0.9 \n",
      "[CV]  learning_rate=0.01, max_depth=2, n_estimators=100, reg_alpha=0.9, score=0.641645096347426, total=   4.7s\n",
      "[CV] learning_rate=0.01, max_depth=2, n_estimators=500, reg_alpha=0 ..\n",
      "[CV]  learning_rate=0.01, max_depth=2, n_estimators=500, reg_alpha=0, score=0.6349486049926578, total=  23.0s\n",
      "[CV] learning_rate=0.01, max_depth=2, n_estimators=500, reg_alpha=0.2 \n",
      "[CV]  learning_rate=0.01, max_depth=2, n_estimators=500, reg_alpha=0.2, score=0.6350418563665737, total=  24.0s\n",
      "[CV] learning_rate=0.01, max_depth=2, n_estimators=500, reg_alpha=0.5 \n",
      "[CV]  learning_rate=0.01, max_depth=2, n_estimators=500, reg_alpha=0.5, score=0.6349486049926578, total=  23.6s\n",
      "[CV] learning_rate=0.01, max_depth=2, n_estimators=500, reg_alpha=0.9 \n",
      "[CV]  learning_rate=0.01, max_depth=2, n_estimators=500, reg_alpha=0.9, score=0.6352422907488986, total=  23.1s\n",
      "[CV] learning_rate=0.01, max_depth=4, n_estimators=10, reg_alpha=0 ...\n",
      "[CV]  learning_rate=0.01, max_depth=4, n_estimators=10, reg_alpha=0, score=0.6410588404546108, total=   0.9s\n",
      "[CV] learning_rate=0.01, max_depth=4, n_estimators=10, reg_alpha=0.2 .\n"
     ]
    },
    {
     "name": "stdout",
     "output_type": "stream",
     "text": [
      "[CV]  learning_rate=0.01, max_depth=4, n_estimators=10, reg_alpha=0.2, score=0.6410588404546108, total=   0.9s\n",
      "[CV] learning_rate=0.01, max_depth=4, n_estimators=10, reg_alpha=0.5 .\n",
      "[CV]  learning_rate=0.01, max_depth=4, n_estimators=10, reg_alpha=0.5, score=0.6410588404546108, total=   1.0s\n",
      "[CV] learning_rate=0.01, max_depth=4, n_estimators=10, reg_alpha=0.9 .\n",
      "[CV]  learning_rate=0.01, max_depth=4, n_estimators=10, reg_alpha=0.9, score=0.6410588404546108, total=   0.9s\n",
      "[CV] learning_rate=0.01, max_depth=4, n_estimators=100, reg_alpha=0 ..\n",
      "[CV]  learning_rate=0.01, max_depth=4, n_estimators=100, reg_alpha=0, score=0.6345957011258957, total=   8.1s\n",
      "[CV] learning_rate=0.01, max_depth=4, n_estimators=100, reg_alpha=0.2 \n",
      "[CV]  learning_rate=0.01, max_depth=4, n_estimators=100, reg_alpha=0.2, score=0.6345957011258957, total=   8.0s\n",
      "[CV] learning_rate=0.01, max_depth=4, n_estimators=100, reg_alpha=0.5 \n",
      "[CV]  learning_rate=0.01, max_depth=4, n_estimators=100, reg_alpha=0.5, score=0.6345957011258957, total=   8.0s\n",
      "[CV] learning_rate=0.01, max_depth=4, n_estimators=100, reg_alpha=0.9 \n",
      "[CV]  learning_rate=0.01, max_depth=4, n_estimators=100, reg_alpha=0.9, score=0.6345957011258957, total=   8.0s\n",
      "[CV] learning_rate=0.01, max_depth=4, n_estimators=500, reg_alpha=0 ..\n",
      "[CV]  learning_rate=0.01, max_depth=4, n_estimators=500, reg_alpha=0, score=0.6350626118067978, total=  40.2s\n",
      "[CV] learning_rate=0.01, max_depth=4, n_estimators=500, reg_alpha=0.2 \n",
      "[CV]  learning_rate=0.01, max_depth=4, n_estimators=500, reg_alpha=0.2, score=0.634059051595586, total=  40.5s\n",
      "[CV] learning_rate=0.01, max_depth=4, n_estimators=500, reg_alpha=0.5 \n",
      "[CV]  learning_rate=0.01, max_depth=4, n_estimators=500, reg_alpha=0.5, score=0.6344663088849136, total=  40.4s\n",
      "[CV] learning_rate=0.01, max_depth=4, n_estimators=500, reg_alpha=0.9 \n",
      "[CV]  learning_rate=0.01, max_depth=4, n_estimators=500, reg_alpha=0.9, score=0.6343717394544641, total=  40.4s\n",
      "[CV] learning_rate=0.01, max_depth=6, n_estimators=10, reg_alpha=0 ...\n",
      "[CV]  learning_rate=0.01, max_depth=6, n_estimators=10, reg_alpha=0, score=0.6229359188001817, total=   1.3s\n",
      "[CV] learning_rate=0.01, max_depth=6, n_estimators=10, reg_alpha=0.2 .\n",
      "[CV]  learning_rate=0.01, max_depth=6, n_estimators=10, reg_alpha=0.2, score=0.6229359188001817, total=   1.3s\n",
      "[CV] learning_rate=0.01, max_depth=6, n_estimators=10, reg_alpha=0.5 .\n",
      "[CV]  learning_rate=0.01, max_depth=6, n_estimators=10, reg_alpha=0.5, score=0.6229359188001817, total=   1.3s\n",
      "[CV] learning_rate=0.01, max_depth=6, n_estimators=10, reg_alpha=0.9 .\n",
      "[CV]  learning_rate=0.01, max_depth=6, n_estimators=10, reg_alpha=0.9, score=0.6229359188001817, total=   1.3s\n",
      "[CV] learning_rate=0.01, max_depth=6, n_estimators=100, reg_alpha=0 ..\n",
      "[CV]  learning_rate=0.01, max_depth=6, n_estimators=100, reg_alpha=0, score=0.6309918601145613, total=  11.9s\n",
      "[CV] learning_rate=0.01, max_depth=6, n_estimators=100, reg_alpha=0.2 \n",
      "[CV]  learning_rate=0.01, max_depth=6, n_estimators=100, reg_alpha=0.2, score=0.6309006443878317, total=  11.8s\n",
      "[CV] learning_rate=0.01, max_depth=6, n_estimators=100, reg_alpha=0.5 \n",
      "[CV]  learning_rate=0.01, max_depth=6, n_estimators=100, reg_alpha=0.5, score=0.6315474408859622, total=  11.8s\n",
      "[CV] learning_rate=0.01, max_depth=6, n_estimators=100, reg_alpha=0.9 \n",
      "[CV]  learning_rate=0.01, max_depth=6, n_estimators=100, reg_alpha=0.9, score=0.6313584679832436, total=  11.8s\n",
      "[CV] learning_rate=0.01, max_depth=6, n_estimators=500, reg_alpha=0 ..\n",
      "[CV]  learning_rate=0.01, max_depth=6, n_estimators=500, reg_alpha=0, score=0.6360518860891605, total= 1.0min\n",
      "[CV] learning_rate=0.01, max_depth=6, n_estimators=500, reg_alpha=0.2 \n",
      "[CV]  learning_rate=0.01, max_depth=6, n_estimators=500, reg_alpha=0.2, score=0.6356058350699613, total= 1.0min\n",
      "[CV] learning_rate=0.01, max_depth=6, n_estimators=500, reg_alpha=0.5 \n",
      "[CV]  learning_rate=0.01, max_depth=6, n_estimators=500, reg_alpha=0.5, score=0.6363907087552115, total= 1.0min\n",
      "[CV] learning_rate=0.01, max_depth=6, n_estimators=500, reg_alpha=0.9 \n",
      "[CV]  learning_rate=0.01, max_depth=6, n_estimators=500, reg_alpha=0.9, score=0.6353887399463806, total= 1.1min\n",
      "[CV] learning_rate=0.1, max_depth=2, n_estimators=10, reg_alpha=0 ....\n",
      "[CV]  learning_rate=0.1, max_depth=2, n_estimators=10, reg_alpha=0, score=0.641645096347426, total=   0.6s\n",
      "[CV] learning_rate=0.1, max_depth=2, n_estimators=10, reg_alpha=0.2 ..\n",
      "[CV]  learning_rate=0.1, max_depth=2, n_estimators=10, reg_alpha=0.2, score=0.641645096347426, total=   0.5s\n",
      "[CV] learning_rate=0.1, max_depth=2, n_estimators=10, reg_alpha=0.5 ..\n",
      "[CV]  learning_rate=0.1, max_depth=2, n_estimators=10, reg_alpha=0.5, score=0.641645096347426, total=   0.5s\n",
      "[CV] learning_rate=0.1, max_depth=2, n_estimators=10, reg_alpha=0.9 ..\n",
      "[CV]  learning_rate=0.1, max_depth=2, n_estimators=10, reg_alpha=0.9, score=0.641645096347426, total=   0.5s\n",
      "[CV] learning_rate=0.1, max_depth=2, n_estimators=100, reg_alpha=0 ...\n",
      "[CV]  learning_rate=0.1, max_depth=2, n_estimators=100, reg_alpha=0, score=0.6381311665699362, total=   5.4s\n",
      "[CV] learning_rate=0.1, max_depth=2, n_estimators=100, reg_alpha=0.2 .\n",
      "[CV]  learning_rate=0.1, max_depth=2, n_estimators=100, reg_alpha=0.2, score=0.638093854423943, total=   5.0s\n",
      "[CV] learning_rate=0.1, max_depth=2, n_estimators=100, reg_alpha=0.5 .\n",
      "[CV]  learning_rate=0.1, max_depth=2, n_estimators=100, reg_alpha=0.5, score=0.638093854423943, total=   5.3s\n",
      "[CV] learning_rate=0.1, max_depth=2, n_estimators=100, reg_alpha=0.9 .\n",
      "[CV]  learning_rate=0.1, max_depth=2, n_estimators=100, reg_alpha=0.9, score=0.6370262390670554, total=   5.0s\n",
      "[CV] learning_rate=0.1, max_depth=2, n_estimators=500, reg_alpha=0 ...\n",
      "[CV]  learning_rate=0.1, max_depth=2, n_estimators=500, reg_alpha=0, score=0.6447368421052633, total=  23.9s\n",
      "[CV] learning_rate=0.1, max_depth=2, n_estimators=500, reg_alpha=0.2 .\n",
      "[CV]  learning_rate=0.1, max_depth=2, n_estimators=500, reg_alpha=0.2, score=0.6451704950777573, total=  23.8s\n",
      "[CV] learning_rate=0.1, max_depth=2, n_estimators=500, reg_alpha=0.5 .\n",
      "[CV]  learning_rate=0.1, max_depth=2, n_estimators=500, reg_alpha=0.5, score=0.646056962931158, total=  24.7s\n",
      "[CV] learning_rate=0.1, max_depth=2, n_estimators=500, reg_alpha=0.9 .\n",
      "[CV]  learning_rate=0.1, max_depth=2, n_estimators=500, reg_alpha=0.9, score=0.6437473141383756, total=  23.4s\n",
      "[CV] learning_rate=0.1, max_depth=4, n_estimators=10, reg_alpha=0 ....\n",
      "[CV]  learning_rate=0.1, max_depth=4, n_estimators=10, reg_alpha=0, score=0.6305741983594332, total=   0.9s\n",
      "[CV] learning_rate=0.1, max_depth=4, n_estimators=10, reg_alpha=0.2 ..\n",
      "[CV]  learning_rate=0.1, max_depth=4, n_estimators=10, reg_alpha=0.2, score=0.6305741983594332, total=   0.9s\n",
      "[CV] learning_rate=0.1, max_depth=4, n_estimators=10, reg_alpha=0.5 ..\n",
      "[CV]  learning_rate=0.1, max_depth=4, n_estimators=10, reg_alpha=0.5, score=0.6305741983594332, total=   0.9s\n",
      "[CV] learning_rate=0.1, max_depth=4, n_estimators=10, reg_alpha=0.9 ..\n",
      "[CV]  learning_rate=0.1, max_depth=4, n_estimators=10, reg_alpha=0.9, score=0.6305741983594332, total=   1.0s\n",
      "[CV] learning_rate=0.1, max_depth=4, n_estimators=100, reg_alpha=0 ...\n",
      "[CV]  learning_rate=0.1, max_depth=4, n_estimators=100, reg_alpha=0, score=0.6382167473236544, total=   8.9s\n",
      "[CV] learning_rate=0.1, max_depth=4, n_estimators=100, reg_alpha=0.2 .\n",
      "[CV]  learning_rate=0.1, max_depth=4, n_estimators=100, reg_alpha=0.2, score=0.637152522429769, total=  10.3s\n",
      "[CV] learning_rate=0.1, max_depth=4, n_estimators=100, reg_alpha=0.5 .\n",
      "[CV]  learning_rate=0.1, max_depth=4, n_estimators=100, reg_alpha=0.5, score=0.6383166568569747, total=   9.3s\n",
      "[CV] learning_rate=0.1, max_depth=4, n_estimators=100, reg_alpha=0.9 .\n",
      "[CV]  learning_rate=0.1, max_depth=4, n_estimators=100, reg_alpha=0.9, score=0.63841642228739, total=   8.5s\n",
      "[CV] learning_rate=0.1, max_depth=4, n_estimators=500, reg_alpha=0 ...\n",
      "[CV]  learning_rate=0.1, max_depth=4, n_estimators=500, reg_alpha=0, score=0.6429911938790241, total=  42.3s\n",
      "[CV] learning_rate=0.1, max_depth=4, n_estimators=500, reg_alpha=0.2 .\n",
      "[CV]  learning_rate=0.1, max_depth=4, n_estimators=500, reg_alpha=0.2, score=0.6429086711874188, total=  41.8s\n",
      "[CV] learning_rate=0.1, max_depth=4, n_estimators=500, reg_alpha=0.5 .\n",
      "[CV]  learning_rate=0.1, max_depth=4, n_estimators=500, reg_alpha=0.5, score=0.6425365571159694, total=  41.7s\n",
      "[CV] learning_rate=0.1, max_depth=4, n_estimators=500, reg_alpha=0.9 .\n"
     ]
    },
    {
     "name": "stdout",
     "output_type": "stream",
     "text": [
      "[CV]  learning_rate=0.1, max_depth=4, n_estimators=500, reg_alpha=0.9, score=0.6408216403876754, total=  41.4s\n",
      "[CV] learning_rate=0.1, max_depth=6, n_estimators=10, reg_alpha=0 ....\n",
      "[CV]  learning_rate=0.1, max_depth=6, n_estimators=10, reg_alpha=0, score=0.6310737852429514, total=   1.7s\n",
      "[CV] learning_rate=0.1, max_depth=6, n_estimators=10, reg_alpha=0.2 ..\n",
      "[CV]  learning_rate=0.1, max_depth=6, n_estimators=10, reg_alpha=0.2, score=0.6273684210526316, total=   1.8s\n",
      "[CV] learning_rate=0.1, max_depth=6, n_estimators=10, reg_alpha=0.5 ..\n",
      "[CV]  learning_rate=0.1, max_depth=6, n_estimators=10, reg_alpha=0.5, score=0.6291221201626261, total=   1.6s\n",
      "[CV] learning_rate=0.1, max_depth=6, n_estimators=10, reg_alpha=0.9 ..\n",
      "[CV]  learning_rate=0.1, max_depth=6, n_estimators=10, reg_alpha=0.9, score=0.6296851574212895, total=   1.4s\n",
      "[CV] learning_rate=0.1, max_depth=6, n_estimators=100, reg_alpha=0 ...\n",
      "[CV]  learning_rate=0.1, max_depth=6, n_estimators=100, reg_alpha=0, score=0.6465504614032518, total=  12.8s\n",
      "[CV] learning_rate=0.1, max_depth=6, n_estimators=100, reg_alpha=0.2 .\n",
      "[CV]  learning_rate=0.1, max_depth=6, n_estimators=100, reg_alpha=0.2, score=0.6440628637951106, total=  13.9s\n",
      "[CV] learning_rate=0.1, max_depth=6, n_estimators=100, reg_alpha=0.5 .\n",
      "[CV]  learning_rate=0.1, max_depth=6, n_estimators=100, reg_alpha=0.5, score=0.6448502556610664, total=  12.2s\n",
      "[CV] learning_rate=0.1, max_depth=6, n_estimators=100, reg_alpha=0.9 .\n",
      "[CV]  learning_rate=0.1, max_depth=6, n_estimators=100, reg_alpha=0.9, score=0.6440677966101696, total=  12.3s\n",
      "[CV] learning_rate=0.1, max_depth=6, n_estimators=500, reg_alpha=0 ...\n",
      "[CV]  learning_rate=0.1, max_depth=6, n_estimators=500, reg_alpha=0, score=0.6310623556581986, total=  58.4s\n",
      "[CV] learning_rate=0.1, max_depth=6, n_estimators=500, reg_alpha=0.2 .\n",
      "[CV]  learning_rate=0.1, max_depth=6, n_estimators=500, reg_alpha=0.2, score=0.633010270504846, total= 1.0min\n",
      "[CV] learning_rate=0.1, max_depth=6, n_estimators=500, reg_alpha=0.5 .\n",
      "[CV]  learning_rate=0.1, max_depth=6, n_estimators=500, reg_alpha=0.5, score=0.6370030142098464, total= 1.0min\n",
      "[CV] learning_rate=0.1, max_depth=6, n_estimators=500, reg_alpha=0.9 .\n",
      "[CV]  learning_rate=0.1, max_depth=6, n_estimators=500, reg_alpha=0.9, score=0.6313204276220745, total= 1.0min\n"
     ]
    },
    {
     "name": "stderr",
     "output_type": "stream",
     "text": [
      "[Parallel(n_jobs=1)]: Done 108 out of 108 | elapsed: 32.1min finished\n"
     ]
    },
    {
     "data": {
      "text/plain": [
       "GridSearchCV(cv=[([0, 1, 2, 3, 4, 5, 6, 7, 8, 9, 10, 11, 12, 13, 14, 15, 16, 17, 18, 19, 20, 21, 22, 23, 24, 25, 26, 27, 28, 29, 30, 31, 32, 33, 34, 35, 36, 37, 38, 39, 40, 41, 42, 43, 44, 45, 46, 47, 48, 49, 50, 51, 52, 53, 54, 55, 56, 57, 58, 59, 60, 61, 62, 63, 64, 65, 66, 67, 68, 69, 70, 71, 72, 73, 74, 75, ...9, 119780, 119781, 119782, 119783, 119784, 119785, 119786, 119787, 119788, 119789, 119790, 119791])],\n",
       "       error_score=0,\n",
       "       estimator=XGBClassifier(base_score=0.5, booster='gbtree', colsample_bylevel=1,\n",
       "       colsample_bytree=1, gamma=0, learning_rate=0.1, max_delta_step=0,\n",
       "       max_depth=3, max_features='sqrt', min_child_weight=1, missing=None,\n",
       "       n_estimators=100, n_jobs=1, nthread=None,\n",
       "       objective='binary:logistic', random_state=0, reg_alpha=0,\n",
       "       reg_lambda=1, scale_pos_weight=1, seed=None, silent=True,\n",
       "       subsample=1),\n",
       "       fit_params=None, iid='warn', n_jobs=1,\n",
       "       param_grid={'n_estimators': [10, 100, 500], 'max_depth': [2, 4, 6], 'learning_rate': [0.001, 0.01, 0.1], 'reg_alpha': [0, 0.2, 0.5, 0.9]},\n",
       "       pre_dispatch='2*n_jobs', refit=True, return_train_score=True,\n",
       "       scoring='f1', verbose=5)"
      ]
     },
     "execution_count": 61,
     "metadata": {},
     "output_type": "execute_result"
    }
   ],
   "source": [
    "xgb.fit(X_train.values, Y_train.values) "
   ]
  },
  {
   "cell_type": "code",
   "execution_count": 65,
   "metadata": {},
   "outputs": [],
   "source": [
    "importances = pd.DataFrame({\n",
    "    \"importances\": xgb.best_estimator_.feature_importances_,\n",
    "    \"variables\": X_train.columns\n",
    "})"
   ]
  },
  {
   "cell_type": "code",
   "execution_count": 67,
   "metadata": {},
   "outputs": [
    {
     "data": {
      "text/html": [
       "<div>\n",
       "<style scoped>\n",
       "    .dataframe tbody tr th:only-of-type {\n",
       "        vertical-align: middle;\n",
       "    }\n",
       "\n",
       "    .dataframe tbody tr th {\n",
       "        vertical-align: top;\n",
       "    }\n",
       "\n",
       "    .dataframe thead th {\n",
       "        text-align: right;\n",
       "    }\n",
       "</style>\n",
       "<table border=\"1\" class=\"dataframe\">\n",
       "  <thead>\n",
       "    <tr style=\"text-align: right;\">\n",
       "      <th></th>\n",
       "      <th>importances</th>\n",
       "      <th>variables</th>\n",
       "    </tr>\n",
       "  </thead>\n",
       "  <tbody>\n",
       "    <tr>\n",
       "      <th>3</th>\n",
       "      <td>0.168337</td>\n",
       "      <td>expensa_proporcion</td>\n",
       "    </tr>\n",
       "    <tr>\n",
       "      <th>1</th>\n",
       "      <td>0.165122</td>\n",
       "      <td>consorcio_prop_impagos</td>\n",
       "    </tr>\n",
       "    <tr>\n",
       "      <th>2</th>\n",
       "      <td>0.140533</td>\n",
       "      <td>consorcio_prop_efectivo</td>\n",
       "    </tr>\n",
       "    <tr>\n",
       "      <th>0</th>\n",
       "      <td>0.114053</td>\n",
       "      <td>consorcio_cantidad_expensas</td>\n",
       "    </tr>\n",
       "    <tr>\n",
       "      <th>5</th>\n",
       "      <td>0.062417</td>\n",
       "      <td>expensa_ineteres_segundo_vencimiento</td>\n",
       "    </tr>\n",
       "    <tr>\n",
       "      <th>4</th>\n",
       "      <td>0.046151</td>\n",
       "      <td>expensa_interes_primer_vencimiento</td>\n",
       "    </tr>\n",
       "    <tr>\n",
       "      <th>25</th>\n",
       "      <td>0.038018</td>\n",
       "      <td>pago_metodo_lag_3_Impago</td>\n",
       "    </tr>\n",
       "    <tr>\n",
       "      <th>33</th>\n",
       "      <td>0.031587</td>\n",
       "      <td>pago_metodo_lag_1_Impago</td>\n",
       "    </tr>\n",
       "    <tr>\n",
       "      <th>29</th>\n",
       "      <td>0.029317</td>\n",
       "      <td>pago_metodo_lag_2_Impago</td>\n",
       "    </tr>\n",
       "    <tr>\n",
       "      <th>32</th>\n",
       "      <td>0.018536</td>\n",
       "      <td>pago_metodo_lag_1_EntePago</td>\n",
       "    </tr>\n",
       "    <tr>\n",
       "      <th>28</th>\n",
       "      <td>0.017779</td>\n",
       "      <td>pago_metodo_lag_2_EntePago</td>\n",
       "    </tr>\n",
       "    <tr>\n",
       "      <th>24</th>\n",
       "      <td>0.017590</td>\n",
       "      <td>pago_metodo_lag_3_EntePago</td>\n",
       "    </tr>\n",
       "    <tr>\n",
       "      <th>23</th>\n",
       "      <td>0.015510</td>\n",
       "      <td>expensa_mes_12</td>\n",
       "    </tr>\n",
       "    <tr>\n",
       "      <th>17</th>\n",
       "      <td>0.011159</td>\n",
       "      <td>expensa_mes_06</td>\n",
       "    </tr>\n",
       "    <tr>\n",
       "      <th>34</th>\n",
       "      <td>0.010781</td>\n",
       "      <td>pago_metodo_lag_1_Internet</td>\n",
       "    </tr>\n",
       "    <tr>\n",
       "      <th>8</th>\n",
       "      <td>0.010592</td>\n",
       "      <td>unidad_tipo_Departamento</td>\n",
       "    </tr>\n",
       "    <tr>\n",
       "      <th>18</th>\n",
       "      <td>0.009268</td>\n",
       "      <td>expensa_mes_07</td>\n",
       "    </tr>\n",
       "    <tr>\n",
       "      <th>16</th>\n",
       "      <td>0.009268</td>\n",
       "      <td>expensa_mes_05</td>\n",
       "    </tr>\n",
       "    <tr>\n",
       "      <th>10</th>\n",
       "      <td>0.008890</td>\n",
       "      <td>unidad_tipo_Local</td>\n",
       "    </tr>\n",
       "    <tr>\n",
       "      <th>13</th>\n",
       "      <td>0.008322</td>\n",
       "      <td>expensa_mes_02</td>\n",
       "    </tr>\n",
       "    <tr>\n",
       "      <th>22</th>\n",
       "      <td>0.008133</td>\n",
       "      <td>expensa_mes_11</td>\n",
       "    </tr>\n",
       "    <tr>\n",
       "      <th>14</th>\n",
       "      <td>0.007944</td>\n",
       "      <td>expensa_mes_03</td>\n",
       "    </tr>\n",
       "    <tr>\n",
       "      <th>20</th>\n",
       "      <td>0.006998</td>\n",
       "      <td>expensa_mes_09</td>\n",
       "    </tr>\n",
       "    <tr>\n",
       "      <th>15</th>\n",
       "      <td>0.006431</td>\n",
       "      <td>expensa_mes_04</td>\n",
       "    </tr>\n",
       "    <tr>\n",
       "      <th>21</th>\n",
       "      <td>0.006431</td>\n",
       "      <td>expensa_mes_10</td>\n",
       "    </tr>\n",
       "    <tr>\n",
       "      <th>26</th>\n",
       "      <td>0.006242</td>\n",
       "      <td>pago_metodo_lag_3_Internet</td>\n",
       "    </tr>\n",
       "    <tr>\n",
       "      <th>19</th>\n",
       "      <td>0.005863</td>\n",
       "      <td>expensa_mes_08</td>\n",
       "    </tr>\n",
       "    <tr>\n",
       "      <th>30</th>\n",
       "      <td>0.005296</td>\n",
       "      <td>pago_metodo_lag_2_Internet</td>\n",
       "    </tr>\n",
       "    <tr>\n",
       "      <th>11</th>\n",
       "      <td>0.003972</td>\n",
       "      <td>unidad_tipo_Lote</td>\n",
       "    </tr>\n",
       "    <tr>\n",
       "      <th>7</th>\n",
       "      <td>0.003972</td>\n",
       "      <td>unidad_tipo_Cochera</td>\n",
       "    </tr>\n",
       "    <tr>\n",
       "      <th>35</th>\n",
       "      <td>0.002270</td>\n",
       "      <td>pago_metodo_lag_1_NS/NC</td>\n",
       "    </tr>\n",
       "    <tr>\n",
       "      <th>6</th>\n",
       "      <td>0.001324</td>\n",
       "      <td>unidad_tipo_Casa</td>\n",
       "    </tr>\n",
       "    <tr>\n",
       "      <th>12</th>\n",
       "      <td>0.000757</td>\n",
       "      <td>unidad_tipo_Oficina</td>\n",
       "    </tr>\n",
       "    <tr>\n",
       "      <th>9</th>\n",
       "      <td>0.000567</td>\n",
       "      <td>unidad_tipo_Duplex</td>\n",
       "    </tr>\n",
       "    <tr>\n",
       "      <th>31</th>\n",
       "      <td>0.000378</td>\n",
       "      <td>pago_metodo_lag_2_NS/NC</td>\n",
       "    </tr>\n",
       "    <tr>\n",
       "      <th>27</th>\n",
       "      <td>0.000189</td>\n",
       "      <td>pago_metodo_lag_3_NS/NC</td>\n",
       "    </tr>\n",
       "    <tr>\n",
       "      <th>36</th>\n",
       "      <td>0.000000</td>\n",
       "      <td>pago_metodo_lag_1_Otro</td>\n",
       "    </tr>\n",
       "  </tbody>\n",
       "</table>\n",
       "</div>"
      ],
      "text/plain": [
       "    importances                             variables\n",
       "3      0.168337                    expensa_proporcion\n",
       "1      0.165122                consorcio_prop_impagos\n",
       "2      0.140533               consorcio_prop_efectivo\n",
       "0      0.114053           consorcio_cantidad_expensas\n",
       "5      0.062417  expensa_ineteres_segundo_vencimiento\n",
       "4      0.046151    expensa_interes_primer_vencimiento\n",
       "25     0.038018              pago_metodo_lag_3_Impago\n",
       "33     0.031587              pago_metodo_lag_1_Impago\n",
       "29     0.029317              pago_metodo_lag_2_Impago\n",
       "32     0.018536            pago_metodo_lag_1_EntePago\n",
       "28     0.017779            pago_metodo_lag_2_EntePago\n",
       "24     0.017590            pago_metodo_lag_3_EntePago\n",
       "23     0.015510                        expensa_mes_12\n",
       "17     0.011159                        expensa_mes_06\n",
       "34     0.010781            pago_metodo_lag_1_Internet\n",
       "8      0.010592              unidad_tipo_Departamento\n",
       "18     0.009268                        expensa_mes_07\n",
       "16     0.009268                        expensa_mes_05\n",
       "10     0.008890                     unidad_tipo_Local\n",
       "13     0.008322                        expensa_mes_02\n",
       "22     0.008133                        expensa_mes_11\n",
       "14     0.007944                        expensa_mes_03\n",
       "20     0.006998                        expensa_mes_09\n",
       "15     0.006431                        expensa_mes_04\n",
       "21     0.006431                        expensa_mes_10\n",
       "26     0.006242            pago_metodo_lag_3_Internet\n",
       "19     0.005863                        expensa_mes_08\n",
       "30     0.005296            pago_metodo_lag_2_Internet\n",
       "11     0.003972                      unidad_tipo_Lote\n",
       "7      0.003972                   unidad_tipo_Cochera\n",
       "35     0.002270               pago_metodo_lag_1_NS/NC\n",
       "6      0.001324                      unidad_tipo_Casa\n",
       "12     0.000757                   unidad_tipo_Oficina\n",
       "9      0.000567                    unidad_tipo_Duplex\n",
       "31     0.000378               pago_metodo_lag_2_NS/NC\n",
       "27     0.000189               pago_metodo_lag_3_NS/NC\n",
       "36     0.000000                pago_metodo_lag_1_Otro"
      ]
     },
     "execution_count": 67,
     "metadata": {},
     "output_type": "execute_result"
    }
   ],
   "source": [
    "importances.sort_values(\"importances\", ascending=False)"
   ]
  },
  {
   "cell_type": "code",
   "execution_count": 69,
   "metadata": {},
   "outputs": [
    {
     "name": "stdout",
     "output_type": "stream",
     "text": [
      "accuracy: 0.8975315753007271\n",
      "precision: 0.8050570101351351\n",
      "recall: 0.639911047706961\n",
      "f1: 0.7130467307197793\n",
      "--------------------------------------------------\n",
      "accuracy: 0.8866266032828056\n",
      "precision: 0.6615871190339275\n",
      "recall: 0.4680634662327095\n",
      "f1: 0.5482487491065046\n"
     ]
    }
   ],
   "source": [
    "get_train_test_meassures(xgb, X_train.values, Y_train, X_test.values, Y_test)"
   ]
  },
  {
   "cell_type": "code",
   "execution_count": null,
   "metadata": {},
   "outputs": [],
   "source": []
  }
 ],
 "metadata": {
  "kernelspec": {
   "display_name": "Python 3",
   "language": "python",
   "name": "python3"
  },
  "language_info": {
   "codemirror_mode": {
    "name": "ipython",
    "version": 3
   },
   "file_extension": ".py",
   "mimetype": "text/x-python",
   "name": "python",
   "nbconvert_exporter": "python",
   "pygments_lexer": "ipython3",
   "version": "3.6.5"
  },
  "varInspector": {
   "cols": {
    "lenName": 16,
    "lenType": 16,
    "lenVar": 40
   },
   "kernels_config": {
    "python": {
     "delete_cmd_postfix": "",
     "delete_cmd_prefix": "del ",
     "library": "var_list.py",
     "varRefreshCmd": "print(var_dic_list())"
    },
    "r": {
     "delete_cmd_postfix": ") ",
     "delete_cmd_prefix": "rm(",
     "library": "var_list.r",
     "varRefreshCmd": "cat(var_dic_list()) "
    }
   },
   "types_to_exclude": [
    "module",
    "function",
    "builtin_function_or_method",
    "instance",
    "_Feature"
   ],
   "window_display": false
  }
 },
 "nbformat": 4,
 "nbformat_minor": 2
}
