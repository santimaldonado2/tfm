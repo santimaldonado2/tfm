{
 "cells": [
  {
   "cell_type": "code",
   "execution_count": 36,
   "metadata": {},
   "outputs": [],
   "source": [
    "import pandas as pd \n",
    "import seaborn as sns\n",
    "import matplotlib.pyplot as plt"
   ]
  },
  {
   "cell_type": "markdown",
   "metadata": {},
   "source": [
    "### Raw Data Loading"
   ]
  },
  {
   "cell_type": "code",
   "execution_count": 37,
   "metadata": {},
   "outputs": [
    {
     "name": "stderr",
     "output_type": "stream",
     "text": [
      "C:\\Anaconda3\\lib\\site-packages\\IPython\\core\\interactiveshell.py:2785: DtypeWarning: Columns (6,7) have mixed types. Specify dtype option on import or set low_memory=False.\n",
      "  interactivity=interactivity, compiler=compiler, result=result)\n"
     ]
    }
   ],
   "source": [
    "pagos_raw = pd.read_csv(\"../../data/raw/expensas_pagos.csv\", \n",
    "                    sep=\";\", \n",
    "                    na_values = \"NULL\",\n",
    "                    dtype = {\n",
    "                        \"id\" : \"object\",\n",
    "                        \"expensa_id\" :\"object\"\n",
    "                    })\n",
    "\n",
    "expensas_raw = pd.read_csv(\"../../data/raw/expensas.csv\",\n",
    "                        sep=\";\", \n",
    "                        na_values = \"NULL\",\n",
    "                        dtype = {\n",
    "                            \"id\": \"object\",\n",
    "                            \"unidad_id\": \"object\",\n",
    "                            \"propietario_id\": \"object\",\n",
    "                            \"inquilino_id\": \"object\",\n",
    "                            \"consorcio_id\": \"object\"\n",
    "                        })\n",
    "\n",
    "consorcios_raw = pd.read_csv(\"../../data/raw/expensas_consorcios.csv\",\n",
    "                         sep = \";\",\n",
    "                         na_values = \"NULL\",\n",
    "                         dtype = {\n",
    "                            \"id\": \"object\",\n",
    "                        })\n",
    "\n",
    "unidades_raw = pd.read_csv(\"../../data/raw/expensas_unidades.csv\",\n",
    "                         sep = \";\",\n",
    "                         na_values = \"NULL\",\n",
    "                         dtype = {\n",
    "                            \"id\": \"object\",\n",
    "                        })\n",
    "\n",
    "metodos_pago_raw = pd.read_csv(\"../../data/raw/expensas_pagos_metodos.csv\",\n",
    "                         sep = \";\",\n",
    "                         na_values = \"NULL\")"
   ]
  },
  {
   "cell_type": "markdown",
   "metadata": {},
   "source": [
    "### Data Filtering and Preprocessing"
   ]
  },
  {
   "cell_type": "code",
   "execution_count": 41,
   "metadata": {},
   "outputs": [],
   "source": [
    "def remove_deleted(data):\n",
    "    return data.loc[data.deleted == 0, :]\n",
    "\n",
    "def fix_wrong_dates(expensas, consorcios):\n",
    "    data = pd.merge(expensas,\n",
    "                    consorcios[[\"id\", \"modoPago\", \"visibilidadGastos\",\"tipo\"]],\n",
    "                    left_on=\"consorcio_id\",\n",
    "                    right_on=\"id\",\n",
    "                    suffixes = (\"\",\"_consorcio\"))\n",
    "    \n",
    "    vencido_12_selection = ((data.fecha_vencimiento_1 == '0000-00-00') \n",
    "                            | (data.fecha_vencimiento_2 == '0000-00-00')\n",
    "                           | (data.fecha_vencimiento_1.str.contains('-00'))\n",
    "                           | (data.fecha_vencimiento_2.str.contains('-00'))) & (data.modoPago == 'mes_vencido') & (data.mes == 12)\n",
    "    vencido_resto_selection = ((data.fecha_vencimiento_1 == '0000-00-00') | (data.fecha_vencimiento_2 == '0000-00-00') | (data.fecha_vencimiento_1.str.contains('-00'))\n",
    "                           | (data.fecha_vencimiento_2.str.contains('-00'))) & (data.modoPago == 'mes_vencido') & (data.mes != 12)\n",
    "    adelantado_selection = ((data.fecha_vencimiento_1 == '0000-00-00') | (data.fecha_vencimiento_2 == '0000-00-00')| (data.fecha_vencimiento_1.str.contains('-00'))\n",
    "                           | (data.fecha_vencimiento_2.str.contains('-00'))) & (data.modoPago == 'mes_adelantado')\n",
    "    \n",
    "\n",
    "    #vencido_12_selection\n",
    "    data.loc[vencido_12_selection, \"fecha_vencimiento_1\"] = (data.loc[vencido_12_selection, \"anio\"] + 1).map(str) + \"-01-10\"\n",
    "    data.loc[vencido_12_selection, \"fecha_vencimiento_2\"] = (data.loc[vencido_12_selection, \"anio\"] + 1).map(str) + \"-01-20\"\n",
    "\n",
    "    #vencido_resto_selection\n",
    "    data.loc[vencido_resto_selection, \"fecha_vencimiento_1\"] = data.loc[vencido_resto_selection, \"anio\"].map(str) + \"-\" + (data.loc[vencido_resto_selection, \"mes\"] + 1).apply(lambda x: '{0:0>2}'.format(x)) + \"-10\"\n",
    "    data.loc[vencido_resto_selection, \"fecha_vencimiento_2\"] = data.loc[vencido_resto_selection, \"anio\"].map(str) + \"-\" + (data.loc[vencido_resto_selection, \"mes\"] + 1).apply(lambda x: '{0:0>2}'.format(x)) + \"-20\"\n",
    "    \n",
    "    #adelantado_12_selection\n",
    "    data.loc[adelantado_selection, \"fecha_vencimiento_1\"] = data.loc[adelantado_selection, \"anio\"].map(str) + \"-\" + data.loc[adelantado_selection, \"mes\"].apply(lambda x: '{0:0>2}'.format(x)) + \"-10\"\n",
    "    data.loc[adelantado_selection, \"fecha_vencimiento_2\"] = data.loc[adelantado_selection, \"anio\"].map(str) + \"-\" + data.loc[adelantado_selection, \"mes\"].apply(lambda x: '{0:0>2}'.format(x)) + \"-20\"    \n",
    "    \n",
    "    return data\n",
    "\n",
    "def filter_expenses_concepts(expensas, concept_list = [1,10, 599]):\n",
    "    return expensas.loc[expensas.concepto_id.isin(concept_list),:]\n",
    "\n",
    "def filter_expenses_debts(expensas):\n",
    "    return expensas.loc[expensas.monto != expensas.monto_total,:]\n",
    "\n",
    "def remove_zero_payments(pagos):\n",
    "    return pagos.loc[pagos.monto_pago > 0,:]\n",
    "\n",
    "def filter_negative_amounts(expensas):\n",
    "    return expensas.loc[(expensas.monto > 0) & (expensas.monto_total > 0),:]\n",
    "\n",
    "def filter_expenses(expensas_raw, consorcios_raw):\n",
    "    exp = remove_deleted(expensas_raw)\n",
    "    exp = fix_wrong_dates(exp, consorcios_raw)\n",
    "    exp = filter_expenses_concepts(exp)\n",
    "    exp = filter_expenses_debts(exp)\n",
    "    exp = filter_negative_amounts(exp)\n",
    "    exp.fecha_vencimiento_1 = pd.to_datetime(exp.fecha_vencimiento_1)\n",
    "    exp.fecha_vencimiento_2 = pd.to_datetime(exp.fecha_vencimiento_2)\n",
    "    exp.fecha_emision = pd.to_datetime(exp.fecha_emision)\n",
    "    return exp\n",
    "\n",
    "def filter_payments(pagos_raw, metodos_pago_raw):\n",
    "    pagos = pd.merge(pagos_raw,\n",
    "                 metodos_pago_raw,\n",
    "                 left_on=\"metodo\",\n",
    "                 right_on=\"id\",\n",
    "                 suffixes = (\"\",\"_mp\"))\n",
    "\n",
    "    pagos = pagos[[\"fecha\",\"monto\",\"expensa_id\",\"nombre\"]]\n",
    "    pagos.columns = [\"fecha_pago\", \"monto_pago\", \"expensa_id\", \"metodo_pago\"]\n",
    "    pagos = remove_zero_payments(pagos)\n",
    "    pagos.fecha_pago = pd.to_datetime(pagos.fecha_pago, errors=\"coerce\")\n",
    "    return pagos"
   ]
  },
  {
   "cell_type": "code",
   "execution_count": 42,
   "metadata": {},
   "outputs": [],
   "source": [
    "expensas = filter_expenses(expensas_raw, consorcios_raw)\n",
    "pagos = filter_payments(pagos_raw, metodos_pago_raw)\n",
    "unidades = unidades_raw[[\"id\",\"denomination\",\"consorcio_id\", \"meters\",\"type_id\"]]"
   ]
  },
  {
   "cell_type": "code",
   "execution_count": 43,
   "metadata": {},
   "outputs": [],
   "source": [
    "expensas.to_csv('../../data/processed/expensas.csv')\n",
    "pagos.to_csv('../../data/processed/pagos.csv')\n",
    "unidades.to_csv('../../data/processed/unidades.csv')"
   ]
  }
 ],
 "metadata": {
  "kernelspec": {
   "display_name": "Python 3",
   "language": "python",
   "name": "python3"
  },
  "language_info": {
   "codemirror_mode": {
    "name": "ipython",
    "version": 3
   },
   "file_extension": ".py",
   "mimetype": "text/x-python",
   "name": "python",
   "nbconvert_exporter": "python",
   "pygments_lexer": "ipython3",
   "version": "3.6.5"
  },
  "varInspector": {
   "cols": {
    "lenName": 16,
    "lenType": 16,
    "lenVar": 40
   },
   "kernels_config": {
    "python": {
     "delete_cmd_postfix": "",
     "delete_cmd_prefix": "del ",
     "library": "var_list.py",
     "varRefreshCmd": "print(var_dic_list())"
    },
    "r": {
     "delete_cmd_postfix": ") ",
     "delete_cmd_prefix": "rm(",
     "library": "var_list.r",
     "varRefreshCmd": "cat(var_dic_list()) "
    }
   },
   "types_to_exclude": [
    "module",
    "function",
    "builtin_function_or_method",
    "instance",
    "_Feature"
   ],
   "window_display": false
  }
 },
 "nbformat": 4,
 "nbformat_minor": 2
}
