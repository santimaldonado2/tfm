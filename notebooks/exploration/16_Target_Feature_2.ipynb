{
 "cells": [
  {
   "cell_type": "code",
   "execution_count": 4,
   "metadata": {},
   "outputs": [],
   "source": [
    "import pandas as pd \n",
    "import matplotlib.pyplot as plt\n",
    "import numpy as np"
   ]
  },
  {
   "cell_type": "markdown",
   "metadata": {},
   "source": [
    "# Data Loading"
   ]
  },
  {
   "cell_type": "code",
   "execution_count": 5,
   "metadata": {},
   "outputs": [],
   "source": [
    "data = pd.read_csv(\"../../data/processed/data.csv\",\n",
    "                   dtype = {\n",
    "                            \"expensa_id\": \"object\",\n",
    "                            \"unidad_id\": \"object\",\n",
    "                            \"propietario_id\": \"object\",\n",
    "                            \"inquilino_id\": \"object\",\n",
    "                            \"consorcio_id\": \"object\",\n",
    "                            \"expensa_padre_id\": \"object\",\n",
    "                            \"unidad_prop\": \"object\",\n",
    "                            \"consorcio_id\": \"object\",\n",
    "                            \"usuario_creador_id\": \"object\",\n",
    "                            \"concepto_id\": \"object\",\n",
    "                            \"mes\": \"object\",\n",
    "                            \"anio\": \"object\",\n",
    "                            \"unidad_denominacion\":\"object\",\n",
    "                            \"consorcio_nombre\": \"object\",\n",
    "                            \"version\":\"object\",\n",
    "                            \"concepto_id\": \"object\",\n",
    "                            \"unidad_tipo\": \"object\",\n",
    "                            \"modo_pago\": \"object\",\n",
    "                            \"forma_prorrateo\": \"object\",\n",
    "                            \"tipo_prorrateo\": \"object\",\n",
    "                            \"metodo_pago\": \"object\",                       \n",
    "                    },\n",
    "                    parse_dates = [\"fecha_vencimiento_1\", \"fecha_vencimiento_2\"])\n",
    "data.fecha_pago = pd.to_datetime(data.fecha_pago, errors=\"coerce\")"
   ]
  },
  {
   "cell_type": "code",
   "execution_count": 6,
   "metadata": {},
   "outputs": [
    {
     "data": {
      "text/plain": [
       "(264541, 27)"
      ]
     },
     "execution_count": 6,
     "metadata": {},
     "output_type": "execute_result"
    }
   ],
   "source": [
    "data.shape"
   ]
  },
  {
   "cell_type": "code",
   "execution_count": 7,
   "metadata": {},
   "outputs": [
    {
     "data": {
      "text/plain": [
       "expensa_id                     object\n",
       "unidad_id                      object\n",
       "propietario_id                 object\n",
       "inquilino_id                   object\n",
       "fecha_vencimiento_1    datetime64[ns]\n",
       "fecha_vencimiento_2    datetime64[ns]\n",
       "monto                         float64\n",
       "monto_total                   float64\n",
       "monto_parcial                 float64\n",
       "expensa_padre_id               object\n",
       "int_dia                       float64\n",
       "int_mes                       float64\n",
       "mes                            object\n",
       "anio                           object\n",
       "unidad_denominacion            object\n",
       "unidad_prop                    object\n",
       "consorcio_id                   object\n",
       "consorcio_nombre               object\n",
       "version                        object\n",
       "concepto_id                    object\n",
       "unidad_tipo                    object\n",
       "modo_pago                      object\n",
       "forma_prorrateo                object\n",
       "tipo_prorrateo                 object\n",
       "fecha_pago             datetime64[ns]\n",
       "monto_pago                    float64\n",
       "metodo_pago                    object\n",
       "dtype: object"
      ]
     },
     "execution_count": 7,
     "metadata": {},
     "output_type": "execute_result"
    }
   ],
   "source": [
    "data.dtypes"
   ]
  },
  {
   "cell_type": "markdown",
   "metadata": {},
   "source": [
    "# Generate Posible Target Variables\n",
    "\n",
    "## Impago"
   ]
  },
  {
   "cell_type": "code",
   "execution_count": 8,
   "metadata": {},
   "outputs": [],
   "source": [
    "data[\"target\"] = (data.fecha_pago.dt.month == data.fecha_vencimiento_1.dt.month) & (data.fecha_pago.dt.year == data.fecha_vencimiento_1.dt.year)  "
   ]
  },
  {
   "cell_type": "markdown",
   "metadata": {},
   "source": [
    "## Paga En el Mes?"
   ]
  },
  {
   "cell_type": "code",
   "execution_count": 9,
   "metadata": {},
   "outputs": [],
   "source": [
    "data[\"fecha_expensa\"] = data.anio + '-' + data.mes + '-01'\n",
    "data.fecha_expensa = pd.to_datetime(data.fecha_expensa)\n",
    "data[\"fecha_expensa_anterior\"] = data.fecha_expensa - pd.DateOffset(months=1)"
   ]
  },
  {
   "cell_type": "code",
   "execution_count": 10,
   "metadata": {},
   "outputs": [],
   "source": [
    "data_lstm = data[[\"unidad_id\", \"fecha_expensa\", \"target\", \"fecha_expensa_anterior\"]]\n",
    "data_mes_anterior = data.set_index([\"unidad_id\", \"fecha_expensa\"])"
   ]
  },
  {
   "cell_type": "code",
   "execution_count": 11,
   "metadata": {},
   "outputs": [],
   "source": [
    "data_lstm = pd.merge(data_lstm,\n",
    "         data_mes_anterior,\n",
    "         left_on = [\"unidad_id\",\"fecha_expensa_anterior\"],\n",
    "         right_index = True,\n",
    "         suffixes = (\"\", \"_lag_1\"))\n",
    "\n",
    "for i in range(1,6):\n",
    "    data_lstm = pd.merge(data_lstm,\n",
    "                         data_mes_anterior,\n",
    "                         left_on = [\"unidad_id\",\"fecha_expensa_anterior_lag_{}\".format(i)],\n",
    "                         right_index = True,\n",
    "                         suffixes = (\"\", \"_lag_{}\".format(i+1)))\n",
    "\n",
    "target_columns = [\"fecha_expensa\"] + [column for column in data_lstm.columns if column[0:6] == \"target\"]\n",
    "data_lstm = data_lstm[target_columns]"
   ]
  },
  {
   "cell_type": "code",
   "execution_count": 12,
   "metadata": {},
   "outputs": [
    {
     "data": {
      "text/html": [
       "<div>\n",
       "<style scoped>\n",
       "    .dataframe tbody tr th:only-of-type {\n",
       "        vertical-align: middle;\n",
       "    }\n",
       "\n",
       "    .dataframe tbody tr th {\n",
       "        vertical-align: top;\n",
       "    }\n",
       "\n",
       "    .dataframe thead th {\n",
       "        text-align: right;\n",
       "    }\n",
       "</style>\n",
       "<table border=\"1\" class=\"dataframe\">\n",
       "  <thead>\n",
       "    <tr style=\"text-align: right;\">\n",
       "      <th></th>\n",
       "      <th>target</th>\n",
       "      <th>target_lag_1</th>\n",
       "      <th>target_lag_2</th>\n",
       "      <th>target_lag_3</th>\n",
       "      <th>target_lag_4</th>\n",
       "      <th>fecha_expensa</th>\n",
       "      <th>target_lag_5</th>\n",
       "      <th>target_lag_6</th>\n",
       "    </tr>\n",
       "  </thead>\n",
       "  <tbody>\n",
       "    <tr>\n",
       "      <th>31</th>\n",
       "      <td>True</td>\n",
       "      <td>True</td>\n",
       "      <td>True</td>\n",
       "      <td>True</td>\n",
       "      <td>True</td>\n",
       "      <td>94244</td>\n",
       "      <td>94244</td>\n",
       "      <td>94244</td>\n",
       "    </tr>\n",
       "    <tr>\n",
       "      <th>0</th>\n",
       "      <td>False</td>\n",
       "      <td>False</td>\n",
       "      <td>False</td>\n",
       "      <td>False</td>\n",
       "      <td>False</td>\n",
       "      <td>23857</td>\n",
       "      <td>23857</td>\n",
       "      <td>23857</td>\n",
       "    </tr>\n",
       "    <tr>\n",
       "      <th>15</th>\n",
       "      <td>False</td>\n",
       "      <td>True</td>\n",
       "      <td>True</td>\n",
       "      <td>True</td>\n",
       "      <td>True</td>\n",
       "      <td>8108</td>\n",
       "      <td>8108</td>\n",
       "      <td>8108</td>\n",
       "    </tr>\n",
       "    <tr>\n",
       "      <th>30</th>\n",
       "      <td>True</td>\n",
       "      <td>True</td>\n",
       "      <td>True</td>\n",
       "      <td>True</td>\n",
       "      <td>False</td>\n",
       "      <td>5990</td>\n",
       "      <td>5990</td>\n",
       "      <td>5990</td>\n",
       "    </tr>\n",
       "    <tr>\n",
       "      <th>23</th>\n",
       "      <td>True</td>\n",
       "      <td>False</td>\n",
       "      <td>True</td>\n",
       "      <td>True</td>\n",
       "      <td>True</td>\n",
       "      <td>4748</td>\n",
       "      <td>4748</td>\n",
       "      <td>4748</td>\n",
       "    </tr>\n",
       "    <tr>\n",
       "      <th>29</th>\n",
       "      <td>True</td>\n",
       "      <td>True</td>\n",
       "      <td>True</td>\n",
       "      <td>False</td>\n",
       "      <td>True</td>\n",
       "      <td>4591</td>\n",
       "      <td>4591</td>\n",
       "      <td>4591</td>\n",
       "    </tr>\n",
       "    <tr>\n",
       "      <th>27</th>\n",
       "      <td>True</td>\n",
       "      <td>True</td>\n",
       "      <td>False</td>\n",
       "      <td>True</td>\n",
       "      <td>True</td>\n",
       "      <td>4551</td>\n",
       "      <td>4551</td>\n",
       "      <td>4551</td>\n",
       "    </tr>\n",
       "    <tr>\n",
       "      <th>16</th>\n",
       "      <td>True</td>\n",
       "      <td>False</td>\n",
       "      <td>False</td>\n",
       "      <td>False</td>\n",
       "      <td>False</td>\n",
       "      <td>2364</td>\n",
       "      <td>2364</td>\n",
       "      <td>2364</td>\n",
       "    </tr>\n",
       "    <tr>\n",
       "      <th>1</th>\n",
       "      <td>False</td>\n",
       "      <td>False</td>\n",
       "      <td>False</td>\n",
       "      <td>False</td>\n",
       "      <td>True</td>\n",
       "      <td>2280</td>\n",
       "      <td>2280</td>\n",
       "      <td>2280</td>\n",
       "    </tr>\n",
       "    <tr>\n",
       "      <th>7</th>\n",
       "      <td>False</td>\n",
       "      <td>False</td>\n",
       "      <td>True</td>\n",
       "      <td>True</td>\n",
       "      <td>True</td>\n",
       "      <td>2225</td>\n",
       "      <td>2225</td>\n",
       "      <td>2225</td>\n",
       "    </tr>\n",
       "    <tr>\n",
       "      <th>28</th>\n",
       "      <td>True</td>\n",
       "      <td>True</td>\n",
       "      <td>True</td>\n",
       "      <td>False</td>\n",
       "      <td>False</td>\n",
       "      <td>2183</td>\n",
       "      <td>2183</td>\n",
       "      <td>2183</td>\n",
       "    </tr>\n",
       "    <tr>\n",
       "      <th>2</th>\n",
       "      <td>False</td>\n",
       "      <td>False</td>\n",
       "      <td>False</td>\n",
       "      <td>True</td>\n",
       "      <td>False</td>\n",
       "      <td>1867</td>\n",
       "      <td>1867</td>\n",
       "      <td>1867</td>\n",
       "    </tr>\n",
       "    <tr>\n",
       "      <th>4</th>\n",
       "      <td>False</td>\n",
       "      <td>False</td>\n",
       "      <td>True</td>\n",
       "      <td>False</td>\n",
       "      <td>False</td>\n",
       "      <td>1820</td>\n",
       "      <td>1820</td>\n",
       "      <td>1820</td>\n",
       "    </tr>\n",
       "    <tr>\n",
       "      <th>8</th>\n",
       "      <td>False</td>\n",
       "      <td>True</td>\n",
       "      <td>False</td>\n",
       "      <td>False</td>\n",
       "      <td>False</td>\n",
       "      <td>1814</td>\n",
       "      <td>1814</td>\n",
       "      <td>1814</td>\n",
       "    </tr>\n",
       "    <tr>\n",
       "      <th>24</th>\n",
       "      <td>True</td>\n",
       "      <td>True</td>\n",
       "      <td>False</td>\n",
       "      <td>False</td>\n",
       "      <td>False</td>\n",
       "      <td>1603</td>\n",
       "      <td>1603</td>\n",
       "      <td>1603</td>\n",
       "    </tr>\n",
       "    <tr>\n",
       "      <th>3</th>\n",
       "      <td>False</td>\n",
       "      <td>False</td>\n",
       "      <td>False</td>\n",
       "      <td>True</td>\n",
       "      <td>True</td>\n",
       "      <td>1521</td>\n",
       "      <td>1521</td>\n",
       "      <td>1521</td>\n",
       "    </tr>\n",
       "    <tr>\n",
       "      <th>11</th>\n",
       "      <td>False</td>\n",
       "      <td>True</td>\n",
       "      <td>False</td>\n",
       "      <td>True</td>\n",
       "      <td>True</td>\n",
       "      <td>1482</td>\n",
       "      <td>1482</td>\n",
       "      <td>1482</td>\n",
       "    </tr>\n",
       "    <tr>\n",
       "      <th>25</th>\n",
       "      <td>True</td>\n",
       "      <td>True</td>\n",
       "      <td>False</td>\n",
       "      <td>False</td>\n",
       "      <td>True</td>\n",
       "      <td>1341</td>\n",
       "      <td>1341</td>\n",
       "      <td>1341</td>\n",
       "    </tr>\n",
       "    <tr>\n",
       "      <th>19</th>\n",
       "      <td>True</td>\n",
       "      <td>False</td>\n",
       "      <td>False</td>\n",
       "      <td>True</td>\n",
       "      <td>True</td>\n",
       "      <td>1302</td>\n",
       "      <td>1302</td>\n",
       "      <td>1302</td>\n",
       "    </tr>\n",
       "    <tr>\n",
       "      <th>13</th>\n",
       "      <td>False</td>\n",
       "      <td>True</td>\n",
       "      <td>True</td>\n",
       "      <td>False</td>\n",
       "      <td>True</td>\n",
       "      <td>1286</td>\n",
       "      <td>1286</td>\n",
       "      <td>1286</td>\n",
       "    </tr>\n",
       "    <tr>\n",
       "      <th>14</th>\n",
       "      <td>False</td>\n",
       "      <td>True</td>\n",
       "      <td>True</td>\n",
       "      <td>True</td>\n",
       "      <td>False</td>\n",
       "      <td>1197</td>\n",
       "      <td>1197</td>\n",
       "      <td>1197</td>\n",
       "    </tr>\n",
       "    <tr>\n",
       "      <th>26</th>\n",
       "      <td>True</td>\n",
       "      <td>True</td>\n",
       "      <td>False</td>\n",
       "      <td>True</td>\n",
       "      <td>False</td>\n",
       "      <td>1176</td>\n",
       "      <td>1176</td>\n",
       "      <td>1176</td>\n",
       "    </tr>\n",
       "    <tr>\n",
       "      <th>21</th>\n",
       "      <td>True</td>\n",
       "      <td>False</td>\n",
       "      <td>True</td>\n",
       "      <td>False</td>\n",
       "      <td>True</td>\n",
       "      <td>1153</td>\n",
       "      <td>1153</td>\n",
       "      <td>1153</td>\n",
       "    </tr>\n",
       "    <tr>\n",
       "      <th>22</th>\n",
       "      <td>True</td>\n",
       "      <td>False</td>\n",
       "      <td>True</td>\n",
       "      <td>True</td>\n",
       "      <td>False</td>\n",
       "      <td>1128</td>\n",
       "      <td>1128</td>\n",
       "      <td>1128</td>\n",
       "    </tr>\n",
       "    <tr>\n",
       "      <th>5</th>\n",
       "      <td>False</td>\n",
       "      <td>False</td>\n",
       "      <td>True</td>\n",
       "      <td>False</td>\n",
       "      <td>True</td>\n",
       "      <td>1042</td>\n",
       "      <td>1042</td>\n",
       "      <td>1042</td>\n",
       "    </tr>\n",
       "    <tr>\n",
       "      <th>9</th>\n",
       "      <td>False</td>\n",
       "      <td>True</td>\n",
       "      <td>False</td>\n",
       "      <td>False</td>\n",
       "      <td>True</td>\n",
       "      <td>988</td>\n",
       "      <td>988</td>\n",
       "      <td>988</td>\n",
       "    </tr>\n",
       "    <tr>\n",
       "      <th>10</th>\n",
       "      <td>False</td>\n",
       "      <td>True</td>\n",
       "      <td>False</td>\n",
       "      <td>True</td>\n",
       "      <td>False</td>\n",
       "      <td>959</td>\n",
       "      <td>959</td>\n",
       "      <td>959</td>\n",
       "    </tr>\n",
       "    <tr>\n",
       "      <th>18</th>\n",
       "      <td>True</td>\n",
       "      <td>False</td>\n",
       "      <td>False</td>\n",
       "      <td>True</td>\n",
       "      <td>False</td>\n",
       "      <td>907</td>\n",
       "      <td>907</td>\n",
       "      <td>907</td>\n",
       "    </tr>\n",
       "    <tr>\n",
       "      <th>17</th>\n",
       "      <td>True</td>\n",
       "      <td>False</td>\n",
       "      <td>False</td>\n",
       "      <td>False</td>\n",
       "      <td>True</td>\n",
       "      <td>882</td>\n",
       "      <td>882</td>\n",
       "      <td>882</td>\n",
       "    </tr>\n",
       "    <tr>\n",
       "      <th>12</th>\n",
       "      <td>False</td>\n",
       "      <td>True</td>\n",
       "      <td>True</td>\n",
       "      <td>False</td>\n",
       "      <td>False</td>\n",
       "      <td>879</td>\n",
       "      <td>879</td>\n",
       "      <td>879</td>\n",
       "    </tr>\n",
       "    <tr>\n",
       "      <th>20</th>\n",
       "      <td>True</td>\n",
       "      <td>False</td>\n",
       "      <td>True</td>\n",
       "      <td>False</td>\n",
       "      <td>False</td>\n",
       "      <td>874</td>\n",
       "      <td>874</td>\n",
       "      <td>874</td>\n",
       "    </tr>\n",
       "    <tr>\n",
       "      <th>6</th>\n",
       "      <td>False</td>\n",
       "      <td>False</td>\n",
       "      <td>True</td>\n",
       "      <td>True</td>\n",
       "      <td>False</td>\n",
       "      <td>856</td>\n",
       "      <td>856</td>\n",
       "      <td>856</td>\n",
       "    </tr>\n",
       "  </tbody>\n",
       "</table>\n",
       "</div>"
      ],
      "text/plain": [
       "    target  target_lag_1  target_lag_2  target_lag_3  target_lag_4  fecha_expensa  target_lag_5  target_lag_6\n",
       "31    True          True          True          True          True          94244         94244         94244\n",
       "0    False         False         False         False         False          23857         23857         23857\n",
       "15   False          True          True          True          True           8108          8108          8108\n",
       "30    True          True          True          True         False           5990          5990          5990\n",
       "23    True         False          True          True          True           4748          4748          4748\n",
       "29    True          True          True         False          True           4591          4591          4591\n",
       "27    True          True         False          True          True           4551          4551          4551\n",
       "16    True         False         False         False         False           2364          2364          2364\n",
       "1    False         False         False         False          True           2280          2280          2280\n",
       "7    False         False          True          True          True           2225          2225          2225\n",
       "28    True          True          True         False         False           2183          2183          2183\n",
       "2    False         False         False          True         False           1867          1867          1867\n",
       "4    False         False          True         False         False           1820          1820          1820\n",
       "8    False          True         False         False         False           1814          1814          1814\n",
       "24    True          True         False         False         False           1603          1603          1603\n",
       "3    False         False         False          True          True           1521          1521          1521\n",
       "11   False          True         False          True          True           1482          1482          1482\n",
       "25    True          True         False         False          True           1341          1341          1341\n",
       "19    True         False         False          True          True           1302          1302          1302\n",
       "13   False          True          True         False          True           1286          1286          1286\n",
       "14   False          True          True          True         False           1197          1197          1197\n",
       "26    True          True         False          True         False           1176          1176          1176\n",
       "21    True         False          True         False          True           1153          1153          1153\n",
       "22    True         False          True          True         False           1128          1128          1128\n",
       "5    False         False          True         False          True           1042          1042          1042\n",
       "9    False          True         False         False          True            988           988           988\n",
       "10   False          True         False          True         False            959           959           959\n",
       "18    True         False         False          True         False            907           907           907\n",
       "17    True         False         False         False          True            882           882           882\n",
       "12   False          True          True         False         False            879           879           879\n",
       "20    True         False          True         False         False            874           874           874\n",
       "6    False         False          True          True         False            856           856           856"
      ]
     },
     "execution_count": 12,
     "metadata": {},
     "output_type": "execute_result"
    }
   ],
   "source": [
    "data_lstm.groupby(target_columns[1:6]).count().reset_index().sort_values(\"fecha_expensa\", ascending = False)"
   ]
  },
  {
   "cell_type": "code",
   "execution_count": 13,
   "metadata": {},
   "outputs": [],
   "source": [
    "X = data_lstm.drop(columns=\"target\")\n",
    "Y = data_lstm[[\"fecha_expensa\", \"target\"]]"
   ]
  },
  {
   "cell_type": "code",
   "execution_count": 14,
   "metadata": {},
   "outputs": [],
   "source": [
    "X = X.loc[data_lstm.fecha_expensa < \"2019-01-01\",:]\n",
    "Y = Y.loc[data_lstm.fecha_expensa < \"2019-01-01\",:]"
   ]
  },
  {
   "cell_type": "code",
   "execution_count": 15,
   "metadata": {},
   "outputs": [
    {
     "name": "stdout",
     "output_type": "stream",
     "text": [
      "(157395, 7)\n",
      "(157395, 2)\n"
     ]
    }
   ],
   "source": [
    "print(X.shape)\n",
    "print(Y.shape)"
   ]
  },
  {
   "cell_type": "code",
   "execution_count": 16,
   "metadata": {},
   "outputs": [
    {
     "name": "stdout",
     "output_type": "stream",
     "text": [
      "(122719, 6) (34676, 6)\n",
      "(122719,) (34676,)\n"
     ]
    }
   ],
   "source": [
    "target_columns2 = [column for column in X.columns if column[0:6] == \"target\"]\n",
    "X_train = X.loc[X.fecha_expensa < '2018-09-01', target_columns2]\n",
    "X_test = X.loc[X.fecha_expensa >= '2018-09-01', target_columns2]\n",
    "Y_train = Y.loc[Y.fecha_expensa < '2018-09-01', \"target\"]\n",
    "Y_test =Y.loc[Y.fecha_expensa >= '2018-09-01', \"target\"]\n",
    "print(X_train.shape, X_test.shape)\n",
    "print(Y_train.shape, Y_test.shape)"
   ]
  },
  {
   "cell_type": "markdown",
   "metadata": {},
   "source": [
    "## XGBoost"
   ]
  },
  {
   "cell_type": "code",
   "execution_count": 18,
   "metadata": {},
   "outputs": [],
   "source": [
    "from xgboost import XGBClassifier\n",
    "xgb = XGBClassifier(\n",
    "   max_depth = 3,\n",
    "   n_estimators = 256,\n",
    "   learning_rate = 0.01)"
   ]
  },
  {
   "cell_type": "code",
   "execution_count": 20,
   "metadata": {},
   "outputs": [
    {
     "data": {
      "text/plain": [
       "XGBClassifier(base_score=0.5, booster='gbtree', colsample_bylevel=1,\n",
       "       colsample_bytree=1, gamma=0, learning_rate=0.01, max_delta_step=0,\n",
       "       max_depth=3, min_child_weight=1, missing=None, n_estimators=256,\n",
       "       n_jobs=1, nthread=None, objective='binary:logistic', random_state=0,\n",
       "       reg_alpha=0, reg_lambda=1, scale_pos_weight=1, seed=None,\n",
       "       silent=True, subsample=1)"
      ]
     },
     "execution_count": 20,
     "metadata": {},
     "output_type": "execute_result"
    }
   ],
   "source": [
    "xgb.fit(X_train, Y_train)"
   ]
  },
  {
   "cell_type": "code",
   "execution_count": 22,
   "metadata": {},
   "outputs": [
    {
     "name": "stdout",
     "output_type": "stream",
     "text": [
      "accuracy 0.8729862531474344\n",
      "f1 0.9153997709546631\n",
      "precision 0.8884112937210282\n",
      "recall 0.9440793524624117\n"
     ]
    }
   ],
   "source": [
    "from sklearn.metrics import f1_score, precision_score, recall_score, accuracy_score\n",
    "pred = xgb.predict(X_train)\n",
    "print(\"accuracy\", accuracy_score(Y_train, pred))\n",
    "print(\"f1\", f1_score(Y_train, pred))\n",
    "print(\"precision\", precision_score(Y_train, pred))\n",
    "print(\"recall\", recall_score(Y_train, pred))"
   ]
  },
  {
   "cell_type": "code",
   "execution_count": 23,
   "metadata": {},
   "outputs": [
    {
     "name": "stdout",
     "output_type": "stream",
     "text": [
      "accuracy 0.8588649209828123\n",
      "f1 0.9093099103105775\n",
      "precision 0.8743451765795944\n",
      "recall 0.9471875844496777\n"
     ]
    }
   ],
   "source": [
    "pred = xgb.predict(X_test)\n",
    "print(\"accuracy\", accuracy_score(Y_test, pred))\n",
    "print(\"f1\", f1_score(Y_test, pred))\n",
    "print(\"precision\", precision_score(Y_test, pred))\n",
    "print(\"recall\", recall_score(Y_test, pred))"
   ]
  },
  {
   "cell_type": "markdown",
   "metadata": {},
   "source": [
    "## LSTM"
   ]
  },
  {
   "cell_type": "code",
   "execution_count": 25,
   "metadata": {},
   "outputs": [],
   "source": [
    "X_train_lstm = X_train.values.reshape(*X_train.shape,1)\n",
    "X_test_lstm = X_test.values.reshape(*X_test.shape,1)"
   ]
  },
  {
   "cell_type": "code",
   "execution_count": 28,
   "metadata": {},
   "outputs": [
    {
     "name": "stdout",
     "output_type": "stream",
     "text": [
      "(122710, 6, 1) (34670, 6, 1)\n",
      "(122710,) (34670,)\n"
     ]
    }
   ],
   "source": [
    "X_train_lstm = X_train_lstm[9:,:,:]\n",
    "X_test_lstm  = X_test_lstm[6:,:,:]\n",
    "Y_train = Y_train[9:]\n",
    "Y_test  = Y_test[6:]\n",
    "print(X_train_lstm.shape, X_test_lstm.shape)\n",
    "print(Y_train.shape, Y_test.shape)"
   ]
  },
  {
   "cell_type": "code",
   "execution_count": 43,
   "metadata": {},
   "outputs": [],
   "source": [
    "from keras.layers.core import Dense, Dropout, Activation\n",
    "from keras.models import Sequential\n",
    "from keras.layers import LSTM, Embedding\n",
    "\n",
    "lstm_model = Sequential()\n",
    "lstm_model.add(LSTM(128, batch_input_shape=(10,6,1), dropout=0.0, recurrent_dropout=0.0, stateful=True, kernel_initializer='random_uniform'))\n",
    "lstm_model.add(Dropout(0.3))\n",
    "lstm_model.add(Dense(64,activation='relu'))\n",
    "lstm_model.add(Dense(1,activation='softmax'))\n",
    "lstm_model.compile(loss='binary_crossentropy', optimizer=\"adam\")"
   ]
  },
  {
   "cell_type": "code",
   "execution_count": 44,
   "metadata": {},
   "outputs": [
    {
     "name": "stdout",
     "output_type": "stream",
     "text": [
      "_________________________________________________________________\n",
      "Layer (type)                 Output Shape              Param #   \n",
      "=================================================================\n",
      "lstm_4 (LSTM)                (10, 128)                 66560     \n",
      "_________________________________________________________________\n",
      "dropout_4 (Dropout)          (10, 128)                 0         \n",
      "_________________________________________________________________\n",
      "dense_7 (Dense)              (10, 64)                  8256      \n",
      "_________________________________________________________________\n",
      "dense_8 (Dense)              (10, 1)                   65        \n",
      "=================================================================\n",
      "Total params: 74,881\n",
      "Trainable params: 74,881\n",
      "Non-trainable params: 0\n",
      "_________________________________________________________________\n"
     ]
    }
   ],
   "source": [
    "lstm_model.summary()"
   ]
  },
  {
   "cell_type": "code",
   "execution_count": 45,
   "metadata": {},
   "outputs": [
    {
     "name": "stdout",
     "output_type": "stream",
     "text": [
      "Epoch 1/2\n",
      "Epoch 2/2\n"
     ]
    },
    {
     "data": {
      "text/plain": [
       "<keras.callbacks.History at 0x1678c9c7c18>"
      ]
     },
     "execution_count": 45,
     "metadata": {},
     "output_type": "execute_result"
    }
   ],
   "source": [
    "lstm_model.fit(X_train_lstm, Y_train, epochs=2, verbose=3, batch_size=10, shuffle=True)"
   ]
  },
  {
   "cell_type": "code",
   "execution_count": 47,
   "metadata": {},
   "outputs": [
    {
     "name": "stdout",
     "output_type": "stream",
     "text": [
      "accuracy 0.7278461413087768\n",
      "f1 0.8424895294872279\n",
      "precision 0.7278461413087768\n",
      "recall 1.0\n"
     ]
    }
   ],
   "source": [
    "pred = lstm_model.predict_classes(X_train_lstm, batch_size=10)\n",
    "print(\"accuracy\", accuracy_score(Y_train, pred))\n",
    "print(\"f1\", f1_score(Y_train, pred))\n",
    "print(\"precision\", precision_score(Y_train, pred))\n",
    "print(\"recall\", recall_score(Y_train, pred))"
   ]
  },
  {
   "cell_type": "code",
   "execution_count": 48,
   "metadata": {},
   "outputs": [
    {
     "name": "stdout",
     "output_type": "stream",
     "text": [
      "accuracy 0.7469570233631382\n",
      "f1 0.855152145557812\n",
      "precision 0.7469570233631382\n",
      "recall 1.0\n"
     ]
    }
   ],
   "source": [
    "pred = lstm_model.predict_classes(X_test_lstm, batch_size=10)\n",
    "print(\"accuracy\", accuracy_score(Y_test, pred))\n",
    "print(\"f1\", f1_score(Y_test, pred))\n",
    "print(\"precision\", precision_score(Y_test, pred))\n",
    "print(\"recall\", recall_score(Y_test, pred))"
   ]
  },
  {
   "cell_type": "code",
   "execution_count": null,
   "metadata": {},
   "outputs": [],
   "source": []
  }
 ],
 "metadata": {
  "kernelspec": {
   "display_name": "Python 3",
   "language": "python",
   "name": "python3"
  },
  "language_info": {
   "codemirror_mode": {
    "name": "ipython",
    "version": 3
   },
   "file_extension": ".py",
   "mimetype": "text/x-python",
   "name": "python",
   "nbconvert_exporter": "python",
   "pygments_lexer": "ipython3",
   "version": "3.6.8"
  },
  "varInspector": {
   "cols": {
    "lenName": 16,
    "lenType": 16,
    "lenVar": 40
   },
   "kernels_config": {
    "python": {
     "delete_cmd_postfix": "",
     "delete_cmd_prefix": "del ",
     "library": "var_list.py",
     "varRefreshCmd": "print(var_dic_list())"
    },
    "r": {
     "delete_cmd_postfix": ") ",
     "delete_cmd_prefix": "rm(",
     "library": "var_list.r",
     "varRefreshCmd": "cat(var_dic_list()) "
    }
   },
   "types_to_exclude": [
    "module",
    "function",
    "builtin_function_or_method",
    "instance",
    "_Feature"
   ],
   "window_display": false
  }
 },
 "nbformat": 4,
 "nbformat_minor": 2
}
