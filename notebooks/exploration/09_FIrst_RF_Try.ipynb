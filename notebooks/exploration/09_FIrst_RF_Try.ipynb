{
 "cells": [
  {
   "cell_type": "code",
   "execution_count": 1,
   "metadata": {},
   "outputs": [],
   "source": [
    "import pandas as pd \n",
    "import seaborn as sns\n",
    "import matplotlib.pyplot as plt\n",
    "import numpy as np"
   ]
  },
  {
   "cell_type": "code",
   "execution_count": 67,
   "metadata": {},
   "outputs": [],
   "source": [
    "data = pd.read_csv(\"../../data/processed/data.csv\",\n",
    "                   dtype = {\n",
    "                            \"expensa_id\": \"object\",\n",
    "                            \"unidad_id\": \"object\",\n",
    "                            \"propietario_id\": \"object\",\n",
    "                            \"inquilino_id\": \"object\",\n",
    "                            \"consorcio_id\": \"object\",\n",
    "                            \"expensa_padre_id\": \"object\",\n",
    "                            \"unidad_prop\": \"object\",\n",
    "                            \"consorcio_id\": \"object\",\n",
    "                            \"usuario_creador_id\": \"object\",\n",
    "                            \"concepto_id\": \"object\",\n",
    "                            \"mes\": \"object\",\n",
    "                            \"anio\": \"object\",\n",
    "                            \"unidad_denominacion\":\"object\",\n",
    "                            \"consorcio_nombre\": \"object\",\n",
    "                            \"version\":\"object\",\n",
    "                            \"concepto_id\": \"object\",\n",
    "                            \"unidad_tipo\": \"object\",\n",
    "                            \"modo_pago\": \"object\",\n",
    "                            \"forma_prorrateo\": \"object\",\n",
    "                            \"tipo_prorrateo\": \"object\",\n",
    "                            \"metodo_pago\": \"object\",                       \n",
    "                    },\n",
    "                    parse_dates = [\"fecha_vencimiento_1\", \"fecha_vencimiento_2\"])\n",
    "data.fecha_pago = pd.to_datetime(data.fecha_pago, errors=\"coerce\")"
   ]
  },
  {
   "cell_type": "code",
   "execution_count": 68,
   "metadata": {},
   "outputs": [],
   "source": [
    "data[\"fecha_expensa\"] = data.anio + '-' + data.mes + '-01'\n",
    "data.fecha_expensa = pd.to_datetime(data.fecha_expensa)\n",
    "data[\"fecha_expensa_anterior\"] = data.fecha_expensa - pd.DateOffset(months=1)"
   ]
  },
  {
   "cell_type": "code",
   "execution_count": 69,
   "metadata": {},
   "outputs": [],
   "source": [
    "data = data[['expensa_id', 'unidad_id', 'propietario_id', 'inquilino_id',\n",
    "       'fecha_vencimiento_1', 'fecha_vencimiento_2', 'monto', 'monto_total',\n",
    "       'monto_parcial', 'expensa_padre_id', 'int_dia', 'int_mes', 'mes',\n",
    "       'anio', 'unidad_tipo',\n",
    "       'modo_pago', 'forma_prorrateo', 'tipo_prorrateo', 'fecha_pago',\n",
    "       'monto_pago', 'metodo_pago', 'fecha_expensa', 'fecha_expensa_anterior']]"
   ]
  },
  {
   "cell_type": "code",
   "execution_count": 70,
   "metadata": {},
   "outputs": [],
   "source": [
    "data[\"impago\"] = data.fecha_pago.isna()\n",
    "data[\"pago_tardio_1\"] = (data.fecha_pago > data.fecha_vencimiento_1) & (data.fecha_pago <= data.fecha_vencimiento_2)\n",
    "data[\"pago_tardio_2\"] = (data.fecha_pago > data.fecha_vencimiento_2)\n",
    "data[\"pago_tardio\"] = data.pago_tardio_1 | data.pago_tardio_2\n",
    "\n",
    "data.loc[data.metodo_pago.isna(), \"metodo_pago\"] = \"Impago\"\n",
    "\n",
    "data[\"propietario\"] = data.propietario_id == \"0\"\n",
    "data[\"inquilino\"] = data.inquilino_id == \"0\"\n",
    "data[\"venc_1_dayofweek\"] = data.fecha_vencimiento_1.dt.dayofweek.map(str)\n",
    "data[\"venc_1_day\"] = data.fecha_vencimiento_1.dt.day\n",
    "data[\"venc_1_fer\"] = data.fecha_vencimiento_1.dt.date.map(lambda x: str(x) in feriados)\n",
    "data[\"venc_2_dayofweek\"] = data.fecha_vencimiento_2.dt.dayofweek.map(str)\n",
    "data[\"venc_2_day\"] = data.fecha_vencimiento_2.dt.day\n",
    "data[\"venc_2_fer\"] = data.fecha_vencimiento_2.dt.date.map(lambda x: str(x) in feriados)\n",
    "data[\"pag_day\"] = data.fecha_pago.dt.day\n",
    "data[\"pag_dayofweek\"] = data.fecha_pago.dt.dayofweek.map(str)"
   ]
  },
  {
   "cell_type": "code",
   "execution_count": 71,
   "metadata": {},
   "outputs": [],
   "source": [
    "data_mes_anterior = data[[\"fecha_expensa\", \"unidad_id\", \"venc_1_dayofweek\", \"venc_1_day\", \"venc_1_fer\", \"venc_2_dayofweek\", \"venc_2_day\", \"venc_2_fer\", \"metodo_pago\", \"pag_day\", \"pag_dayofweek\", \"impago\", \"pago_tardio\"]]"
   ]
  },
  {
   "cell_type": "code",
   "execution_count": 72,
   "metadata": {},
   "outputs": [
    {
     "data": {
      "text/plain": [
       "(264541, 37)"
      ]
     },
     "execution_count": 72,
     "metadata": {},
     "output_type": "execute_result"
    }
   ],
   "source": [
    "data.shape"
   ]
  },
  {
   "cell_type": "code",
   "execution_count": 73,
   "metadata": {},
   "outputs": [],
   "source": [
    "data = pd.merge(\n",
    "    data,\n",
    "    data_mes_anterior,\n",
    "    left_on=[\"fecha_expensa_anterior\",\"unidad_id\"],\n",
    "    right_on=[\"fecha_expensa\", \"unidad_id\"],\n",
    "    how = \"left\",\n",
    "    suffixes = (\"\",\"_ant\"))"
   ]
  },
  {
   "cell_type": "code",
   "execution_count": 76,
   "metadata": {},
   "outputs": [],
   "source": [
    "data = data[~data.fecha_expensa_ant.isna()]"
   ]
  },
  {
   "cell_type": "code",
   "execution_count": 77,
   "metadata": {},
   "outputs": [
    {
     "data": {
      "text/plain": [
       "Index(['expensa_id', 'unidad_id', 'propietario_id', 'inquilino_id',\n",
       "       'fecha_vencimiento_1', 'fecha_vencimiento_2', 'monto', 'monto_total',\n",
       "       'monto_parcial', 'expensa_padre_id', 'int_dia', 'int_mes', 'mes',\n",
       "       'anio', 'unidad_tipo', 'modo_pago', 'forma_prorrateo', 'tipo_prorrateo',\n",
       "       'fecha_pago', 'monto_pago', 'metodo_pago', 'fecha_expensa',\n",
       "       'fecha_expensa_anterior', 'impago', 'pago_tardio_1', 'pago_tardio_2',\n",
       "       'pago_tardio', 'propietario', 'inquilino', 'venc_1_dayofweek',\n",
       "       'venc_1_day', 'venc_1_fer', 'venc_2_dayofweek', 'venc_2_day',\n",
       "       'venc_2_fer', 'pag_day', 'pag_dayofweek', 'fecha_expensa_ant',\n",
       "       'venc_1_dayofweek_ant', 'venc_1_day_ant', 'venc_1_fer_ant',\n",
       "       'venc_2_dayofweek_ant', 'venc_2_day_ant', 'venc_2_fer_ant',\n",
       "       'metodo_pago_ant', 'pag_day_ant', 'pag_dayofweek_ant', 'impago_ant',\n",
       "       'pago_tardio_ant'],\n",
       "      dtype='object')"
      ]
     },
     "execution_count": 77,
     "metadata": {},
     "output_type": "execute_result"
    }
   ],
   "source": [
    "data.columns"
   ]
  },
  {
   "cell_type": "code",
   "execution_count": 144,
   "metadata": {},
   "outputs": [],
   "source": [
    "X = data[['monto', 'monto_total',\n",
    "       'monto_parcial', 'int_dia', 'int_mes', 'mes',\n",
    "       'anio', 'unidad_tipo', 'modo_pago', 'forma_prorrateo', 'tipo_prorrateo',\n",
    "       'propietario', 'inquilino', 'venc_1_dayofweek',\n",
    "       'venc_1_day', 'venc_1_fer', 'venc_2_dayofweek', 'venc_2_day',\n",
    "       'venc_2_fer', 'venc_1_dayofweek_ant', 'venc_1_day_ant', 'venc_1_fer_ant',\n",
    "       'venc_2_dayofweek_ant', 'venc_2_day_ant', 'venc_2_fer_ant',\n",
    "       'metodo_pago_ant', 'pag_dayofweek_ant', 'impago_ant', 'pago_tardio_ant']]"
   ]
  },
  {
   "cell_type": "code",
   "execution_count": 145,
   "metadata": {},
   "outputs": [],
   "source": [
    "X = pd.get_dummies(X)"
   ]
  },
  {
   "cell_type": "code",
   "execution_count": 146,
   "metadata": {},
   "outputs": [],
   "source": [
    "y = data[\"pago_tardio\"]"
   ]
  },
  {
   "cell_type": "code",
   "execution_count": 147,
   "metadata": {},
   "outputs": [],
   "source": [
    "X_train = X.iloc[0:200000,:]\n",
    "X_test = X.iloc[200001:,:]\n",
    "y_train = y[0:200000]\n",
    "y_test = y[200001:]"
   ]
  },
  {
   "cell_type": "code",
   "execution_count": 148,
   "metadata": {},
   "outputs": [
    {
     "data": {
      "text/plain": [
       "(200000, 102)"
      ]
     },
     "execution_count": 148,
     "metadata": {},
     "output_type": "execute_result"
    }
   ],
   "source": [
    "X_train.shape"
   ]
  },
  {
   "cell_type": "code",
   "execution_count": 149,
   "metadata": {},
   "outputs": [
    {
     "data": {
      "text/plain": [
       "(46624, 102)"
      ]
     },
     "execution_count": 149,
     "metadata": {},
     "output_type": "execute_result"
    }
   ],
   "source": [
    "X_test.shape"
   ]
  },
  {
   "cell_type": "code",
   "execution_count": 150,
   "metadata": {},
   "outputs": [
    {
     "data": {
      "text/plain": [
       "(200000,)"
      ]
     },
     "execution_count": 150,
     "metadata": {},
     "output_type": "execute_result"
    }
   ],
   "source": [
    "y_train.shape"
   ]
  },
  {
   "cell_type": "code",
   "execution_count": 151,
   "metadata": {},
   "outputs": [
    {
     "data": {
      "text/plain": [
       "monto                                   0\n",
       "monto_total                             0\n",
       "monto_parcial                           0\n",
       "int_dia                                 0\n",
       "int_mes                                 0\n",
       "propietario                             0\n",
       "inquilino                               0\n",
       "venc_1_day                              0\n",
       "venc_1_fer                              0\n",
       "venc_2_day                              0\n",
       "venc_2_fer                              0\n",
       "venc_1_day_ant                          0\n",
       "venc_2_day_ant                          0\n",
       "mes_1                                   0\n",
       "mes_10                                  0\n",
       "mes_11                                  0\n",
       "mes_12                                  0\n",
       "mes_2                                   0\n",
       "mes_3                                   0\n",
       "mes_4                                   0\n",
       "mes_5                                   0\n",
       "mes_6                                   0\n",
       "mes_7                                   0\n",
       "mes_8                                   0\n",
       "mes_9                                   0\n",
       "anio_2014                               0\n",
       "anio_2015                               0\n",
       "anio_2016                               0\n",
       "anio_2017                               0\n",
       "anio_2018                               0\n",
       "                                       ..\n",
       "venc_2_dayofweek_ant_3                  0\n",
       "venc_2_dayofweek_ant_4                  0\n",
       "venc_2_dayofweek_ant_5                  0\n",
       "venc_2_dayofweek_ant_6                  0\n",
       "venc_2_fer_ant_False                    0\n",
       "venc_2_fer_ant_True                     0\n",
       "metodo_pago_ant_Bapropagos              0\n",
       "metodo_pago_ant_Cheque                  0\n",
       "metodo_pago_ant_Débito directo          0\n",
       "metodo_pago_ant_Efectivo                0\n",
       "metodo_pago_ant_Impago                  0\n",
       "metodo_pago_ant_Link Pagos              0\n",
       "metodo_pago_ant_Nota de crédito         0\n",
       "metodo_pago_ant_Pago Facil              0\n",
       "metodo_pago_ant_Pago Mis Cuentas        0\n",
       "metodo_pago_ant_Rapipago                0\n",
       "metodo_pago_ant_Saldo a favor unidad    0\n",
       "metodo_pago_ant_Transferencia           0\n",
       "pag_dayofweek_ant_0.0                   0\n",
       "pag_dayofweek_ant_1.0                   0\n",
       "pag_dayofweek_ant_2.0                   0\n",
       "pag_dayofweek_ant_3.0                   0\n",
       "pag_dayofweek_ant_4.0                   0\n",
       "pag_dayofweek_ant_5.0                   0\n",
       "pag_dayofweek_ant_6.0                   0\n",
       "pag_dayofweek_ant_nan                   0\n",
       "impago_ant_False                        0\n",
       "impago_ant_True                         0\n",
       "pago_tardio_ant_False                   0\n",
       "pago_tardio_ant_True                    0\n",
       "Length: 102, dtype: int64"
      ]
     },
     "execution_count": 151,
     "metadata": {},
     "output_type": "execute_result"
    }
   ],
   "source": [
    "X.isna().sum(axis=0)"
   ]
  },
  {
   "cell_type": "code",
   "execution_count": 152,
   "metadata": {},
   "outputs": [],
   "source": [
    "from sklearn.ensemble import RandomForestClassifier\n",
    "\n",
    "clf = RandomForestClassifier(n_estimators = 200,\n",
    "                             max_depth = 20,\n",
    "                             n_jobs = -1)"
   ]
  },
  {
   "cell_type": "code",
   "execution_count": 153,
   "metadata": {},
   "outputs": [
    {
     "data": {
      "text/plain": [
       "RandomForestClassifier(bootstrap=True, class_weight=None, criterion='gini',\n",
       "            max_depth=20, max_features='auto', max_leaf_nodes=None,\n",
       "            min_impurity_decrease=0.0, min_impurity_split=None,\n",
       "            min_samples_leaf=1, min_samples_split=2,\n",
       "            min_weight_fraction_leaf=0.0, n_estimators=200, n_jobs=-1,\n",
       "            oob_score=False, random_state=None, verbose=0,\n",
       "            warm_start=False)"
      ]
     },
     "execution_count": 153,
     "metadata": {},
     "output_type": "execute_result"
    }
   ],
   "source": [
    "clf.fit(X_train, y_train )"
   ]
  },
  {
   "cell_type": "code",
   "execution_count": 154,
   "metadata": {},
   "outputs": [
    {
     "data": {
      "text/plain": [
       "0.87181"
      ]
     },
     "execution_count": 154,
     "metadata": {},
     "output_type": "execute_result"
    }
   ],
   "source": [
    "clf.score(X_train, y_train)"
   ]
  },
  {
   "cell_type": "code",
   "execution_count": 155,
   "metadata": {},
   "outputs": [
    {
     "data": {
      "text/plain": [
       "0.8104838709677419"
      ]
     },
     "execution_count": 155,
     "metadata": {},
     "output_type": "execute_result"
    }
   ],
   "source": [
    "clf.score(X_test, y_test)"
   ]
  },
  {
   "cell_type": "code",
   "execution_count": 156,
   "metadata": {},
   "outputs": [
    {
     "data": {
      "text/plain": [
       "0.6349363741530325"
      ]
     },
     "execution_count": 156,
     "metadata": {},
     "output_type": "execute_result"
    }
   ],
   "source": [
    "from sklearn.metrics import f1_score\n",
    "f1_score(y_test, clf.predict(X_test))"
   ]
  },
  {
   "cell_type": "code",
   "execution_count": 157,
   "metadata": {},
   "outputs": [],
   "source": [
    "features_imp = pd.DataFrame( {\"variable\": X_train.columns,\n",
    "               \"importance\": clf.feature_importances_})"
   ]
  },
  {
   "cell_type": "code",
   "execution_count": 158,
   "metadata": {},
   "outputs": [
    {
     "data": {
      "text/html": [
       "<div>\n",
       "<style scoped>\n",
       "    .dataframe tbody tr th:only-of-type {\n",
       "        vertical-align: middle;\n",
       "    }\n",
       "\n",
       "    .dataframe tbody tr th {\n",
       "        vertical-align: top;\n",
       "    }\n",
       "\n",
       "    .dataframe thead th {\n",
       "        text-align: right;\n",
       "    }\n",
       "</style>\n",
       "<table border=\"1\" class=\"dataframe\">\n",
       "  <thead>\n",
       "    <tr style=\"text-align: right;\">\n",
       "      <th></th>\n",
       "      <th>variable</th>\n",
       "      <th>importance</th>\n",
       "    </tr>\n",
       "  </thead>\n",
       "  <tbody>\n",
       "    <tr>\n",
       "      <th>101</th>\n",
       "      <td>pago_tardio_ant_True</td>\n",
       "      <td>0.199070</td>\n",
       "    </tr>\n",
       "    <tr>\n",
       "      <th>100</th>\n",
       "      <td>pago_tardio_ant_False</td>\n",
       "      <td>0.172038</td>\n",
       "    </tr>\n",
       "    <tr>\n",
       "      <th>0</th>\n",
       "      <td>monto</td>\n",
       "      <td>0.072711</td>\n",
       "    </tr>\n",
       "    <tr>\n",
       "      <th>81</th>\n",
       "      <td>metodo_pago_ant_Efectivo</td>\n",
       "      <td>0.062691</td>\n",
       "    </tr>\n",
       "    <tr>\n",
       "      <th>1</th>\n",
       "      <td>monto_total</td>\n",
       "      <td>0.039137</td>\n",
       "    </tr>\n",
       "    <tr>\n",
       "      <th>4</th>\n",
       "      <td>int_mes</td>\n",
       "      <td>0.025516</td>\n",
       "    </tr>\n",
       "    <tr>\n",
       "      <th>9</th>\n",
       "      <td>venc_2_day</td>\n",
       "      <td>0.017817</td>\n",
       "    </tr>\n",
       "    <tr>\n",
       "      <th>7</th>\n",
       "      <td>venc_1_day</td>\n",
       "      <td>0.015667</td>\n",
       "    </tr>\n",
       "    <tr>\n",
       "      <th>3</th>\n",
       "      <td>int_dia</td>\n",
       "      <td>0.015132</td>\n",
       "    </tr>\n",
       "    <tr>\n",
       "      <th>12</th>\n",
       "      <td>venc_2_day_ant</td>\n",
       "      <td>0.014936</td>\n",
       "    </tr>\n",
       "    <tr>\n",
       "      <th>86</th>\n",
       "      <td>metodo_pago_ant_Pago Mis Cuentas</td>\n",
       "      <td>0.014412</td>\n",
       "    </tr>\n",
       "    <tr>\n",
       "      <th>82</th>\n",
       "      <td>metodo_pago_ant_Impago</td>\n",
       "      <td>0.014361</td>\n",
       "    </tr>\n",
       "    <tr>\n",
       "      <th>30</th>\n",
       "      <td>anio_2019</td>\n",
       "      <td>0.014259</td>\n",
       "    </tr>\n",
       "    <tr>\n",
       "      <th>11</th>\n",
       "      <td>venc_1_day_ant</td>\n",
       "      <td>0.013345</td>\n",
       "    </tr>\n",
       "    <tr>\n",
       "      <th>99</th>\n",
       "      <td>impago_ant_True</td>\n",
       "      <td>0.011455</td>\n",
       "    </tr>\n",
       "    <tr>\n",
       "      <th>97</th>\n",
       "      <td>pag_dayofweek_ant_nan</td>\n",
       "      <td>0.011312</td>\n",
       "    </tr>\n",
       "    <tr>\n",
       "      <th>87</th>\n",
       "      <td>metodo_pago_ant_Rapipago</td>\n",
       "      <td>0.010912</td>\n",
       "    </tr>\n",
       "    <tr>\n",
       "      <th>98</th>\n",
       "      <td>impago_ant_False</td>\n",
       "      <td>0.010522</td>\n",
       "    </tr>\n",
       "    <tr>\n",
       "      <th>93</th>\n",
       "      <td>pag_dayofweek_ant_3.0</td>\n",
       "      <td>0.010424</td>\n",
       "    </tr>\n",
       "    <tr>\n",
       "      <th>90</th>\n",
       "      <td>pag_dayofweek_ant_0.0</td>\n",
       "      <td>0.010160</td>\n",
       "    </tr>\n",
       "    <tr>\n",
       "      <th>2</th>\n",
       "      <td>monto_parcial</td>\n",
       "      <td>0.010153</td>\n",
       "    </tr>\n",
       "    <tr>\n",
       "      <th>92</th>\n",
       "      <td>pag_dayofweek_ant_2.0</td>\n",
       "      <td>0.009977</td>\n",
       "    </tr>\n",
       "    <tr>\n",
       "      <th>94</th>\n",
       "      <td>pag_dayofweek_ant_4.0</td>\n",
       "      <td>0.009940</td>\n",
       "    </tr>\n",
       "    <tr>\n",
       "      <th>91</th>\n",
       "      <td>pag_dayofweek_ant_1.0</td>\n",
       "      <td>0.009936</td>\n",
       "    </tr>\n",
       "    <tr>\n",
       "      <th>85</th>\n",
       "      <td>metodo_pago_ant_Pago Facil</td>\n",
       "      <td>0.006717</td>\n",
       "    </tr>\n",
       "    <tr>\n",
       "      <th>34</th>\n",
       "      <td>unidad_tipo_4</td>\n",
       "      <td>0.006233</td>\n",
       "    </tr>\n",
       "    <tr>\n",
       "      <th>52</th>\n",
       "      <td>venc_1_dayofweek_6</td>\n",
       "      <td>0.005872</td>\n",
       "    </tr>\n",
       "    <tr>\n",
       "      <th>40</th>\n",
       "      <td>modo_pago_mes_adelantado</td>\n",
       "      <td>0.004607</td>\n",
       "    </tr>\n",
       "    <tr>\n",
       "      <th>29</th>\n",
       "      <td>anio_2018</td>\n",
       "      <td>0.004510</td>\n",
       "    </tr>\n",
       "    <tr>\n",
       "      <th>95</th>\n",
       "      <td>pag_dayofweek_ant_5.0</td>\n",
       "      <td>0.004413</td>\n",
       "    </tr>\n",
       "    <tr>\n",
       "      <th>...</th>\n",
       "      <td>...</td>\n",
       "      <td>...</td>\n",
       "    </tr>\n",
       "    <tr>\n",
       "      <th>14</th>\n",
       "      <td>mes_10</td>\n",
       "      <td>0.002426</td>\n",
       "    </tr>\n",
       "    <tr>\n",
       "      <th>55</th>\n",
       "      <td>venc_2_dayofweek_2</td>\n",
       "      <td>0.002425</td>\n",
       "    </tr>\n",
       "    <tr>\n",
       "      <th>26</th>\n",
       "      <td>anio_2015</td>\n",
       "      <td>0.002391</td>\n",
       "    </tr>\n",
       "    <tr>\n",
       "      <th>65</th>\n",
       "      <td>venc_1_dayofweek_ant_5</td>\n",
       "      <td>0.002342</td>\n",
       "    </tr>\n",
       "    <tr>\n",
       "      <th>74</th>\n",
       "      <td>venc_2_dayofweek_ant_5</td>\n",
       "      <td>0.002309</td>\n",
       "    </tr>\n",
       "    <tr>\n",
       "      <th>22</th>\n",
       "      <td>mes_7</td>\n",
       "      <td>0.002264</td>\n",
       "    </tr>\n",
       "    <tr>\n",
       "      <th>20</th>\n",
       "      <td>mes_5</td>\n",
       "      <td>0.002227</td>\n",
       "    </tr>\n",
       "    <tr>\n",
       "      <th>24</th>\n",
       "      <td>mes_9</td>\n",
       "      <td>0.002175</td>\n",
       "    </tr>\n",
       "    <tr>\n",
       "      <th>21</th>\n",
       "      <td>mes_6</td>\n",
       "      <td>0.002070</td>\n",
       "    </tr>\n",
       "    <tr>\n",
       "      <th>8</th>\n",
       "      <td>venc_1_fer</td>\n",
       "      <td>0.002045</td>\n",
       "    </tr>\n",
       "    <tr>\n",
       "      <th>10</th>\n",
       "      <td>venc_2_fer</td>\n",
       "      <td>0.001833</td>\n",
       "    </tr>\n",
       "    <tr>\n",
       "      <th>43</th>\n",
       "      <td>forma_prorrateo_presupuesto</td>\n",
       "      <td>0.001818</td>\n",
       "    </tr>\n",
       "    <tr>\n",
       "      <th>96</th>\n",
       "      <td>pag_dayofweek_ant_6.0</td>\n",
       "      <td>0.001628</td>\n",
       "    </tr>\n",
       "    <tr>\n",
       "      <th>42</th>\n",
       "      <td>forma_prorrateo_normal</td>\n",
       "      <td>0.001617</td>\n",
       "    </tr>\n",
       "    <tr>\n",
       "      <th>76</th>\n",
       "      <td>venc_2_fer_ant_False</td>\n",
       "      <td>0.001603</td>\n",
       "    </tr>\n",
       "    <tr>\n",
       "      <th>33</th>\n",
       "      <td>unidad_tipo_12</td>\n",
       "      <td>0.001558</td>\n",
       "    </tr>\n",
       "    <tr>\n",
       "      <th>77</th>\n",
       "      <td>venc_2_fer_ant_True</td>\n",
       "      <td>0.001540</td>\n",
       "    </tr>\n",
       "    <tr>\n",
       "      <th>68</th>\n",
       "      <td>venc_1_fer_ant_True</td>\n",
       "      <td>0.000903</td>\n",
       "    </tr>\n",
       "    <tr>\n",
       "      <th>25</th>\n",
       "      <td>anio_2014</td>\n",
       "      <td>0.000902</td>\n",
       "    </tr>\n",
       "    <tr>\n",
       "      <th>67</th>\n",
       "      <td>venc_1_fer_ant_False</td>\n",
       "      <td>0.000885</td>\n",
       "    </tr>\n",
       "    <tr>\n",
       "      <th>37</th>\n",
       "      <td>unidad_tipo_7</td>\n",
       "      <td>0.000884</td>\n",
       "    </tr>\n",
       "    <tr>\n",
       "      <th>79</th>\n",
       "      <td>metodo_pago_ant_Cheque</td>\n",
       "      <td>0.000761</td>\n",
       "    </tr>\n",
       "    <tr>\n",
       "      <th>39</th>\n",
       "      <td>unidad_tipo_9</td>\n",
       "      <td>0.000654</td>\n",
       "    </tr>\n",
       "    <tr>\n",
       "      <th>31</th>\n",
       "      <td>unidad_tipo_10</td>\n",
       "      <td>0.000564</td>\n",
       "    </tr>\n",
       "    <tr>\n",
       "      <th>38</th>\n",
       "      <td>unidad_tipo_8</td>\n",
       "      <td>0.000361</td>\n",
       "    </tr>\n",
       "    <tr>\n",
       "      <th>78</th>\n",
       "      <td>metodo_pago_ant_Bapropagos</td>\n",
       "      <td>0.000131</td>\n",
       "    </tr>\n",
       "    <tr>\n",
       "      <th>84</th>\n",
       "      <td>metodo_pago_ant_Nota de crédito</td>\n",
       "      <td>0.000114</td>\n",
       "    </tr>\n",
       "    <tr>\n",
       "      <th>88</th>\n",
       "      <td>metodo_pago_ant_Saldo a favor unidad</td>\n",
       "      <td>0.000074</td>\n",
       "    </tr>\n",
       "    <tr>\n",
       "      <th>80</th>\n",
       "      <td>metodo_pago_ant_Débito directo</td>\n",
       "      <td>0.000049</td>\n",
       "    </tr>\n",
       "    <tr>\n",
       "      <th>32</th>\n",
       "      <td>unidad_tipo_11</td>\n",
       "      <td>0.000000</td>\n",
       "    </tr>\n",
       "  </tbody>\n",
       "</table>\n",
       "<p>102 rows × 2 columns</p>\n",
       "</div>"
      ],
      "text/plain": [
       "                                 variable  importance\n",
       "101                  pago_tardio_ant_True    0.199070\n",
       "100                 pago_tardio_ant_False    0.172038\n",
       "0                                   monto    0.072711\n",
       "81               metodo_pago_ant_Efectivo    0.062691\n",
       "1                             monto_total    0.039137\n",
       "4                                 int_mes    0.025516\n",
       "9                              venc_2_day    0.017817\n",
       "7                              venc_1_day    0.015667\n",
       "3                                 int_dia    0.015132\n",
       "12                         venc_2_day_ant    0.014936\n",
       "86       metodo_pago_ant_Pago Mis Cuentas    0.014412\n",
       "82                 metodo_pago_ant_Impago    0.014361\n",
       "30                              anio_2019    0.014259\n",
       "11                         venc_1_day_ant    0.013345\n",
       "99                        impago_ant_True    0.011455\n",
       "97                  pag_dayofweek_ant_nan    0.011312\n",
       "87               metodo_pago_ant_Rapipago    0.010912\n",
       "98                       impago_ant_False    0.010522\n",
       "93                  pag_dayofweek_ant_3.0    0.010424\n",
       "90                  pag_dayofweek_ant_0.0    0.010160\n",
       "2                           monto_parcial    0.010153\n",
       "92                  pag_dayofweek_ant_2.0    0.009977\n",
       "94                  pag_dayofweek_ant_4.0    0.009940\n",
       "91                  pag_dayofweek_ant_1.0    0.009936\n",
       "85             metodo_pago_ant_Pago Facil    0.006717\n",
       "34                          unidad_tipo_4    0.006233\n",
       "52                     venc_1_dayofweek_6    0.005872\n",
       "40               modo_pago_mes_adelantado    0.004607\n",
       "29                              anio_2018    0.004510\n",
       "95                  pag_dayofweek_ant_5.0    0.004413\n",
       "..                                    ...         ...\n",
       "14                                 mes_10    0.002426\n",
       "55                     venc_2_dayofweek_2    0.002425\n",
       "26                              anio_2015    0.002391\n",
       "65                 venc_1_dayofweek_ant_5    0.002342\n",
       "74                 venc_2_dayofweek_ant_5    0.002309\n",
       "22                                  mes_7    0.002264\n",
       "20                                  mes_5    0.002227\n",
       "24                                  mes_9    0.002175\n",
       "21                                  mes_6    0.002070\n",
       "8                              venc_1_fer    0.002045\n",
       "10                             venc_2_fer    0.001833\n",
       "43            forma_prorrateo_presupuesto    0.001818\n",
       "96                  pag_dayofweek_ant_6.0    0.001628\n",
       "42                 forma_prorrateo_normal    0.001617\n",
       "76                   venc_2_fer_ant_False    0.001603\n",
       "33                         unidad_tipo_12    0.001558\n",
       "77                    venc_2_fer_ant_True    0.001540\n",
       "68                    venc_1_fer_ant_True    0.000903\n",
       "25                              anio_2014    0.000902\n",
       "67                   venc_1_fer_ant_False    0.000885\n",
       "37                          unidad_tipo_7    0.000884\n",
       "79                 metodo_pago_ant_Cheque    0.000761\n",
       "39                          unidad_tipo_9    0.000654\n",
       "31                         unidad_tipo_10    0.000564\n",
       "38                          unidad_tipo_8    0.000361\n",
       "78             metodo_pago_ant_Bapropagos    0.000131\n",
       "84        metodo_pago_ant_Nota de crédito    0.000114\n",
       "88   metodo_pago_ant_Saldo a favor unidad    0.000074\n",
       "80         metodo_pago_ant_Débito directo    0.000049\n",
       "32                         unidad_tipo_11    0.000000\n",
       "\n",
       "[102 rows x 2 columns]"
      ]
     },
     "execution_count": 158,
     "metadata": {},
     "output_type": "execute_result"
    }
   ],
   "source": [
    "features_imp.sort_values(\"importance\", ascending= False)"
   ]
  },
  {
   "cell_type": "code",
   "execution_count": 32,
   "metadata": {},
   "outputs": [],
   "source": [
    "feriados = [\n",
    "    #2013\n",
    "    '2013-01-01',\n",
    "    '2013-01-31',\n",
    "    '2013-02-11',\n",
    "    '2013-02-12',\n",
    "    '2013-02-20',\n",
    "    '2013-03-28',\n",
    "    '2013-03-29',\n",
    "    '2013-04-01',\n",
    "    '2013-04-02',\n",
    "    '2013-05-01',\n",
    "    '2013-06-20',\n",
    "    '2013-06-21',\n",
    "    '2013-07-09',\n",
    "    '2013-08-19',\n",
    "    '2013-10-14',\n",
    "    '2013-11-25',\n",
    "    '2013-12-25',\n",
    "    #2014\n",
    "    '2014-01-01',\n",
    "    '2014-03-03',\n",
    "    '2014-03-04',\n",
    "    '2014-03-24',\n",
    "    '2014-04-02',\n",
    "    '2014-04-18',\n",
    "    '2014-05-01',    \n",
    "    '2014-05-02',\n",
    "    '2014-06-20',\n",
    "    '2014-07-09',\n",
    "    '2014-08-18',\n",
    "    '2014-10-13',\n",
    "    '2014-11-24',\n",
    "    '2014-12-25',    \n",
    "    '2014-12-26',\n",
    "    #2015\n",
    "    '2015-01-01',\n",
    "    '2015-02-16',\n",
    "    '2015-02-17',\n",
    "    '2015-03-23',\n",
    "    '2015-03-24',\n",
    "    '2015-04-02',\n",
    "    '2015-04-03',\n",
    "    '2015-05-01',    \n",
    "    '2015-05-25',\n",
    "    '2015-06-20',\n",
    "    '2015-07-09',\n",
    "    '2015-08-17',\n",
    "    '2015-10-12',\n",
    "    '2015-11-23',    \n",
    "    '2015-12-07',   \n",
    "    '2015-12-08',\n",
    "    '2015-12-25',\n",
    "    #2016\n",
    "    '2016-01-01',\n",
    "    '2016-02-08',\n",
    "    '2016-02-09',\n",
    "    '2016-03-24',\n",
    "    '2016-03-25',\n",
    "    '2016-04-02',\n",
    "    '2016-05-01',\n",
    "    '2016-05-25',\n",
    "    '2016-06-20',\n",
    "    '2016-07-08',\n",
    "    '2016-07-09',\n",
    "    '2016-08-15',\n",
    "    '2016-10-12',\n",
    "    '2016-11-28',\n",
    "    '2016-12-08',\n",
    "    '2016-12-09',\n",
    "    '2016-12-25',\n",
    "    #2017\n",
    "    '2017-01-01',\n",
    "    '2017-02-27',\n",
    "    '2017-02-28',\n",
    "    '2017-03-27',\n",
    "    '2017-04-02',\n",
    "    '2017-04-14',\n",
    "    '2017-05-01',\n",
    "    '2017-05-25',\n",
    "    '2017-06-17',\n",
    "    '2017-06-19',\n",
    "    '2017-07-09',\n",
    "    '2017-08-21',\n",
    "    '2017-10-09',\n",
    "    '2017-11-27',\n",
    "    '2017-12-08',\n",
    "    '2017-12-25',\n",
    "    #2018\n",
    "    '2018-01-01',\n",
    "    '2018-02-12',\n",
    "    '2018-02-13',\n",
    "    '2018-03-24',\n",
    "    '2018-03-30',\n",
    "    '2018-04-02',\n",
    "    '2018-05-01',\n",
    "    '2018-05-25',\n",
    "    '2018-06-20',\n",
    "    '2018-07-09',\n",
    "    '2018-08-20',\n",
    "    '2018-10-15',\n",
    "    '2018-11-19',\n",
    "    '2018-12-08',\n",
    "    '2018-12-25'    \n",
    "]"
   ]
  }
 ],
 "metadata": {
  "kernelspec": {
   "display_name": "Python 3",
   "language": "python",
   "name": "python3"
  },
  "language_info": {
   "codemirror_mode": {
    "name": "ipython",
    "version": 3
   },
   "file_extension": ".py",
   "mimetype": "text/x-python",
   "name": "python",
   "nbconvert_exporter": "python",
   "pygments_lexer": "ipython3",
   "version": "3.6.5"
  },
  "varInspector": {
   "cols": {
    "lenName": 16,
    "lenType": 16,
    "lenVar": 40
   },
   "kernels_config": {
    "python": {
     "delete_cmd_postfix": "",
     "delete_cmd_prefix": "del ",
     "library": "var_list.py",
     "varRefreshCmd": "print(var_dic_list())"
    },
    "r": {
     "delete_cmd_postfix": ") ",
     "delete_cmd_prefix": "rm(",
     "library": "var_list.r",
     "varRefreshCmd": "cat(var_dic_list()) "
    }
   },
   "types_to_exclude": [
    "module",
    "function",
    "builtin_function_or_method",
    "instance",
    "_Feature"
   ],
   "window_display": false
  }
 },
 "nbformat": 4,
 "nbformat_minor": 2
}
