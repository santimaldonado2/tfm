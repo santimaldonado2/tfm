{
 "cells": [
  {
   "cell_type": "code",
   "execution_count": 1,
   "metadata": {},
   "outputs": [],
   "source": [
    "import pandas as pd \n",
    "import seaborn as sns\n",
    "import matplotlib.pyplot as plt\n",
    "import numpy as np"
   ]
  },
  {
   "cell_type": "code",
   "execution_count": 50,
   "metadata": {},
   "outputs": [],
   "source": [
    "data = pd.read_csv(\"../../data/processed/data_2.csv\",\n",
    "                   dtype = {\n",
    "                            \"expensa_id\": \"object\",\n",
    "                            \"unidad_id\": \"object\",\n",
    "                            \"propietario_id\": \"object\",\n",
    "                            \"inquilino_id\": \"object\",\n",
    "                            \"consorcio_id\": \"object\",\n",
    "                            \"expensa_padre_id\": \"object\",\n",
    "                            \"unidad_prop\": \"object\",\n",
    "                            \"consorcio_id\": \"object\",\n",
    "                            \"usuario_creador_id\": \"object\",\n",
    "                            \"concepto_id\": \"object\",\n",
    "                            \"mes\": \"object\",\n",
    "                            \"anio\": \"object\",\n",
    "                            \"unidad_denominacion\":\"object\",\n",
    "                            \"consorcio_nombre\": \"object\",\n",
    "                            \"version\":\"object\",\n",
    "                            \"concepto_id\": \"object\",\n",
    "                            \"unidad_tipo\": \"object\",\n",
    "                            \"modo_pago\": \"object\",\n",
    "                            \"forma_prorrateo\": \"object\",\n",
    "                            \"tipo_prorrateo\": \"object\",\n",
    "                            \"metodo_pago\": \"object\",    \n",
    "                            \"venc_1_dayofweek\": \"object\",\n",
    "                            \"venc_2_dayofweek\": \"object\",\n",
    "                            \"venc_1_dayofweek_ant\": \"object\",\n",
    "                            \"venc_2_dayofweek_ant\": \"object\",\n",
    "                            \"dia_inicio_mes_vencimiento\": \"object\"\n",
    "                    },\n",
    "                    parse_dates = [\"fecha_vencimiento_1\", \"fecha_vencimiento_2\"])"
   ]
  },
  {
   "cell_type": "code",
   "execution_count": 51,
   "metadata": {},
   "outputs": [
    {
     "data": {
      "text/plain": [
       "Index(['expensa_id', 'unidad_id', 'propietario_id', 'inquilino_id',\n",
       "       'fecha_vencimiento_1', 'fecha_vencimiento_2', 'monto', 'monto_total',\n",
       "       'monto_parcial', 'expensa_padre_id', 'int_dia', 'int_mes', 'mes',\n",
       "       'anio', 'unidad_denominacion', 'unidad_prop', 'consorcio_id',\n",
       "       'consorcio_nombre', 'version', 'concepto_id', 'unidad_tipo',\n",
       "       'modo_pago', 'forma_prorrateo', 'tipo_prorrateo', 'fecha_pago',\n",
       "       'monto_pago', 'metodo_pago', 'fecha_expensa_x',\n",
       "       'fecha_expensa_anterior', 'impago', 'pago_tardio_1', 'pago_tardio_2',\n",
       "       'pago_tardio', 'tamanio_consorcio', 'fecha_expensa_y', 'cum_impago',\n",
       "       'cum_pago_tardio', 'cum_pago_tardio_1', 'cum_pago_tardio_2',\n",
       "       'venc_1_dayofweek', 'venc_1_day', 'venc_2_dayofweek', 'venc_2_day',\n",
       "       'mes_vencimiento', 'dia_inicio_mes_vencimiento', 'fecha_expensa_x_ant',\n",
       "       'venc_1_dayofweek_ant', 'venc_1_day_ant', 'venc_2_dayofweek_ant',\n",
       "       'venc_2_day_ant', 'metodo_pago_ant', 'impago_ant', 'pago_tardio_ant',\n",
       "       'pago_tardio_1_ant', 'pago_tardio_2_ant', 'cum_impago_ant',\n",
       "       'cum_pago_tardio_ant', 'cum_pago_tardio_1_ant',\n",
       "       'cum_pago_tardio_2_ant'],\n",
       "      dtype='object')"
      ]
     },
     "execution_count": 51,
     "metadata": {},
     "output_type": "execute_result"
    }
   ],
   "source": [
    "data.columns"
   ]
  },
  {
   "cell_type": "code",
   "execution_count": 52,
   "metadata": {},
   "outputs": [],
   "source": [
    "data = data[['expensa_id', 'unidad_id', 'unidad_denominacion', 'unidad_tipo',\n",
    "             'consorcio_id', 'consorcio_nombre', 'forma_prorrateo', 'modo_pago', 'tamanio_consorcio',\n",
    "             'fecha_expensa_x',\n",
    "             'mes_vencimiento','dia_inicio_mes_vencimiento',\n",
    "             'fecha_vencimiento_1', 'venc_1_dayofweek', 'venc_1_day',\n",
    "             'fecha_vencimiento_2', 'venc_2_dayofweek', 'venc_2_day',             \n",
    "             'monto', 'monto_total', 'monto_parcial', \n",
    "             'int_dia', 'int_mes', \n",
    "             'mes',  \n",
    "             'version',        \n",
    "             'impago', 'pago_tardio_1', 'pago_tardio_2', 'pago_tardio',\n",
    "             'fecha_expensa_anterior', \n",
    "             'venc_1_dayofweek_ant', 'venc_1_day_ant', \n",
    "             'venc_2_dayofweek_ant', 'venc_2_day_ant', \n",
    "             'metodo_pago_ant', \n",
    "             'impago_ant', 'pago_tardio_ant', 'pago_tardio_1_ant', 'pago_tardio_2_ant', \n",
    "             'cum_impago_ant', 'cum_pago_tardio_ant', 'cum_pago_tardio_1_ant','cum_pago_tardio_2_ant']]"
   ]
  },
  {
   "cell_type": "code",
   "execution_count": 53,
   "metadata": {},
   "outputs": [
    {
     "data": {
      "text/plain": [
       "(265956, 43)"
      ]
     },
     "execution_count": 53,
     "metadata": {},
     "output_type": "execute_result"
    }
   ],
   "source": [
    "data.shape"
   ]
  },
  {
   "cell_type": "code",
   "execution_count": 54,
   "metadata": {},
   "outputs": [],
   "source": [
    "data = data.dropna()"
   ]
  },
  {
   "cell_type": "code",
   "execution_count": 55,
   "metadata": {},
   "outputs": [
    {
     "data": {
      "text/plain": [
       "(232171, 43)"
      ]
     },
     "execution_count": 55,
     "metadata": {},
     "output_type": "execute_result"
    }
   ],
   "source": [
    "data.shape"
   ]
  },
  {
   "cell_type": "code",
   "execution_count": 56,
   "metadata": {},
   "outputs": [],
   "source": [
    "data = data[data.fecha_expensa_x < \"2019-01-01\"]"
   ]
  },
  {
   "cell_type": "code",
   "execution_count": 57,
   "metadata": {},
   "outputs": [],
   "source": [
    "def stacked_bar_plot(plot_data, bar_colum, prop_column):\n",
    "    general_prop = plot_data[prop_column].sum()/plot_data.shape[0]\n",
    "    plot_data = plot_data[[\"expensa_id\",bar_colum, prop_column]].groupby([bar_colum, prop_column]).count().reset_index()\n",
    "    plot_data = plot_data.pivot(index= bar_colum, columns= prop_column, values='expensa_id')\n",
    "    plot_data[\"total\"] = plot_data.sum(axis = 1)\n",
    "    plot_data[\"False_prop\"] = plot_data[False]/plot_data.total\n",
    "    plot_data[\"True_prop\"] = plot_data[True]/plot_data.total\n",
    "    rows = list(plot_data.index)\n",
    "    barWidth = 0.85\n",
    "    plt.bar(rows, plot_data[\"True_prop\"], color='#ffa100', edgecolor='white', width=barWidth)\n",
    "    plt.bar(rows, plot_data[\"False_prop\"], bottom=plot_data[\"True_prop\"], color='#0569c6', edgecolor='white', width=barWidth)\n",
    "    plt.legend([True, False])\n",
    "    plt.hlines(general_prop, xmin = rows[0], xmax= rows[-1], linestyles=\"dashed\")"
   ]
  },
  {
   "cell_type": "markdown",
   "metadata": {},
   "source": [
    "## Modelo Impago"
   ]
  },
  {
   "cell_type": "code",
   "execution_count": 58,
   "metadata": {},
   "outputs": [
    {
     "data": {
      "image/png": "[encoded data removed]",
      "text/plain": [
       "<Figure size 1152x360 with 1 Axes>"
      ]
     },
     "metadata": {},
     "output_type": "display_data"
    }
   ],
   "source": [
    "plt.figure(figsize=(16,5))\n",
    "stacked_bar_plot(data, \"metodo_pago_ant\", \"impago\")"
   ]
  },
  {
   "cell_type": "code",
   "execution_count": 59,
   "metadata": {},
   "outputs": [
    {
     "data": {
      "text/plain": [
       "<matplotlib.axes._subplots.AxesSubplot at 0x2940f716550>"
      ]
     },
     "execution_count": 59,
     "metadata": {},
     "output_type": "execute_result"
    },
    {
     "data": {
      "image/png": "[encoded data removed]",
      "text/plain": [
       "<Figure size 432x288 with 1 Axes>"
      ]
     },
     "metadata": {},
     "output_type": "display_data"
    }
   ],
   "source": [
    "sns.distplot(data.loc[data.impago, \"cum_impago_ant\"])\n",
    "sns.distplot(data.loc[~data.impago, \"cum_impago_ant\"])"
   ]
  },
  {
   "cell_type": "code",
   "execution_count": 60,
   "metadata": {},
   "outputs": [
    {
     "data": {
      "image/png": "[encoded data removed]",
      "text/plain": [
       "<Figure size 432x288 with 1 Axes>"
      ]
     },
     "metadata": {},
     "output_type": "display_data"
    }
   ],
   "source": [
    "stacked_bar_plot(data, \"tamanio_consorcio\", \"impago\")"
   ]
  },
  {
   "cell_type": "code",
   "execution_count": 61,
   "metadata": {},
   "outputs": [
    {
     "data": {
      "image/png": "[encoded data removed]",
      "text/plain": [
       "<Figure size 432x288 with 1 Axes>"
      ]
     },
     "metadata": {},
     "output_type": "display_data"
    }
   ],
   "source": [
    "stacked_bar_plot(data, \"venc_1_dayofweek\", \"impago\")"
   ]
  },
  {
   "cell_type": "code",
   "execution_count": 65,
   "metadata": {},
   "outputs": [
    {
     "data": {
      "image/png": "[encoded data removed]",
      "text/plain": [
       "<Figure size 432x288 with 1 Axes>"
      ]
     },
     "metadata": {},
     "output_type": "display_data"
    }
   ],
   "source": [
    "stacked_bar_plot(data, \"dia_inicio_mes_vencimiento\", \"impago\")"
   ]
  },
  {
   "cell_type": "code",
   "execution_count": 62,
   "metadata": {},
   "outputs": [
    {
     "data": {
      "text/plain": [
       "<matplotlib.axes._subplots.AxesSubplot at 0x2940f67eba8>"
      ]
     },
     "execution_count": 62,
     "metadata": {},
     "output_type": "execute_result"
    },
    {
     "data": {
      "image/png": "[encoded data removed]",
      "text/plain": [
       "<Figure size 432x288 with 1 Axes>"
      ]
     },
     "metadata": {},
     "output_type": "display_data"
    }
   ],
   "source": [
    "sns.distplot(data.loc[data.impago, \"cum_pago_tardio_ant\"])\n",
    "sns.distplot(data.loc[~data.impago, \"cum_pago_tardio_ant\"])"
   ]
  },
  {
   "cell_type": "code",
   "execution_count": 47,
   "metadata": {},
   "outputs": [],
   "source": [
    "data = data[data.fecha_expensa_x < \"2019-01-01\"].shape"
   ]
  },
  {
   "cell_type": "code",
   "execution_count": 116,
   "metadata": {},
   "outputs": [],
   "source": [
    "data[\"mes_vencimiento\"] = pd.to_datetime(data.mes_vencimiento).dt.month"
   ]
  },
  {
   "cell_type": "code",
   "execution_count": 117,
   "metadata": {},
   "outputs": [],
   "source": [
    "x_columns = ['forma_prorrateo', 'modo_pago', 'tamanio_consorcio', 'dia_inicio_mes_vencimiento',\n",
    "         'venc_1_dayofweek', 'venc_1_day',\n",
    "         'venc_2_dayofweek', 'venc_2_day',             \n",
    "         'monto', 'monto_total', 'monto_parcial', \n",
    "         'int_dia', 'int_mes', 'mes',  \n",
    "         'version',        \n",
    "         'venc_1_dayofweek_ant', 'venc_1_day_ant', \n",
    "         'venc_2_dayofweek_ant', 'venc_2_day_ant', \n",
    "         'metodo_pago_ant', 'pago_tardio_ant', 'pago_tardio_1_ant', 'pago_tardio_2_ant', \n",
    "         'cum_impago_ant', 'cum_pago_tardio_ant', 'cum_pago_tardio_1_ant','cum_pago_tardio_2_ant']"
   ]
  },
  {
   "cell_type": "code",
   "execution_count": 118,
   "metadata": {},
   "outputs": [],
   "source": [
    "X = data[x_columns]\n",
    "X = pd.get_dummies(X)"
   ]
  },
  {
   "cell_type": "code",
   "execution_count": 84,
   "metadata": {},
   "outputs": [],
   "source": [
    "X_train = X.loc[data.fecha_expensa_x < \"2018-09-01\", :]\n",
    "X_test = X.loc[data.fecha_expensa_x >= \"2018-09-01\", :]\n",
    "Y_train = data.loc[data.fecha_expensa_x < \"2018-09-01\", \"impago\"]\n",
    "Y_test = data.loc[data.fecha_expensa_x >= \"2018-09-01\", \"impago\"]"
   ]
  },
  {
   "cell_type": "code",
   "execution_count": 85,
   "metadata": {},
   "outputs": [
    {
     "name": "stdout",
     "output_type": "stream",
     "text": [
      "X Train shape: (160068, 147)\n",
      "Y Train shape: (160068,)\n",
      "X Test shape: (42126, 147)\n",
      "Y test shape: (42126,)\n"
     ]
    }
   ],
   "source": [
    "print(\"X Train shape:\", X_train.shape)\n",
    "print(\"Y Train shape:\", Y_train.shape)\n",
    "print(\"X Test shape:\", X_test.shape)\n",
    "print(\"Y test shape:\", Y_test.shape)"
   ]
  },
  {
   "cell_type": "code",
   "execution_count": 88,
   "metadata": {},
   "outputs": [],
   "source": [
    "from xgboost import XGBClassifier\n",
    "from sklearn.model_selection import GridSearchCV\n",
    "\n",
    "param_grid = {\n",
    "    \"max_depth\": [3, 5, 7],\n",
    "    \"learning_rate\": [0.1, 0.01],\n",
    "    \"n_estimators\": [128,256,512],\n",
    "}\n",
    "\n",
    "xgb = GridSearchCV(\n",
    "    estimator = XGBClassifier(verbosity=2, n_jobs=-1),\n",
    "    param_grid = param_grid,   \n",
    "    scoring = \"f1\",\n",
    "    cv = 5,\n",
    "    verbose = 2,\n",
    "    return_train_score = True,\n",
    "    n_jobs = -1\n",
    ")"
   ]
  },
  {
   "cell_type": "code",
   "execution_count": 89,
   "metadata": {},
   "outputs": [
    {
     "name": "stdout",
     "output_type": "stream",
     "text": [
      "Fitting 5 folds for each of 18 candidates, totalling 90 fits\n"
     ]
    },
    {
     "name": "stderr",
     "output_type": "stream",
     "text": [
      "[Parallel(n_jobs=-1)]: Using backend LokyBackend with 8 concurrent workers.\n",
      "[Parallel(n_jobs=-1)]: Done  25 tasks      | elapsed: 11.1min\n",
      "[Parallel(n_jobs=-1)]: Done  90 out of  90 | elapsed: 54.2min finished\n"
     ]
    },
    {
     "data": {
      "text/plain": [
       "GridSearchCV(cv=5, error_score='raise-deprecating',\n",
       "       estimator=XGBClassifier(base_score=0.5, booster='gbtree', colsample_bylevel=1,\n",
       "       colsample_bytree=1, gamma=0, learning_rate=0.1, max_delta_step=0,\n",
       "       max_depth=3, min_child_weight=1, missing=None, n_estimators=100,\n",
       "       n_jobs=-1, nthread=None, objective='binary:logistic',\n",
       "       random_state=0, reg_alpha=0, reg_lambda=1, scale_pos_weight=1,\n",
       "       seed=None, silent=True, subsample=1, verbosity=2),\n",
       "       fit_params=None, iid='warn', n_jobs=-1,\n",
       "       param_grid={'max_depth': [3, 5, 7], 'learning_rate': [0.1, 0.01], 'n_estimators': [128, 256, 512]},\n",
       "       pre_dispatch='2*n_jobs', refit=True, return_train_score=True,\n",
       "       scoring='f1', verbose=2)"
      ]
     },
     "execution_count": 89,
     "metadata": {},
     "output_type": "execute_result"
    }
   ],
   "source": [
    "xgb.fit(X_train, Y_train)"
   ]
  },
  {
   "cell_type": "code",
   "execution_count": 90,
   "metadata": {},
   "outputs": [
    {
     "data": {
      "text/plain": [
       "0.8890587464511902"
      ]
     },
     "execution_count": 90,
     "metadata": {},
     "output_type": "execute_result"
    }
   ],
   "source": [
    "xgb.score(X_train, Y_train)"
   ]
  },
  {
   "cell_type": "code",
   "execution_count": 93,
   "metadata": {},
   "outputs": [],
   "source": [
    "xgb.best_estimator_.save_model(\"../../models/xgb_impago\")"
   ]
  },
  {
   "cell_type": "code",
   "execution_count": 98,
   "metadata": {},
   "outputs": [
    {
     "data": {
      "text/plain": [
       "3"
      ]
     },
     "execution_count": 98,
     "metadata": {},
     "output_type": "execute_result"
    }
   ],
   "source": [
    "xgb.best_estimator_.max_depth"
   ]
  },
  {
   "cell_type": "code",
   "execution_count": 99,
   "metadata": {},
   "outputs": [
    {
     "data": {
      "text/plain": [
       "0.01"
      ]
     },
     "execution_count": 99,
     "metadata": {},
     "output_type": "execute_result"
    }
   ],
   "source": [
    "xgb.best_estimator_.learning_rate"
   ]
  },
  {
   "cell_type": "code",
   "execution_count": 100,
   "metadata": {},
   "outputs": [
    {
     "data": {
      "text/plain": [
       "256"
      ]
     },
     "execution_count": 100,
     "metadata": {},
     "output_type": "execute_result"
    }
   ],
   "source": [
    "xgb.best_estimator_.n_estimators"
   ]
  },
  {
   "cell_type": "code",
   "execution_count": 103,
   "metadata": {},
   "outputs": [
    {
     "data": {
      "text/plain": [
       "array([[37181,   235],\n",
       "       [  969,  3741]], dtype=int64)"
      ]
     },
     "execution_count": 103,
     "metadata": {},
     "output_type": "execute_result"
    }
   ],
   "source": [
    "from sklearn.metrics import confusion_matrix, accuracy_score, precision_score, recall_score\n",
    "\n",
    "confusion_matrix(Y_test, xgb.predict(X_test))"
   ]
  },
  {
   "cell_type": "code",
   "execution_count": 96,
   "metadata": {},
   "outputs": [],
   "source": [
    "importances = pd.DataFrame({\n",
    "    \"variable\": X.columns,\n",
    "    \"importance\": xgb.best_estimator_.feature_importances_\n",
    "})"
   ]
  },
  {
   "cell_type": "code",
   "execution_count": 106,
   "metadata": {},
   "outputs": [
    {
     "name": "stdout",
     "output_type": "stream",
     "text": [
      "accuracy 0.9809580928105555\n",
      "precision 0.9023939707403577\n",
      "recall 0.8761119081779053\n"
     ]
    }
   ],
   "source": [
    "print(\"accuracy\",accuracy_score(Y_train, xgb.predict(X_train)))\n",
    "print(\"precision\",precision_score(Y_train, xgb.predict(X_train)))\n",
    "print(\"recall\",recall_score(Y_train, xgb.predict(X_train)))"
   ]
  },
  {
   "cell_type": "code",
   "execution_count": 105,
   "metadata": {},
   "outputs": [
    {
     "name": "stdout",
     "output_type": "stream",
     "text": [
      "accuracy 0.9714190761050183\n",
      "precision 0.9408953722334004\n",
      "recall 0.7942675159235669\n"
     ]
    }
   ],
   "source": [
    "print(\"accuracy\",accuracy_score(Y_test, xgb.predict(X_test)))\n",
    "print(\"precision\",precision_score(Y_test, xgb.predict(X_test)))\n",
    "print(\"recall\",recall_score(Y_test, xgb.predict(X_test)))"
   ]
  },
  {
   "cell_type": "code",
   "execution_count": 97,
   "metadata": {},
   "outputs": [
    {
     "data": {
      "text/html": [
       "<div>\n",
       "<style scoped>\n",
       "    .dataframe tbody tr th:only-of-type {\n",
       "        vertical-align: middle;\n",
       "    }\n",
       "\n",
       "    .dataframe tbody tr th {\n",
       "        vertical-align: top;\n",
       "    }\n",
       "\n",
       "    .dataframe thead th {\n",
       "        text-align: right;\n",
       "    }\n",
       "</style>\n",
       "<table border=\"1\" class=\"dataframe\">\n",
       "  <thead>\n",
       "    <tr style=\"text-align: right;\">\n",
       "      <th></th>\n",
       "      <th>variable</th>\n",
       "      <th>importance</th>\n",
       "    </tr>\n",
       "  </thead>\n",
       "  <tbody>\n",
       "    <tr>\n",
       "      <th>10</th>\n",
       "      <td>cum_impago_ant</td>\n",
       "      <td>0.376543</td>\n",
       "    </tr>\n",
       "    <tr>\n",
       "      <th>133</th>\n",
       "      <td>metodo_pago_ant_Impago</td>\n",
       "      <td>0.158810</td>\n",
       "    </tr>\n",
       "    <tr>\n",
       "      <th>12</th>\n",
       "      <td>cum_pago_tardio_1_ant</td>\n",
       "      <td>0.134119</td>\n",
       "    </tr>\n",
       "    <tr>\n",
       "      <th>16</th>\n",
       "      <td>modo_pago_mes_adelantado</td>\n",
       "      <td>0.106622</td>\n",
       "    </tr>\n",
       "    <tr>\n",
       "      <th>7</th>\n",
       "      <td>int_mes</td>\n",
       "      <td>0.096521</td>\n",
       "    </tr>\n",
       "    <tr>\n",
       "      <th>143</th>\n",
       "      <td>pago_tardio_1_ant_False</td>\n",
       "      <td>0.043771</td>\n",
       "    </tr>\n",
       "    <tr>\n",
       "      <th>29</th>\n",
       "      <td>mes_vencimiento_2015-03-01</td>\n",
       "      <td>0.026375</td>\n",
       "    </tr>\n",
       "    <tr>\n",
       "      <th>1</th>\n",
       "      <td>venc_1_day</td>\n",
       "      <td>0.022447</td>\n",
       "    </tr>\n",
       "    <tr>\n",
       "      <th>4</th>\n",
       "      <td>monto_total</td>\n",
       "      <td>0.010662</td>\n",
       "    </tr>\n",
       "    <tr>\n",
       "      <th>13</th>\n",
       "      <td>cum_pago_tardio_2_ant</td>\n",
       "      <td>0.007856</td>\n",
       "    </tr>\n",
       "    <tr>\n",
       "      <th>25</th>\n",
       "      <td>mes_vencimiento_2014-11-01</td>\n",
       "      <td>0.005051</td>\n",
       "    </tr>\n",
       "    <tr>\n",
       "      <th>11</th>\n",
       "      <td>cum_pago_tardio_ant</td>\n",
       "      <td>0.004489</td>\n",
       "    </tr>\n",
       "    <tr>\n",
       "      <th>2</th>\n",
       "      <td>venc_2_day</td>\n",
       "      <td>0.003367</td>\n",
       "    </tr>\n",
       "    <tr>\n",
       "      <th>23</th>\n",
       "      <td>mes_vencimiento_2014-09-01</td>\n",
       "      <td>0.002806</td>\n",
       "    </tr>\n",
       "    <tr>\n",
       "      <th>8</th>\n",
       "      <td>venc_1_day_ant</td>\n",
       "      <td>0.000561</td>\n",
       "    </tr>\n",
       "    <tr>\n",
       "      <th>107</th>\n",
       "      <td>mes_8</td>\n",
       "      <td>0.000000</td>\n",
       "    </tr>\n",
       "    <tr>\n",
       "      <th>96</th>\n",
       "      <td>venc_2_dayofweek_6</td>\n",
       "      <td>0.000000</td>\n",
       "    </tr>\n",
       "    <tr>\n",
       "      <th>108</th>\n",
       "      <td>mes_9</td>\n",
       "      <td>0.000000</td>\n",
       "    </tr>\n",
       "    <tr>\n",
       "      <th>105</th>\n",
       "      <td>mes_6</td>\n",
       "      <td>0.000000</td>\n",
       "    </tr>\n",
       "    <tr>\n",
       "      <th>104</th>\n",
       "      <td>mes_5</td>\n",
       "      <td>0.000000</td>\n",
       "    </tr>\n",
       "    <tr>\n",
       "      <th>103</th>\n",
       "      <td>mes_4</td>\n",
       "      <td>0.000000</td>\n",
       "    </tr>\n",
       "    <tr>\n",
       "      <th>102</th>\n",
       "      <td>mes_3</td>\n",
       "      <td>0.000000</td>\n",
       "    </tr>\n",
       "    <tr>\n",
       "      <th>101</th>\n",
       "      <td>mes_2</td>\n",
       "      <td>0.000000</td>\n",
       "    </tr>\n",
       "    <tr>\n",
       "      <th>100</th>\n",
       "      <td>mes_12</td>\n",
       "      <td>0.000000</td>\n",
       "    </tr>\n",
       "    <tr>\n",
       "      <th>109</th>\n",
       "      <td>version_1</td>\n",
       "      <td>0.000000</td>\n",
       "    </tr>\n",
       "    <tr>\n",
       "      <th>110</th>\n",
       "      <td>version_2</td>\n",
       "      <td>0.000000</td>\n",
       "    </tr>\n",
       "    <tr>\n",
       "      <th>99</th>\n",
       "      <td>mes_11</td>\n",
       "      <td>0.000000</td>\n",
       "    </tr>\n",
       "    <tr>\n",
       "      <th>98</th>\n",
       "      <td>mes_10</td>\n",
       "      <td>0.000000</td>\n",
       "    </tr>\n",
       "    <tr>\n",
       "      <th>97</th>\n",
       "      <td>mes_1</td>\n",
       "      <td>0.000000</td>\n",
       "    </tr>\n",
       "    <tr>\n",
       "      <th>106</th>\n",
       "      <td>mes_7</td>\n",
       "      <td>0.000000</td>\n",
       "    </tr>\n",
       "    <tr>\n",
       "      <th>...</th>\n",
       "      <td>...</td>\n",
       "      <td>...</td>\n",
       "    </tr>\n",
       "    <tr>\n",
       "      <th>77</th>\n",
       "      <td>dia_inicio_mes_vencimiento_1</td>\n",
       "      <td>0.000000</td>\n",
       "    </tr>\n",
       "    <tr>\n",
       "      <th>76</th>\n",
       "      <td>dia_inicio_mes_vencimiento_0</td>\n",
       "      <td>0.000000</td>\n",
       "    </tr>\n",
       "    <tr>\n",
       "      <th>75</th>\n",
       "      <td>mes_vencimiento_2019-01-01</td>\n",
       "      <td>0.000000</td>\n",
       "    </tr>\n",
       "    <tr>\n",
       "      <th>74</th>\n",
       "      <td>mes_vencimiento_2018-12-01</td>\n",
       "      <td>0.000000</td>\n",
       "    </tr>\n",
       "    <tr>\n",
       "      <th>72</th>\n",
       "      <td>mes_vencimiento_2018-10-01</td>\n",
       "      <td>0.000000</td>\n",
       "    </tr>\n",
       "    <tr>\n",
       "      <th>71</th>\n",
       "      <td>mes_vencimiento_2018-09-01</td>\n",
       "      <td>0.000000</td>\n",
       "    </tr>\n",
       "    <tr>\n",
       "      <th>70</th>\n",
       "      <td>mes_vencimiento_2018-08-01</td>\n",
       "      <td>0.000000</td>\n",
       "    </tr>\n",
       "    <tr>\n",
       "      <th>69</th>\n",
       "      <td>mes_vencimiento_2018-07-01</td>\n",
       "      <td>0.000000</td>\n",
       "    </tr>\n",
       "    <tr>\n",
       "      <th>68</th>\n",
       "      <td>mes_vencimiento_2018-06-01</td>\n",
       "      <td>0.000000</td>\n",
       "    </tr>\n",
       "    <tr>\n",
       "      <th>67</th>\n",
       "      <td>mes_vencimiento_2018-05-01</td>\n",
       "      <td>0.000000</td>\n",
       "    </tr>\n",
       "    <tr>\n",
       "      <th>66</th>\n",
       "      <td>mes_vencimiento_2018-04-01</td>\n",
       "      <td>0.000000</td>\n",
       "    </tr>\n",
       "    <tr>\n",
       "      <th>65</th>\n",
       "      <td>mes_vencimiento_2018-03-01</td>\n",
       "      <td>0.000000</td>\n",
       "    </tr>\n",
       "    <tr>\n",
       "      <th>64</th>\n",
       "      <td>mes_vencimiento_2018-02-01</td>\n",
       "      <td>0.000000</td>\n",
       "    </tr>\n",
       "    <tr>\n",
       "      <th>63</th>\n",
       "      <td>mes_vencimiento_2018-01-01</td>\n",
       "      <td>0.000000</td>\n",
       "    </tr>\n",
       "    <tr>\n",
       "      <th>62</th>\n",
       "      <td>mes_vencimiento_2017-12-01</td>\n",
       "      <td>0.000000</td>\n",
       "    </tr>\n",
       "    <tr>\n",
       "      <th>61</th>\n",
       "      <td>mes_vencimiento_2017-11-01</td>\n",
       "      <td>0.000000</td>\n",
       "    </tr>\n",
       "    <tr>\n",
       "      <th>60</th>\n",
       "      <td>mes_vencimiento_2017-10-01</td>\n",
       "      <td>0.000000</td>\n",
       "    </tr>\n",
       "    <tr>\n",
       "      <th>59</th>\n",
       "      <td>mes_vencimiento_2017-09-01</td>\n",
       "      <td>0.000000</td>\n",
       "    </tr>\n",
       "    <tr>\n",
       "      <th>58</th>\n",
       "      <td>mes_vencimiento_2017-08-01</td>\n",
       "      <td>0.000000</td>\n",
       "    </tr>\n",
       "    <tr>\n",
       "      <th>57</th>\n",
       "      <td>mes_vencimiento_2017-07-01</td>\n",
       "      <td>0.000000</td>\n",
       "    </tr>\n",
       "    <tr>\n",
       "      <th>56</th>\n",
       "      <td>mes_vencimiento_2017-06-01</td>\n",
       "      <td>0.000000</td>\n",
       "    </tr>\n",
       "    <tr>\n",
       "      <th>55</th>\n",
       "      <td>mes_vencimiento_2017-05-01</td>\n",
       "      <td>0.000000</td>\n",
       "    </tr>\n",
       "    <tr>\n",
       "      <th>54</th>\n",
       "      <td>mes_vencimiento_2017-04-01</td>\n",
       "      <td>0.000000</td>\n",
       "    </tr>\n",
       "    <tr>\n",
       "      <th>53</th>\n",
       "      <td>mes_vencimiento_2017-03-01</td>\n",
       "      <td>0.000000</td>\n",
       "    </tr>\n",
       "    <tr>\n",
       "      <th>52</th>\n",
       "      <td>mes_vencimiento_2017-02-01</td>\n",
       "      <td>0.000000</td>\n",
       "    </tr>\n",
       "    <tr>\n",
       "      <th>51</th>\n",
       "      <td>mes_vencimiento_2017-01-01</td>\n",
       "      <td>0.000000</td>\n",
       "    </tr>\n",
       "    <tr>\n",
       "      <th>50</th>\n",
       "      <td>mes_vencimiento_2016-12-01</td>\n",
       "      <td>0.000000</td>\n",
       "    </tr>\n",
       "    <tr>\n",
       "      <th>49</th>\n",
       "      <td>mes_vencimiento_2016-11-01</td>\n",
       "      <td>0.000000</td>\n",
       "    </tr>\n",
       "    <tr>\n",
       "      <th>48</th>\n",
       "      <td>mes_vencimiento_2016-10-01</td>\n",
       "      <td>0.000000</td>\n",
       "    </tr>\n",
       "    <tr>\n",
       "      <th>146</th>\n",
       "      <td>pago_tardio_2_ant_True</td>\n",
       "      <td>0.000000</td>\n",
       "    </tr>\n",
       "  </tbody>\n",
       "</table>\n",
       "<p>147 rows × 2 columns</p>\n",
       "</div>"
      ],
      "text/plain": [
       "                         variable  importance\n",
       "10                 cum_impago_ant    0.376543\n",
       "133        metodo_pago_ant_Impago    0.158810\n",
       "12          cum_pago_tardio_1_ant    0.134119\n",
       "16       modo_pago_mes_adelantado    0.106622\n",
       "7                         int_mes    0.096521\n",
       "143       pago_tardio_1_ant_False    0.043771\n",
       "29     mes_vencimiento_2015-03-01    0.026375\n",
       "1                      venc_1_day    0.022447\n",
       "4                     monto_total    0.010662\n",
       "13          cum_pago_tardio_2_ant    0.007856\n",
       "25     mes_vencimiento_2014-11-01    0.005051\n",
       "11            cum_pago_tardio_ant    0.004489\n",
       "2                      venc_2_day    0.003367\n",
       "23     mes_vencimiento_2014-09-01    0.002806\n",
       "8                  venc_1_day_ant    0.000561\n",
       "107                         mes_8    0.000000\n",
       "96             venc_2_dayofweek_6    0.000000\n",
       "108                         mes_9    0.000000\n",
       "105                         mes_6    0.000000\n",
       "104                         mes_5    0.000000\n",
       "103                         mes_4    0.000000\n",
       "102                         mes_3    0.000000\n",
       "101                         mes_2    0.000000\n",
       "100                        mes_12    0.000000\n",
       "109                     version_1    0.000000\n",
       "110                     version_2    0.000000\n",
       "99                         mes_11    0.000000\n",
       "98                         mes_10    0.000000\n",
       "97                          mes_1    0.000000\n",
       "106                         mes_7    0.000000\n",
       "..                            ...         ...\n",
       "77   dia_inicio_mes_vencimiento_1    0.000000\n",
       "76   dia_inicio_mes_vencimiento_0    0.000000\n",
       "75     mes_vencimiento_2019-01-01    0.000000\n",
       "74     mes_vencimiento_2018-12-01    0.000000\n",
       "72     mes_vencimiento_2018-10-01    0.000000\n",
       "71     mes_vencimiento_2018-09-01    0.000000\n",
       "70     mes_vencimiento_2018-08-01    0.000000\n",
       "69     mes_vencimiento_2018-07-01    0.000000\n",
       "68     mes_vencimiento_2018-06-01    0.000000\n",
       "67     mes_vencimiento_2018-05-01    0.000000\n",
       "66     mes_vencimiento_2018-04-01    0.000000\n",
       "65     mes_vencimiento_2018-03-01    0.000000\n",
       "64     mes_vencimiento_2018-02-01    0.000000\n",
       "63     mes_vencimiento_2018-01-01    0.000000\n",
       "62     mes_vencimiento_2017-12-01    0.000000\n",
       "61     mes_vencimiento_2017-11-01    0.000000\n",
       "60     mes_vencimiento_2017-10-01    0.000000\n",
       "59     mes_vencimiento_2017-09-01    0.000000\n",
       "58     mes_vencimiento_2017-08-01    0.000000\n",
       "57     mes_vencimiento_2017-07-01    0.000000\n",
       "56     mes_vencimiento_2017-06-01    0.000000\n",
       "55     mes_vencimiento_2017-05-01    0.000000\n",
       "54     mes_vencimiento_2017-04-01    0.000000\n",
       "53     mes_vencimiento_2017-03-01    0.000000\n",
       "52     mes_vencimiento_2017-02-01    0.000000\n",
       "51     mes_vencimiento_2017-01-01    0.000000\n",
       "50     mes_vencimiento_2016-12-01    0.000000\n",
       "49     mes_vencimiento_2016-11-01    0.000000\n",
       "48     mes_vencimiento_2016-10-01    0.000000\n",
       "146        pago_tardio_2_ant_True    0.000000\n",
       "\n",
       "[147 rows x 2 columns]"
      ]
     },
     "execution_count": 97,
     "metadata": {},
     "output_type": "execute_result"
    }
   ],
   "source": [
    "importances.sort_values(\"importance\", ascending=False)"
   ]
  },
  {
   "cell_type": "code",
   "execution_count": 107,
   "metadata": {},
   "outputs": [],
   "source": [
    "xgb_pago_tardio = XGBClassifier(\n",
    "   max_depth = 3,\n",
    "   n_estimators = 256,\n",
    "   learning_rate = 0.01)"
   ]
  },
  {
   "cell_type": "code",
   "execution_count": 108,
   "metadata": {},
   "outputs": [],
   "source": [
    "data_pago_tardio = data.pago_tardio | data.impago"
   ]
  },
  {
   "cell_type": "code",
   "execution_count": 111,
   "metadata": {},
   "outputs": [
    {
     "data": {
      "text/plain": [
       "0.4522735590571431"
      ]
     },
     "execution_count": 111,
     "metadata": {},
     "output_type": "execute_result"
    }
   ],
   "source": [
    "data_pago_tardio.sum() / len(data_pago_tardio)"
   ]
  },
  {
   "cell_type": "code",
   "execution_count": 119,
   "metadata": {},
   "outputs": [],
   "source": [
    "X_train = X.loc[data.fecha_expensa_x < \"2018-09-01\", :]\n",
    "X_test = X.loc[data.fecha_expensa_x >= \"2018-09-01\", :]\n",
    "\n",
    "Y_train = data_pago_tardio.loc[data.fecha_expensa_x < \"2018-09-01\"]\n",
    "Y_test = data_pago_tardio.loc[data.fecha_expensa_x >= \"2018-09-01\"]"
   ]
  },
  {
   "cell_type": "code",
   "execution_count": 120,
   "metadata": {},
   "outputs": [
    {
     "data": {
      "text/plain": [
       "XGBClassifier(base_score=0.5, booster='gbtree', colsample_bylevel=1,\n",
       "       colsample_bytree=1, gamma=0, learning_rate=0.01, max_delta_step=0,\n",
       "       max_depth=3, min_child_weight=1, missing=None, n_estimators=256,\n",
       "       n_jobs=1, nthread=None, objective='binary:logistic', random_state=0,\n",
       "       reg_alpha=0, reg_lambda=1, scale_pos_weight=1, seed=None,\n",
       "       silent=True, subsample=1)"
      ]
     },
     "execution_count": 120,
     "metadata": {},
     "output_type": "execute_result"
    }
   ],
   "source": [
    "xgb_pago_tardio.fit(X_train, Y_train)"
   ]
  },
  {
   "cell_type": "code",
   "execution_count": 121,
   "metadata": {},
   "outputs": [
    {
     "data": {
      "text/plain": [
       "array([[20676,  3613],\n",
       "       [ 4539, 13298]], dtype=int64)"
      ]
     },
     "execution_count": 121,
     "metadata": {},
     "output_type": "execute_result"
    }
   ],
   "source": [
    "from sklearn.metrics import confusion_matrix, accuracy_score, precision_score, recall_score\n",
    "confusion_matrix(Y_test, xgb_pago_tardio.predict(X_test))"
   ]
  },
  {
   "cell_type": "code",
   "execution_count": 123,
   "metadata": {},
   "outputs": [
    {
     "name": "stdout",
     "output_type": "stream",
     "text": [
      "accuracy 0.7893707674238448\n",
      "precision 0.783897641717547\n",
      "recall 0.7482543132726531\n"
     ]
    }
   ],
   "source": [
    "print(\"accuracy\",accuracy_score(Y_train, xgb_pago_tardio.predict(X_train)))\n",
    "print(\"precision\",precision_score(Y_train, xgb_pago_tardio.predict(X_train)))\n",
    "print(\"recall\",recall_score(Y_train, xgb_pago_tardio.predict(X_train)))"
   ]
  },
  {
   "cell_type": "code",
   "execution_count": 125,
   "metadata": {},
   "outputs": [
    {
     "name": "stdout",
     "output_type": "stream",
     "text": [
      "accuracy 0.8064853059868015\n",
      "precision 0.7863520785287682\n",
      "recall 0.745528956663116\n"
     ]
    }
   ],
   "source": [
    "print(\"accuracy\",accuracy_score(Y_test, xgb_pago_tardio.predict(X_test)))\n",
    "print(\"precision\",precision_score(Y_test, xgb_pago_tardio.predict(X_test)))\n",
    "print(\"recall\",recall_score(Y_test, xgb_pago_tardio.predict(X_test)))"
   ]
  },
  {
   "cell_type": "code",
   "execution_count": 126,
   "metadata": {},
   "outputs": [],
   "source": [
    "importances_pago_tardio = pd.DataFrame({\n",
    "    \"variable\": X.columns,\n",
    "    \"importance\": xgb_pago_tardio.feature_importances_\n",
    "})"
   ]
  },
  {
   "cell_type": "code",
   "execution_count": 128,
   "metadata": {},
   "outputs": [
    {
     "data": {
      "text/html": [
       "<div>\n",
       "<style scoped>\n",
       "    .dataframe tbody tr th:only-of-type {\n",
       "        vertical-align: middle;\n",
       "    }\n",
       "\n",
       "    .dataframe tbody tr th {\n",
       "        vertical-align: top;\n",
       "    }\n",
       "\n",
       "    .dataframe thead th {\n",
       "        text-align: right;\n",
       "    }\n",
       "</style>\n",
       "<table border=\"1\" class=\"dataframe\">\n",
       "  <thead>\n",
       "    <tr style=\"text-align: right;\">\n",
       "      <th></th>\n",
       "      <th>variable</th>\n",
       "      <th>importance</th>\n",
       "    </tr>\n",
       "  </thead>\n",
       "  <tbody>\n",
       "    <tr>\n",
       "      <th>11</th>\n",
       "      <td>cum_pago_tardio_ant</td>\n",
       "      <td>0.140625</td>\n",
       "    </tr>\n",
       "    <tr>\n",
       "      <th>13</th>\n",
       "      <td>cum_pago_tardio_2_ant</td>\n",
       "      <td>0.120536</td>\n",
       "    </tr>\n",
       "    <tr>\n",
       "      <th>75</th>\n",
       "      <td>metodo_pago_ant_Impago</td>\n",
       "      <td>0.113281</td>\n",
       "    </tr>\n",
       "    <tr>\n",
       "      <th>83</th>\n",
       "      <td>pago_tardio_ant_False</td>\n",
       "      <td>0.102121</td>\n",
       "    </tr>\n",
       "    <tr>\n",
       "      <th>10</th>\n",
       "      <td>cum_impago_ant</td>\n",
       "      <td>0.074219</td>\n",
       "    </tr>\n",
       "    <tr>\n",
       "      <th>7</th>\n",
       "      <td>int_mes</td>\n",
       "      <td>0.071429</td>\n",
       "    </tr>\n",
       "    <tr>\n",
       "      <th>74</th>\n",
       "      <td>metodo_pago_ant_Efectivo</td>\n",
       "      <td>0.066964</td>\n",
       "    </tr>\n",
       "    <tr>\n",
       "      <th>31</th>\n",
       "      <td>venc_1_dayofweek_6</td>\n",
       "      <td>0.042411</td>\n",
       "    </tr>\n",
       "    <tr>\n",
       "      <th>12</th>\n",
       "      <td>cum_pago_tardio_1_ant</td>\n",
       "      <td>0.041295</td>\n",
       "    </tr>\n",
       "    <tr>\n",
       "      <th>85</th>\n",
       "      <td>pago_tardio_1_ant_False</td>\n",
       "      <td>0.031808</td>\n",
       "    </tr>\n",
       "    <tr>\n",
       "      <th>87</th>\n",
       "      <td>pago_tardio_2_ant_False</td>\n",
       "      <td>0.029576</td>\n",
       "    </tr>\n",
       "    <tr>\n",
       "      <th>1</th>\n",
       "      <td>venc_1_day</td>\n",
       "      <td>0.026786</td>\n",
       "    </tr>\n",
       "    <tr>\n",
       "      <th>79</th>\n",
       "      <td>metodo_pago_ant_Pago Mis Cuentas</td>\n",
       "      <td>0.020647</td>\n",
       "    </tr>\n",
       "    <tr>\n",
       "      <th>9</th>\n",
       "      <td>venc_2_day_ant</td>\n",
       "      <td>0.018973</td>\n",
       "    </tr>\n",
       "    <tr>\n",
       "      <th>4</th>\n",
       "      <td>monto_total</td>\n",
       "      <td>0.018415</td>\n",
       "    </tr>\n",
       "    <tr>\n",
       "      <th>6</th>\n",
       "      <td>int_dia</td>\n",
       "      <td>0.016183</td>\n",
       "    </tr>\n",
       "    <tr>\n",
       "      <th>30</th>\n",
       "      <td>venc_1_dayofweek_5</td>\n",
       "      <td>0.012835</td>\n",
       "    </tr>\n",
       "    <tr>\n",
       "      <th>16</th>\n",
       "      <td>modo_pago_mes_adelantado</td>\n",
       "      <td>0.010045</td>\n",
       "    </tr>\n",
       "    <tr>\n",
       "      <th>5</th>\n",
       "      <td>monto_parcial</td>\n",
       "      <td>0.008929</td>\n",
       "    </tr>\n",
       "    <tr>\n",
       "      <th>0</th>\n",
       "      <td>tamanio_consorcio</td>\n",
       "      <td>0.007812</td>\n",
       "    </tr>\n",
       "    <tr>\n",
       "      <th>14</th>\n",
       "      <td>forma_prorrateo_normal</td>\n",
       "      <td>0.007812</td>\n",
       "    </tr>\n",
       "    <tr>\n",
       "      <th>2</th>\n",
       "      <td>venc_2_day</td>\n",
       "      <td>0.007254</td>\n",
       "    </tr>\n",
       "    <tr>\n",
       "      <th>24</th>\n",
       "      <td>dia_inicio_mes_vencimiento_6</td>\n",
       "      <td>0.004464</td>\n",
       "    </tr>\n",
       "    <tr>\n",
       "      <th>48</th>\n",
       "      <td>mes_7</td>\n",
       "      <td>0.003906</td>\n",
       "    </tr>\n",
       "    <tr>\n",
       "      <th>68</th>\n",
       "      <td>venc_2_dayofweek_ant_4</td>\n",
       "      <td>0.001116</td>\n",
       "    </tr>\n",
       "    <tr>\n",
       "      <th>3</th>\n",
       "      <td>monto</td>\n",
       "      <td>0.000558</td>\n",
       "    </tr>\n",
       "    <tr>\n",
       "      <th>60</th>\n",
       "      <td>venc_1_dayofweek_ant_3</td>\n",
       "      <td>0.000000</td>\n",
       "    </tr>\n",
       "    <tr>\n",
       "      <th>61</th>\n",
       "      <td>venc_1_dayofweek_ant_4</td>\n",
       "      <td>0.000000</td>\n",
       "    </tr>\n",
       "    <tr>\n",
       "      <th>57</th>\n",
       "      <td>venc_1_dayofweek_ant_0</td>\n",
       "      <td>0.000000</td>\n",
       "    </tr>\n",
       "    <tr>\n",
       "      <th>56</th>\n",
       "      <td>version_8</td>\n",
       "      <td>0.000000</td>\n",
       "    </tr>\n",
       "    <tr>\n",
       "      <th>...</th>\n",
       "      <td>...</td>\n",
       "      <td>...</td>\n",
       "    </tr>\n",
       "    <tr>\n",
       "      <th>26</th>\n",
       "      <td>venc_1_dayofweek_1</td>\n",
       "      <td>0.000000</td>\n",
       "    </tr>\n",
       "    <tr>\n",
       "      <th>25</th>\n",
       "      <td>venc_1_dayofweek_0</td>\n",
       "      <td>0.000000</td>\n",
       "    </tr>\n",
       "    <tr>\n",
       "      <th>23</th>\n",
       "      <td>dia_inicio_mes_vencimiento_5</td>\n",
       "      <td>0.000000</td>\n",
       "    </tr>\n",
       "    <tr>\n",
       "      <th>21</th>\n",
       "      <td>dia_inicio_mes_vencimiento_3</td>\n",
       "      <td>0.000000</td>\n",
       "    </tr>\n",
       "    <tr>\n",
       "      <th>33</th>\n",
       "      <td>venc_2_dayofweek_1</td>\n",
       "      <td>0.000000</td>\n",
       "    </tr>\n",
       "    <tr>\n",
       "      <th>20</th>\n",
       "      <td>dia_inicio_mes_vencimiento_2</td>\n",
       "      <td>0.000000</td>\n",
       "    </tr>\n",
       "    <tr>\n",
       "      <th>19</th>\n",
       "      <td>dia_inicio_mes_vencimiento_1</td>\n",
       "      <td>0.000000</td>\n",
       "    </tr>\n",
       "    <tr>\n",
       "      <th>18</th>\n",
       "      <td>dia_inicio_mes_vencimiento_0</td>\n",
       "      <td>0.000000</td>\n",
       "    </tr>\n",
       "    <tr>\n",
       "      <th>17</th>\n",
       "      <td>modo_pago_mes_vencido</td>\n",
       "      <td>0.000000</td>\n",
       "    </tr>\n",
       "    <tr>\n",
       "      <th>15</th>\n",
       "      <td>forma_prorrateo_presupuesto</td>\n",
       "      <td>0.000000</td>\n",
       "    </tr>\n",
       "    <tr>\n",
       "      <th>8</th>\n",
       "      <td>venc_1_day_ant</td>\n",
       "      <td>0.000000</td>\n",
       "    </tr>\n",
       "    <tr>\n",
       "      <th>32</th>\n",
       "      <td>venc_2_dayofweek_0</td>\n",
       "      <td>0.000000</td>\n",
       "    </tr>\n",
       "    <tr>\n",
       "      <th>34</th>\n",
       "      <td>venc_2_dayofweek_2</td>\n",
       "      <td>0.000000</td>\n",
       "    </tr>\n",
       "    <tr>\n",
       "      <th>52</th>\n",
       "      <td>version_2</td>\n",
       "      <td>0.000000</td>\n",
       "    </tr>\n",
       "    <tr>\n",
       "      <th>43</th>\n",
       "      <td>mes_2</td>\n",
       "      <td>0.000000</td>\n",
       "    </tr>\n",
       "    <tr>\n",
       "      <th>51</th>\n",
       "      <td>version_1</td>\n",
       "      <td>0.000000</td>\n",
       "    </tr>\n",
       "    <tr>\n",
       "      <th>50</th>\n",
       "      <td>mes_9</td>\n",
       "      <td>0.000000</td>\n",
       "    </tr>\n",
       "    <tr>\n",
       "      <th>49</th>\n",
       "      <td>mes_8</td>\n",
       "      <td>0.000000</td>\n",
       "    </tr>\n",
       "    <tr>\n",
       "      <th>47</th>\n",
       "      <td>mes_6</td>\n",
       "      <td>0.000000</td>\n",
       "    </tr>\n",
       "    <tr>\n",
       "      <th>46</th>\n",
       "      <td>mes_5</td>\n",
       "      <td>0.000000</td>\n",
       "    </tr>\n",
       "    <tr>\n",
       "      <th>45</th>\n",
       "      <td>mes_4</td>\n",
       "      <td>0.000000</td>\n",
       "    </tr>\n",
       "    <tr>\n",
       "      <th>42</th>\n",
       "      <td>mes_12</td>\n",
       "      <td>0.000000</td>\n",
       "    </tr>\n",
       "    <tr>\n",
       "      <th>35</th>\n",
       "      <td>venc_2_dayofweek_3</td>\n",
       "      <td>0.000000</td>\n",
       "    </tr>\n",
       "    <tr>\n",
       "      <th>41</th>\n",
       "      <td>mes_11</td>\n",
       "      <td>0.000000</td>\n",
       "    </tr>\n",
       "    <tr>\n",
       "      <th>40</th>\n",
       "      <td>mes_10</td>\n",
       "      <td>0.000000</td>\n",
       "    </tr>\n",
       "    <tr>\n",
       "      <th>39</th>\n",
       "      <td>mes_1</td>\n",
       "      <td>0.000000</td>\n",
       "    </tr>\n",
       "    <tr>\n",
       "      <th>38</th>\n",
       "      <td>venc_2_dayofweek_6</td>\n",
       "      <td>0.000000</td>\n",
       "    </tr>\n",
       "    <tr>\n",
       "      <th>37</th>\n",
       "      <td>venc_2_dayofweek_5</td>\n",
       "      <td>0.000000</td>\n",
       "    </tr>\n",
       "    <tr>\n",
       "      <th>36</th>\n",
       "      <td>venc_2_dayofweek_4</td>\n",
       "      <td>0.000000</td>\n",
       "    </tr>\n",
       "    <tr>\n",
       "      <th>88</th>\n",
       "      <td>pago_tardio_2_ant_True</td>\n",
       "      <td>0.000000</td>\n",
       "    </tr>\n",
       "  </tbody>\n",
       "</table>\n",
       "<p>89 rows × 2 columns</p>\n",
       "</div>"
      ],
      "text/plain": [
       "                            variable  importance\n",
       "11               cum_pago_tardio_ant    0.140625\n",
       "13             cum_pago_tardio_2_ant    0.120536\n",
       "75            metodo_pago_ant_Impago    0.113281\n",
       "83             pago_tardio_ant_False    0.102121\n",
       "10                    cum_impago_ant    0.074219\n",
       "7                            int_mes    0.071429\n",
       "74          metodo_pago_ant_Efectivo    0.066964\n",
       "31                venc_1_dayofweek_6    0.042411\n",
       "12             cum_pago_tardio_1_ant    0.041295\n",
       "85           pago_tardio_1_ant_False    0.031808\n",
       "87           pago_tardio_2_ant_False    0.029576\n",
       "1                         venc_1_day    0.026786\n",
       "79  metodo_pago_ant_Pago Mis Cuentas    0.020647\n",
       "9                     venc_2_day_ant    0.018973\n",
       "4                        monto_total    0.018415\n",
       "6                            int_dia    0.016183\n",
       "30                venc_1_dayofweek_5    0.012835\n",
       "16          modo_pago_mes_adelantado    0.010045\n",
       "5                      monto_parcial    0.008929\n",
       "0                  tamanio_consorcio    0.007812\n",
       "14            forma_prorrateo_normal    0.007812\n",
       "2                         venc_2_day    0.007254\n",
       "24      dia_inicio_mes_vencimiento_6    0.004464\n",
       "48                             mes_7    0.003906\n",
       "68            venc_2_dayofweek_ant_4    0.001116\n",
       "3                              monto    0.000558\n",
       "60            venc_1_dayofweek_ant_3    0.000000\n",
       "61            venc_1_dayofweek_ant_4    0.000000\n",
       "57            venc_1_dayofweek_ant_0    0.000000\n",
       "56                         version_8    0.000000\n",
       "..                               ...         ...\n",
       "26                venc_1_dayofweek_1    0.000000\n",
       "25                venc_1_dayofweek_0    0.000000\n",
       "23      dia_inicio_mes_vencimiento_5    0.000000\n",
       "21      dia_inicio_mes_vencimiento_3    0.000000\n",
       "33                venc_2_dayofweek_1    0.000000\n",
       "20      dia_inicio_mes_vencimiento_2    0.000000\n",
       "19      dia_inicio_mes_vencimiento_1    0.000000\n",
       "18      dia_inicio_mes_vencimiento_0    0.000000\n",
       "17             modo_pago_mes_vencido    0.000000\n",
       "15       forma_prorrateo_presupuesto    0.000000\n",
       "8                     venc_1_day_ant    0.000000\n",
       "32                venc_2_dayofweek_0    0.000000\n",
       "34                venc_2_dayofweek_2    0.000000\n",
       "52                         version_2    0.000000\n",
       "43                             mes_2    0.000000\n",
       "51                         version_1    0.000000\n",
       "50                             mes_9    0.000000\n",
       "49                             mes_8    0.000000\n",
       "47                             mes_6    0.000000\n",
       "46                             mes_5    0.000000\n",
       "45                             mes_4    0.000000\n",
       "42                            mes_12    0.000000\n",
       "35                venc_2_dayofweek_3    0.000000\n",
       "41                            mes_11    0.000000\n",
       "40                            mes_10    0.000000\n",
       "39                             mes_1    0.000000\n",
       "38                venc_2_dayofweek_6    0.000000\n",
       "37                venc_2_dayofweek_5    0.000000\n",
       "36                venc_2_dayofweek_4    0.000000\n",
       "88            pago_tardio_2_ant_True    0.000000\n",
       "\n",
       "[89 rows x 2 columns]"
      ]
     },
     "execution_count": 128,
     "metadata": {},
     "output_type": "execute_result"
    }
   ],
   "source": [
    "importances_pago_tardio.sort_values(\"importance\", ascending=False)"
   ]
  },
  {
   "cell_type": "code",
   "execution_count": 129,
   "metadata": {},
   "outputs": [
    {
     "data": {
      "text/plain": [
       "0.36003541153545604"
      ]
     },
     "execution_count": 129,
     "metadata": {},
     "output_type": "execute_result"
    }
   ],
   "source": [
    "data_pago_tardio = data.pago_tardio\n",
    "data_pago_tardio.sum() / len(data_pago_tardio)"
   ]
  },
  {
   "cell_type": "code",
   "execution_count": 130,
   "metadata": {},
   "outputs": [
    {
     "data": {
      "text/plain": [
       "array([[25141,  3858],\n",
       "       [ 4578,  8549]], dtype=int64)"
      ]
     },
     "execution_count": 130,
     "metadata": {},
     "output_type": "execute_result"
    }
   ],
   "source": [
    "xgb_pago_tardio = XGBClassifier(\n",
    "   max_depth = 3,\n",
    "   n_estimators = 256,\n",
    "   learning_rate = 0.01)\n",
    "\n",
    "X_train = X.loc[data.fecha_expensa_x < \"2018-09-01\", :]\n",
    "X_test = X.loc[data.fecha_expensa_x >= \"2018-09-01\", :]\n",
    "\n",
    "Y_train = data_pago_tardio.loc[data.fecha_expensa_x < \"2018-09-01\"]\n",
    "Y_test = data_pago_tardio.loc[data.fecha_expensa_x >= \"2018-09-01\"]\n",
    "\n",
    "xgb_pago_tardio.fit(X_train, Y_train)\n",
    "\n",
    "from sklearn.metrics import confusion_matrix, accuracy_score, precision_score, recall_score\n",
    "confusion_matrix(Y_test, xgb_pago_tardio.predict(X_test))"
   ]
  },
  {
   "cell_type": "code",
   "execution_count": 131,
   "metadata": {},
   "outputs": [
    {
     "name": "stdout",
     "output_type": "stream",
     "text": [
      "accuracy 0.7916760376839843\n",
      "precision 0.742832367809306\n",
      "recall 0.6747611865258925\n"
     ]
    }
   ],
   "source": [
    "print(\"accuracy\",accuracy_score(Y_train, xgb_pago_tardio.predict(X_train)))\n",
    "print(\"precision\",precision_score(Y_train, xgb_pago_tardio.predict(X_train)))\n",
    "print(\"recall\",recall_score(Y_train, xgb_pago_tardio.predict(X_train)))"
   ]
  },
  {
   "cell_type": "code",
   "execution_count": 132,
   "metadata": {},
   "outputs": [
    {
     "name": "stdout",
     "output_type": "stream",
     "text": [
      "accuracy 0.7997436262640649\n",
      "precision 0.6890465060046748\n",
      "recall 0.6512531423783042\n"
     ]
    }
   ],
   "source": [
    "print(\"accuracy\",accuracy_score(Y_test, xgb_pago_tardio.predict(X_test)))\n",
    "print(\"precision\",precision_score(Y_test, xgb_pago_tardio.predict(X_test)))\n",
    "print(\"recall\",recall_score(Y_test, xgb_pago_tardio.predict(X_test)))"
   ]
  },
  {
   "cell_type": "code",
   "execution_count": 133,
   "metadata": {},
   "outputs": [
    {
     "data": {
      "text/html": [
       "<div>\n",
       "<style scoped>\n",
       "    .dataframe tbody tr th:only-of-type {\n",
       "        vertical-align: middle;\n",
       "    }\n",
       "\n",
       "    .dataframe tbody tr th {\n",
       "        vertical-align: top;\n",
       "    }\n",
       "\n",
       "    .dataframe thead th {\n",
       "        text-align: right;\n",
       "    }\n",
       "</style>\n",
       "<table border=\"1\" class=\"dataframe\">\n",
       "  <thead>\n",
       "    <tr style=\"text-align: right;\">\n",
       "      <th></th>\n",
       "      <th>variable</th>\n",
       "      <th>importance</th>\n",
       "    </tr>\n",
       "  </thead>\n",
       "  <tbody>\n",
       "    <tr>\n",
       "      <th>11</th>\n",
       "      <td>cum_pago_tardio_ant</td>\n",
       "      <td>0.214286</td>\n",
       "    </tr>\n",
       "    <tr>\n",
       "      <th>13</th>\n",
       "      <td>cum_pago_tardio_2_ant</td>\n",
       "      <td>0.113839</td>\n",
       "    </tr>\n",
       "    <tr>\n",
       "      <th>83</th>\n",
       "      <td>pago_tardio_ant_False</td>\n",
       "      <td>0.113281</td>\n",
       "    </tr>\n",
       "    <tr>\n",
       "      <th>74</th>\n",
       "      <td>metodo_pago_ant_Efectivo</td>\n",
       "      <td>0.099330</td>\n",
       "    </tr>\n",
       "    <tr>\n",
       "      <th>75</th>\n",
       "      <td>metodo_pago_ant_Impago</td>\n",
       "      <td>0.092634</td>\n",
       "    </tr>\n",
       "    <tr>\n",
       "      <th>7</th>\n",
       "      <td>int_mes</td>\n",
       "      <td>0.059152</td>\n",
       "    </tr>\n",
       "    <tr>\n",
       "      <th>1</th>\n",
       "      <td>venc_1_day</td>\n",
       "      <td>0.054129</td>\n",
       "    </tr>\n",
       "    <tr>\n",
       "      <th>85</th>\n",
       "      <td>pago_tardio_1_ant_False</td>\n",
       "      <td>0.047991</td>\n",
       "    </tr>\n",
       "    <tr>\n",
       "      <th>31</th>\n",
       "      <td>venc_1_dayofweek_6</td>\n",
       "      <td>0.046317</td>\n",
       "    </tr>\n",
       "    <tr>\n",
       "      <th>4</th>\n",
       "      <td>monto_total</td>\n",
       "      <td>0.027902</td>\n",
       "    </tr>\n",
       "    <tr>\n",
       "      <th>87</th>\n",
       "      <td>pago_tardio_2_ant_False</td>\n",
       "      <td>0.024554</td>\n",
       "    </tr>\n",
       "    <tr>\n",
       "      <th>6</th>\n",
       "      <td>int_dia</td>\n",
       "      <td>0.021763</td>\n",
       "    </tr>\n",
       "    <tr>\n",
       "      <th>9</th>\n",
       "      <td>venc_2_day_ant</td>\n",
       "      <td>0.020647</td>\n",
       "    </tr>\n",
       "    <tr>\n",
       "      <th>12</th>\n",
       "      <td>cum_pago_tardio_1_ant</td>\n",
       "      <td>0.019531</td>\n",
       "    </tr>\n",
       "    <tr>\n",
       "      <th>5</th>\n",
       "      <td>monto_parcial</td>\n",
       "      <td>0.015625</td>\n",
       "    </tr>\n",
       "    <tr>\n",
       "      <th>16</th>\n",
       "      <td>modo_pago_mes_adelantado</td>\n",
       "      <td>0.007254</td>\n",
       "    </tr>\n",
       "    <tr>\n",
       "      <th>2</th>\n",
       "      <td>venc_2_day</td>\n",
       "      <td>0.006138</td>\n",
       "    </tr>\n",
       "    <tr>\n",
       "      <th>28</th>\n",
       "      <td>venc_1_dayofweek_3</td>\n",
       "      <td>0.003906</td>\n",
       "    </tr>\n",
       "    <tr>\n",
       "      <th>8</th>\n",
       "      <td>venc_1_day_ant</td>\n",
       "      <td>0.003906</td>\n",
       "    </tr>\n",
       "    <tr>\n",
       "      <th>10</th>\n",
       "      <td>cum_impago_ant</td>\n",
       "      <td>0.003348</td>\n",
       "    </tr>\n",
       "    <tr>\n",
       "      <th>79</th>\n",
       "      <td>metodo_pago_ant_Pago Mis Cuentas</td>\n",
       "      <td>0.002232</td>\n",
       "    </tr>\n",
       "    <tr>\n",
       "      <th>42</th>\n",
       "      <td>mes_12</td>\n",
       "      <td>0.001116</td>\n",
       "    </tr>\n",
       "    <tr>\n",
       "      <th>3</th>\n",
       "      <td>monto</td>\n",
       "      <td>0.001116</td>\n",
       "    </tr>\n",
       "    <tr>\n",
       "      <th>63</th>\n",
       "      <td>venc_1_dayofweek_ant_6</td>\n",
       "      <td>0.000000</td>\n",
       "    </tr>\n",
       "    <tr>\n",
       "      <th>64</th>\n",
       "      <td>venc_2_dayofweek_ant_0</td>\n",
       "      <td>0.000000</td>\n",
       "    </tr>\n",
       "    <tr>\n",
       "      <th>62</th>\n",
       "      <td>venc_1_dayofweek_ant_5</td>\n",
       "      <td>0.000000</td>\n",
       "    </tr>\n",
       "    <tr>\n",
       "      <th>65</th>\n",
       "      <td>venc_2_dayofweek_ant_1</td>\n",
       "      <td>0.000000</td>\n",
       "    </tr>\n",
       "    <tr>\n",
       "      <th>0</th>\n",
       "      <td>tamanio_consorcio</td>\n",
       "      <td>0.000000</td>\n",
       "    </tr>\n",
       "    <tr>\n",
       "      <th>56</th>\n",
       "      <td>version_8</td>\n",
       "      <td>0.000000</td>\n",
       "    </tr>\n",
       "    <tr>\n",
       "      <th>61</th>\n",
       "      <td>venc_1_dayofweek_ant_4</td>\n",
       "      <td>0.000000</td>\n",
       "    </tr>\n",
       "    <tr>\n",
       "      <th>...</th>\n",
       "      <td>...</td>\n",
       "      <td>...</td>\n",
       "    </tr>\n",
       "    <tr>\n",
       "      <th>25</th>\n",
       "      <td>venc_1_dayofweek_0</td>\n",
       "      <td>0.000000</td>\n",
       "    </tr>\n",
       "    <tr>\n",
       "      <th>24</th>\n",
       "      <td>dia_inicio_mes_vencimiento_6</td>\n",
       "      <td>0.000000</td>\n",
       "    </tr>\n",
       "    <tr>\n",
       "      <th>23</th>\n",
       "      <td>dia_inicio_mes_vencimiento_5</td>\n",
       "      <td>0.000000</td>\n",
       "    </tr>\n",
       "    <tr>\n",
       "      <th>21</th>\n",
       "      <td>dia_inicio_mes_vencimiento_3</td>\n",
       "      <td>0.000000</td>\n",
       "    </tr>\n",
       "    <tr>\n",
       "      <th>32</th>\n",
       "      <td>venc_2_dayofweek_0</td>\n",
       "      <td>0.000000</td>\n",
       "    </tr>\n",
       "    <tr>\n",
       "      <th>20</th>\n",
       "      <td>dia_inicio_mes_vencimiento_2</td>\n",
       "      <td>0.000000</td>\n",
       "    </tr>\n",
       "    <tr>\n",
       "      <th>19</th>\n",
       "      <td>dia_inicio_mes_vencimiento_1</td>\n",
       "      <td>0.000000</td>\n",
       "    </tr>\n",
       "    <tr>\n",
       "      <th>18</th>\n",
       "      <td>dia_inicio_mes_vencimiento_0</td>\n",
       "      <td>0.000000</td>\n",
       "    </tr>\n",
       "    <tr>\n",
       "      <th>17</th>\n",
       "      <td>modo_pago_mes_vencido</td>\n",
       "      <td>0.000000</td>\n",
       "    </tr>\n",
       "    <tr>\n",
       "      <th>15</th>\n",
       "      <td>forma_prorrateo_presupuesto</td>\n",
       "      <td>0.000000</td>\n",
       "    </tr>\n",
       "    <tr>\n",
       "      <th>14</th>\n",
       "      <td>forma_prorrateo_normal</td>\n",
       "      <td>0.000000</td>\n",
       "    </tr>\n",
       "    <tr>\n",
       "      <th>30</th>\n",
       "      <td>venc_1_dayofweek_5</td>\n",
       "      <td>0.000000</td>\n",
       "    </tr>\n",
       "    <tr>\n",
       "      <th>33</th>\n",
       "      <td>venc_2_dayofweek_1</td>\n",
       "      <td>0.000000</td>\n",
       "    </tr>\n",
       "    <tr>\n",
       "      <th>51</th>\n",
       "      <td>version_1</td>\n",
       "      <td>0.000000</td>\n",
       "    </tr>\n",
       "    <tr>\n",
       "      <th>43</th>\n",
       "      <td>mes_2</td>\n",
       "      <td>0.000000</td>\n",
       "    </tr>\n",
       "    <tr>\n",
       "      <th>50</th>\n",
       "      <td>mes_9</td>\n",
       "      <td>0.000000</td>\n",
       "    </tr>\n",
       "    <tr>\n",
       "      <th>49</th>\n",
       "      <td>mes_8</td>\n",
       "      <td>0.000000</td>\n",
       "    </tr>\n",
       "    <tr>\n",
       "      <th>48</th>\n",
       "      <td>mes_7</td>\n",
       "      <td>0.000000</td>\n",
       "    </tr>\n",
       "    <tr>\n",
       "      <th>47</th>\n",
       "      <td>mes_6</td>\n",
       "      <td>0.000000</td>\n",
       "    </tr>\n",
       "    <tr>\n",
       "      <th>46</th>\n",
       "      <td>mes_5</td>\n",
       "      <td>0.000000</td>\n",
       "    </tr>\n",
       "    <tr>\n",
       "      <th>45</th>\n",
       "      <td>mes_4</td>\n",
       "      <td>0.000000</td>\n",
       "    </tr>\n",
       "    <tr>\n",
       "      <th>41</th>\n",
       "      <td>mes_11</td>\n",
       "      <td>0.000000</td>\n",
       "    </tr>\n",
       "    <tr>\n",
       "      <th>34</th>\n",
       "      <td>venc_2_dayofweek_2</td>\n",
       "      <td>0.000000</td>\n",
       "    </tr>\n",
       "    <tr>\n",
       "      <th>40</th>\n",
       "      <td>mes_10</td>\n",
       "      <td>0.000000</td>\n",
       "    </tr>\n",
       "    <tr>\n",
       "      <th>39</th>\n",
       "      <td>mes_1</td>\n",
       "      <td>0.000000</td>\n",
       "    </tr>\n",
       "    <tr>\n",
       "      <th>38</th>\n",
       "      <td>venc_2_dayofweek_6</td>\n",
       "      <td>0.000000</td>\n",
       "    </tr>\n",
       "    <tr>\n",
       "      <th>37</th>\n",
       "      <td>venc_2_dayofweek_5</td>\n",
       "      <td>0.000000</td>\n",
       "    </tr>\n",
       "    <tr>\n",
       "      <th>36</th>\n",
       "      <td>venc_2_dayofweek_4</td>\n",
       "      <td>0.000000</td>\n",
       "    </tr>\n",
       "    <tr>\n",
       "      <th>35</th>\n",
       "      <td>venc_2_dayofweek_3</td>\n",
       "      <td>0.000000</td>\n",
       "    </tr>\n",
       "    <tr>\n",
       "      <th>88</th>\n",
       "      <td>pago_tardio_2_ant_True</td>\n",
       "      <td>0.000000</td>\n",
       "    </tr>\n",
       "  </tbody>\n",
       "</table>\n",
       "<p>89 rows × 2 columns</p>\n",
       "</div>"
      ],
      "text/plain": [
       "                            variable  importance\n",
       "11               cum_pago_tardio_ant    0.214286\n",
       "13             cum_pago_tardio_2_ant    0.113839\n",
       "83             pago_tardio_ant_False    0.113281\n",
       "74          metodo_pago_ant_Efectivo    0.099330\n",
       "75            metodo_pago_ant_Impago    0.092634\n",
       "7                            int_mes    0.059152\n",
       "1                         venc_1_day    0.054129\n",
       "85           pago_tardio_1_ant_False    0.047991\n",
       "31                venc_1_dayofweek_6    0.046317\n",
       "4                        monto_total    0.027902\n",
       "87           pago_tardio_2_ant_False    0.024554\n",
       "6                            int_dia    0.021763\n",
       "9                     venc_2_day_ant    0.020647\n",
       "12             cum_pago_tardio_1_ant    0.019531\n",
       "5                      monto_parcial    0.015625\n",
       "16          modo_pago_mes_adelantado    0.007254\n",
       "2                         venc_2_day    0.006138\n",
       "28                venc_1_dayofweek_3    0.003906\n",
       "8                     venc_1_day_ant    0.003906\n",
       "10                    cum_impago_ant    0.003348\n",
       "79  metodo_pago_ant_Pago Mis Cuentas    0.002232\n",
       "42                            mes_12    0.001116\n",
       "3                              monto    0.001116\n",
       "63            venc_1_dayofweek_ant_6    0.000000\n",
       "64            venc_2_dayofweek_ant_0    0.000000\n",
       "62            venc_1_dayofweek_ant_5    0.000000\n",
       "65            venc_2_dayofweek_ant_1    0.000000\n",
       "0                  tamanio_consorcio    0.000000\n",
       "56                         version_8    0.000000\n",
       "61            venc_1_dayofweek_ant_4    0.000000\n",
       "..                               ...         ...\n",
       "25                venc_1_dayofweek_0    0.000000\n",
       "24      dia_inicio_mes_vencimiento_6    0.000000\n",
       "23      dia_inicio_mes_vencimiento_5    0.000000\n",
       "21      dia_inicio_mes_vencimiento_3    0.000000\n",
       "32                venc_2_dayofweek_0    0.000000\n",
       "20      dia_inicio_mes_vencimiento_2    0.000000\n",
       "19      dia_inicio_mes_vencimiento_1    0.000000\n",
       "18      dia_inicio_mes_vencimiento_0    0.000000\n",
       "17             modo_pago_mes_vencido    0.000000\n",
       "15       forma_prorrateo_presupuesto    0.000000\n",
       "14            forma_prorrateo_normal    0.000000\n",
       "30                venc_1_dayofweek_5    0.000000\n",
       "33                venc_2_dayofweek_1    0.000000\n",
       "51                         version_1    0.000000\n",
       "43                             mes_2    0.000000\n",
       "50                             mes_9    0.000000\n",
       "49                             mes_8    0.000000\n",
       "48                             mes_7    0.000000\n",
       "47                             mes_6    0.000000\n",
       "46                             mes_5    0.000000\n",
       "45                             mes_4    0.000000\n",
       "41                            mes_11    0.000000\n",
       "34                venc_2_dayofweek_2    0.000000\n",
       "40                            mes_10    0.000000\n",
       "39                             mes_1    0.000000\n",
       "38                venc_2_dayofweek_6    0.000000\n",
       "37                venc_2_dayofweek_5    0.000000\n",
       "36                venc_2_dayofweek_4    0.000000\n",
       "35                venc_2_dayofweek_3    0.000000\n",
       "88            pago_tardio_2_ant_True    0.000000\n",
       "\n",
       "[89 rows x 2 columns]"
      ]
     },
     "execution_count": 133,
     "metadata": {},
     "output_type": "execute_result"
    }
   ],
   "source": [
    "importances_pago_tardio = pd.DataFrame({\n",
    "    \"variable\": X.columns,\n",
    "    \"importance\": xgb_pago_tardio.feature_importances_\n",
    "})\n",
    "\n",
    "importances_pago_tardio.sort_values(\"importance\", ascending=False)"
   ]
  },
  {
   "cell_type": "code",
   "execution_count": null,
   "metadata": {},
   "outputs": [],
   "source": []
  }
 ],
 "metadata": {
  "kernelspec": {
   "display_name": "Python 3",
   "language": "python",
   "name": "python3"
  },
  "language_info": {
   "codemirror_mode": {
    "name": "ipython",
    "version": 3
   },
   "file_extension": ".py",
   "mimetype": "text/x-python",
   "name": "python",
   "nbconvert_exporter": "python",
   "pygments_lexer": "ipython3",
   "version": "3.6.8"
  },
  "varInspector": {
   "cols": {
    "lenName": 16,
    "lenType": 16,
    "lenVar": 40
   },
   "kernels_config": {
    "python": {
     "delete_cmd_postfix": "",
     "delete_cmd_prefix": "del ",
     "library": "var_list.py",
     "varRefreshCmd": "print(var_dic_list())"
    },
    "r": {
     "delete_cmd_postfix": ") ",
     "delete_cmd_prefix": "rm(",
     "library": "var_list.r",
     "varRefreshCmd": "cat(var_dic_list()) "
    }
   },
   "types_to_exclude": [
    "module",
    "function",
    "builtin_function_or_method",
    "instance",
    "_Feature"
   ],
   "window_display": false
  }
 },
 "nbformat": 4,
 "nbformat_minor": 2
}
