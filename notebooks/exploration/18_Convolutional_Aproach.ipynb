{
 "cells": [
  {
   "cell_type": "code",
   "execution_count": 1,
   "metadata": {},
   "outputs": [],
   "source": [
    "import pandas as pd \n",
    "import matplotlib.pyplot as plt\n",
    "import numpy as np"
   ]
  },
  {
   "cell_type": "markdown",
   "metadata": {},
   "source": [
    "# Data Loading"
   ]
  },
  {
   "cell_type": "code",
   "execution_count": 2,
   "metadata": {},
   "outputs": [],
   "source": [
    "data = pd.read_csv(\"../../data/processed/data.csv\",\n",
    "                   dtype = {\n",
    "                            \"expensa_id\": \"object\",\n",
    "                            \"unidad_id\": \"object\",\n",
    "                            \"propietario_id\": \"object\",\n",
    "                            \"inquilino_id\": \"object\",\n",
    "                            \"consorcio_id\": \"object\",\n",
    "                            \"expensa_padre_id\": \"object\",\n",
    "                            \"unidad_prop\": \"object\",\n",
    "                            \"consorcio_id\": \"object\",\n",
    "                            \"usuario_creador_id\": \"object\",\n",
    "                            \"concepto_id\": \"object\",\n",
    "                            \"mes\": \"object\",\n",
    "                            \"anio\": \"object\",\n",
    "                            \"unidad_denominacion\":\"object\",\n",
    "                            \"consorcio_nombre\": \"object\",\n",
    "                            \"version\":\"object\",\n",
    "                            \"concepto_id\": \"object\",\n",
    "                            \"unidad_tipo\": \"object\",\n",
    "                            \"modo_pago\": \"object\",\n",
    "                            \"forma_prorrateo\": \"object\",\n",
    "                            \"tipo_prorrateo\": \"object\",\n",
    "                            \"metodo_pago\": \"object\",                       \n",
    "                    },\n",
    "                    parse_dates = [\"fecha_vencimiento_1\", \"fecha_vencimiento_2\"])\n",
    "data.fecha_pago = pd.to_datetime(data.fecha_pago, errors=\"coerce\")"
   ]
  },
  {
   "cell_type": "code",
   "execution_count": 3,
   "metadata": {},
   "outputs": [
    {
     "data": {
      "text/plain": [
       "(264541, 27)"
      ]
     },
     "execution_count": 3,
     "metadata": {},
     "output_type": "execute_result"
    }
   ],
   "source": [
    "data.shape"
   ]
  },
  {
   "cell_type": "code",
   "execution_count": 4,
   "metadata": {},
   "outputs": [
    {
     "data": {
      "text/plain": [
       "expensa_id                     object\n",
       "unidad_id                      object\n",
       "propietario_id                 object\n",
       "inquilino_id                   object\n",
       "fecha_vencimiento_1    datetime64[ns]\n",
       "fecha_vencimiento_2    datetime64[ns]\n",
       "monto                         float64\n",
       "monto_total                   float64\n",
       "monto_parcial                 float64\n",
       "expensa_padre_id               object\n",
       "int_dia                       float64\n",
       "int_mes                       float64\n",
       "mes                            object\n",
       "anio                           object\n",
       "unidad_denominacion            object\n",
       "unidad_prop                    object\n",
       "consorcio_id                   object\n",
       "consorcio_nombre               object\n",
       "version                        object\n",
       "concepto_id                    object\n",
       "unidad_tipo                    object\n",
       "modo_pago                      object\n",
       "forma_prorrateo                object\n",
       "tipo_prorrateo                 object\n",
       "fecha_pago             datetime64[ns]\n",
       "monto_pago                    float64\n",
       "metodo_pago                    object\n",
       "dtype: object"
      ]
     },
     "execution_count": 4,
     "metadata": {},
     "output_type": "execute_result"
    }
   ],
   "source": [
    "data.dtypes"
   ]
  },
  {
   "cell_type": "markdown",
   "metadata": {},
   "source": [
    "# Generate Posible Target Variables\n",
    "\n",
    "## Impago"
   ]
  },
  {
   "cell_type": "code",
   "execution_count": 5,
   "metadata": {},
   "outputs": [],
   "source": [
    "data[\"target\"] = ~((data.fecha_pago.dt.month == data.fecha_vencimiento_1.dt.month) & (data.fecha_pago.dt.year == data.fecha_vencimiento_1.dt.year)) "
   ]
  },
  {
   "cell_type": "code",
   "execution_count": 6,
   "metadata": {},
   "outputs": [
    {
     "data": {
      "text/plain": [
       "81959"
      ]
     },
     "execution_count": 6,
     "metadata": {},
     "output_type": "execute_result"
    }
   ],
   "source": [
    "data.target.sum()"
   ]
  },
  {
   "cell_type": "code",
   "execution_count": 7,
   "metadata": {},
   "outputs": [
    {
     "data": {
      "text/plain": [
       "0.30981586975175873"
      ]
     },
     "execution_count": 7,
     "metadata": {},
     "output_type": "execute_result"
    }
   ],
   "source": [
    "data.target.sum()/data.target.count()"
   ]
  },
  {
   "cell_type": "markdown",
   "metadata": {},
   "source": [
    "## Paga En el Mes?"
   ]
  },
  {
   "cell_type": "code",
   "execution_count": 8,
   "metadata": {},
   "outputs": [],
   "source": [
    "data[\"fecha_expensa\"] = data.anio + '-' + data.mes + '-01'\n",
    "data.fecha_expensa = pd.to_datetime(data.fecha_expensa)\n",
    "data[\"fecha_expensa_anterior\"] = data.fecha_expensa - pd.DateOffset(months=1)"
   ]
  },
  {
   "cell_type": "code",
   "execution_count": 9,
   "metadata": {},
   "outputs": [],
   "source": [
    "data_lstm = data[[\"unidad_id\", \"fecha_expensa\", \"target\", \"fecha_expensa_anterior\"]]\n",
    "data_mes_anterior = data.set_index([\"unidad_id\", \"fecha_expensa\"])"
   ]
  },
  {
   "cell_type": "code",
   "execution_count": 10,
   "metadata": {},
   "outputs": [],
   "source": [
    "data_lstm = pd.merge(data_lstm,\n",
    "         data_mes_anterior,\n",
    "         left_on = [\"unidad_id\",\"fecha_expensa_anterior\"],\n",
    "         right_index = True,\n",
    "         suffixes = (\"\", \"_lag_1\"))\n",
    "\n",
    "for i in range(1,12):\n",
    "    data_lstm = pd.merge(data_lstm,\n",
    "                         data_mes_anterior,\n",
    "                         left_on = [\"unidad_id\",\"fecha_expensa_anterior_lag_{}\".format(i)],\n",
    "                         right_index = True,\n",
    "                         suffixes = (\"\", \"_lag_{}\".format(i+1)))\n",
    "\n",
    "target_columns = [\"fecha_expensa\"] + [column for column in data_lstm.columns if column[0:6] == \"target\"]\n",
    "data_lstm = data_lstm[target_columns]"
   ]
  },
  {
   "cell_type": "code",
   "execution_count": 11,
   "metadata": {},
   "outputs": [],
   "source": [
    "X = data_lstm.drop(columns=\"target\")\n",
    "Y = data_lstm[[\"fecha_expensa\", \"target\"]]"
   ]
  },
  {
   "cell_type": "code",
   "execution_count": 12,
   "metadata": {},
   "outputs": [],
   "source": [
    "X = X.loc[data_lstm.fecha_expensa < \"2019-01-01\",:]\n",
    "Y = Y.loc[data_lstm.fecha_expensa < \"2019-01-01\",:]"
   ]
  },
  {
   "cell_type": "code",
   "execution_count": 13,
   "metadata": {},
   "outputs": [
    {
     "name": "stdout",
     "output_type": "stream",
     "text": [
      "(105280, 13)\n",
      "(105280, 2)\n"
     ]
    }
   ],
   "source": [
    "print(X.shape)\n",
    "print(Y.shape)"
   ]
  },
  {
   "cell_type": "code",
   "execution_count": 14,
   "metadata": {},
   "outputs": [
    {
     "name": "stdout",
     "output_type": "stream",
     "text": [
      "(79629, 12) (25651, 12)\n",
      "(79629,) (25651,)\n"
     ]
    }
   ],
   "source": [
    "target_columns2 = [column for column in X.columns if column[0:6] == \"target\"]\n",
    "X_train = X.loc[X.fecha_expensa < '2018-09-01', target_columns2]\n",
    "X_test = X.loc[X.fecha_expensa >= '2018-09-01', target_columns2]\n",
    "Y_train = Y.loc[Y.fecha_expensa < '2018-09-01', \"target\"]\n",
    "Y_test = Y.loc[Y.fecha_expensa >= '2018-09-01', \"target\"]\n",
    "print(X_train.shape, X_test.shape)\n",
    "print(Y_train.shape, Y_test.shape)"
   ]
  },
  {
   "cell_type": "code",
   "execution_count": 15,
   "metadata": {},
   "outputs": [],
   "source": [
    "Y_train = Y_train.values.reshape(len(Y_train),1)"
   ]
  },
  {
   "cell_type": "code",
   "execution_count": 16,
   "metadata": {},
   "outputs": [],
   "source": [
    "Y_test = Y_test.values.reshape(len(Y_test),1)"
   ]
  },
  {
   "cell_type": "code",
   "execution_count": 17,
   "metadata": {},
   "outputs": [],
   "source": [
    "X_train_conv = X_train.values.reshape(*X_train.shape,1)\n",
    "X_test_conv = X_test.values.reshape(*X_test.shape,1)"
   ]
  },
  {
   "cell_type": "code",
   "execution_count": 44,
   "metadata": {},
   "outputs": [
    {
     "data": {
      "text/plain": [
       "array([[0., 0., 0., ..., 0., 0., 0.],\n",
       "       [0., 0., 0., ..., 0., 0., 0.],\n",
       "       [0., 0., 0., ..., 0., 0., 0.],\n",
       "       ...,\n",
       "       [1., 1., 1., ..., 1., 1., 1.],\n",
       "       [1., 1., 0., ..., 1., 1., 1.],\n",
       "       [0., 0., 0., ..., 1., 1., 1.]])"
      ]
     },
     "execution_count": 44,
     "metadata": {},
     "output_type": "execute_result"
    }
   ],
   "source": [
    "X_train.values.astype(float)"
   ]
  },
  {
   "cell_type": "code",
   "execution_count": 18,
   "metadata": {},
   "outputs": [
    {
     "name": "stdout",
     "output_type": "stream",
     "text": [
      "(79629, 12, 1) (25651, 12, 1)\n",
      "(79629, 1) (25651, 1)\n"
     ]
    }
   ],
   "source": [
    "print(X_train_conv.shape, X_test_conv.shape)\n",
    "print(Y_train.shape, Y_test.shape)"
   ]
  },
  {
   "cell_type": "code",
   "execution_count": 121,
   "metadata": {},
   "outputs": [],
   "source": [
    "from keras.layers.core import Dense, Dropout, Activation, Flatten\n",
    "from keras.models import Sequential\n",
    "from keras.layers import Conv1D, Embedding, LSTM\n",
    "\n",
    "conv_model = Sequential()\n",
    "conv_model.add(Conv1D(filters=2, kernel_size = 7, input_shape=(12,1), padding= \"same\"))\n",
    "conv_model.add(Flatten())\n",
    "conv_model.add(Dense(12, activation=\"relu\"))\n",
    "conv_model.add(Dense(1, activation='sigmoid'))\n",
    "conv_model.compile(loss='binary_crossentropy', optimizer=\"adam\", metrics=['binary_accuracy'])"
   ]
  },
  {
   "cell_type": "code",
   "execution_count": 122,
   "metadata": {},
   "outputs": [
    {
     "name": "stdout",
     "output_type": "stream",
     "text": [
      "_________________________________________________________________\n",
      "Layer (type)                 Output Shape              Param #   \n",
      "=================================================================\n",
      "conv1d_15 (Conv1D)           (None, 12, 2)             16        \n",
      "_________________________________________________________________\n",
      "flatten_3 (Flatten)          (None, 24)                0         \n",
      "_________________________________________________________________\n",
      "dense_38 (Dense)             (None, 12)                300       \n",
      "_________________________________________________________________\n",
      "dense_39 (Dense)             (None, 1)                 13        \n",
      "=================================================================\n",
      "Total params: 329\n",
      "Trainable params: 329\n",
      "Non-trainable params: 0\n",
      "_________________________________________________________________\n"
     ]
    }
   ],
   "source": [
    "conv_model.summary()"
   ]
  },
  {
   "cell_type": "code",
   "execution_count": 123,
   "metadata": {},
   "outputs": [
    {
     "name": "stdout",
     "output_type": "stream",
     "text": [
      "Epoch 1/5\n",
      "79629/79629 [==============================] - 3s 32us/step - loss: 0.3602 - binary_accuracy: 0.8683\n",
      "Epoch 2/5\n",
      "79629/79629 [==============================] - 2s 19us/step - loss: 0.3132 - binary_accuracy: 0.8794\n",
      "Epoch 3/5\n",
      "79629/79629 [==============================] - 1s 18us/step - loss: 0.3123 - binary_accuracy: 0.8799\n",
      "Epoch 4/5\n",
      "79629/79629 [==============================] - 1s 19us/step - loss: 0.3117 - binary_accuracy: 0.8802\n",
      "Epoch 5/5\n",
      "79629/79629 [==============================] - 1s 19us/step - loss: 0.3112 - binary_accuracy: 0.8801\n"
     ]
    },
    {
     "data": {
      "text/plain": [
       "<keras.callbacks.History at 0x189233989b0>"
      ]
     },
     "execution_count": 123,
     "metadata": {},
     "output_type": "execute_result"
    }
   ],
   "source": [
    "conv_model.fit(X_train_conv, Y_train, epochs = 5, batch_size=128)"
   ]
  },
  {
   "cell_type": "code",
   "execution_count": 124,
   "metadata": {},
   "outputs": [],
   "source": [
    "pred = conv_model.predict_classes(X_train_conv)"
   ]
  },
  {
   "cell_type": "code",
   "execution_count": 125,
   "metadata": {},
   "outputs": [
    {
     "name": "stdout",
     "output_type": "stream",
     "text": [
      "accuracy 0.8801190521041329\n",
      "f1 0.7800663533314901\n",
      "precision 0.8247186632240464\n",
      "recall 0.7400008742405035\n"
     ]
    }
   ],
   "source": [
    "from sklearn.metrics import f1_score, precision_score, recall_score, accuracy_score\n",
    "print(\"accuracy\", accuracy_score(Y_train, pred))\n",
    "print(\"f1\", f1_score(Y_train, pred))\n",
    "print(\"precision\", precision_score(Y_train, pred))\n",
    "print(\"recall\", recall_score(Y_train, pred))"
   ]
  },
  {
   "cell_type": "code",
   "execution_count": 126,
   "metadata": {},
   "outputs": [
    {
     "data": {
      "text/plain": [
       "array([[53154,  3598],\n",
       "       [ 5948, 16929]], dtype=int64)"
      ]
     },
     "execution_count": 126,
     "metadata": {},
     "output_type": "execute_result"
    }
   ],
   "source": [
    "from sklearn.metrics import confusion_matrix\n",
    "\n",
    "confusion_matrix(Y_train, pred)"
   ]
  },
  {
   "cell_type": "code",
   "execution_count": 127,
   "metadata": {},
   "outputs": [],
   "source": [
    "pred_test = conv_model.predict_classes(X_test_conv)"
   ]
  },
  {
   "cell_type": "code",
   "execution_count": 128,
   "metadata": {},
   "outputs": [
    {
     "name": "stdout",
     "output_type": "stream",
     "text": [
      "accuracy 0.8593037308486998\n",
      "f1 0.6921961620469083\n",
      "precision 0.7710431312939389\n",
      "recall 0.6279789538842464\n"
     ]
    }
   ],
   "source": [
    "print(\"accuracy\", accuracy_score(Y_test, pred_test))\n",
    "print(\"f1\", f1_score(Y_test, pred_test))\n",
    "print(\"precision\", precision_score(Y_test, pred_test))\n",
    "print(\"recall\", recall_score(Y_test, pred_test))"
   ]
  },
  {
   "cell_type": "markdown",
   "metadata": {},
   "source": [
    "## LSTM"
   ]
  },
  {
   "cell_type": "code",
   "execution_count": 25,
   "metadata": {},
   "outputs": [],
   "source": [
    "X_train_lstm = X_train.values.reshape(*X_train.shape,1)\n",
    "X_test_lstm = X_test.values.reshape(*X_test.shape,1)"
   ]
  },
  {
   "cell_type": "code",
   "execution_count": 28,
   "metadata": {},
   "outputs": [
    {
     "name": "stdout",
     "output_type": "stream",
     "text": [
      "(122710, 6, 1) (34670, 6, 1)\n",
      "(122710,) (34670,)\n"
     ]
    }
   ],
   "source": [
    "X_train_lstm = X_train_lstm[9:,:,:]\n",
    "X_test_lstm  = X_test_lstm[6:,:,:]\n",
    "Y_train = Y_train[9:]\n",
    "Y_test  = Y_test[6:]\n",
    "print(X_train_lstm.shape, X_test_lstm.shape)\n",
    "print(Y_train.shape, Y_test.shape)"
   ]
  },
  {
   "cell_type": "code",
   "execution_count": 43,
   "metadata": {},
   "outputs": [],
   "source": [
    "from keras.layers.core import Dense, Dropout, Activation\n",
    "from keras.models import Sequential\n",
    "from keras.layers import LSTM, Embedding\n",
    "\n",
    "lstm_model = Sequential()\n",
    "lstm_model.add(LSTM(128, batch_input_shape=(10,6,1), dropout=0.0, recurrent_dropout=0.0, stateful=True, kernel_initializer='random_uniform'))\n",
    "lstm_model.add(Dropout(0.3))\n",
    "lstm_model.add(Dense(64,activation='relu'))\n",
    "lstm_model.add(Dense(1,activation='softmax'))\n",
    "lstm_model.compile(loss='binary_crossentropy', optimizer=\"adam\")"
   ]
  },
  {
   "cell_type": "code",
   "execution_count": 44,
   "metadata": {},
   "outputs": [
    {
     "name": "stdout",
     "output_type": "stream",
     "text": [
      "_________________________________________________________________\n",
      "Layer (type)                 Output Shape              Param #   \n",
      "=================================================================\n",
      "lstm_4 (LSTM)                (10, 128)                 66560     \n",
      "_________________________________________________________________\n",
      "dropout_4 (Dropout)          (10, 128)                 0         \n",
      "_________________________________________________________________\n",
      "dense_7 (Dense)              (10, 64)                  8256      \n",
      "_________________________________________________________________\n",
      "dense_8 (Dense)              (10, 1)                   65        \n",
      "=================================================================\n",
      "Total params: 74,881\n",
      "Trainable params: 74,881\n",
      "Non-trainable params: 0\n",
      "_________________________________________________________________\n"
     ]
    }
   ],
   "source": [
    "lstm_model.summary()"
   ]
  },
  {
   "cell_type": "code",
   "execution_count": 45,
   "metadata": {},
   "outputs": [
    {
     "name": "stdout",
     "output_type": "stream",
     "text": [
      "Epoch 1/2\n",
      "Epoch 2/2\n"
     ]
    },
    {
     "data": {
      "text/plain": [
       "<keras.callbacks.History at 0x1678c9c7c18>"
      ]
     },
     "execution_count": 45,
     "metadata": {},
     "output_type": "execute_result"
    }
   ],
   "source": [
    "lstm_model.fit(X_train_lstm, Y_train, epochs=2, verbose=3, batch_size=10, shuffle=True)"
   ]
  },
  {
   "cell_type": "code",
   "execution_count": 47,
   "metadata": {},
   "outputs": [
    {
     "name": "stdout",
     "output_type": "stream",
     "text": [
      "accuracy 0.7278461413087768\n",
      "f1 0.8424895294872279\n",
      "precision 0.7278461413087768\n",
      "recall 1.0\n"
     ]
    }
   ],
   "source": [
    "pred = lstm_model.predict_classes(X_train_lstm, batch_size=10)\n",
    "print(\"accuracy\", accuracy_score(Y_train, pred))\n",
    "print(\"f1\", f1_score(Y_train, pred))\n",
    "print(\"precision\", precision_score(Y_train, pred))\n",
    "print(\"recall\", recall_score(Y_train, pred))"
   ]
  },
  {
   "cell_type": "code",
   "execution_count": 48,
   "metadata": {},
   "outputs": [
    {
     "name": "stdout",
     "output_type": "stream",
     "text": [
      "accuracy 0.7469570233631382\n",
      "f1 0.855152145557812\n",
      "precision 0.7469570233631382\n",
      "recall 1.0\n"
     ]
    }
   ],
   "source": [
    "pred = lstm_model.predict_classes(X_test_lstm, batch_size=10)\n",
    "print(\"accuracy\", accuracy_score(Y_test, pred))\n",
    "print(\"f1\", f1_score(Y_test, pred))\n",
    "print(\"precision\", precision_score(Y_test, pred))\n",
    "print(\"recall\", recall_score(Y_test, pred))"
   ]
  },
  {
   "cell_type": "code",
   "execution_count": null,
   "metadata": {},
   "outputs": [],
   "source": []
  }
 ],
 "metadata": {
  "kernelspec": {
   "display_name": "Python 3",
   "language": "python",
   "name": "python3"
  },
  "language_info": {
   "codemirror_mode": {
    "name": "ipython",
    "version": 3
   },
   "file_extension": ".py",
   "mimetype": "text/x-python",
   "name": "python",
   "nbconvert_exporter": "python",
   "pygments_lexer": "ipython3",
   "version": "3.6.8"
  },
  "varInspector": {
   "cols": {
    "lenName": 16,
    "lenType": 16,
    "lenVar": 40
   },
   "kernels_config": {
    "python": {
     "delete_cmd_postfix": "",
     "delete_cmd_prefix": "del ",
     "library": "var_list.py",
     "varRefreshCmd": "print(var_dic_list())"
    },
    "r": {
     "delete_cmd_postfix": ") ",
     "delete_cmd_prefix": "rm(",
     "library": "var_list.r",
     "varRefreshCmd": "cat(var_dic_list()) "
    }
   },
   "types_to_exclude": [
    "module",
    "function",
    "builtin_function_or_method",
    "instance",
    "_Feature"
   ],
   "window_display": false
  }
 },
 "nbformat": 4,
 "nbformat_minor": 2
}
