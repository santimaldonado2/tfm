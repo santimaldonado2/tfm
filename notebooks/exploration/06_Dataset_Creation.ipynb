{
 "cells": [
  {
   "cell_type": "code",
   "execution_count": 1,
   "metadata": {},
   "outputs": [],
   "source": [
    "import pandas as pd \n",
    "import seaborn as sns\n",
    "import matplotlib.pyplot as plt\n",
    "import numpy as np"
   ]
  },
  {
   "cell_type": "code",
   "execution_count": 2,
   "metadata": {},
   "outputs": [
    {
     "name": "stderr",
     "output_type": "stream",
     "text": [
      "c:\\users\\smaldonado\\documents\\tfm\\venv\\lib\\site-packages\\IPython\\core\\interactiveshell.py:3049: DtypeWarning: Columns (6,7) have mixed types. Specify dtype option on import or set low_memory=False.\n",
      "  interactivity=interactivity, compiler=compiler, result=result)\n"
     ]
    }
   ],
   "source": [
    "pagos_raw = pd.read_csv(\"../../data/raw/expensas_pagos.csv\", \n",
    "                    sep=\";\", \n",
    "                    na_values = \"NULL\",\n",
    "                    dtype = {\n",
    "                        \"id\" : \"object\",\n",
    "                        \"expensa_id\" :\"object\"\n",
    "                    })\n",
    "\n",
    "expensas_raw = pd.read_csv(\"../../data/raw/expensas.csv\",\n",
    "                        sep=\";\", \n",
    "                        na_values = \"NULL\",\n",
    "                        dtype = {\n",
    "                            \"id\": \"object\",\n",
    "                            \"unidad_id\": \"object\",\n",
    "                            \"propietario_id\": \"object\",\n",
    "                            \"inquilino_id\": \"object\",\n",
    "                            \"consorcio_id\": \"object\",\n",
    "                            \"expensa_padre_id\": \"object\",\n",
    "                            \"unidad_prop\": \"object\",\n",
    "                            \"consorcio_id\": \"object\",\n",
    "                            \"usuario_creador_id\": \"object\",\n",
    "                            \"concepto_id\": \"object\",\n",
    "                            \"mes\": \"object\",\n",
    "                            \"anio\": \"object\",\n",
    "                        })\n",
    "\n",
    "consorcios_raw = pd.read_csv(\"../../data/raw/expensas_consorcios.csv\",\n",
    "                         sep = \";\",\n",
    "                         na_values = \"NULL\",\n",
    "                         dtype = {\n",
    "                            \"id\": \"object\",\n",
    "                        })\n",
    "\n",
    "unidades_raw = pd.read_csv(\"../../data/raw/expensas_unidades.csv\",\n",
    "                         sep = \";\",\n",
    "                         na_values = \"NULL\",\n",
    "                         dtype = {\n",
    "                            \"id\": \"object\",\n",
    "                            \"consorcio_id\":\"object\",\n",
    "                            \"type_id\":\"object\"\n",
    "                         })\n",
    "\n",
    "metodos_pago_raw = pd.read_csv(\"../../data/raw/expensas_pagos_metodos.csv\",\n",
    "                         sep = \";\",\n",
    "                         na_values = \"NULL\")"
   ]
  },
  {
   "cell_type": "code",
   "execution_count": 3,
   "metadata": {},
   "outputs": [],
   "source": [
    "def remove_deleted(data):\n",
    "    return data.loc[data.deleted == 0, :]"
   ]
  },
  {
   "cell_type": "markdown",
   "metadata": {},
   "source": [
    "## Consorcios y Unidades\n",
    "\n",
    "#### Consorcios"
   ]
  },
  {
   "cell_type": "code",
   "execution_count": 4,
   "metadata": {},
   "outputs": [],
   "source": [
    "#Consorcios\n",
    "consorcios = remove_deleted(consorcios_raw)\n",
    "consorcios = consorcios[[\"id\",\"name\", \"modoPago\", \"formaProrrateo\", \"tipoProrrateo\"]]"
   ]
  },
  {
   "cell_type": "markdown",
   "metadata": {},
   "source": [
    "#### Unidades"
   ]
  },
  {
   "cell_type": "code",
   "execution_count": 5,
   "metadata": {},
   "outputs": [],
   "source": [
    "#Unidades\n",
    "unidades = remove_deleted(unidades_raw)\n",
    "unidades = unidades[[\"id\",\"denomination\",\"type_id\",\"consorcio_id\"]]\n",
    "unidades = pd.merge(unidades,\n",
    "                    consorcios,\n",
    "                    left_on=\"consorcio_id\",\n",
    "                    right_on=\"id\",\n",
    "                    suffixes = (\"\",\"_consorcio\"))\n",
    "unidades = unidades.drop(columns=\"id_consorcio\")\n",
    "unidades.columns = [\"unidad_id\",\"unidad_denominacion\", \"unidad_tipo\", \"consorcio_id\", \"consorcio_nombre\", \"modo_pago\", \"forma_prorrateo\", \"tipo_prorrateo\"]"
   ]
  },
  {
   "cell_type": "markdown",
   "metadata": {},
   "source": [
    "## Expensas"
   ]
  },
  {
   "cell_type": "code",
   "execution_count": 48,
   "metadata": {},
   "outputs": [],
   "source": [
    "expensas = remove_deleted(expensas_raw)\n",
    "expensas = pd.merge(expensas,\n",
    "                    unidades,\n",
    "                    left_on=[\"consorcio_id\",\"unidad_id\"],\n",
    "                    right_on=[\"consorcio_id\",\"unidad_id\"],\n",
    "                    how=\"inner\")\n",
    "\n",
    "expensas_columns_to_delete = ['vencimiento_fijado',\n",
    "                               'fecha_emision', 'saldo_utilizado_en_pago', 'monto_descuento', 'interes_pagado',\n",
    "                               'monto_old', 'interes_pagado_old', 'monto_parcial_old',\n",
    "                               'diferencia_pago', 'consorcio_admin', 'costo_eol',\n",
    "                               'costo_comisionista', 'porcentaje_costo_eol',\n",
    "                               'porcentaje_costo_comisionista', 'porcentaje_rapipago',\n",
    "                               'porcentaje_pagomiscuentas','usuario_creador_id', 'deleted', 'unidad_denominacion_y',\n",
    "                               'consorcio_nombre_y']\n",
    "\n",
    "expensas = expensas.drop(columns=expensas_columns_to_delete)\n",
    "expensas.columns = ['expensa_id', 'unidad_id', 'propietario_id', 'inquilino_id',\n",
    "       'fecha_vencimiento_1', 'fecha_vencimiento_2', 'monto', 'monto_total',\n",
    "       'monto_parcial', 'expensa_padre_id', 'int_dia', 'int_mes', 'mes',\n",
    "       'anio', 'unidad_denominacion', 'unidad_prop', 'consorcio_id',\n",
    "       'consorcio_nombre', 'version', 'concepto_id', 'unidad_tipo',\n",
    "       'modo_pago', 'forma_prorrateo', 'tipo_prorrateo']"
   ]
  },
  {
   "cell_type": "code",
   "execution_count": 49,
   "metadata": {},
   "outputs": [],
   "source": [
    "# Expenses\n",
    "def fix_wrong_dates(expensas):\n",
    "    \n",
    "    vencido_12_selection = ((expensas.fecha_vencimiento_1 == '0000-00-00') \n",
    "                            | (expensas.fecha_vencimiento_2 == '0000-00-00')\n",
    "                           | (expensas.fecha_vencimiento_1.str.contains('-00'))\n",
    "                           | (expensas.fecha_vencimiento_2.str.contains('-00'))) & (expensas.modo_pago == 'mes_vencido') & (expensas.mes == 12)\n",
    "    vencido_resto_selection = ((expensas.fecha_vencimiento_1 == '0000-00-00') | (expensas.fecha_vencimiento_2 == '0000-00-00') | (expensas.fecha_vencimiento_1.str.contains('-00'))\n",
    "                           | (expensas.fecha_vencimiento_2.str.contains('-00'))) & (expensas.modo_pago == 'mes_vencido') & (expensas.mes != 12)\n",
    "    adelantado_selection = ((expensas.fecha_vencimiento_1 == '0000-00-00') | (expensas.fecha_vencimiento_2 == '0000-00-00')| (expensas.fecha_vencimiento_1.str.contains('-00'))\n",
    "                           | (expensas.fecha_vencimiento_2.str.contains('-00'))) & (expensas.modo_pago == 'mes_adelantado')\n",
    "    \n",
    "\n",
    "    #vencido_12_selection\n",
    "    expensas.loc[vencido_12_selection, \"fecha_vencimiento_1\"] = (expensas.loc[vencido_12_selection, \"anio\"].map(int) + 1).map(str) + \"-01-10\"\n",
    "    expensas.loc[vencido_12_selection, \"fecha_vencimiento_2\"] = (expensas.loc[vencido_12_selection, \"anio\"].map(int) + 1).map(str) + \"-01-20\"\n",
    "\n",
    "    #vencido_resto_selection\n",
    "    expensas.loc[vencido_resto_selection, \"fecha_vencimiento_1\"] = expensas.loc[vencido_resto_selection, \"anio\"] + \"-\" + (expensas.loc[vencido_resto_selection, \"mes\"].map(int) + 1).apply(lambda x: '{0:0>2}'.format(x)) + \"-10\"\n",
    "    expensas.loc[vencido_resto_selection, \"fecha_vencimiento_2\"] = expensas.loc[vencido_resto_selection, \"anio\"] + \"-\" + (expensas.loc[vencido_resto_selection, \"mes\"].map(int) + 1).apply(lambda x: '{0:0>2}'.format(x)) + \"-20\"\n",
    "    \n",
    "    #adelantado_12_selection\n",
    "    expensas.loc[adelantado_selection, \"fecha_vencimiento_1\"] = expensas.loc[adelantado_selection, \"anio\"] + \"-\" + expensas.loc[adelantado_selection, \"mes\"].apply(lambda x: '{0:0>2}'.format(x)) + \"-10\"\n",
    "    expensas.loc[adelantado_selection, \"fecha_vencimiento_2\"] = expensas.loc[adelantado_selection, \"anio\"] + \"-\" + expensas.loc[adelantado_selection, \"mes\"].apply(lambda x: '{0:0>2}'.format(x)) + \"-20\"    \n",
    "    \n",
    "    return expensas\n",
    "    \n",
    "def filter_expenses_concepts(expensas, concept_list = [\"1\",\"10\", \"599\"]):\n",
    "    return expensas.loc[expensas.concepto_id.isin(concept_list),:]\n",
    "\n",
    "def filter_expenses_debts(expensas):\n",
    "    return expensas.loc[expensas.monto != expensas.monto_total,:]\n",
    "\n",
    "def filter_negative_amounts(expensas):\n",
    "    return expensas.loc[(expensas.monto > 0) & (expensas.monto_total > 0),:]\n",
    "\n",
    "def filter_expenses(expensas):\n",
    "    exp = fix_wrong_dates(expensas)\n",
    "    exp = filter_expenses_concepts(exp)\n",
    "    exp = filter_expenses_debts(exp)\n",
    "    exp = filter_negative_amounts(exp)\n",
    "    return exp"
   ]
  },
  {
   "cell_type": "code",
   "execution_count": 50,
   "metadata": {},
   "outputs": [],
   "source": [
    "expensas = filter_expenses(expensas)"
   ]
  },
  {
   "cell_type": "markdown",
   "metadata": {},
   "source": [
    "## Pagos"
   ]
  },
  {
   "cell_type": "code",
   "execution_count": 53,
   "metadata": {},
   "outputs": [],
   "source": [
    "pagos = pd.merge(pagos_raw,\n",
    "                 metodos_pago_raw,\n",
    "                 left_on=\"metodo\",\n",
    "                 right_on=\"id\",\n",
    "                 suffixes = (\"\",\"_mp\"))\n",
    "\n",
    "pagos = pagos[[\"fecha\",\"monto\",\"expensa_id\",\"nombre\"]]\n",
    "pagos.columns = [\"fecha_pago\", \"monto_pago\", \"expensa_id\", \"metodo_pago\"]"
   ]
  },
  {
   "cell_type": "code",
   "execution_count": 56,
   "metadata": {},
   "outputs": [],
   "source": [
    "data = pd.merge(expensas,\n",
    "                pagos,\n",
    "                left_on=\"expensa_id\",\n",
    "                right_on=\"expensa_id\",\n",
    "                how=\"left\")"
   ]
  },
  {
   "cell_type": "code",
   "execution_count": 57,
   "metadata": {},
   "outputs": [
    {
     "data": {
      "text/plain": [
       "(264858, 27)"
      ]
     },
     "execution_count": 57,
     "metadata": {},
     "output_type": "execute_result"
    }
   ],
   "source": [
    "data.shape"
   ]
  },
  {
   "cell_type": "code",
   "execution_count": 63,
   "metadata": {},
   "outputs": [],
   "source": [
    "data = data.loc[data.anio.map(int)>=2014,:]"
   ]
  },
  {
   "cell_type": "code",
   "execution_count": 64,
   "metadata": {},
   "outputs": [
    {
     "data": {
      "text/plain": [
       "(264541, 27)"
      ]
     },
     "execution_count": 64,
     "metadata": {},
     "output_type": "execute_result"
    }
   ],
   "source": [
    "data.shape"
   ]
  },
  {
   "cell_type": "code",
   "execution_count": 70,
   "metadata": {},
   "outputs": [
    {
     "data": {
      "text/plain": [
       "Index(['expensa_id', 'unidad_id', 'propietario_id', 'inquilino_id',\n",
       "       'fecha_vencimiento_1', 'fecha_vencimiento_2', 'monto', 'monto_total',\n",
       "       'monto_parcial', 'expensa_padre_id', 'int_dia', 'int_mes', 'mes',\n",
       "       'anio', 'unidad_denominacion', 'unidad_prop', 'consorcio_id',\n",
       "       'consorcio_nombre', 'version', 'concepto_id', 'unidad_tipo',\n",
       "       'modo_pago', 'forma_prorrateo', 'tipo_prorrateo', 'fecha_pago',\n",
       "       'monto_pago', 'metodo_pago'],\n",
       "      dtype='object')"
      ]
     },
     "execution_count": 70,
     "metadata": {},
     "output_type": "execute_result"
    }
   ],
   "source": [
    "data.columns"
   ]
  },
  {
   "cell_type": "code",
   "execution_count": 71,
   "metadata": {},
   "outputs": [],
   "source": [
    "data.to_csv(\"../../data/processed/data.csv\", index=False)"
   ]
  }
 ],
 "metadata": {
  "kernelspec": {
   "display_name": "Python 3",
   "language": "python",
   "name": "python3"
  },
  "language_info": {
   "codemirror_mode": {
    "name": "ipython",
    "version": 3
   },
   "file_extension": ".py",
   "mimetype": "text/x-python",
   "name": "python",
   "nbconvert_exporter": "python",
   "pygments_lexer": "ipython3",
   "version": "3.6.5"
  },
  "varInspector": {
   "cols": {
    "lenName": 16,
    "lenType": 16,
    "lenVar": 40
   },
   "kernels_config": {
    "python": {
     "delete_cmd_postfix": "",
     "delete_cmd_prefix": "del ",
     "library": "var_list.py",
     "varRefreshCmd": "print(var_dic_list())"
    },
    "r": {
     "delete_cmd_postfix": ") ",
     "delete_cmd_prefix": "rm(",
     "library": "var_list.r",
     "varRefreshCmd": "cat(var_dic_list()) "
    }
   },
   "types_to_exclude": [
    "module",
    "function",
    "builtin_function_or_method",
    "instance",
    "_Feature"
   ],
   "window_display": false
  }
 },
 "nbformat": 4,
 "nbformat_minor": 2
}
